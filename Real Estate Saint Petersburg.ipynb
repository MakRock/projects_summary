{
 "cells": [
  {
   "cell_type": "markdown",
   "metadata": {},
   "source": [
    "\n"
   ]
  },
  {
   "cell_type": "markdown",
   "metadata": {},
   "source": [
    "Исследование объявлений о продаже квартир\n",
    "===\n",
    "\n",
    "В вашем распоряжении данные сервиса Яндекс.Недвижимость — архив объявлений о продаже квартир в Санкт-Петербурге и соседних населённых пунктов за несколько лет. Нужно научиться определять рыночную стоимость объектов недвижимости. Ваша задача — установить параметры. Это позволит построить автоматизированную систему: она отследит аномалии и мошенническую деятельность. \n",
    "\n",
    "По каждой квартире на продажу доступны два вида данных. Первые вписаны пользователем, вторые — получены автоматически на основе картографических данных. Например, расстояние до центра, аэропорта, ближайшего парка и водоёма. "
   ]
  },
  {
   "cell_type": "markdown",
   "metadata": {},
   "source": [
    "# Шаг 1. Открываю файл с данными и изучаю общую информацию"
   ]
  },
  {
   "cell_type": "code",
   "execution_count": 418,
   "metadata": {},
   "outputs": [],
   "source": [
    "import pandas as pd\n",
    "from IPython.display import display\n",
    "import warnings\n",
    "warnings.simplefilter(\"error\")\n",
    "\n",
    "df = pd.read_csv('/datasets/real_estate_data.csv', sep='\\t')\n",
    "pd.options.display.max_columns = None"
   ]
  },
  {
   "cell_type": "code",
   "execution_count": 419,
   "metadata": {},
   "outputs": [
    {
     "data": {
      "text/html": [
       "<div>\n",
       "<style scoped>\n",
       "    .dataframe tbody tr th:only-of-type {\n",
       "        vertical-align: middle;\n",
       "    }\n",
       "\n",
       "    .dataframe tbody tr th {\n",
       "        vertical-align: top;\n",
       "    }\n",
       "\n",
       "    .dataframe thead th {\n",
       "        text-align: right;\n",
       "    }\n",
       "</style>\n",
       "<table border=\"1\" class=\"dataframe\">\n",
       "  <thead>\n",
       "    <tr style=\"text-align: right;\">\n",
       "      <th></th>\n",
       "      <th>total_images</th>\n",
       "      <th>last_price</th>\n",
       "      <th>total_area</th>\n",
       "      <th>first_day_exposition</th>\n",
       "      <th>rooms</th>\n",
       "      <th>ceiling_height</th>\n",
       "      <th>floors_total</th>\n",
       "      <th>living_area</th>\n",
       "      <th>floor</th>\n",
       "      <th>is_apartment</th>\n",
       "      <th>studio</th>\n",
       "      <th>open_plan</th>\n",
       "      <th>kitchen_area</th>\n",
       "      <th>balcony</th>\n",
       "      <th>locality_name</th>\n",
       "      <th>airports_nearest</th>\n",
       "      <th>cityCenters_nearest</th>\n",
       "      <th>parks_around3000</th>\n",
       "      <th>parks_nearest</th>\n",
       "      <th>ponds_around3000</th>\n",
       "      <th>ponds_nearest</th>\n",
       "      <th>days_exposition</th>\n",
       "    </tr>\n",
       "  </thead>\n",
       "  <tbody>\n",
       "    <tr>\n",
       "      <th>0</th>\n",
       "      <td>20</td>\n",
       "      <td>13000000.0</td>\n",
       "      <td>108.00</td>\n",
       "      <td>2019-03-07T00:00:00</td>\n",
       "      <td>3</td>\n",
       "      <td>2.70</td>\n",
       "      <td>16.0</td>\n",
       "      <td>51.00</td>\n",
       "      <td>8</td>\n",
       "      <td>NaN</td>\n",
       "      <td>False</td>\n",
       "      <td>False</td>\n",
       "      <td>25.00</td>\n",
       "      <td>NaN</td>\n",
       "      <td>Санкт-Петербург</td>\n",
       "      <td>18863.0</td>\n",
       "      <td>16028.0</td>\n",
       "      <td>1.0</td>\n",
       "      <td>482.0</td>\n",
       "      <td>2.0</td>\n",
       "      <td>755.0</td>\n",
       "      <td>NaN</td>\n",
       "    </tr>\n",
       "    <tr>\n",
       "      <th>1</th>\n",
       "      <td>7</td>\n",
       "      <td>3350000.0</td>\n",
       "      <td>40.40</td>\n",
       "      <td>2018-12-04T00:00:00</td>\n",
       "      <td>1</td>\n",
       "      <td>NaN</td>\n",
       "      <td>11.0</td>\n",
       "      <td>18.60</td>\n",
       "      <td>1</td>\n",
       "      <td>NaN</td>\n",
       "      <td>False</td>\n",
       "      <td>False</td>\n",
       "      <td>11.00</td>\n",
       "      <td>2.0</td>\n",
       "      <td>посёлок Шушары</td>\n",
       "      <td>12817.0</td>\n",
       "      <td>18603.0</td>\n",
       "      <td>0.0</td>\n",
       "      <td>NaN</td>\n",
       "      <td>0.0</td>\n",
       "      <td>NaN</td>\n",
       "      <td>81.0</td>\n",
       "    </tr>\n",
       "    <tr>\n",
       "      <th>2</th>\n",
       "      <td>10</td>\n",
       "      <td>5196000.0</td>\n",
       "      <td>56.00</td>\n",
       "      <td>2015-08-20T00:00:00</td>\n",
       "      <td>2</td>\n",
       "      <td>NaN</td>\n",
       "      <td>5.0</td>\n",
       "      <td>34.30</td>\n",
       "      <td>4</td>\n",
       "      <td>NaN</td>\n",
       "      <td>False</td>\n",
       "      <td>False</td>\n",
       "      <td>8.30</td>\n",
       "      <td>0.0</td>\n",
       "      <td>Санкт-Петербург</td>\n",
       "      <td>21741.0</td>\n",
       "      <td>13933.0</td>\n",
       "      <td>1.0</td>\n",
       "      <td>90.0</td>\n",
       "      <td>2.0</td>\n",
       "      <td>574.0</td>\n",
       "      <td>558.0</td>\n",
       "    </tr>\n",
       "    <tr>\n",
       "      <th>3</th>\n",
       "      <td>0</td>\n",
       "      <td>64900000.0</td>\n",
       "      <td>159.00</td>\n",
       "      <td>2015-07-24T00:00:00</td>\n",
       "      <td>3</td>\n",
       "      <td>NaN</td>\n",
       "      <td>14.0</td>\n",
       "      <td>NaN</td>\n",
       "      <td>9</td>\n",
       "      <td>NaN</td>\n",
       "      <td>False</td>\n",
       "      <td>False</td>\n",
       "      <td>NaN</td>\n",
       "      <td>0.0</td>\n",
       "      <td>Санкт-Петербург</td>\n",
       "      <td>28098.0</td>\n",
       "      <td>6800.0</td>\n",
       "      <td>2.0</td>\n",
       "      <td>84.0</td>\n",
       "      <td>3.0</td>\n",
       "      <td>234.0</td>\n",
       "      <td>424.0</td>\n",
       "    </tr>\n",
       "    <tr>\n",
       "      <th>4</th>\n",
       "      <td>2</td>\n",
       "      <td>10000000.0</td>\n",
       "      <td>100.00</td>\n",
       "      <td>2018-06-19T00:00:00</td>\n",
       "      <td>2</td>\n",
       "      <td>3.03</td>\n",
       "      <td>14.0</td>\n",
       "      <td>32.00</td>\n",
       "      <td>13</td>\n",
       "      <td>NaN</td>\n",
       "      <td>False</td>\n",
       "      <td>False</td>\n",
       "      <td>41.00</td>\n",
       "      <td>NaN</td>\n",
       "      <td>Санкт-Петербург</td>\n",
       "      <td>31856.0</td>\n",
       "      <td>8098.0</td>\n",
       "      <td>2.0</td>\n",
       "      <td>112.0</td>\n",
       "      <td>1.0</td>\n",
       "      <td>48.0</td>\n",
       "      <td>121.0</td>\n",
       "    </tr>\n",
       "    <tr>\n",
       "      <th>5</th>\n",
       "      <td>10</td>\n",
       "      <td>2890000.0</td>\n",
       "      <td>30.40</td>\n",
       "      <td>2018-09-10T00:00:00</td>\n",
       "      <td>1</td>\n",
       "      <td>NaN</td>\n",
       "      <td>12.0</td>\n",
       "      <td>14.40</td>\n",
       "      <td>5</td>\n",
       "      <td>NaN</td>\n",
       "      <td>False</td>\n",
       "      <td>False</td>\n",
       "      <td>9.10</td>\n",
       "      <td>NaN</td>\n",
       "      <td>городской посёлок Янино-1</td>\n",
       "      <td>NaN</td>\n",
       "      <td>NaN</td>\n",
       "      <td>NaN</td>\n",
       "      <td>NaN</td>\n",
       "      <td>NaN</td>\n",
       "      <td>NaN</td>\n",
       "      <td>55.0</td>\n",
       "    </tr>\n",
       "    <tr>\n",
       "      <th>6</th>\n",
       "      <td>6</td>\n",
       "      <td>3700000.0</td>\n",
       "      <td>37.30</td>\n",
       "      <td>2017-11-02T00:00:00</td>\n",
       "      <td>1</td>\n",
       "      <td>NaN</td>\n",
       "      <td>26.0</td>\n",
       "      <td>10.60</td>\n",
       "      <td>6</td>\n",
       "      <td>NaN</td>\n",
       "      <td>False</td>\n",
       "      <td>False</td>\n",
       "      <td>14.40</td>\n",
       "      <td>1.0</td>\n",
       "      <td>посёлок Парголово</td>\n",
       "      <td>52996.0</td>\n",
       "      <td>19143.0</td>\n",
       "      <td>0.0</td>\n",
       "      <td>NaN</td>\n",
       "      <td>0.0</td>\n",
       "      <td>NaN</td>\n",
       "      <td>155.0</td>\n",
       "    </tr>\n",
       "    <tr>\n",
       "      <th>7</th>\n",
       "      <td>5</td>\n",
       "      <td>7915000.0</td>\n",
       "      <td>71.60</td>\n",
       "      <td>2019-04-18T00:00:00</td>\n",
       "      <td>2</td>\n",
       "      <td>NaN</td>\n",
       "      <td>24.0</td>\n",
       "      <td>NaN</td>\n",
       "      <td>22</td>\n",
       "      <td>NaN</td>\n",
       "      <td>False</td>\n",
       "      <td>False</td>\n",
       "      <td>18.90</td>\n",
       "      <td>2.0</td>\n",
       "      <td>Санкт-Петербург</td>\n",
       "      <td>23982.0</td>\n",
       "      <td>11634.0</td>\n",
       "      <td>0.0</td>\n",
       "      <td>NaN</td>\n",
       "      <td>0.0</td>\n",
       "      <td>NaN</td>\n",
       "      <td>NaN</td>\n",
       "    </tr>\n",
       "    <tr>\n",
       "      <th>8</th>\n",
       "      <td>20</td>\n",
       "      <td>2900000.0</td>\n",
       "      <td>33.16</td>\n",
       "      <td>2018-05-23T00:00:00</td>\n",
       "      <td>1</td>\n",
       "      <td>NaN</td>\n",
       "      <td>27.0</td>\n",
       "      <td>15.43</td>\n",
       "      <td>26</td>\n",
       "      <td>NaN</td>\n",
       "      <td>False</td>\n",
       "      <td>False</td>\n",
       "      <td>8.81</td>\n",
       "      <td>NaN</td>\n",
       "      <td>посёлок Мурино</td>\n",
       "      <td>NaN</td>\n",
       "      <td>NaN</td>\n",
       "      <td>NaN</td>\n",
       "      <td>NaN</td>\n",
       "      <td>NaN</td>\n",
       "      <td>NaN</td>\n",
       "      <td>189.0</td>\n",
       "    </tr>\n",
       "    <tr>\n",
       "      <th>9</th>\n",
       "      <td>18</td>\n",
       "      <td>5400000.0</td>\n",
       "      <td>61.00</td>\n",
       "      <td>2017-02-26T00:00:00</td>\n",
       "      <td>3</td>\n",
       "      <td>2.50</td>\n",
       "      <td>9.0</td>\n",
       "      <td>43.60</td>\n",
       "      <td>7</td>\n",
       "      <td>NaN</td>\n",
       "      <td>False</td>\n",
       "      <td>False</td>\n",
       "      <td>6.50</td>\n",
       "      <td>2.0</td>\n",
       "      <td>Санкт-Петербург</td>\n",
       "      <td>50898.0</td>\n",
       "      <td>15008.0</td>\n",
       "      <td>0.0</td>\n",
       "      <td>NaN</td>\n",
       "      <td>0.0</td>\n",
       "      <td>NaN</td>\n",
       "      <td>289.0</td>\n",
       "    </tr>\n",
       "  </tbody>\n",
       "</table>\n",
       "</div>"
      ],
      "text/plain": [
       "   total_images  last_price  total_area first_day_exposition  rooms  \\\n",
       "0            20  13000000.0      108.00  2019-03-07T00:00:00      3   \n",
       "1             7   3350000.0       40.40  2018-12-04T00:00:00      1   \n",
       "2            10   5196000.0       56.00  2015-08-20T00:00:00      2   \n",
       "3             0  64900000.0      159.00  2015-07-24T00:00:00      3   \n",
       "4             2  10000000.0      100.00  2018-06-19T00:00:00      2   \n",
       "5            10   2890000.0       30.40  2018-09-10T00:00:00      1   \n",
       "6             6   3700000.0       37.30  2017-11-02T00:00:00      1   \n",
       "7             5   7915000.0       71.60  2019-04-18T00:00:00      2   \n",
       "8            20   2900000.0       33.16  2018-05-23T00:00:00      1   \n",
       "9            18   5400000.0       61.00  2017-02-26T00:00:00      3   \n",
       "\n",
       "   ceiling_height  floors_total  living_area  floor is_apartment  studio  \\\n",
       "0            2.70          16.0        51.00      8          NaN   False   \n",
       "1             NaN          11.0        18.60      1          NaN   False   \n",
       "2             NaN           5.0        34.30      4          NaN   False   \n",
       "3             NaN          14.0          NaN      9          NaN   False   \n",
       "4            3.03          14.0        32.00     13          NaN   False   \n",
       "5             NaN          12.0        14.40      5          NaN   False   \n",
       "6             NaN          26.0        10.60      6          NaN   False   \n",
       "7             NaN          24.0          NaN     22          NaN   False   \n",
       "8             NaN          27.0        15.43     26          NaN   False   \n",
       "9            2.50           9.0        43.60      7          NaN   False   \n",
       "\n",
       "   open_plan  kitchen_area  balcony              locality_name  \\\n",
       "0      False         25.00      NaN            Санкт-Петербург   \n",
       "1      False         11.00      2.0             посёлок Шушары   \n",
       "2      False          8.30      0.0            Санкт-Петербург   \n",
       "3      False           NaN      0.0            Санкт-Петербург   \n",
       "4      False         41.00      NaN            Санкт-Петербург   \n",
       "5      False          9.10      NaN  городской посёлок Янино-1   \n",
       "6      False         14.40      1.0          посёлок Парголово   \n",
       "7      False         18.90      2.0            Санкт-Петербург   \n",
       "8      False          8.81      NaN             посёлок Мурино   \n",
       "9      False          6.50      2.0            Санкт-Петербург   \n",
       "\n",
       "   airports_nearest  cityCenters_nearest  parks_around3000  parks_nearest  \\\n",
       "0           18863.0              16028.0               1.0          482.0   \n",
       "1           12817.0              18603.0               0.0            NaN   \n",
       "2           21741.0              13933.0               1.0           90.0   \n",
       "3           28098.0               6800.0               2.0           84.0   \n",
       "4           31856.0               8098.0               2.0          112.0   \n",
       "5               NaN                  NaN               NaN            NaN   \n",
       "6           52996.0              19143.0               0.0            NaN   \n",
       "7           23982.0              11634.0               0.0            NaN   \n",
       "8               NaN                  NaN               NaN            NaN   \n",
       "9           50898.0              15008.0               0.0            NaN   \n",
       "\n",
       "   ponds_around3000  ponds_nearest  days_exposition  \n",
       "0               2.0          755.0              NaN  \n",
       "1               0.0            NaN             81.0  \n",
       "2               2.0          574.0            558.0  \n",
       "3               3.0          234.0            424.0  \n",
       "4               1.0           48.0            121.0  \n",
       "5               NaN            NaN             55.0  \n",
       "6               0.0            NaN            155.0  \n",
       "7               0.0            NaN              NaN  \n",
       "8               NaN            NaN            189.0  \n",
       "9               0.0            NaN            289.0  "
      ]
     },
     "execution_count": 419,
     "metadata": {},
     "output_type": "execute_result"
    }
   ],
   "source": [
    "df.head(10)"
   ]
  },
  {
   "cell_type": "code",
   "execution_count": 420,
   "metadata": {},
   "outputs": [
    {
     "data": {
      "text/html": [
       "<div>\n",
       "<style scoped>\n",
       "    .dataframe tbody tr th:only-of-type {\n",
       "        vertical-align: middle;\n",
       "    }\n",
       "\n",
       "    .dataframe tbody tr th {\n",
       "        vertical-align: top;\n",
       "    }\n",
       "\n",
       "    .dataframe thead th {\n",
       "        text-align: right;\n",
       "    }\n",
       "</style>\n",
       "<table border=\"1\" class=\"dataframe\">\n",
       "  <thead>\n",
       "    <tr style=\"text-align: right;\">\n",
       "      <th></th>\n",
       "      <th>index</th>\n",
       "      <th>0нет_жилой</th>\n",
       "      <th>0есть_жилая</th>\n",
       "    </tr>\n",
       "  </thead>\n",
       "  <tbody>\n",
       "    <tr>\n",
       "      <th>0</th>\n",
       "      <td>total_images</td>\n",
       "      <td>7.00</td>\n",
       "      <td>9.00</td>\n",
       "    </tr>\n",
       "    <tr>\n",
       "      <th>1</th>\n",
       "      <td>last_price</td>\n",
       "      <td>4500000.00</td>\n",
       "      <td>4650000.00</td>\n",
       "    </tr>\n",
       "    <tr>\n",
       "      <th>2</th>\n",
       "      <td>total_area</td>\n",
       "      <td>53.00</td>\n",
       "      <td>52.00</td>\n",
       "    </tr>\n",
       "    <tr>\n",
       "      <th>3</th>\n",
       "      <td>rooms</td>\n",
       "      <td>2.00</td>\n",
       "      <td>2.00</td>\n",
       "    </tr>\n",
       "    <tr>\n",
       "      <th>4</th>\n",
       "      <td>ceiling_height</td>\n",
       "      <td>2.65</td>\n",
       "      <td>2.65</td>\n",
       "    </tr>\n",
       "    <tr>\n",
       "      <th>5</th>\n",
       "      <td>floors_total</td>\n",
       "      <td>9.00</td>\n",
       "      <td>9.00</td>\n",
       "    </tr>\n",
       "    <tr>\n",
       "      <th>6</th>\n",
       "      <td>floor</td>\n",
       "      <td>4.00</td>\n",
       "      <td>4.00</td>\n",
       "    </tr>\n",
       "    <tr>\n",
       "      <th>7</th>\n",
       "      <td>is_apartment</td>\n",
       "      <td>0.00</td>\n",
       "      <td>0.00</td>\n",
       "    </tr>\n",
       "    <tr>\n",
       "      <th>8</th>\n",
       "      <td>studio</td>\n",
       "      <td>0.00</td>\n",
       "      <td>0.00</td>\n",
       "    </tr>\n",
       "    <tr>\n",
       "      <th>9</th>\n",
       "      <td>open_plan</td>\n",
       "      <td>0.00</td>\n",
       "      <td>0.00</td>\n",
       "    </tr>\n",
       "    <tr>\n",
       "      <th>10</th>\n",
       "      <td>kitchen_area</td>\n",
       "      <td>10.94</td>\n",
       "      <td>9.10</td>\n",
       "    </tr>\n",
       "    <tr>\n",
       "      <th>11</th>\n",
       "      <td>balcony</td>\n",
       "      <td>1.00</td>\n",
       "      <td>1.00</td>\n",
       "    </tr>\n",
       "    <tr>\n",
       "      <th>12</th>\n",
       "      <td>airports_nearest</td>\n",
       "      <td>27116.00</td>\n",
       "      <td>26726.00</td>\n",
       "    </tr>\n",
       "    <tr>\n",
       "      <th>13</th>\n",
       "      <td>cityCenters_nearest</td>\n",
       "      <td>12962.50</td>\n",
       "      <td>13098.50</td>\n",
       "    </tr>\n",
       "    <tr>\n",
       "      <th>14</th>\n",
       "      <td>parks_around3000</td>\n",
       "      <td>0.00</td>\n",
       "      <td>0.00</td>\n",
       "    </tr>\n",
       "    <tr>\n",
       "      <th>15</th>\n",
       "      <td>parks_nearest</td>\n",
       "      <td>470.00</td>\n",
       "      <td>455.00</td>\n",
       "    </tr>\n",
       "    <tr>\n",
       "      <th>16</th>\n",
       "      <td>ponds_around3000</td>\n",
       "      <td>1.00</td>\n",
       "      <td>1.00</td>\n",
       "    </tr>\n",
       "    <tr>\n",
       "      <th>17</th>\n",
       "      <td>ponds_nearest</td>\n",
       "      <td>493.00</td>\n",
       "      <td>502.00</td>\n",
       "    </tr>\n",
       "    <tr>\n",
       "      <th>18</th>\n",
       "      <td>days_exposition</td>\n",
       "      <td>60.00</td>\n",
       "      <td>95.00</td>\n",
       "    </tr>\n",
       "  </tbody>\n",
       "</table>\n",
       "</div>"
      ],
      "text/plain": [
       "                  index  0нет_жилой  0есть_жилая\n",
       "0          total_images        7.00         9.00\n",
       "1            last_price  4500000.00   4650000.00\n",
       "2            total_area       53.00        52.00\n",
       "3                 rooms        2.00         2.00\n",
       "4        ceiling_height        2.65         2.65\n",
       "5          floors_total        9.00         9.00\n",
       "6                 floor        4.00         4.00\n",
       "7          is_apartment        0.00         0.00\n",
       "8                studio        0.00         0.00\n",
       "9             open_plan        0.00         0.00\n",
       "10         kitchen_area       10.94         9.10\n",
       "11              balcony        1.00         1.00\n",
       "12     airports_nearest    27116.00     26726.00\n",
       "13  cityCenters_nearest    12962.50     13098.50\n",
       "14     parks_around3000        0.00         0.00\n",
       "15        parks_nearest      470.00       455.00\n",
       "16     ponds_around3000        1.00         1.00\n",
       "17        ponds_nearest      493.00       502.00\n",
       "18      days_exposition       60.00        95.00"
      ]
     },
     "execution_count": 420,
     "metadata": {},
     "output_type": "execute_result"
    }
   ],
   "source": [
    "df[df['living_area'].isna()].median().reset_index().merge(df.median().reset_index(), on='index', suffixes=('нет_жилой', 'есть_жилая'))"
   ]
  },
  {
   "cell_type": "code",
   "execution_count": 421,
   "metadata": {},
   "outputs": [
    {
     "name": "stdout",
     "output_type": "stream",
     "text": [
      "<class 'pandas.core.frame.DataFrame'>\n",
      "RangeIndex: 23699 entries, 0 to 23698\n",
      "Data columns (total 22 columns):\n",
      " #   Column                Non-Null Count  Dtype  \n",
      "---  ------                --------------  -----  \n",
      " 0   total_images          23699 non-null  int64  \n",
      " 1   last_price            23699 non-null  float64\n",
      " 2   total_area            23699 non-null  float64\n",
      " 3   first_day_exposition  23699 non-null  object \n",
      " 4   rooms                 23699 non-null  int64  \n",
      " 5   ceiling_height        14504 non-null  float64\n",
      " 6   floors_total          23613 non-null  float64\n",
      " 7   living_area           21796 non-null  float64\n",
      " 8   floor                 23699 non-null  int64  \n",
      " 9   is_apartment          2775 non-null   object \n",
      " 10  studio                23699 non-null  bool   \n",
      " 11  open_plan             23699 non-null  bool   \n",
      " 12  kitchen_area          21421 non-null  float64\n",
      " 13  balcony               12180 non-null  float64\n",
      " 14  locality_name         23650 non-null  object \n",
      " 15  airports_nearest      18157 non-null  float64\n",
      " 16  cityCenters_nearest   18180 non-null  float64\n",
      " 17  parks_around3000      18181 non-null  float64\n",
      " 18  parks_nearest         8079 non-null   float64\n",
      " 19  ponds_around3000      18181 non-null  float64\n",
      " 20  ponds_nearest         9110 non-null   float64\n",
      " 21  days_exposition       20518 non-null  float64\n",
      "dtypes: bool(2), float64(14), int64(3), object(3)\n",
      "memory usage: 3.7+ MB\n"
     ]
    }
   ],
   "source": [
    "df.info()"
   ]
  },
  {
   "cell_type": "markdown",
   "metadata": {},
   "source": [
    "**Выводы**\n",
    "- В таблице 22 столбца с параметрами, в 14 есть пустые значения.\n",
    "- 14 параметров имеют тип float64, что не всегда целесообразно, например, в расстоянии до центра города, или парка.\n",
    "\n",
    "**Начну работу с предобработки данных.**"
   ]
  },
  {
   "cell_type": "markdown",
   "metadata": {},
   "source": [
    "# Шаг 2. Предобработка данных"
   ]
  },
  {
   "cell_type": "markdown",
   "metadata": {},
   "source": [
    "## Проверяю наличие дубликатов"
   ]
  },
  {
   "cell_type": "code",
   "execution_count": 422,
   "metadata": {},
   "outputs": [
    {
     "data": {
      "text/plain": [
       "0"
      ]
     },
     "execution_count": 422,
     "metadata": {},
     "output_type": "execute_result"
    }
   ],
   "source": [
    "df.duplicated().sum()"
   ]
  },
  {
   "cell_type": "markdown",
   "metadata": {},
   "source": [
    "#### Дубликатов нет"
   ]
  },
  {
   "cell_type": "markdown",
   "metadata": {},
   "source": [
    "## Откорректирую названия столбцов и их порядок"
   ]
  },
  {
   "cell_type": "markdown",
   "metadata": {},
   "source": [
    "**Обоснование:**\n",
    "1. Изменю такие названия столбцов, как «parks_around3000», на вот такие «parks_around_3000», т.к. мой личный стандарт оформления говорит о том, что любой смысл в названии должен быть отделен от других нижним подчеркиванием, это есть порядок.\n",
    "2. Также для порядка изменю последовательность столбцов, сгруппировав их таким образом:\n",
    "    - Информация о расположении дома\n",
    "    - Информация о доме\n",
    "    - Информация о квартире\n",
    "    - Информация об объявлении"
   ]
  },
  {
   "cell_type": "code",
   "execution_count": 423,
   "metadata": {},
   "outputs": [
    {
     "data": {
      "text/html": [
       "<div>\n",
       "<style scoped>\n",
       "    .dataframe tbody tr th:only-of-type {\n",
       "        vertical-align: middle;\n",
       "    }\n",
       "\n",
       "    .dataframe tbody tr th {\n",
       "        vertical-align: top;\n",
       "    }\n",
       "\n",
       "    .dataframe thead th {\n",
       "        text-align: right;\n",
       "    }\n",
       "</style>\n",
       "<table border=\"1\" class=\"dataframe\">\n",
       "  <thead>\n",
       "    <tr style=\"text-align: right;\">\n",
       "      <th></th>\n",
       "      <th>locality_name</th>\n",
       "      <th>city_centers_nearest</th>\n",
       "      <th>airports_nearest</th>\n",
       "      <th>parks_nearest</th>\n",
       "      <th>parks_around_3000</th>\n",
       "      <th>ponds_nearest</th>\n",
       "      <th>ponds_around_3000</th>\n",
       "      <th>floors_total</th>\n",
       "      <th>floor</th>\n",
       "      <th>rooms</th>\n",
       "      <th>total_area</th>\n",
       "      <th>kitchen_area</th>\n",
       "      <th>living_area</th>\n",
       "      <th>studio</th>\n",
       "      <th>open_plan</th>\n",
       "      <th>balcony</th>\n",
       "      <th>ceiling_height</th>\n",
       "      <th>is_apartment</th>\n",
       "      <th>first_day_exposition</th>\n",
       "      <th>days_exposition</th>\n",
       "      <th>total_images</th>\n",
       "      <th>last_price</th>\n",
       "    </tr>\n",
       "  </thead>\n",
       "  <tbody>\n",
       "    <tr>\n",
       "      <th>0</th>\n",
       "      <td>Санкт-Петербург</td>\n",
       "      <td>16028.0</td>\n",
       "      <td>18863.0</td>\n",
       "      <td>482.0</td>\n",
       "      <td>1.0</td>\n",
       "      <td>755.0</td>\n",
       "      <td>2.0</td>\n",
       "      <td>16.0</td>\n",
       "      <td>8</td>\n",
       "      <td>3</td>\n",
       "      <td>108.0</td>\n",
       "      <td>25.0</td>\n",
       "      <td>51.0</td>\n",
       "      <td>False</td>\n",
       "      <td>False</td>\n",
       "      <td>NaN</td>\n",
       "      <td>2.7</td>\n",
       "      <td>NaN</td>\n",
       "      <td>2019-03-07T00:00:00</td>\n",
       "      <td>NaN</td>\n",
       "      <td>20</td>\n",
       "      <td>13000000.0</td>\n",
       "    </tr>\n",
       "    <tr>\n",
       "      <th>1</th>\n",
       "      <td>посёлок Шушары</td>\n",
       "      <td>18603.0</td>\n",
       "      <td>12817.0</td>\n",
       "      <td>NaN</td>\n",
       "      <td>0.0</td>\n",
       "      <td>NaN</td>\n",
       "      <td>0.0</td>\n",
       "      <td>11.0</td>\n",
       "      <td>1</td>\n",
       "      <td>1</td>\n",
       "      <td>40.4</td>\n",
       "      <td>11.0</td>\n",
       "      <td>18.6</td>\n",
       "      <td>False</td>\n",
       "      <td>False</td>\n",
       "      <td>2.0</td>\n",
       "      <td>NaN</td>\n",
       "      <td>NaN</td>\n",
       "      <td>2018-12-04T00:00:00</td>\n",
       "      <td>81.0</td>\n",
       "      <td>7</td>\n",
       "      <td>3350000.0</td>\n",
       "    </tr>\n",
       "  </tbody>\n",
       "</table>\n",
       "</div>"
      ],
      "text/plain": [
       "     locality_name  city_centers_nearest  airports_nearest  parks_nearest  \\\n",
       "0  Санкт-Петербург               16028.0           18863.0          482.0   \n",
       "1   посёлок Шушары               18603.0           12817.0            NaN   \n",
       "\n",
       "   parks_around_3000  ponds_nearest  ponds_around_3000  floors_total  floor  \\\n",
       "0                1.0          755.0                2.0          16.0      8   \n",
       "1                0.0            NaN                0.0          11.0      1   \n",
       "\n",
       "   rooms  total_area  kitchen_area  living_area  studio  open_plan  balcony  \\\n",
       "0      3       108.0          25.0         51.0   False      False      NaN   \n",
       "1      1        40.4          11.0         18.6   False      False      2.0   \n",
       "\n",
       "   ceiling_height is_apartment first_day_exposition  days_exposition  \\\n",
       "0             2.7          NaN  2019-03-07T00:00:00              NaN   \n",
       "1             NaN          NaN  2018-12-04T00:00:00             81.0   \n",
       "\n",
       "   total_images  last_price  \n",
       "0            20  13000000.0  \n",
       "1             7   3350000.0  "
      ]
     },
     "execution_count": 423,
     "metadata": {},
     "output_type": "execute_result"
    }
   ],
   "source": [
    "# Даю новые названия столбцам\n",
    "df.columns = ['total_images', 'last_price', 'total_area', 'first_day_exposition',\n",
    "       'rooms', 'ceiling_height', 'floors_total', 'living_area', 'floor',\n",
    "       'is_apartment', 'studio', 'open_plan', 'kitchen_area', 'balcony',\n",
    "       'locality_name', 'airports_nearest', 'city_centers_nearest',\n",
    "       'parks_around_3000', 'parks_nearest', 'ponds_around_3000',\n",
    "       'ponds_nearest', 'days_exposition']\n",
    "\n",
    "# Меняю их порядок\n",
    "df = df[['locality_name', 'city_centers_nearest', 'airports_nearest', 'parks_nearest', 'parks_around_3000',  'ponds_nearest', 'ponds_around_3000',\n",
    "        'floors_total', 'floor',\n",
    "        'rooms', 'total_area', 'kitchen_area',  'living_area', 'studio', 'open_plan', 'balcony', 'ceiling_height', 'is_apartment', \n",
    "        'first_day_exposition', 'days_exposition', 'total_images', 'last_price']]\n",
    "\n",
    "# Проверяю результат\n",
    "df.head(2)"
   ]
  },
  {
   "cell_type": "markdown",
   "metadata": {},
   "source": [
    "## Провожу лемматизацию"
   ]
  },
  {
   "cell_type": "markdown",
   "metadata": {},
   "source": [
    "**Но перед лемматизацией удалю пустые строки с названиями городов**\n",
    "\n",
    "**Почему именно удаляю?** Потому что пропусков всего 49, это 0,2% от сета. Считаю не разумным тратить хоть какое то время на заполнение на такой объем ошибок (а их возможно заполнить, используя расстояние до центра города).\n",
    "\n",
    "**Почему именно сейчас?** \n",
    "- Потому что, как я выяснил опытным путем, пропуски в названиях лучше удалять до лемматизации. \n",
    "- Потому что после лемматизации вместо 49 у меня появлялось 364 пропуска.\n",
    "- И по какой логике это происодит, я до конца не смог понять. Возможно, это особенность работу методов `pymystem3`. В любом случае, я предпочел не копаться в этом, а сдеать более простой шаг, который сейчас дает мне тот же результат."
   ]
  },
  {
   "cell_type": "markdown",
   "metadata": {},
   "source": [
    "**Пустых значений до удаления:**"
   ]
  },
  {
   "cell_type": "code",
   "execution_count": 424,
   "metadata": {},
   "outputs": [
    {
     "data": {
      "text/plain": [
       "49"
      ]
     },
     "execution_count": 424,
     "metadata": {},
     "output_type": "execute_result"
    }
   ],
   "source": [
    "len(df[df['locality_name'].isna()])"
   ]
  },
  {
   "cell_type": "code",
   "execution_count": 425,
   "metadata": {},
   "outputs": [],
   "source": [
    "df = df.dropna(subset=['locality_name'])"
   ]
  },
  {
   "cell_type": "markdown",
   "metadata": {},
   "source": [
    "**Пустых значений после удаления:**"
   ]
  },
  {
   "cell_type": "code",
   "execution_count": 426,
   "metadata": {},
   "outputs": [
    {
     "data": {
      "text/plain": [
       "0"
      ]
     },
     "execution_count": 426,
     "metadata": {},
     "output_type": "execute_result"
    }
   ],
   "source": [
    "len(df[df['locality_name'].isna()])"
   ]
  },
  {
   "cell_type": "markdown",
   "metadata": {},
   "source": [
    "**Далее выведу топ-10 городов по кол-ву объявлений, чтобы сравнить этот список до и после лемматизации (проверка корректности)**"
   ]
  },
  {
   "cell_type": "code",
   "execution_count": 427,
   "metadata": {},
   "outputs": [
    {
     "name": "stdout",
     "output_type": "stream",
     "text": [
      "Уникальных наспеленных пунктов: 364\n"
     ]
    },
    {
     "data": {
      "text/plain": [
       "Санкт-Петербург      15721\n",
       "посёлок Мурино         522\n",
       "посёлок Шушары         440\n",
       "Всеволожск             398\n",
       "Пушкин                 369\n",
       "Колпино                338\n",
       "посёлок Парголово      327\n",
       "Гатчина                307\n",
       "деревня Кудрово        299\n",
       "Выборг                 237\n",
       "Name: locality_name, dtype: int64"
      ]
     },
     "execution_count": 427,
     "metadata": {},
     "output_type": "execute_result"
    }
   ],
   "source": [
    "# Выведу список топ-10 городов с количеством объявлений\n",
    "# После лемматизации сравню их с новым списком для проверки корректности\n",
    "\n",
    "print('Уникальных наспеленных пунктов:', len(df['locality_name'].unique()))\n",
    "df['locality_name'].value_counts().sort_values(ascending=False).head(10)"
   ]
  },
  {
   "cell_type": "markdown",
   "metadata": {},
   "source": [
    "**Провожу лемматизацию**"
   ]
  },
  {
   "cell_type": "code",
   "execution_count": 428,
   "metadata": {},
   "outputs": [],
   "source": [
    "# Изменяю тип значений с object на str, потому что функция лемматизации не работает с float цифрами (а они есть, как оказалось)\n",
    "\n",
    "df['locality_name'] = df['locality_name'].astype('str')"
   ]
  },
  {
   "cell_type": "code",
   "execution_count": 429,
   "metadata": {},
   "outputs": [],
   "source": [
    "from collections import Counter\n",
    "from pymystem3 import Mystem\n",
    "m = Mystem()\n",
    "\n",
    "purposes = ' '.join(df['locality_name'].unique()) # Получаю список уникальных строк столбца и соединяю их в одну\n",
    "lemmas = m.lemmatize(purposes) # Эту строку передаю методу lemmataize чтобы вместо списка слов получить список лемм\n",
    "# print(Counter(lemmas)) # Подсчитываю уникальные слова и их частотность (этот код выдает большой список, поэтому я его закомментировал)"
   ]
  },
  {
   "cell_type": "code",
   "execution_count": 430,
   "metadata": {},
   "outputs": [],
   "source": [
    "# Создаю список из названий городов, которые НЕ нужно заменять\n",
    "# Например, включаю в этот список слово \"крансый\", чтобы функция НЕ УДАЛЯЛА \"красное село\"\n",
    "\n",
    "#not_locality_name = [' ', 'поселок', 'деревня', 'городской', 'тип', 'нос', 'поляна', 'й', 'километр', \n",
    "#                     'станция', 'товарищество', 'бор', '-', 'усть', 'луг', '1', 'при', '4', '\\n', 'красный', 'новый', \n",
    "#                     'малый', '69', 'имя', 'мга', 'нос', 'село', 'новое']"
   ]
  },
  {
   "cell_type": "code",
   "execution_count": 431,
   "metadata": {},
   "outputs": [],
   "source": [
    "# Создаю список из названий городов, которые я хочу удалить из списка лемм\n",
    "\n",
    "not_locality_name = [' ', 'поселок', 'деревня', 'городской', 'тип', 'станция', 'товарищество']"
   ]
  },
  {
   "cell_type": "code",
   "execution_count": 432,
   "metadata": {},
   "outputs": [],
   "source": [
    "# Создаю список с униклаьными леммами lemmas_unique\n",
    "# Для этого я беру список со всеми леммами lemmas\n",
    "# И исключаю из него леммы из списка not_locality_name\n",
    "# Таким образом в дальнейшем при сравнении названия города и лемм из lemmas_unique населенные пункты типа \"красное село\"\n",
    "# будут оставлены без изменения\n",
    "\n",
    "lemmas_unique = []\n",
    "for i in lemmas:\n",
    "    if i not in not_locality_name:\n",
    "        lemmas_unique.append(i)"
   ]
  },
  {
   "cell_type": "code",
   "execution_count": 433,
   "metadata": {},
   "outputs": [],
   "source": [
    "def strings_in_lemms(row):\n",
    "    purpose = row['locality_name'] # Получаю значение из столбца \"Цель кредита\" в виде строки\n",
    "    purpose = m.lemmatize(purpose) # Лематизирую строку = вместо строки получаю список из лемм\n",
    "    for value in purpose: # Беру лемму из только что созданного спика для строки\n",
    "        for lemma in lemmas_unique: # Беру лемму из стандартизированного списка\n",
    "            if value == lemma: # Сравниваю их, если леммы совпадают\n",
    "                return lemma # Возвращаю лемму как результат работы функции\n",
    "\n",
    "df['locality_name'] = df.apply(strings_in_lemms, axis = 1) # Создаю новый столбец, присваиваю ему значение, лемму, полученную ранне из функции"
   ]
  },
  {
   "cell_type": "code",
   "execution_count": 434,
   "metadata": {},
   "outputs": [],
   "source": [
    "# Перевожу названия в верхний регистр\n",
    "\n",
    "df['locality_name'] = df['locality_name'].str.title()"
   ]
  },
  {
   "cell_type": "markdown",
   "metadata": {},
   "source": [
    "**Лемматизация успешно завершена, вывожу список топ-10 городов для проверки результата:**"
   ]
  },
  {
   "cell_type": "code",
   "execution_count": 435,
   "metadata": {},
   "outputs": [
    {
     "name": "stdout",
     "output_type": "stream",
     "text": [
      "Уникальных наспеленных пунктов: 264\n"
     ]
    },
    {
     "data": {
      "text/plain": [
       "Санкт-Петербург    15721\n",
       "Муриный              590\n",
       "Кудрово              472\n",
       "Шушар                440\n",
       "Всеволожск           398\n",
       "Пушкин               369\n",
       "Колпино              338\n",
       "Парголовый           327\n",
       "Гатчина              307\n",
       "Выборг               237\n",
       "Name: locality_name, dtype: int64"
      ]
     },
     "execution_count": 435,
     "metadata": {},
     "output_type": "execute_result"
    }
   ],
   "source": [
    "# Вывожу новый список топ-10 городов по кол-ву объявлений\n",
    "\n",
    "print('Уникальных наспеленных пунктов:', len(df['locality_name'].unique()))\n",
    "df['locality_name'].value_counts().sort_values(ascending=False).head(10)"
   ]
  },
  {
   "cell_type": "markdown",
   "metadata": {},
   "source": [
    "**Вывод:** 93 названия были дублями. Кол-во населенных пунктов уменьшилось с 365 до 272.\n",
    "\n",
    "**Заметка:** название населенных пунктов типа «Муриный» вместо «Мурино» звучит странно, но я готов с этим мириться :)"
   ]
  },
  {
   "cell_type": "code",
   "execution_count": 436,
   "metadata": {},
   "outputs": [
    {
     "data": {
      "text/plain": [
       "0"
      ]
     },
     "execution_count": 436,
     "metadata": {},
     "output_type": "execute_result"
    }
   ],
   "source": [
    "len(df[df['locality_name'].isna()])"
   ]
  },
  {
   "cell_type": "markdown",
   "metadata": {},
   "source": [
    "## Проверяю наличие дубликатов"
   ]
  },
  {
   "cell_type": "code",
   "execution_count": 437,
   "metadata": {},
   "outputs": [
    {
     "data": {
      "text/plain": [
       "0"
      ]
     },
     "execution_count": 437,
     "metadata": {},
     "output_type": "execute_result"
    }
   ],
   "source": [
    "df.duplicated().sum()"
   ]
  },
  {
   "cell_type": "markdown",
   "metadata": {},
   "source": [
    "**Дубликатов нет**"
   ]
  },
  {
   "cell_type": "markdown",
   "metadata": {},
   "source": [
    "## Обработка пропусков"
   ]
  },
  {
   "cell_type": "markdown",
   "metadata": {},
   "source": [
    "**Логика:**\n",
    "- В таблице 14 столбцов с пропусками.\n",
    "- Как заполнять их быстро и корректно?"
   ]
  },
  {
   "cell_type": "markdown",
   "metadata": {},
   "source": [
    "**На данный момент я вижу 2 основынх способа заполнять пропуски:**\n",
    "1. Через взаимосвязь количественных переменных: неизвестной и известной.\n",
    "2. Через взаимосвязь количественной переменной с какой то категориальной.\n",
    "\n",
    "**И несколько второстепенных:**\n",
    "3. Создать третью сущность из имеющихся данных, которая отражает более сложную взаимосвязь, чтобы использовать метод 1 или 2.\n",
    "4. Создать новую категорию, чтобы использовать метод 1 или 2.\n",
    "5. Ну и конечно добавлением данных из внешнего источника, что здесь не рассматриваю."
   ]
  },
  {
   "cell_type": "code",
   "execution_count": 438,
   "metadata": {},
   "outputs": [
    {
     "data": {
      "text/html": [
       "<div>\n",
       "<style scoped>\n",
       "    .dataframe tbody tr th:only-of-type {\n",
       "        vertical-align: middle;\n",
       "    }\n",
       "\n",
       "    .dataframe tbody tr th {\n",
       "        vertical-align: top;\n",
       "    }\n",
       "\n",
       "    .dataframe thead th {\n",
       "        text-align: right;\n",
       "    }\n",
       "</style>\n",
       "<table border=\"1\" class=\"dataframe\">\n",
       "  <thead>\n",
       "    <tr style=\"text-align: right;\">\n",
       "      <th></th>\n",
       "      <th>total_missing_values</th>\n",
       "      <th>percent_%</th>\n",
       "      <th>dtype</th>\n",
       "    </tr>\n",
       "  </thead>\n",
       "  <tbody>\n",
       "    <tr>\n",
       "      <th>is_apartment</th>\n",
       "      <td>20890</td>\n",
       "      <td>88.3</td>\n",
       "      <td>object</td>\n",
       "    </tr>\n",
       "    <tr>\n",
       "      <th>parks_nearest</th>\n",
       "      <td>15586</td>\n",
       "      <td>65.9</td>\n",
       "      <td>float64</td>\n",
       "    </tr>\n",
       "    <tr>\n",
       "      <th>ponds_nearest</th>\n",
       "      <td>14565</td>\n",
       "      <td>61.6</td>\n",
       "      <td>float64</td>\n",
       "    </tr>\n",
       "    <tr>\n",
       "      <th>balcony</th>\n",
       "      <td>11513</td>\n",
       "      <td>48.7</td>\n",
       "      <td>float64</td>\n",
       "    </tr>\n",
       "    <tr>\n",
       "      <th>ceiling_height</th>\n",
       "      <td>9160</td>\n",
       "      <td>38.7</td>\n",
       "      <td>float64</td>\n",
       "    </tr>\n",
       "    <tr>\n",
       "      <th>airports_nearest</th>\n",
       "      <td>5534</td>\n",
       "      <td>23.4</td>\n",
       "      <td>float64</td>\n",
       "    </tr>\n",
       "    <tr>\n",
       "      <th>city_centers_nearest</th>\n",
       "      <td>5511</td>\n",
       "      <td>23.3</td>\n",
       "      <td>float64</td>\n",
       "    </tr>\n",
       "    <tr>\n",
       "      <th>parks_around_3000</th>\n",
       "      <td>5510</td>\n",
       "      <td>23.3</td>\n",
       "      <td>float64</td>\n",
       "    </tr>\n",
       "    <tr>\n",
       "      <th>ponds_around_3000</th>\n",
       "      <td>5510</td>\n",
       "      <td>23.3</td>\n",
       "      <td>float64</td>\n",
       "    </tr>\n",
       "    <tr>\n",
       "      <th>days_exposition</th>\n",
       "      <td>3180</td>\n",
       "      <td>13.4</td>\n",
       "      <td>float64</td>\n",
       "    </tr>\n",
       "    <tr>\n",
       "      <th>kitchen_area</th>\n",
       "      <td>2269</td>\n",
       "      <td>9.6</td>\n",
       "      <td>float64</td>\n",
       "    </tr>\n",
       "    <tr>\n",
       "      <th>living_area</th>\n",
       "      <td>1898</td>\n",
       "      <td>8.0</td>\n",
       "      <td>float64</td>\n",
       "    </tr>\n",
       "    <tr>\n",
       "      <th>floors_total</th>\n",
       "      <td>85</td>\n",
       "      <td>0.4</td>\n",
       "      <td>float64</td>\n",
       "    </tr>\n",
       "    <tr>\n",
       "      <th>last_price</th>\n",
       "      <td>0</td>\n",
       "      <td>0.0</td>\n",
       "      <td>float64</td>\n",
       "    </tr>\n",
       "    <tr>\n",
       "      <th>total_area</th>\n",
       "      <td>0</td>\n",
       "      <td>0.0</td>\n",
       "      <td>float64</td>\n",
       "    </tr>\n",
       "    <tr>\n",
       "      <th>floor</th>\n",
       "      <td>0</td>\n",
       "      <td>0.0</td>\n",
       "      <td>int64</td>\n",
       "    </tr>\n",
       "    <tr>\n",
       "      <th>rooms</th>\n",
       "      <td>0</td>\n",
       "      <td>0.0</td>\n",
       "      <td>int64</td>\n",
       "    </tr>\n",
       "    <tr>\n",
       "      <th>total_images</th>\n",
       "      <td>0</td>\n",
       "      <td>0.0</td>\n",
       "      <td>int64</td>\n",
       "    </tr>\n",
       "    <tr>\n",
       "      <th>studio</th>\n",
       "      <td>0</td>\n",
       "      <td>0.0</td>\n",
       "      <td>bool</td>\n",
       "    </tr>\n",
       "    <tr>\n",
       "      <th>open_plan</th>\n",
       "      <td>0</td>\n",
       "      <td>0.0</td>\n",
       "      <td>bool</td>\n",
       "    </tr>\n",
       "    <tr>\n",
       "      <th>first_day_exposition</th>\n",
       "      <td>0</td>\n",
       "      <td>0.0</td>\n",
       "      <td>object</td>\n",
       "    </tr>\n",
       "    <tr>\n",
       "      <th>locality_name</th>\n",
       "      <td>0</td>\n",
       "      <td>0.0</td>\n",
       "      <td>object</td>\n",
       "    </tr>\n",
       "  </tbody>\n",
       "</table>\n",
       "</div>"
      ],
      "text/plain": [
       "                      total_missing_values  percent_%    dtype\n",
       "is_apartment                         20890       88.3   object\n",
       "parks_nearest                        15586       65.9  float64\n",
       "ponds_nearest                        14565       61.6  float64\n",
       "balcony                              11513       48.7  float64\n",
       "ceiling_height                        9160       38.7  float64\n",
       "airports_nearest                      5534       23.4  float64\n",
       "city_centers_nearest                  5511       23.3  float64\n",
       "parks_around_3000                     5510       23.3  float64\n",
       "ponds_around_3000                     5510       23.3  float64\n",
       "days_exposition                       3180       13.4  float64\n",
       "kitchen_area                          2269        9.6  float64\n",
       "living_area                           1898        8.0  float64\n",
       "floors_total                            85        0.4  float64\n",
       "last_price                               0        0.0  float64\n",
       "total_area                               0        0.0  float64\n",
       "floor                                    0        0.0    int64\n",
       "rooms                                    0        0.0    int64\n",
       "total_images                             0        0.0    int64\n",
       "studio                                   0        0.0     bool\n",
       "open_plan                                0        0.0     bool\n",
       "first_day_exposition                     0        0.0   object\n",
       "locality_name                            0        0.0   object"
      ]
     },
     "execution_count": 438,
     "metadata": {},
     "output_type": "execute_result"
    }
   ],
   "source": [
    "total = df.isnull().sum().sort_values(ascending = False)\n",
    "percent = ((df.isnull().sum() / df.isnull().count()) * 100).round(1).sort_values(ascending=False)\n",
    "missing_data = pd.concat([total, percent], axis = 1, keys = ['total_missing_values', 'percent_%'])\n",
    "missing_data['dtype'] = df.dtypes\n",
    "missing_data"
   ]
  },
  {
   "cell_type": "markdown",
   "metadata": {},
   "source": [
    "**Поэтому перед работой с пропусками построю матрицу корреляции,** которая позволит мне видеть, от чего зависит (или нет) тот или иной параметр."
   ]
  },
  {
   "cell_type": "code",
   "execution_count": 439,
   "metadata": {
    "scrolled": false
   },
   "outputs": [
    {
     "data": {
      "text/html": [
       "<div>\n",
       "<style scoped>\n",
       "    .dataframe tbody tr th:only-of-type {\n",
       "        vertical-align: middle;\n",
       "    }\n",
       "\n",
       "    .dataframe tbody tr th {\n",
       "        vertical-align: top;\n",
       "    }\n",
       "\n",
       "    .dataframe thead th {\n",
       "        text-align: right;\n",
       "    }\n",
       "</style>\n",
       "<table border=\"1\" class=\"dataframe\">\n",
       "  <thead>\n",
       "    <tr style=\"text-align: right;\">\n",
       "      <th></th>\n",
       "      <th>city_centers_nearest</th>\n",
       "      <th>airports_nearest</th>\n",
       "      <th>parks_nearest</th>\n",
       "      <th>parks_around_3000</th>\n",
       "      <th>ponds_nearest</th>\n",
       "      <th>ponds_around_3000</th>\n",
       "      <th>floors_total</th>\n",
       "      <th>floor</th>\n",
       "      <th>rooms</th>\n",
       "      <th>total_area</th>\n",
       "      <th>kitchen_area</th>\n",
       "      <th>living_area</th>\n",
       "      <th>studio</th>\n",
       "      <th>open_plan</th>\n",
       "      <th>balcony</th>\n",
       "      <th>ceiling_height</th>\n",
       "      <th>days_exposition</th>\n",
       "      <th>total_images</th>\n",
       "      <th>last_price</th>\n",
       "    </tr>\n",
       "  </thead>\n",
       "  <tbody>\n",
       "    <tr>\n",
       "      <th>city_centers_nearest</th>\n",
       "      <td>1.00</td>\n",
       "      <td>0.27</td>\n",
       "      <td>0.0</td>\n",
       "      <td>0.00</td>\n",
       "      <td>0.0</td>\n",
       "      <td>0.00</td>\n",
       "      <td>0.00</td>\n",
       "      <td>0.00</td>\n",
       "      <td>0.00</td>\n",
       "      <td>0.00</td>\n",
       "      <td>0.00</td>\n",
       "      <td>0.00</td>\n",
       "      <td>0.0</td>\n",
       "      <td>0.0</td>\n",
       "      <td>0.00</td>\n",
       "      <td>0.0</td>\n",
       "      <td>0.00</td>\n",
       "      <td>0.00</td>\n",
       "      <td>0.00</td>\n",
       "    </tr>\n",
       "    <tr>\n",
       "      <th>airports_nearest</th>\n",
       "      <td>0.27</td>\n",
       "      <td>1.00</td>\n",
       "      <td>0.0</td>\n",
       "      <td>0.00</td>\n",
       "      <td>0.0</td>\n",
       "      <td>0.00</td>\n",
       "      <td>0.11</td>\n",
       "      <td>0.00</td>\n",
       "      <td>0.00</td>\n",
       "      <td>0.00</td>\n",
       "      <td>0.00</td>\n",
       "      <td>0.00</td>\n",
       "      <td>0.0</td>\n",
       "      <td>0.0</td>\n",
       "      <td>0.00</td>\n",
       "      <td>0.0</td>\n",
       "      <td>0.00</td>\n",
       "      <td>0.00</td>\n",
       "      <td>0.00</td>\n",
       "    </tr>\n",
       "    <tr>\n",
       "      <th>parks_nearest</th>\n",
       "      <td>0.00</td>\n",
       "      <td>0.00</td>\n",
       "      <td>1.0</td>\n",
       "      <td>0.00</td>\n",
       "      <td>0.0</td>\n",
       "      <td>0.00</td>\n",
       "      <td>0.00</td>\n",
       "      <td>0.00</td>\n",
       "      <td>0.00</td>\n",
       "      <td>0.00</td>\n",
       "      <td>0.00</td>\n",
       "      <td>0.00</td>\n",
       "      <td>0.0</td>\n",
       "      <td>0.0</td>\n",
       "      <td>0.00</td>\n",
       "      <td>0.0</td>\n",
       "      <td>0.00</td>\n",
       "      <td>0.00</td>\n",
       "      <td>0.00</td>\n",
       "    </tr>\n",
       "    <tr>\n",
       "      <th>parks_around_3000</th>\n",
       "      <td>0.00</td>\n",
       "      <td>0.00</td>\n",
       "      <td>0.0</td>\n",
       "      <td>1.00</td>\n",
       "      <td>0.0</td>\n",
       "      <td>0.30</td>\n",
       "      <td>0.00</td>\n",
       "      <td>0.00</td>\n",
       "      <td>0.14</td>\n",
       "      <td>0.16</td>\n",
       "      <td>0.00</td>\n",
       "      <td>0.18</td>\n",
       "      <td>0.0</td>\n",
       "      <td>0.0</td>\n",
       "      <td>0.00</td>\n",
       "      <td>0.0</td>\n",
       "      <td>0.00</td>\n",
       "      <td>0.00</td>\n",
       "      <td>0.15</td>\n",
       "    </tr>\n",
       "    <tr>\n",
       "      <th>ponds_nearest</th>\n",
       "      <td>0.00</td>\n",
       "      <td>0.00</td>\n",
       "      <td>0.0</td>\n",
       "      <td>0.00</td>\n",
       "      <td>1.0</td>\n",
       "      <td>0.00</td>\n",
       "      <td>0.00</td>\n",
       "      <td>0.00</td>\n",
       "      <td>0.00</td>\n",
       "      <td>0.00</td>\n",
       "      <td>0.00</td>\n",
       "      <td>0.00</td>\n",
       "      <td>0.0</td>\n",
       "      <td>0.0</td>\n",
       "      <td>0.00</td>\n",
       "      <td>0.0</td>\n",
       "      <td>0.00</td>\n",
       "      <td>0.00</td>\n",
       "      <td>0.00</td>\n",
       "    </tr>\n",
       "    <tr>\n",
       "      <th>ponds_around_3000</th>\n",
       "      <td>0.00</td>\n",
       "      <td>0.00</td>\n",
       "      <td>0.0</td>\n",
       "      <td>0.30</td>\n",
       "      <td>0.0</td>\n",
       "      <td>1.00</td>\n",
       "      <td>0.00</td>\n",
       "      <td>0.00</td>\n",
       "      <td>0.00</td>\n",
       "      <td>0.16</td>\n",
       "      <td>0.15</td>\n",
       "      <td>0.15</td>\n",
       "      <td>0.0</td>\n",
       "      <td>0.0</td>\n",
       "      <td>0.00</td>\n",
       "      <td>0.0</td>\n",
       "      <td>0.00</td>\n",
       "      <td>0.00</td>\n",
       "      <td>0.16</td>\n",
       "    </tr>\n",
       "    <tr>\n",
       "      <th>floors_total</th>\n",
       "      <td>0.00</td>\n",
       "      <td>0.11</td>\n",
       "      <td>0.0</td>\n",
       "      <td>0.00</td>\n",
       "      <td>0.0</td>\n",
       "      <td>0.00</td>\n",
       "      <td>1.00</td>\n",
       "      <td>0.68</td>\n",
       "      <td>0.00</td>\n",
       "      <td>0.00</td>\n",
       "      <td>0.16</td>\n",
       "      <td>0.00</td>\n",
       "      <td>0.0</td>\n",
       "      <td>0.0</td>\n",
       "      <td>0.20</td>\n",
       "      <td>0.0</td>\n",
       "      <td>0.00</td>\n",
       "      <td>0.00</td>\n",
       "      <td>0.00</td>\n",
       "    </tr>\n",
       "    <tr>\n",
       "      <th>floor</th>\n",
       "      <td>0.00</td>\n",
       "      <td>0.00</td>\n",
       "      <td>0.0</td>\n",
       "      <td>0.00</td>\n",
       "      <td>0.0</td>\n",
       "      <td>0.00</td>\n",
       "      <td>0.68</td>\n",
       "      <td>1.00</td>\n",
       "      <td>0.00</td>\n",
       "      <td>0.00</td>\n",
       "      <td>0.14</td>\n",
       "      <td>0.00</td>\n",
       "      <td>0.0</td>\n",
       "      <td>0.0</td>\n",
       "      <td>0.17</td>\n",
       "      <td>0.0</td>\n",
       "      <td>0.00</td>\n",
       "      <td>0.00</td>\n",
       "      <td>0.00</td>\n",
       "    </tr>\n",
       "    <tr>\n",
       "      <th>rooms</th>\n",
       "      <td>0.00</td>\n",
       "      <td>0.00</td>\n",
       "      <td>0.0</td>\n",
       "      <td>0.14</td>\n",
       "      <td>0.0</td>\n",
       "      <td>0.00</td>\n",
       "      <td>0.00</td>\n",
       "      <td>0.00</td>\n",
       "      <td>1.00</td>\n",
       "      <td>0.76</td>\n",
       "      <td>0.27</td>\n",
       "      <td>0.85</td>\n",
       "      <td>0.0</td>\n",
       "      <td>0.0</td>\n",
       "      <td>0.00</td>\n",
       "      <td>0.0</td>\n",
       "      <td>0.13</td>\n",
       "      <td>0.00</td>\n",
       "      <td>0.36</td>\n",
       "    </tr>\n",
       "    <tr>\n",
       "      <th>total_area</th>\n",
       "      <td>0.00</td>\n",
       "      <td>0.00</td>\n",
       "      <td>0.0</td>\n",
       "      <td>0.16</td>\n",
       "      <td>0.0</td>\n",
       "      <td>0.16</td>\n",
       "      <td>0.00</td>\n",
       "      <td>0.00</td>\n",
       "      <td>0.76</td>\n",
       "      <td>1.00</td>\n",
       "      <td>0.61</td>\n",
       "      <td>0.94</td>\n",
       "      <td>0.0</td>\n",
       "      <td>0.0</td>\n",
       "      <td>0.00</td>\n",
       "      <td>0.0</td>\n",
       "      <td>0.15</td>\n",
       "      <td>0.12</td>\n",
       "      <td>0.65</td>\n",
       "    </tr>\n",
       "    <tr>\n",
       "      <th>kitchen_area</th>\n",
       "      <td>0.00</td>\n",
       "      <td>0.00</td>\n",
       "      <td>0.0</td>\n",
       "      <td>0.00</td>\n",
       "      <td>0.0</td>\n",
       "      <td>0.15</td>\n",
       "      <td>0.16</td>\n",
       "      <td>0.14</td>\n",
       "      <td>0.27</td>\n",
       "      <td>0.61</td>\n",
       "      <td>1.00</td>\n",
       "      <td>0.43</td>\n",
       "      <td>NaN</td>\n",
       "      <td>NaN</td>\n",
       "      <td>0.00</td>\n",
       "      <td>0.0</td>\n",
       "      <td>0.10</td>\n",
       "      <td>0.11</td>\n",
       "      <td>0.52</td>\n",
       "    </tr>\n",
       "    <tr>\n",
       "      <th>living_area</th>\n",
       "      <td>0.00</td>\n",
       "      <td>0.00</td>\n",
       "      <td>0.0</td>\n",
       "      <td>0.18</td>\n",
       "      <td>0.0</td>\n",
       "      <td>0.15</td>\n",
       "      <td>0.00</td>\n",
       "      <td>0.00</td>\n",
       "      <td>0.85</td>\n",
       "      <td>0.94</td>\n",
       "      <td>0.43</td>\n",
       "      <td>1.00</td>\n",
       "      <td>0.0</td>\n",
       "      <td>0.0</td>\n",
       "      <td>0.00</td>\n",
       "      <td>0.0</td>\n",
       "      <td>0.14</td>\n",
       "      <td>0.10</td>\n",
       "      <td>0.57</td>\n",
       "    </tr>\n",
       "    <tr>\n",
       "      <th>studio</th>\n",
       "      <td>0.00</td>\n",
       "      <td>0.00</td>\n",
       "      <td>0.0</td>\n",
       "      <td>0.00</td>\n",
       "      <td>0.0</td>\n",
       "      <td>0.00</td>\n",
       "      <td>0.00</td>\n",
       "      <td>0.00</td>\n",
       "      <td>0.00</td>\n",
       "      <td>0.00</td>\n",
       "      <td>NaN</td>\n",
       "      <td>0.00</td>\n",
       "      <td>1.0</td>\n",
       "      <td>0.0</td>\n",
       "      <td>0.00</td>\n",
       "      <td>0.0</td>\n",
       "      <td>0.00</td>\n",
       "      <td>0.00</td>\n",
       "      <td>0.00</td>\n",
       "    </tr>\n",
       "    <tr>\n",
       "      <th>open_plan</th>\n",
       "      <td>0.00</td>\n",
       "      <td>0.00</td>\n",
       "      <td>0.0</td>\n",
       "      <td>0.00</td>\n",
       "      <td>0.0</td>\n",
       "      <td>0.00</td>\n",
       "      <td>0.00</td>\n",
       "      <td>0.00</td>\n",
       "      <td>0.00</td>\n",
       "      <td>0.00</td>\n",
       "      <td>NaN</td>\n",
       "      <td>0.00</td>\n",
       "      <td>0.0</td>\n",
       "      <td>1.0</td>\n",
       "      <td>0.00</td>\n",
       "      <td>0.0</td>\n",
       "      <td>0.00</td>\n",
       "      <td>0.00</td>\n",
       "      <td>0.00</td>\n",
       "    </tr>\n",
       "    <tr>\n",
       "      <th>balcony</th>\n",
       "      <td>0.00</td>\n",
       "      <td>0.00</td>\n",
       "      <td>0.0</td>\n",
       "      <td>0.00</td>\n",
       "      <td>0.0</td>\n",
       "      <td>0.00</td>\n",
       "      <td>0.20</td>\n",
       "      <td>0.17</td>\n",
       "      <td>0.00</td>\n",
       "      <td>0.00</td>\n",
       "      <td>0.00</td>\n",
       "      <td>0.00</td>\n",
       "      <td>0.0</td>\n",
       "      <td>0.0</td>\n",
       "      <td>1.00</td>\n",
       "      <td>0.0</td>\n",
       "      <td>0.00</td>\n",
       "      <td>0.12</td>\n",
       "      <td>0.00</td>\n",
       "    </tr>\n",
       "    <tr>\n",
       "      <th>ceiling_height</th>\n",
       "      <td>0.00</td>\n",
       "      <td>0.00</td>\n",
       "      <td>0.0</td>\n",
       "      <td>0.00</td>\n",
       "      <td>0.0</td>\n",
       "      <td>0.00</td>\n",
       "      <td>0.00</td>\n",
       "      <td>0.00</td>\n",
       "      <td>0.00</td>\n",
       "      <td>0.00</td>\n",
       "      <td>0.00</td>\n",
       "      <td>0.00</td>\n",
       "      <td>0.0</td>\n",
       "      <td>0.0</td>\n",
       "      <td>0.00</td>\n",
       "      <td>1.0</td>\n",
       "      <td>0.00</td>\n",
       "      <td>0.00</td>\n",
       "      <td>0.00</td>\n",
       "    </tr>\n",
       "    <tr>\n",
       "      <th>days_exposition</th>\n",
       "      <td>0.00</td>\n",
       "      <td>0.00</td>\n",
       "      <td>0.0</td>\n",
       "      <td>0.00</td>\n",
       "      <td>0.0</td>\n",
       "      <td>0.00</td>\n",
       "      <td>0.00</td>\n",
       "      <td>0.00</td>\n",
       "      <td>0.13</td>\n",
       "      <td>0.15</td>\n",
       "      <td>0.10</td>\n",
       "      <td>0.14</td>\n",
       "      <td>0.0</td>\n",
       "      <td>0.0</td>\n",
       "      <td>0.00</td>\n",
       "      <td>0.0</td>\n",
       "      <td>1.00</td>\n",
       "      <td>0.00</td>\n",
       "      <td>0.00</td>\n",
       "    </tr>\n",
       "    <tr>\n",
       "      <th>total_images</th>\n",
       "      <td>0.00</td>\n",
       "      <td>0.00</td>\n",
       "      <td>0.0</td>\n",
       "      <td>0.00</td>\n",
       "      <td>0.0</td>\n",
       "      <td>0.00</td>\n",
       "      <td>0.00</td>\n",
       "      <td>0.00</td>\n",
       "      <td>0.00</td>\n",
       "      <td>0.12</td>\n",
       "      <td>0.11</td>\n",
       "      <td>0.10</td>\n",
       "      <td>0.0</td>\n",
       "      <td>0.0</td>\n",
       "      <td>0.12</td>\n",
       "      <td>0.0</td>\n",
       "      <td>0.00</td>\n",
       "      <td>1.00</td>\n",
       "      <td>0.10</td>\n",
       "    </tr>\n",
       "    <tr>\n",
       "      <th>last_price</th>\n",
       "      <td>0.00</td>\n",
       "      <td>0.00</td>\n",
       "      <td>0.0</td>\n",
       "      <td>0.15</td>\n",
       "      <td>0.0</td>\n",
       "      <td>0.16</td>\n",
       "      <td>0.00</td>\n",
       "      <td>0.00</td>\n",
       "      <td>0.36</td>\n",
       "      <td>0.65</td>\n",
       "      <td>0.52</td>\n",
       "      <td>0.57</td>\n",
       "      <td>0.0</td>\n",
       "      <td>0.0</td>\n",
       "      <td>0.00</td>\n",
       "      <td>0.0</td>\n",
       "      <td>0.00</td>\n",
       "      <td>0.10</td>\n",
       "      <td>1.00</td>\n",
       "    </tr>\n",
       "  </tbody>\n",
       "</table>\n",
       "</div>"
      ],
      "text/plain": [
       "                      city_centers_nearest  airports_nearest  parks_nearest  \\\n",
       "city_centers_nearest                  1.00              0.27            0.0   \n",
       "airports_nearest                      0.27              1.00            0.0   \n",
       "parks_nearest                         0.00              0.00            1.0   \n",
       "parks_around_3000                     0.00              0.00            0.0   \n",
       "ponds_nearest                         0.00              0.00            0.0   \n",
       "ponds_around_3000                     0.00              0.00            0.0   \n",
       "floors_total                          0.00              0.11            0.0   \n",
       "floor                                 0.00              0.00            0.0   \n",
       "rooms                                 0.00              0.00            0.0   \n",
       "total_area                            0.00              0.00            0.0   \n",
       "kitchen_area                          0.00              0.00            0.0   \n",
       "living_area                           0.00              0.00            0.0   \n",
       "studio                                0.00              0.00            0.0   \n",
       "open_plan                             0.00              0.00            0.0   \n",
       "balcony                               0.00              0.00            0.0   \n",
       "ceiling_height                        0.00              0.00            0.0   \n",
       "days_exposition                       0.00              0.00            0.0   \n",
       "total_images                          0.00              0.00            0.0   \n",
       "last_price                            0.00              0.00            0.0   \n",
       "\n",
       "                      parks_around_3000  ponds_nearest  ponds_around_3000  \\\n",
       "city_centers_nearest               0.00            0.0               0.00   \n",
       "airports_nearest                   0.00            0.0               0.00   \n",
       "parks_nearest                      0.00            0.0               0.00   \n",
       "parks_around_3000                  1.00            0.0               0.30   \n",
       "ponds_nearest                      0.00            1.0               0.00   \n",
       "ponds_around_3000                  0.30            0.0               1.00   \n",
       "floors_total                       0.00            0.0               0.00   \n",
       "floor                              0.00            0.0               0.00   \n",
       "rooms                              0.14            0.0               0.00   \n",
       "total_area                         0.16            0.0               0.16   \n",
       "kitchen_area                       0.00            0.0               0.15   \n",
       "living_area                        0.18            0.0               0.15   \n",
       "studio                             0.00            0.0               0.00   \n",
       "open_plan                          0.00            0.0               0.00   \n",
       "balcony                            0.00            0.0               0.00   \n",
       "ceiling_height                     0.00            0.0               0.00   \n",
       "days_exposition                    0.00            0.0               0.00   \n",
       "total_images                       0.00            0.0               0.00   \n",
       "last_price                         0.15            0.0               0.16   \n",
       "\n",
       "                      floors_total  floor  rooms  total_area  kitchen_area  \\\n",
       "city_centers_nearest          0.00   0.00   0.00        0.00          0.00   \n",
       "airports_nearest              0.11   0.00   0.00        0.00          0.00   \n",
       "parks_nearest                 0.00   0.00   0.00        0.00          0.00   \n",
       "parks_around_3000             0.00   0.00   0.14        0.16          0.00   \n",
       "ponds_nearest                 0.00   0.00   0.00        0.00          0.00   \n",
       "ponds_around_3000             0.00   0.00   0.00        0.16          0.15   \n",
       "floors_total                  1.00   0.68   0.00        0.00          0.16   \n",
       "floor                         0.68   1.00   0.00        0.00          0.14   \n",
       "rooms                         0.00   0.00   1.00        0.76          0.27   \n",
       "total_area                    0.00   0.00   0.76        1.00          0.61   \n",
       "kitchen_area                  0.16   0.14   0.27        0.61          1.00   \n",
       "living_area                   0.00   0.00   0.85        0.94          0.43   \n",
       "studio                        0.00   0.00   0.00        0.00           NaN   \n",
       "open_plan                     0.00   0.00   0.00        0.00           NaN   \n",
       "balcony                       0.20   0.17   0.00        0.00          0.00   \n",
       "ceiling_height                0.00   0.00   0.00        0.00          0.00   \n",
       "days_exposition               0.00   0.00   0.13        0.15          0.10   \n",
       "total_images                  0.00   0.00   0.00        0.12          0.11   \n",
       "last_price                    0.00   0.00   0.36        0.65          0.52   \n",
       "\n",
       "                      living_area  studio  open_plan  balcony  ceiling_height  \\\n",
       "city_centers_nearest         0.00     0.0        0.0     0.00             0.0   \n",
       "airports_nearest             0.00     0.0        0.0     0.00             0.0   \n",
       "parks_nearest                0.00     0.0        0.0     0.00             0.0   \n",
       "parks_around_3000            0.18     0.0        0.0     0.00             0.0   \n",
       "ponds_nearest                0.00     0.0        0.0     0.00             0.0   \n",
       "ponds_around_3000            0.15     0.0        0.0     0.00             0.0   \n",
       "floors_total                 0.00     0.0        0.0     0.20             0.0   \n",
       "floor                        0.00     0.0        0.0     0.17             0.0   \n",
       "rooms                        0.85     0.0        0.0     0.00             0.0   \n",
       "total_area                   0.94     0.0        0.0     0.00             0.0   \n",
       "kitchen_area                 0.43     NaN        NaN     0.00             0.0   \n",
       "living_area                  1.00     0.0        0.0     0.00             0.0   \n",
       "studio                       0.00     1.0        0.0     0.00             0.0   \n",
       "open_plan                    0.00     0.0        1.0     0.00             0.0   \n",
       "balcony                      0.00     0.0        0.0     1.00             0.0   \n",
       "ceiling_height               0.00     0.0        0.0     0.00             1.0   \n",
       "days_exposition              0.14     0.0        0.0     0.00             0.0   \n",
       "total_images                 0.10     0.0        0.0     0.12             0.0   \n",
       "last_price                   0.57     0.0        0.0     0.00             0.0   \n",
       "\n",
       "                      days_exposition  total_images  last_price  \n",
       "city_centers_nearest             0.00          0.00        0.00  \n",
       "airports_nearest                 0.00          0.00        0.00  \n",
       "parks_nearest                    0.00          0.00        0.00  \n",
       "parks_around_3000                0.00          0.00        0.15  \n",
       "ponds_nearest                    0.00          0.00        0.00  \n",
       "ponds_around_3000                0.00          0.00        0.16  \n",
       "floors_total                     0.00          0.00        0.00  \n",
       "floor                            0.00          0.00        0.00  \n",
       "rooms                            0.13          0.00        0.36  \n",
       "total_area                       0.15          0.12        0.65  \n",
       "kitchen_area                     0.10          0.11        0.52  \n",
       "living_area                      0.14          0.10        0.57  \n",
       "studio                           0.00          0.00        0.00  \n",
       "open_plan                        0.00          0.00        0.00  \n",
       "balcony                          0.00          0.12        0.00  \n",
       "ceiling_height                   0.00          0.00        0.00  \n",
       "days_exposition                  1.00          0.00        0.00  \n",
       "total_images                     0.00          1.00        0.10  \n",
       "last_price                       0.00          0.10        1.00  "
      ]
     },
     "execution_count": 439,
     "metadata": {},
     "output_type": "execute_result"
    }
   ],
   "source": [
    "# Эта функция заменят в матрице корреляции все значения меньше 0.2 на 0, строго для облегчения визуального восприятия\n",
    "\n",
    "def corr_rider(row): \n",
    "    for i in range(len(row)):\n",
    "        if row[i] < 0.1:\n",
    "            row[i] = 0\n",
    "    return row\n",
    "\n",
    "# Создаю матрицу корреляции\n",
    "df.corr().apply(corr_rider, axis=1).round(2)"
   ]
  },
  {
   "cell_type": "markdown",
   "metadata": {},
   "source": [
    "### Столбец 1. Название населенного пункта"
   ]
  },
  {
   "cell_type": "markdown",
   "metadata": {},
   "source": [
    "**Для порядка пооставлю здесь этот пункт из чек-листа задания.** Непосредственное удаление пропусков сделано перед лемматизацией."
   ]
  },
  {
   "cell_type": "code",
   "execution_count": 440,
   "metadata": {},
   "outputs": [],
   "source": [
    "df = df.dropna(subset=['locality_name'])"
   ]
  },
  {
   "cell_type": "markdown",
   "metadata": {},
   "source": [
    "### Столбец 2. Расстояние до центра города"
   ]
  },
  {
   "cell_type": "markdown",
   "metadata": {},
   "source": [
    "**Рассчитываю кол-во пустых значений:**"
   ]
  },
  {
   "cell_type": "code",
   "execution_count": 441,
   "metadata": {},
   "outputs": [],
   "source": [
    "def percent_na_values(df, columns):\n",
    "    print('Процент пустых значений: {:.0%}'.format(df[columns].isna().sum()/len(df[columns])))"
   ]
  },
  {
   "cell_type": "code",
   "execution_count": 442,
   "metadata": {},
   "outputs": [
    {
     "name": "stdout",
     "output_type": "stream",
     "text": [
      "Пустых значений: 5511\n",
      "Процент пустых значений: 23%\n"
     ]
    }
   ],
   "source": [
    "print('Пустых значений:', len(df[df['city_centers_nearest'].isna()]))\n",
    "percent_na_values(df, 'city_centers_nearest')"
   ]
  },
  {
   "cell_type": "markdown",
   "metadata": {},
   "source": [
    "**Гипотеза**\n",
    "- Возможно, значение «расстояние до центра города» не заполнено, преимущественно, в мелких населенных пунктах.\n",
    "- Потому что, по контексту задачи понятно, что под «расстоянием до центра города» понимается «расстояние до центра Санкт-Петербурга», а не деревни/поселка/маленького города.\n",
    "\n",
    "**Проверяю гипотезу**"
   ]
  },
  {
   "cell_type": "code",
   "execution_count": 443,
   "metadata": {
    "scrolled": true
   },
   "outputs": [
    {
     "name": "stdout",
     "output_type": "stream",
     "text": [
      "Санкт-Петербург\n",
      "Процент пустых значений: 0%\n",
      "Ленинградская область\n",
      "Процент пустых значений: 69%\n"
     ]
    }
   ],
   "source": [
    "print('Санкт-Петербург')\n",
    "df_piter = df[df['locality_name'] == 'Санкт-Петербург']\n",
    "percent_na_values(df_piter, 'city_centers_nearest')\n",
    "print('Ленинградская область')\n",
    "df_piter = df[df['locality_name'] != 'Санкт-Петербург']\n",
    "percent_na_values(df_piter, 'city_centers_nearest')"
   ]
  },
  {
   "cell_type": "markdown",
   "metadata": {},
   "source": [
    "**Гипотеза подтверждена.**\n",
    "\n",
    "**Далее проверю кол-во населенных пунктов, для которых неизвестно расстояние до центра**"
   ]
  },
  {
   "cell_type": "code",
   "execution_count": 444,
   "metadata": {},
   "outputs": [
    {
     "name": "stdout",
     "output_type": "stream",
     "text": [
      "Всего населенных пунктов: 264\n",
      "Тех, у кого значение «расстояние до центра города» не пустое: 27\n"
     ]
    }
   ],
   "source": [
    "# Здесь я использую особенность функции median\n",
    "# Если у населенного пункта ни в одном объявлении нет значения до центра города (т.е. во всех объявления стоит NaN)\n",
    "# Значит медианы для этих объявлений не существует\n",
    "# И когда я создаю сводную таблицу с aggfunc='median'\n",
    "# В эту таблицу попадают только города с медианой, а значит, города, у которых это расстояние до центар известно\n",
    "# А все остальные не включаются в эту таблицу\n",
    "# Далее я считаю кол-во этих городов (расстояние до центра неизвестно) и кол-во всего\n",
    "\n",
    "\n",
    "not_empty = len(df.pivot_table(index='locality_name', values='city_centers_nearest', aggfunc='median').reset_index()['locality_name'].unique())\n",
    "total = len(df['locality_name'].unique())\n",
    "print('Всего населенных пунктов:', total)\n",
    "print('Тех, у кого значение «расстояние до центра города» не пустое:', not_empty)"
   ]
  },
  {
   "cell_type": "markdown",
   "metadata": {},
   "source": [
    "**Выводы** \n",
    "- Расстояние до центра известно всего у 27 населенных пунктов из 271-го. Неизвестно расстояние для 244 объектов.\n",
    "- Эти 244 объекта дают 5511 объявлений, и все они находятся в Ленинградской области.\n",
    "\n",
    "**Почему так?** Думаю, продавцы не считают нужным указывать расстояние до центар Санкт-Петербурга, т.к. эта цифра не имеет значения, если ты живешь в 50 км от него. \n",
    "\n",
    "\n",
    "**В следующей ячейки написана функция, которая действует по следующей логике:**\n",
    "1. Заменяю пустые значения на медианные для выбранного населенного пункта, если медиана для него известна. \n",
    "2. Если медиана неизвестна (все значения пустые), заполняю пропуски медианой для Ленинградской области."
   ]
  },
  {
   "cell_type": "code",
   "execution_count": 445,
   "metadata": {},
   "outputs": [
    {
     "data": {
      "text/plain": [
       "locality_name               0\n",
       "city_centers_nearest     5511\n",
       "airports_nearest         5534\n",
       "parks_nearest           15586\n",
       "parks_around_3000        5510\n",
       "ponds_nearest           14565\n",
       "ponds_around_3000        5510\n",
       "floors_total               85\n",
       "floor                       0\n",
       "rooms                       0\n",
       "total_area                  0\n",
       "kitchen_area             2269\n",
       "living_area              1898\n",
       "studio                      0\n",
       "open_plan                   0\n",
       "balcony                 11513\n",
       "ceiling_height           9160\n",
       "is_apartment            20890\n",
       "first_day_exposition        0\n",
       "days_exposition          3180\n",
       "total_images                0\n",
       "last_price                  0\n",
       "dtype: int64"
      ]
     },
     "execution_count": 445,
     "metadata": {},
     "output_type": "execute_result"
    }
   ],
   "source": [
    "df.isnull().sum()"
   ]
  },
  {
   "cell_type": "code",
   "execution_count": 446,
   "metadata": {
    "scrolled": false
   },
   "outputs": [],
   "source": [
    "def replace_nan_with_median_values(df, category_column, median_with_nan_column):\n",
    "    \n",
    "    name_unique = df.pivot_table(index=category_column, values=median_with_nan_column).reset_index()[category_column].unique()\n",
    "    type_median = [] # Пустой список для будущих медианных значений\n",
    "    for i in name_unique: # Получаю список с медианными значениями \"уровня дохода\" для каждого \"типа занятости\"\n",
    "        type_median.append(df[df[category_column] == i][median_with_nan_column].median()) # Считаю медиану для каждого уникального значения \"тип занятости\" и добавляю значение в список \"медианных значений\"\n",
    "\n",
    "    def median_replacement(row):   # Функция заменяет значение в столбце total_income на медианное значение этой категории\n",
    "        for i in range(len(name_unique)): # Цикл выполняет условие \"Если в строке такой тип данных, то уровню доход присвоить значение из списка с меданнми\"\n",
    "            if row[category_column] == name_unique[i]: # Если \"тип занятости\" равен типу занятости из списка с индексом i\n",
    "                row[median_with_nan_column] = type_median[i] # Значение \"Уровень дохода\" заменить на медианное из списка с таким же индексом, что и название категории\n",
    "                break\n",
    "        return row\n",
    "    \n",
    "    # Заменяю NaN на медианные значения для населенных пунктов, у которых не все значения NaN и медиану в принципе можно посчитать       \n",
    "    df[df[median_with_nan_column].isna()] = df[df[median_with_nan_column].isna()].apply(median_replacement, axis=1)\n",
    "    \n",
    "    # Заменяю NaN на медианные значения для населенных пунктов, у которых все значения NaN, на медианные для Ленинградской области\n",
    "    df[median_with_nan_column] = df[median_with_nan_column].fillna(df.query('locality_name != \"Санкт-Петербург\"')[median_with_nan_column].median())"
   ]
  },
  {
   "cell_type": "markdown",
   "metadata": {},
   "source": [
    "**Функция написана, следующий шаг: заполняю пустые значения в столбцах 2-7.** Поскольку логика с расстоянием до центра города справедлива для всех переменных, которые характеризуют расположение дома, то применю функцию выше ко всем ним.\n",
    "\n",
    "Ниже написан цикл, который поочередно вызывает функцию заполнения медианных значений, передевая ей столбцы, характеризующие расположение дома."
   ]
  },
  {
   "cell_type": "code",
   "execution_count": 447,
   "metadata": {},
   "outputs": [],
   "source": [
    "for i in ['city_centers_nearest', 'airports_nearest', 'parks_nearest', 'parks_around_3000', 'ponds_nearest', 'ponds_around_3000']:\n",
    "    replace_nan_with_median_values(df, 'locality_name', i)  "
   ]
  },
  {
   "cell_type": "markdown",
   "metadata": {},
   "source": [
    "**Проверяю результат:**"
   ]
  },
  {
   "cell_type": "code",
   "execution_count": 448,
   "metadata": {},
   "outputs": [
    {
     "name": "stdout",
     "output_type": "stream",
     "text": [
      "Пустых значений: 0\n",
      "Процент пустых значений: 0%\n"
     ]
    }
   ],
   "source": [
    "print('Пустых значений:', len(df[df['city_centers_nearest'].isna()]))\n",
    "percent_na_values(df, 'city_centers_nearest')"
   ]
  },
  {
   "cell_type": "markdown",
   "metadata": {},
   "source": [
    "**Пустые значения успешно заполнены**\n",
    "\n",
    "**Предложения разработчикам:**\n",
    "1. Параметры, характеризующие расстояние до объекта (до центра города, парка, аэропорта), и получаемые на основе картографических данных, делать кратными 50 м и переводить в целочисленный тип int64. Например, расстояние до центра в 5624 м заменять на 5600 м.\n",
    "2. Упорядочить название населенных пунктов. Разделить само название от названия категории и выделить категорию в отдельный параметр. Категории: город, село, поселок, станция, поселок дачного типа.  На данный момент 93 названия являются дублями.\n",
    "3. Ввести название города обязательным пунктом. Чтобы не было ситуации, когда город продажи объявления неизвестен."
   ]
  },
  {
   "cell_type": "markdown",
   "metadata": {},
   "source": [
    "### Столбец 8. Количество этажей"
   ]
  },
  {
   "cell_type": "code",
   "execution_count": 449,
   "metadata": {},
   "outputs": [
    {
     "name": "stdout",
     "output_type": "stream",
     "text": [
      "Пустых значений: 85\n",
      "Процент пустых значений: 0%\n"
     ]
    }
   ],
   "source": [
    "print('Пустых значений:', len(df[df['floors_total'].isna()]))\n",
    "percent_na_values(df, 'floors_total')"
   ]
  },
  {
   "cell_type": "markdown",
   "metadata": {},
   "source": [
    "В столбце `floors_total` не хвататет 85 значений. Напишу функцию assa, которая заполняет пустые значения:\n",
    "\n",
    "    \"\"\"\n",
    "    Что делает функция?\n",
    "    1. Проверяет условие. Если медиана больше указанного \"Этажа квартиры\" в объявлении.\n",
    "    2. То переменной \"Всего этажей\" присваивает значение медианы.\n",
    "    3. Иначе присваиваю значение столбца \"Этаж квартиры\"\n",
    "    \"\"\""
   ]
  },
  {
   "cell_type": "code",
   "execution_count": 450,
   "metadata": {},
   "outputs": [],
   "source": [
    "def assa(row):\n",
    "    if floors_total_median > row['floor']: # Если медиана больше \"Этажа квартиры\" в объявлении\n",
    "        row['floors_total'] = floors_total_median # Переменной \"Всего этажей\" присваиваю значение медианы\n",
    "    else:\n",
    "        row['floors_total'] = row['floor'] # Иначе присваиваю значение столбца \"Этаж квартиры\"\n",
    "    return row"
   ]
  },
  {
   "cell_type": "code",
   "execution_count": 451,
   "metadata": {},
   "outputs": [],
   "source": [
    "floors_total_median = df['floors_total'].median() # Вычисляю медианну для столбца \"Количество этажей\""
   ]
  },
  {
   "cell_type": "code",
   "execution_count": 452,
   "metadata": {},
   "outputs": [],
   "source": [
    "df[df['floors_total'].isna()] = df[df['floors_total'].isna()].apply(assa, axis=1)"
   ]
  },
  {
   "cell_type": "markdown",
   "metadata": {},
   "source": [
    "**Проверяю результат:**"
   ]
  },
  {
   "cell_type": "code",
   "execution_count": 453,
   "metadata": {},
   "outputs": [
    {
     "name": "stdout",
     "output_type": "stream",
     "text": [
      "Пустых значений: 0\n",
      "Процент пустых значений: 0%\n"
     ]
    }
   ],
   "source": [
    "print('Пустых значений:', len(df[df['floors_total'].isna()]))\n",
    "percent_na_values(df, 'floors_total')"
   ]
  },
  {
   "cell_type": "markdown",
   "metadata": {},
   "source": [
    "**Предложение для разработчиков**\n",
    "- Сделайте поле «кол-во этажей» обязательным для заполнения.\n",
    "- Предположительно, причина пропусков — это ошибка владельцев квартир при заполнении текста объявления.\n"
   ]
  },
  {
   "cell_type": "markdown",
   "metadata": {},
   "source": [
    "### Столбец 12. Площадь кухни"
   ]
  },
  {
   "cell_type": "code",
   "execution_count": 454,
   "metadata": {},
   "outputs": [
    {
     "name": "stdout",
     "output_type": "stream",
     "text": [
      "Пустых значений: 2269\n",
      "Процент пустых значений: 10%\n"
     ]
    }
   ],
   "source": [
    "print('Пустых значений:', len(df[df['kitchen_area'].isna()]))\n",
    "percent_na_values(df, 'kitchen_area')"
   ]
  },
  {
   "cell_type": "markdown",
   "metadata": {},
   "source": [
    "**Площадь кухни неизвестна для 10% квартир**\n",
    "- Площадь кухни коррелирует с общей площадью с коэффициентом 0.6.\n",
    "\n",
    "**Следующий шаг**\n",
    "- Разобью общую площадь на категории, вычислю медиану для каждой категории и присвою медиану пустым значениям."
   ]
  },
  {
   "cell_type": "code",
   "execution_count": 455,
   "metadata": {},
   "outputs": [],
   "source": [
    "# Здесь получаю список из 3 квантилей\n",
    "\n",
    "category_total_area = df['total_area'].quantile([.25, .5, .75]).tolist()"
   ]
  },
  {
   "cell_type": "code",
   "execution_count": 456,
   "metadata": {},
   "outputs": [],
   "source": [
    "# В этом коде выичсляю медиану для 4 сегмента квартир (0-25%, 25-50%...)\n",
    "# Да, сделано грубовато, но из-за задержки проекта не стал переделывать\n",
    "\n",
    "median_kitchen_area = []\n",
    "median_kitchen_area.append(df[df['total_area'] <= category_total_area[0]]['kitchen_area'].median()) \n",
    "median_kitchen_area.append(df[(df['total_area'] > category_total_area[0]) & (df['total_area'] <= category_total_area[1])]['kitchen_area'].median())\n",
    "median_kitchen_area.append(df[(df['total_area'] > category_total_area[1]) & (df['total_area'] <= category_total_area[2])]['kitchen_area'].median())\n",
    "median_kitchen_area.append(df[df['total_area'] > category_total_area[2]]['kitchen_area'].median())"
   ]
  },
  {
   "cell_type": "code",
   "execution_count": 457,
   "metadata": {},
   "outputs": [],
   "source": [
    "# Эта функция принимает строку, категоризиурет площадь и присваивает кухне медианное значение для данной площади\n",
    "\n",
    "def tedd(row):\n",
    "    if row['total_area'] <= category_total_area[0]:\n",
    "        row['kitchen_area'] = median_kitchen_area[0]\n",
    "        return row\n",
    "    if row['total_area'] <= category_total_area[1]:\n",
    "        row['kitchen_area'] = median_kitchen_area[1]\n",
    "        return row\n",
    "    if row['total_area'] <= category_total_area[2]:\n",
    "        row['kitchen_area'] = median_kitchen_area[2]\n",
    "        return row\n",
    "    else:\n",
    "        row['kitchen_area'] = median_kitchen_area[3]\n",
    "        return row"
   ]
  },
  {
   "cell_type": "code",
   "execution_count": 458,
   "metadata": {},
   "outputs": [],
   "source": [
    "# Вызываю функцию из кода выше для среза пустых значений\n",
    "\n",
    "df[df['kitchen_area'].isna()] = df[df['kitchen_area'].isna()].apply(tedd, axis=1)"
   ]
  },
  {
   "cell_type": "markdown",
   "metadata": {},
   "source": [
    "**Проверяю результат:**"
   ]
  },
  {
   "cell_type": "code",
   "execution_count": 459,
   "metadata": {},
   "outputs": [
    {
     "name": "stdout",
     "output_type": "stream",
     "text": [
      "Пустых значений: 0\n",
      "Процент пустых значений: 0%\n"
     ]
    }
   ],
   "source": [
    "print('Пустых значений:', len(df[df['kitchen_area'].isna()]))\n",
    "percent_na_values(df, 'kitchen_area')"
   ]
  },
  {
   "cell_type": "markdown",
   "metadata": {},
   "source": [
    "**Площадь кухни заполнена.**\n",
    "- Причина наличия пустых значений — нежелание продавцов их заполнять.\n",
    "\n",
    "**Предложение разработчикам:**\n",
    "- Сделайте поле «Площадь кухни» обязательным для заполнения"
   ]
  },
  {
   "cell_type": "code",
   "execution_count": 460,
   "metadata": {},
   "outputs": [
    {
     "data": {
      "text/plain": [
       "'снова попал'"
      ]
     },
     "execution_count": 460,
     "metadata": {},
     "output_type": "execute_result"
    }
   ],
   "source": [
    "def good_labrador(labrador):\n",
    "    if labrador < 0:\n",
    "        return 'попал'\n",
    "    if labrador > 1:\n",
    "        return 'снова попал'\n",
    "    if labrador == 2:\n",
    "        return 'опять попал'\n",
    "    \n",
    "good_labrador(2)"
   ]
  },
  {
   "cell_type": "markdown",
   "metadata": {},
   "source": [
    "### Столбец 13. Жилая площадь"
   ]
  },
  {
   "cell_type": "code",
   "execution_count": 461,
   "metadata": {},
   "outputs": [
    {
     "name": "stdout",
     "output_type": "stream",
     "text": [
      "Пустых значений: 1898\n",
      "Процент пустых значений: 8%\n"
     ]
    }
   ],
   "source": [
    "print('Пустых значений:', len(df[df['living_area'].isna()]))\n",
    "percent_na_values(df, 'living_area')"
   ]
  },
  {
   "cell_type": "markdown",
   "metadata": {},
   "source": [
    "**Выводы**\n",
    "1. Все значения очень близки (мое оценочное суждение), кроме одного — дней публикации.\n",
    "2. Также привлекает внимание, что эта цифра такая \"ровная\".\n",
    "3. Предполагаю, что объявления без жилой площади размещались агентами, а не собственниками. Эта цифра находится в плане помещения, и, возможно, не была известна агенту при размещении."
   ]
  },
  {
   "cell_type": "markdown",
   "metadata": {},
   "source": [
    "**Далее заполню пустые значения, используя ту же механику, что и для площади кухни.**"
   ]
  },
  {
   "cell_type": "code",
   "execution_count": 462,
   "metadata": {},
   "outputs": [],
   "source": [
    "category_total_area = df['total_area'].quantile([.25, .5, .75]).tolist()\n",
    "median_kitchen_area = []\n",
    "\n",
    "\n",
    "median_kitchen_area.append(df[df['total_area'] <= category_total_area[0]]['living_area'].median())\n",
    "median_kitchen_area.append(df[(df['total_area'] > category_total_area[0]) & (df['total_area'] <= category_total_area[1])]['living_area'].median())\n",
    "median_kitchen_area.append(df[(df['total_area'] > category_total_area[1]) & (df['total_area'] <= category_total_area[2])]['living_area'].median())\n",
    "median_kitchen_area.append(df[df['total_area'] > category_total_area[2]]['living_area'].median())"
   ]
  },
  {
   "cell_type": "code",
   "execution_count": 463,
   "metadata": {},
   "outputs": [],
   "source": [
    "def tedd(row):\n",
    "    if row['total_area'] <= category_total_area[0]:\n",
    "        row['living_area'] = median_kitchen_area[0]\n",
    "        return row\n",
    "    if row['total_area'] <= category_total_area[1]:\n",
    "        row['living_area'] = median_kitchen_area[1]\n",
    "        return row\n",
    "    if row['total_area'] <= category_total_area[2]:\n",
    "        row['living_area'] = median_kitchen_area[2]\n",
    "        return row\n",
    "    else:\n",
    "        row['living_area'] = median_kitchen_area[3]\n",
    "        return row"
   ]
  },
  {
   "cell_type": "code",
   "execution_count": 464,
   "metadata": {},
   "outputs": [],
   "source": [
    "df[df['living_area'].isna()] = df[df['living_area'].isna()].apply(tedd, axis=1)"
   ]
  },
  {
   "cell_type": "code",
   "execution_count": 465,
   "metadata": {
    "scrolled": true
   },
   "outputs": [
    {
     "name": "stdout",
     "output_type": "stream",
     "text": [
      "Пустых значений: 0\n",
      "Процент пустых значений: 0%\n"
     ]
    }
   ],
   "source": [
    "print('Пустых значений:', len(df[df['living_area'].isna()]))\n",
    "percent_na_values(df, 'living_area')"
   ]
  },
  {
   "cell_type": "markdown",
   "metadata": {},
   "source": [
    "**Все пустые значения успешно заполнены.**\n",
    "\n",
    "**Вывод**\n",
    "1. Медианы параметров квартир без жилой площади очень близки к таковым с ней.\n",
    "2. Единственное существенное расхождение в кол-ве дней публикации: у квартир с жилой 95, без нее 60.\n",
    "3. Предполагаю, что объявления без жилой площади размещались агентами, а не собственниками. Эта цифра находится в плане помещения, и, возможно, не была известна агенту при размещении.\n",
    "4. Косвенно, на это указывает также бОльшая площадь кухни: 10,94 против 9,10. Как правило, у дорогих квартир кухни больше, а продают их агенты, а не собственники. Разница в 1,8 кв.м. кажется маленькой, но в процентах это значит, что площадь кухонь в квартирах без жилой площади на 20% больше. Вряд ли это случайность."
   ]
  },
  {
   "cell_type": "markdown",
   "metadata": {},
   "source": [
    "### Столбец 16. Число балконов"
   ]
  },
  {
   "cell_type": "markdown",
   "metadata": {},
   "source": [
    "**Гипотеза из задания (без подтверждения):** если значение пустое, вероятно балкона нет.\n",
    "\n",
    "**Действие:** заполню пустые значения нулем."
   ]
  },
  {
   "cell_type": "code",
   "execution_count": 466,
   "metadata": {},
   "outputs": [],
   "source": [
    "df['balcony'] = df['balcony'].fillna(0)"
   ]
  },
  {
   "cell_type": "markdown",
   "metadata": {},
   "source": [
    "**Вывод**\n",
    "- Нечего писать"
   ]
  },
  {
   "cell_type": "markdown",
   "metadata": {},
   "source": [
    "### Столбец 17. Высота потолков"
   ]
  },
  {
   "cell_type": "code",
   "execution_count": 467,
   "metadata": {},
   "outputs": [
    {
     "name": "stdout",
     "output_type": "stream",
     "text": [
      "Пустых значений: 9160\n",
      "Процент пустых значений: 39%\n"
     ]
    }
   ],
   "source": [
    "print('Пустых значений:', len(df[df['ceiling_height'].isna()]))\n",
    "percent_na_values(df, 'ceiling_height')"
   ]
  },
  {
   "cell_type": "markdown",
   "metadata": {},
   "source": [
    "**Выводы**\n",
    "- В 39% объявлений не указана высота потолков\n",
    "- Высота потолков не коррелирует ни с одним значением (матрица корреляции выше).\n",
    "\n",
    "**Следующий шаг**\n",
    "- Заполню пустые значения медианными для выбранного населенного пункта.\n",
    "- Но перед этим проверб медианные значения на реалистичность."
   ]
  },
  {
   "cell_type": "code",
   "execution_count": 468,
   "metadata": {},
   "outputs": [
    {
     "data": {
      "text/plain": [
       "2.7"
      ]
     },
     "execution_count": 468,
     "metadata": {},
     "output_type": "execute_result"
    }
   ],
   "source": [
    "# Медиана для Питера\n",
    "\n",
    "df[df['locality_name'] == 'Санкт-Петербург']['ceiling_height'].median() "
   ]
  },
  {
   "cell_type": "code",
   "execution_count": 469,
   "metadata": {},
   "outputs": [
    {
     "data": {
      "text/plain": [
       "2.6"
      ]
     },
     "execution_count": 469,
     "metadata": {},
     "output_type": "execute_result"
    }
   ],
   "source": [
    "# Медиана для области\n",
    "\n",
    "df[df['locality_name'] != 'Санкт-Петербург']['ceiling_height'].median()"
   ]
  },
  {
   "cell_type": "markdown",
   "metadata": {},
   "source": [
    "**Логичная и релистичная картина**\n",
    "- Высота 2,7 м — это стандарт для массовой застройки, начиная с 70-х годов.\n",
    "- Высота в области ниже и составляет 2,6 м, что логично, т.к. в области наверняка больше хрущевок, у которых высота потолков равна 2,5 м. Выяснять точную причину нет смысла, обе цифры реалистичны.\n",
    "\n",
    "**Вызову уже написанную функцию, которая присваивает значения по категориям:**"
   ]
  },
  {
   "cell_type": "code",
   "execution_count": 470,
   "metadata": {},
   "outputs": [],
   "source": [
    "# В данном случае, locality_name — это категория\n",
    "# ceiling_height — значение, которое необходимо присвоить\n",
    "\n",
    "replace_nan_with_median_values(df, 'locality_name', 'ceiling_height')"
   ]
  },
  {
   "cell_type": "code",
   "execution_count": 471,
   "metadata": {},
   "outputs": [
    {
     "name": "stdout",
     "output_type": "stream",
     "text": [
      "Пустых значений: 0\n",
      "Процент пустых значений: 0%\n"
     ]
    }
   ],
   "source": [
    "print('Пустых значений:', len(df[df['ceiling_height'].isna()]))\n",
    "percent_na_values(df, 'ceiling_height')"
   ]
  },
  {
   "cell_type": "markdown",
   "metadata": {},
   "source": [
    "**Вывод**\n",
    "- Хочешь высокие потолки — живи в Питере."
   ]
  },
  {
   "cell_type": "markdown",
   "metadata": {},
   "source": [
    "### Столбец 18. Апартаменты"
   ]
  },
  {
   "cell_type": "code",
   "execution_count": 472,
   "metadata": {},
   "outputs": [
    {
     "name": "stdout",
     "output_type": "stream",
     "text": [
      "Пустых значений: 20890\n",
      "Процент пустых значений: 88%\n"
     ]
    }
   ],
   "source": [
    "print('Пустых значений:', len(df[df['is_apartment'].isna()]))\n",
    "percent_na_values(df, 'is_apartment')"
   ]
  },
  {
   "cell_type": "code",
   "execution_count": 473,
   "metadata": {},
   "outputs": [
    {
     "data": {
      "text/plain": [
       "False    2710\n",
       "True       50\n",
       "Name: is_apartment, dtype: int64"
      ]
     },
     "execution_count": 473,
     "metadata": {},
     "output_type": "execute_result"
    }
   ],
   "source": [
    "df['is_apartment'].value_counts()"
   ]
  },
  {
   "cell_type": "markdown",
   "metadata": {},
   "source": [
    "**Здесь интересная особенность**\n",
    "1. Логично предположить, что в столбце \"апартаменты\" (как в задании) True означает \"да - это апартаменты\", а False \"нет - это квартиры\"\n",
    "2. Тогда возникает противоречие с данными, т.к. 2710 получаются апартаментами, и только 50 квартирами, а должно быть наоборот.\n",
    "3. Проблема в названии. Название столбца \"is_apartment\" дословно переводится как \"это квартира\", а значит True означает \"это квартира\". Здесь используется дословный перевод слова apartments.\n",
    "4. Но в самом объявлении тоже есть apartments, но уже не в смысле квартиры, а в смысле \"апартаменты\".\n",
    "5. Тогда логика сходится, 50/2750 = 1,8% это апартаменты. На сегодняшнюю дату доля таких квартир меньше 3% (посмотрел Яндекс.Недвижимость).\n",
    "\n",
    "**Следующий шаг**\n",
    "- Не буду усложнять себе жизнь и заполню все пустые значения False.\n",
    "- Потому что этот столбец мне не понадобится в дальнейших расчетах.\n"
   ]
  },
  {
   "cell_type": "code",
   "execution_count": 474,
   "metadata": {},
   "outputs": [],
   "source": [
    "# Заполню пустые значение False\n",
    "\n",
    "df['is_apartment'] = df['is_apartment'].fillna(False)"
   ]
  },
  {
   "cell_type": "code",
   "execution_count": 475,
   "metadata": {},
   "outputs": [
    {
     "name": "stdout",
     "output_type": "stream",
     "text": [
      "Пустых значений: 0\n",
      "Процент пустых значений: 0%\n"
     ]
    }
   ],
   "source": [
    "print('Пустых значений:', len(df[df['is_apartment'].isna()]))\n",
    "percent_na_values(df, 'is_apartment')"
   ]
  },
  {
   "cell_type": "markdown",
   "metadata": {},
   "source": [
    "**Пустых значений нет**"
   ]
  },
  {
   "cell_type": "markdown",
   "metadata": {},
   "source": [
    "### Столбец 20. Срок размещения объявления"
   ]
  },
  {
   "cell_type": "code",
   "execution_count": 476,
   "metadata": {},
   "outputs": [
    {
     "name": "stdout",
     "output_type": "stream",
     "text": [
      "Пустых значений: 3180\n",
      "Процент пустых значений: 13%\n"
     ]
    }
   ],
   "source": [
    "print('Пустых значений:', len(df[df['days_exposition'].isna()]))\n",
    "percent_na_values(df, 'days_exposition')"
   ]
  },
  {
   "cell_type": "markdown",
   "metadata": {},
   "source": [
    "**Гипотезы**\n",
    "1. Все пропущенные значения равны 0, ноль дней публикации\n",
    "2. Все пропущенные значения — это непроданные квартиры на момент формирования архива.\n",
    "\n",
    "**Аргументация гипотезы 1:**\n",
    "1. Это значение точно ставит не пользователь, а система, когда объявление снимается с публикации. А значит, это или системная ошибка, или есть логика, по которой система ставит NaN.\n",
    "2. Это точно не активные объявления, потому что по данным задачи мы работаем с архивом объявлений. Т.е. они все должны уже быть сняты с публикации.\n",
    "3. Поэтому делаю вывод, что это были объявления, которые пользователи опубликовали и сняли с продажи в этот же день. А следовательно количество дней публикации = 0.\n",
    "\n",
    "**Аргументация гипотезу 2:**\n",
    "1. Для проверки этой гипотезы мне необходимо построить гистограмму, которая покажет распределение дат этих объявлений. \n",
    "2. Но пока косвенно это может подвтердить цена, если она больше, чем у всех других объявлений.\n",
    "\n",
    "**Следующий шаг**\n",
    "- Сравню объявления с пустым значением дней публикации и все остальные\n",
    "- Для этого присвою им всем значение 0. Ноль в данном случае — это не цифра, а метка."
   ]
  },
  {
   "cell_type": "code",
   "execution_count": 477,
   "metadata": {},
   "outputs": [],
   "source": [
    "# Заполняю нулем\n",
    "\n",
    "df['days_exposition'] = df['days_exposition'].fillna(0)"
   ]
  },
  {
   "cell_type": "code",
   "execution_count": 478,
   "metadata": {},
   "outputs": [],
   "source": [
    "# Создавю 2 сводные таблицы\n",
    "\n",
    "apart_0 = df[df['days_exposition'] == 0].median().reset_index()\n",
    "apart_1 = df[df['days_exposition'] > 0].median().reset_index()"
   ]
  },
  {
   "cell_type": "code",
   "execution_count": 479,
   "metadata": {},
   "outputs": [
    {
     "data": {
      "text/html": [
       "<div>\n",
       "<style scoped>\n",
       "    .dataframe tbody tr th:only-of-type {\n",
       "        vertical-align: middle;\n",
       "    }\n",
       "\n",
       "    .dataframe tbody tr th {\n",
       "        vertical-align: top;\n",
       "    }\n",
       "\n",
       "    .dataframe thead th {\n",
       "        text-align: right;\n",
       "    }\n",
       "</style>\n",
       "<table border=\"1\" class=\"dataframe\">\n",
       "  <thead>\n",
       "    <tr style=\"text-align: right;\">\n",
       "      <th></th>\n",
       "      <th>index</th>\n",
       "      <th>0_ноль_дней</th>\n",
       "      <th>0_больше_1_дня</th>\n",
       "    </tr>\n",
       "  </thead>\n",
       "  <tbody>\n",
       "    <tr>\n",
       "      <th>0</th>\n",
       "      <td>city_centers_nearest</td>\n",
       "      <td>14928.5</td>\n",
       "      <td>14963.5</td>\n",
       "    </tr>\n",
       "    <tr>\n",
       "      <th>1</th>\n",
       "      <td>airports_nearest</td>\n",
       "      <td>33372.5</td>\n",
       "      <td>33331.0</td>\n",
       "    </tr>\n",
       "    <tr>\n",
       "      <th>2</th>\n",
       "      <td>parks_nearest</td>\n",
       "      <td>460.0</td>\n",
       "      <td>460.0</td>\n",
       "    </tr>\n",
       "    <tr>\n",
       "      <th>3</th>\n",
       "      <td>parks_around_3000</td>\n",
       "      <td>0.0</td>\n",
       "      <td>0.0</td>\n",
       "    </tr>\n",
       "    <tr>\n",
       "      <th>4</th>\n",
       "      <td>ponds_nearest</td>\n",
       "      <td>503.0</td>\n",
       "      <td>503.0</td>\n",
       "    </tr>\n",
       "    <tr>\n",
       "      <th>5</th>\n",
       "      <td>ponds_around_3000</td>\n",
       "      <td>1.0</td>\n",
       "      <td>1.0</td>\n",
       "    </tr>\n",
       "    <tr>\n",
       "      <th>6</th>\n",
       "      <td>floors_total</td>\n",
       "      <td>8.0</td>\n",
       "      <td>9.0</td>\n",
       "    </tr>\n",
       "    <tr>\n",
       "      <th>7</th>\n",
       "      <td>floor</td>\n",
       "      <td>4.0</td>\n",
       "      <td>4.0</td>\n",
       "    </tr>\n",
       "    <tr>\n",
       "      <th>8</th>\n",
       "      <td>rooms</td>\n",
       "      <td>2.0</td>\n",
       "      <td>2.0</td>\n",
       "    </tr>\n",
       "    <tr>\n",
       "      <th>9</th>\n",
       "      <td>total_area</td>\n",
       "      <td>59.6</td>\n",
       "      <td>50.8</td>\n",
       "    </tr>\n",
       "    <tr>\n",
       "      <th>10</th>\n",
       "      <td>kitchen_area</td>\n",
       "      <td>9.2</td>\n",
       "      <td>9.0</td>\n",
       "    </tr>\n",
       "    <tr>\n",
       "      <th>11</th>\n",
       "      <td>living_area</td>\n",
       "      <td>35.3</td>\n",
       "      <td>30.0</td>\n",
       "    </tr>\n",
       "    <tr>\n",
       "      <th>12</th>\n",
       "      <td>studio</td>\n",
       "      <td>0.0</td>\n",
       "      <td>0.0</td>\n",
       "    </tr>\n",
       "    <tr>\n",
       "      <th>13</th>\n",
       "      <td>open_plan</td>\n",
       "      <td>0.0</td>\n",
       "      <td>0.0</td>\n",
       "    </tr>\n",
       "    <tr>\n",
       "      <th>14</th>\n",
       "      <td>balcony</td>\n",
       "      <td>0.0</td>\n",
       "      <td>0.0</td>\n",
       "    </tr>\n",
       "    <tr>\n",
       "      <th>15</th>\n",
       "      <td>ceiling_height</td>\n",
       "      <td>2.7</td>\n",
       "      <td>2.7</td>\n",
       "    </tr>\n",
       "    <tr>\n",
       "      <th>16</th>\n",
       "      <td>is_apartment</td>\n",
       "      <td>0.0</td>\n",
       "      <td>0.0</td>\n",
       "    </tr>\n",
       "    <tr>\n",
       "      <th>17</th>\n",
       "      <td>days_exposition</td>\n",
       "      <td>0.0</td>\n",
       "      <td>95.0</td>\n",
       "    </tr>\n",
       "    <tr>\n",
       "      <th>18</th>\n",
       "      <td>total_images</td>\n",
       "      <td>11.0</td>\n",
       "      <td>9.0</td>\n",
       "    </tr>\n",
       "    <tr>\n",
       "      <th>19</th>\n",
       "      <td>last_price</td>\n",
       "      <td>5600000.0</td>\n",
       "      <td>4500000.0</td>\n",
       "    </tr>\n",
       "  </tbody>\n",
       "</table>\n",
       "</div>"
      ],
      "text/plain": [
       "                   index  0_ноль_дней  0_больше_1_дня\n",
       "0   city_centers_nearest      14928.5         14963.5\n",
       "1       airports_nearest      33372.5         33331.0\n",
       "2          parks_nearest        460.0           460.0\n",
       "3      parks_around_3000          0.0             0.0\n",
       "4          ponds_nearest        503.0           503.0\n",
       "5      ponds_around_3000          1.0             1.0\n",
       "6           floors_total          8.0             9.0\n",
       "7                  floor          4.0             4.0\n",
       "8                  rooms          2.0             2.0\n",
       "9             total_area         59.6            50.8\n",
       "10          kitchen_area          9.2             9.0\n",
       "11           living_area         35.3            30.0\n",
       "12                studio          0.0             0.0\n",
       "13             open_plan          0.0             0.0\n",
       "14               balcony          0.0             0.0\n",
       "15        ceiling_height          2.7             2.7\n",
       "16          is_apartment          0.0             0.0\n",
       "17       days_exposition          0.0            95.0\n",
       "18          total_images         11.0             9.0\n",
       "19            last_price    5600000.0       4500000.0"
      ]
     },
     "execution_count": 479,
     "metadata": {},
     "output_type": "execute_result"
    }
   ],
   "source": [
    "# И объединяю их для сравнения\n",
    "\n",
    "apart = apart_0.merge(apart_1, on='index', suffixes=('_ноль_дней', '_больше_1_дня'))\n",
    "apart"
   ]
  },
  {
   "cell_type": "markdown",
   "metadata": {},
   "source": [
    "**Да, цена таких квартир больше на 1 млн.**\n",
    "- Это не дает 100% ответа, но позволяет сделать следующий шаг.\n",
    "\n",
    "**Следующий шаг**\n",
    "- Оставлю значение \"0\" для таких объявлений, как метку, и вернусь к этому вопросу приизучении гистограмм."
   ]
  },
  {
   "cell_type": "code",
   "execution_count": 480,
   "metadata": {},
   "outputs": [
    {
     "name": "stdout",
     "output_type": "stream",
     "text": [
      "Количество объявлений с 0 дней публикации: 3180\n"
     ]
    }
   ],
   "source": [
    "print('Количество объявлений с 0 дней публикации:', df[df['days_exposition'] == 0]['days_exposition'].count())"
   ]
  },
  {
   "cell_type": "markdown",
   "metadata": {},
   "source": [
    "**Пустые значения заполнены**"
   ]
  },
  {
   "cell_type": "markdown",
   "metadata": {},
   "source": [
    "## Корректировка типов данных"
   ]
  },
  {
   "cell_type": "markdown",
   "metadata": {},
   "source": [
    "### Изменяю типа данных"
   ]
  },
  {
   "cell_type": "markdown",
   "metadata": {},
   "source": [
    "**Просмотрю, какие типы имеют различные переменные:**"
   ]
  },
  {
   "cell_type": "code",
   "execution_count": 481,
   "metadata": {},
   "outputs": [
    {
     "name": "stdout",
     "output_type": "stream",
     "text": [
      "<class 'pandas.core.frame.DataFrame'>\n",
      "Int64Index: 23650 entries, 0 to 23698\n",
      "Data columns (total 22 columns):\n",
      " #   Column                Non-Null Count  Dtype  \n",
      "---  ------                --------------  -----  \n",
      " 0   locality_name         23650 non-null  object \n",
      " 1   city_centers_nearest  23650 non-null  float64\n",
      " 2   airports_nearest      23650 non-null  float64\n",
      " 3   parks_nearest         23650 non-null  float64\n",
      " 4   parks_around_3000     23650 non-null  float64\n",
      " 5   ponds_nearest         23650 non-null  float64\n",
      " 6   ponds_around_3000     23650 non-null  float64\n",
      " 7   floors_total          23650 non-null  float64\n",
      " 8   floor                 23650 non-null  int64  \n",
      " 9   rooms                 23650 non-null  int64  \n",
      " 10  total_area            23650 non-null  float64\n",
      " 11  kitchen_area          23650 non-null  float64\n",
      " 12  living_area           23650 non-null  float64\n",
      " 13  studio                23650 non-null  bool   \n",
      " 14  open_plan             23650 non-null  bool   \n",
      " 15  balcony               23650 non-null  float64\n",
      " 16  ceiling_height        23650 non-null  float64\n",
      " 17  is_apartment          23650 non-null  bool   \n",
      " 18  first_day_exposition  23650 non-null  object \n",
      " 19  days_exposition       23650 non-null  float64\n",
      " 20  total_images          23650 non-null  int64  \n",
      " 21  last_price            23650 non-null  float64\n",
      "dtypes: bool(3), float64(14), int64(3), object(2)\n",
      "memory usage: 3.7+ MB\n"
     ]
    }
   ],
   "source": [
    "df.info()"
   ]
  },
  {
   "cell_type": "code",
   "execution_count": 482,
   "metadata": {},
   "outputs": [
    {
     "data": {
      "text/html": [
       "<div>\n",
       "<style scoped>\n",
       "    .dataframe tbody tr th:only-of-type {\n",
       "        vertical-align: middle;\n",
       "    }\n",
       "\n",
       "    .dataframe tbody tr th {\n",
       "        vertical-align: top;\n",
       "    }\n",
       "\n",
       "    .dataframe thead th {\n",
       "        text-align: right;\n",
       "    }\n",
       "</style>\n",
       "<table border=\"1\" class=\"dataframe\">\n",
       "  <thead>\n",
       "    <tr style=\"text-align: right;\">\n",
       "      <th></th>\n",
       "      <th>locality_name</th>\n",
       "      <th>city_centers_nearest</th>\n",
       "      <th>airports_nearest</th>\n",
       "      <th>parks_nearest</th>\n",
       "      <th>parks_around_3000</th>\n",
       "      <th>ponds_nearest</th>\n",
       "      <th>ponds_around_3000</th>\n",
       "      <th>floors_total</th>\n",
       "      <th>floor</th>\n",
       "      <th>rooms</th>\n",
       "      <th>total_area</th>\n",
       "      <th>kitchen_area</th>\n",
       "      <th>living_area</th>\n",
       "      <th>studio</th>\n",
       "      <th>open_plan</th>\n",
       "      <th>balcony</th>\n",
       "      <th>ceiling_height</th>\n",
       "      <th>is_apartment</th>\n",
       "      <th>first_day_exposition</th>\n",
       "      <th>days_exposition</th>\n",
       "      <th>total_images</th>\n",
       "      <th>last_price</th>\n",
       "    </tr>\n",
       "  </thead>\n",
       "  <tbody>\n",
       "    <tr>\n",
       "      <th>0</th>\n",
       "      <td>Санкт-Петербург</td>\n",
       "      <td>16028.0</td>\n",
       "      <td>18863.0</td>\n",
       "      <td>482.0</td>\n",
       "      <td>1.0</td>\n",
       "      <td>755.0</td>\n",
       "      <td>2.0</td>\n",
       "      <td>16.0</td>\n",
       "      <td>8</td>\n",
       "      <td>3</td>\n",
       "      <td>108.00</td>\n",
       "      <td>25.00</td>\n",
       "      <td>51.00</td>\n",
       "      <td>False</td>\n",
       "      <td>False</td>\n",
       "      <td>0.0</td>\n",
       "      <td>2.70</td>\n",
       "      <td>False</td>\n",
       "      <td>2019-03-07T00:00:00</td>\n",
       "      <td>0.0</td>\n",
       "      <td>20</td>\n",
       "      <td>13000000.0</td>\n",
       "    </tr>\n",
       "    <tr>\n",
       "      <th>1</th>\n",
       "      <td>Шушар</td>\n",
       "      <td>18603.0</td>\n",
       "      <td>12817.0</td>\n",
       "      <td>399.5</td>\n",
       "      <td>0.0</td>\n",
       "      <td>584.5</td>\n",
       "      <td>0.0</td>\n",
       "      <td>11.0</td>\n",
       "      <td>1</td>\n",
       "      <td>1</td>\n",
       "      <td>40.40</td>\n",
       "      <td>11.00</td>\n",
       "      <td>18.60</td>\n",
       "      <td>False</td>\n",
       "      <td>False</td>\n",
       "      <td>2.0</td>\n",
       "      <td>2.63</td>\n",
       "      <td>False</td>\n",
       "      <td>2018-12-04T00:00:00</td>\n",
       "      <td>81.0</td>\n",
       "      <td>7</td>\n",
       "      <td>3350000.0</td>\n",
       "    </tr>\n",
       "    <tr>\n",
       "      <th>2</th>\n",
       "      <td>Санкт-Петербург</td>\n",
       "      <td>13933.0</td>\n",
       "      <td>21741.0</td>\n",
       "      <td>90.0</td>\n",
       "      <td>1.0</td>\n",
       "      <td>574.0</td>\n",
       "      <td>2.0</td>\n",
       "      <td>5.0</td>\n",
       "      <td>4</td>\n",
       "      <td>2</td>\n",
       "      <td>56.00</td>\n",
       "      <td>8.30</td>\n",
       "      <td>34.30</td>\n",
       "      <td>False</td>\n",
       "      <td>False</td>\n",
       "      <td>0.0</td>\n",
       "      <td>2.70</td>\n",
       "      <td>False</td>\n",
       "      <td>2015-08-20T00:00:00</td>\n",
       "      <td>558.0</td>\n",
       "      <td>10</td>\n",
       "      <td>5196000.0</td>\n",
       "    </tr>\n",
       "    <tr>\n",
       "      <th>3</th>\n",
       "      <td>Санкт-Петербург</td>\n",
       "      <td>6800.0</td>\n",
       "      <td>28098.0</td>\n",
       "      <td>84.0</td>\n",
       "      <td>2.0</td>\n",
       "      <td>234.0</td>\n",
       "      <td>3.0</td>\n",
       "      <td>14.0</td>\n",
       "      <td>9</td>\n",
       "      <td>3</td>\n",
       "      <td>159.00</td>\n",
       "      <td>13.00</td>\n",
       "      <td>51.20</td>\n",
       "      <td>False</td>\n",
       "      <td>False</td>\n",
       "      <td>0.0</td>\n",
       "      <td>2.70</td>\n",
       "      <td>False</td>\n",
       "      <td>2015-07-24T00:00:00</td>\n",
       "      <td>424.0</td>\n",
       "      <td>0</td>\n",
       "      <td>64900000.0</td>\n",
       "    </tr>\n",
       "    <tr>\n",
       "      <th>4</th>\n",
       "      <td>Санкт-Петербург</td>\n",
       "      <td>8098.0</td>\n",
       "      <td>31856.0</td>\n",
       "      <td>112.0</td>\n",
       "      <td>2.0</td>\n",
       "      <td>48.0</td>\n",
       "      <td>1.0</td>\n",
       "      <td>14.0</td>\n",
       "      <td>13</td>\n",
       "      <td>2</td>\n",
       "      <td>100.00</td>\n",
       "      <td>41.00</td>\n",
       "      <td>32.00</td>\n",
       "      <td>False</td>\n",
       "      <td>False</td>\n",
       "      <td>0.0</td>\n",
       "      <td>3.03</td>\n",
       "      <td>False</td>\n",
       "      <td>2018-06-19T00:00:00</td>\n",
       "      <td>121.0</td>\n",
       "      <td>2</td>\n",
       "      <td>10000000.0</td>\n",
       "    </tr>\n",
       "    <tr>\n",
       "      <th>5</th>\n",
       "      <td>Янино</td>\n",
       "      <td>28858.0</td>\n",
       "      <td>36559.5</td>\n",
       "      <td>399.5</td>\n",
       "      <td>0.0</td>\n",
       "      <td>444.0</td>\n",
       "      <td>1.0</td>\n",
       "      <td>12.0</td>\n",
       "      <td>5</td>\n",
       "      <td>1</td>\n",
       "      <td>30.40</td>\n",
       "      <td>9.10</td>\n",
       "      <td>14.40</td>\n",
       "      <td>False</td>\n",
       "      <td>False</td>\n",
       "      <td>0.0</td>\n",
       "      <td>2.65</td>\n",
       "      <td>False</td>\n",
       "      <td>2018-09-10T00:00:00</td>\n",
       "      <td>55.0</td>\n",
       "      <td>10</td>\n",
       "      <td>2890000.0</td>\n",
       "    </tr>\n",
       "    <tr>\n",
       "      <th>6</th>\n",
       "      <td>Парголовый</td>\n",
       "      <td>19143.0</td>\n",
       "      <td>52996.0</td>\n",
       "      <td>733.0</td>\n",
       "      <td>0.0</td>\n",
       "      <td>593.0</td>\n",
       "      <td>0.0</td>\n",
       "      <td>26.0</td>\n",
       "      <td>6</td>\n",
       "      <td>1</td>\n",
       "      <td>37.30</td>\n",
       "      <td>14.40</td>\n",
       "      <td>10.60</td>\n",
       "      <td>False</td>\n",
       "      <td>False</td>\n",
       "      <td>1.0</td>\n",
       "      <td>2.64</td>\n",
       "      <td>False</td>\n",
       "      <td>2017-11-02T00:00:00</td>\n",
       "      <td>155.0</td>\n",
       "      <td>6</td>\n",
       "      <td>3700000.0</td>\n",
       "    </tr>\n",
       "    <tr>\n",
       "      <th>7</th>\n",
       "      <td>Санкт-Петербург</td>\n",
       "      <td>11634.0</td>\n",
       "      <td>23982.0</td>\n",
       "      <td>460.0</td>\n",
       "      <td>0.0</td>\n",
       "      <td>503.0</td>\n",
       "      <td>0.0</td>\n",
       "      <td>24.0</td>\n",
       "      <td>22</td>\n",
       "      <td>2</td>\n",
       "      <td>71.60</td>\n",
       "      <td>18.90</td>\n",
       "      <td>51.20</td>\n",
       "      <td>False</td>\n",
       "      <td>False</td>\n",
       "      <td>2.0</td>\n",
       "      <td>2.70</td>\n",
       "      <td>False</td>\n",
       "      <td>2019-04-18T00:00:00</td>\n",
       "      <td>0.0</td>\n",
       "      <td>5</td>\n",
       "      <td>7915000.0</td>\n",
       "    </tr>\n",
       "    <tr>\n",
       "      <th>8</th>\n",
       "      <td>Муриный</td>\n",
       "      <td>21888.0</td>\n",
       "      <td>51553.0</td>\n",
       "      <td>399.5</td>\n",
       "      <td>0.0</td>\n",
       "      <td>133.0</td>\n",
       "      <td>2.0</td>\n",
       "      <td>27.0</td>\n",
       "      <td>26</td>\n",
       "      <td>1</td>\n",
       "      <td>33.16</td>\n",
       "      <td>8.81</td>\n",
       "      <td>15.43</td>\n",
       "      <td>False</td>\n",
       "      <td>False</td>\n",
       "      <td>0.0</td>\n",
       "      <td>2.70</td>\n",
       "      <td>False</td>\n",
       "      <td>2018-05-23T00:00:00</td>\n",
       "      <td>189.0</td>\n",
       "      <td>20</td>\n",
       "      <td>2900000.0</td>\n",
       "    </tr>\n",
       "    <tr>\n",
       "      <th>9</th>\n",
       "      <td>Санкт-Петербург</td>\n",
       "      <td>15008.0</td>\n",
       "      <td>50898.0</td>\n",
       "      <td>460.0</td>\n",
       "      <td>0.0</td>\n",
       "      <td>503.0</td>\n",
       "      <td>0.0</td>\n",
       "      <td>9.0</td>\n",
       "      <td>7</td>\n",
       "      <td>3</td>\n",
       "      <td>61.00</td>\n",
       "      <td>6.50</td>\n",
       "      <td>43.60</td>\n",
       "      <td>False</td>\n",
       "      <td>False</td>\n",
       "      <td>2.0</td>\n",
       "      <td>2.50</td>\n",
       "      <td>False</td>\n",
       "      <td>2017-02-26T00:00:00</td>\n",
       "      <td>289.0</td>\n",
       "      <td>18</td>\n",
       "      <td>5400000.0</td>\n",
       "    </tr>\n",
       "  </tbody>\n",
       "</table>\n",
       "</div>"
      ],
      "text/plain": [
       "     locality_name  city_centers_nearest  airports_nearest  parks_nearest  \\\n",
       "0  Санкт-Петербург               16028.0           18863.0          482.0   \n",
       "1            Шушар               18603.0           12817.0          399.5   \n",
       "2  Санкт-Петербург               13933.0           21741.0           90.0   \n",
       "3  Санкт-Петербург                6800.0           28098.0           84.0   \n",
       "4  Санкт-Петербург                8098.0           31856.0          112.0   \n",
       "5            Янино               28858.0           36559.5          399.5   \n",
       "6       Парголовый               19143.0           52996.0          733.0   \n",
       "7  Санкт-Петербург               11634.0           23982.0          460.0   \n",
       "8          Муриный               21888.0           51553.0          399.5   \n",
       "9  Санкт-Петербург               15008.0           50898.0          460.0   \n",
       "\n",
       "   parks_around_3000  ponds_nearest  ponds_around_3000  floors_total  floor  \\\n",
       "0                1.0          755.0                2.0          16.0      8   \n",
       "1                0.0          584.5                0.0          11.0      1   \n",
       "2                1.0          574.0                2.0           5.0      4   \n",
       "3                2.0          234.0                3.0          14.0      9   \n",
       "4                2.0           48.0                1.0          14.0     13   \n",
       "5                0.0          444.0                1.0          12.0      5   \n",
       "6                0.0          593.0                0.0          26.0      6   \n",
       "7                0.0          503.0                0.0          24.0     22   \n",
       "8                0.0          133.0                2.0          27.0     26   \n",
       "9                0.0          503.0                0.0           9.0      7   \n",
       "\n",
       "   rooms  total_area  kitchen_area  living_area  studio  open_plan  balcony  \\\n",
       "0      3      108.00         25.00        51.00   False      False      0.0   \n",
       "1      1       40.40         11.00        18.60   False      False      2.0   \n",
       "2      2       56.00          8.30        34.30   False      False      0.0   \n",
       "3      3      159.00         13.00        51.20   False      False      0.0   \n",
       "4      2      100.00         41.00        32.00   False      False      0.0   \n",
       "5      1       30.40          9.10        14.40   False      False      0.0   \n",
       "6      1       37.30         14.40        10.60   False      False      1.0   \n",
       "7      2       71.60         18.90        51.20   False      False      2.0   \n",
       "8      1       33.16          8.81        15.43   False      False      0.0   \n",
       "9      3       61.00          6.50        43.60   False      False      2.0   \n",
       "\n",
       "   ceiling_height  is_apartment first_day_exposition  days_exposition  \\\n",
       "0            2.70         False  2019-03-07T00:00:00              0.0   \n",
       "1            2.63         False  2018-12-04T00:00:00             81.0   \n",
       "2            2.70         False  2015-08-20T00:00:00            558.0   \n",
       "3            2.70         False  2015-07-24T00:00:00            424.0   \n",
       "4            3.03         False  2018-06-19T00:00:00            121.0   \n",
       "5            2.65         False  2018-09-10T00:00:00             55.0   \n",
       "6            2.64         False  2017-11-02T00:00:00            155.0   \n",
       "7            2.70         False  2019-04-18T00:00:00              0.0   \n",
       "8            2.70         False  2018-05-23T00:00:00            189.0   \n",
       "9            2.50         False  2017-02-26T00:00:00            289.0   \n",
       "\n",
       "   total_images  last_price  \n",
       "0            20  13000000.0  \n",
       "1             7   3350000.0  \n",
       "2            10   5196000.0  \n",
       "3             0  64900000.0  \n",
       "4             2  10000000.0  \n",
       "5            10   2890000.0  \n",
       "6             6   3700000.0  \n",
       "7             5   7915000.0  \n",
       "8            20   2900000.0  \n",
       "9            18   5400000.0  "
      ]
     },
     "execution_count": 482,
     "metadata": {},
     "output_type": "execute_result"
    }
   ],
   "source": [
    "df.head(10)"
   ]
  },
  {
   "cell_type": "markdown",
   "metadata": {},
   "source": [
    "**Вывод**\n",
    "- Более половины столбцов логично перевести из типа float в тип int.\n",
    "- Например, расстояние до центра.\n",
    "- Обоснование: здравый смысл)) "
   ]
  },
  {
   "cell_type": "markdown",
   "metadata": {},
   "source": [
    "**Перевожу значения в целочисленный тип:**"
   ]
  },
  {
   "cell_type": "code",
   "execution_count": 483,
   "metadata": {},
   "outputs": [],
   "source": [
    "df['city_centers_nearest'] = df['city_centers_nearest'].astype('int') # Здесь notnull() позволяет исключить при замене данных NaN значения, т.к. их невозможно перевести в int64\n",
    "df['airports_nearest'] = df['airports_nearest'].astype('int')\n",
    "df['parks_nearest'] = df['parks_nearest'].astype('int')\n",
    "df['parks_around_3000'] = df['parks_around_3000'].astype('int')\n",
    "df['ponds_nearest'] = df['ponds_nearest'].astype('int')\n",
    "df['ponds_around_3000'] = df['ponds_around_3000'].astype('int')\n",
    "df['floors_total'] = df['floors_total'].astype('int')\n",
    "df['balcony'] = df['balcony'].astype('int')\n",
    "df['days_exposition'] = df['days_exposition'].astype('int')\n",
    "df['last_price'] = df['last_price'].astype('int')"
   ]
  },
  {
   "cell_type": "markdown",
   "metadata": {},
   "source": [
    "**Проверяю результат:**"
   ]
  },
  {
   "cell_type": "code",
   "execution_count": 484,
   "metadata": {},
   "outputs": [
    {
     "name": "stdout",
     "output_type": "stream",
     "text": [
      "<class 'pandas.core.frame.DataFrame'>\n",
      "Int64Index: 23650 entries, 0 to 23698\n",
      "Data columns (total 22 columns):\n",
      " #   Column                Non-Null Count  Dtype  \n",
      "---  ------                --------------  -----  \n",
      " 0   locality_name         23650 non-null  object \n",
      " 1   city_centers_nearest  23650 non-null  int64  \n",
      " 2   airports_nearest      23650 non-null  int64  \n",
      " 3   parks_nearest         23650 non-null  int64  \n",
      " 4   parks_around_3000     23650 non-null  int64  \n",
      " 5   ponds_nearest         23650 non-null  int64  \n",
      " 6   ponds_around_3000     23650 non-null  int64  \n",
      " 7   floors_total          23650 non-null  int64  \n",
      " 8   floor                 23650 non-null  int64  \n",
      " 9   rooms                 23650 non-null  int64  \n",
      " 10  total_area            23650 non-null  float64\n",
      " 11  kitchen_area          23650 non-null  float64\n",
      " 12  living_area           23650 non-null  float64\n",
      " 13  studio                23650 non-null  bool   \n",
      " 14  open_plan             23650 non-null  bool   \n",
      " 15  balcony               23650 non-null  int64  \n",
      " 16  ceiling_height        23650 non-null  float64\n",
      " 17  is_apartment          23650 non-null  bool   \n",
      " 18  first_day_exposition  23650 non-null  object \n",
      " 19  days_exposition       23650 non-null  int64  \n",
      " 20  total_images          23650 non-null  int64  \n",
      " 21  last_price            23650 non-null  int64  \n",
      "dtypes: bool(3), float64(4), int64(13), object(2)\n",
      "memory usage: 3.7+ MB\n"
     ]
    }
   ],
   "source": [
    "df.info()"
   ]
  },
  {
   "cell_type": "markdown",
   "metadata": {},
   "source": [
    "**Замена успешно завершена**"
   ]
  },
  {
   "cell_type": "markdown",
   "metadata": {},
   "source": [
    "### Перевожу строку в дату и время"
   ]
  },
  {
   "cell_type": "code",
   "execution_count": 485,
   "metadata": {},
   "outputs": [],
   "source": [
    "# Код, который переводит строку в тип datetime64\n",
    "\n",
    "df['first_day_exposition'] = pd.to_datetime(df['first_day_exposition'], format='%Y-%m-%dT%H:%M:%S')"
   ]
  },
  {
   "cell_type": "markdown",
   "metadata": {},
   "source": [
    "**Проверка результат:**"
   ]
  },
  {
   "cell_type": "code",
   "execution_count": 486,
   "metadata": {},
   "outputs": [
    {
     "name": "stdout",
     "output_type": "stream",
     "text": [
      "<class 'pandas.core.frame.DataFrame'>\n",
      "Int64Index: 23650 entries, 0 to 23698\n",
      "Data columns (total 22 columns):\n",
      " #   Column                Non-Null Count  Dtype         \n",
      "---  ------                --------------  -----         \n",
      " 0   locality_name         23650 non-null  object        \n",
      " 1   city_centers_nearest  23650 non-null  int64         \n",
      " 2   airports_nearest      23650 non-null  int64         \n",
      " 3   parks_nearest         23650 non-null  int64         \n",
      " 4   parks_around_3000     23650 non-null  int64         \n",
      " 5   ponds_nearest         23650 non-null  int64         \n",
      " 6   ponds_around_3000     23650 non-null  int64         \n",
      " 7   floors_total          23650 non-null  int64         \n",
      " 8   floor                 23650 non-null  int64         \n",
      " 9   rooms                 23650 non-null  int64         \n",
      " 10  total_area            23650 non-null  float64       \n",
      " 11  kitchen_area          23650 non-null  float64       \n",
      " 12  living_area           23650 non-null  float64       \n",
      " 13  studio                23650 non-null  bool          \n",
      " 14  open_plan             23650 non-null  bool          \n",
      " 15  balcony               23650 non-null  int64         \n",
      " 16  ceiling_height        23650 non-null  float64       \n",
      " 17  is_apartment          23650 non-null  bool          \n",
      " 18  first_day_exposition  23650 non-null  datetime64[ns]\n",
      " 19  days_exposition       23650 non-null  int64         \n",
      " 20  total_images          23650 non-null  int64         \n",
      " 21  last_price            23650 non-null  int64         \n",
      "dtypes: bool(3), datetime64[ns](1), float64(4), int64(13), object(1)\n",
      "memory usage: 3.7+ MB\n"
     ]
    }
   ],
   "source": [
    "df.info()"
   ]
  },
  {
   "cell_type": "markdown",
   "metadata": {},
   "source": [
    "**Тип `str64` успешно заменен на `datetime64`**"
   ]
  },
  {
   "cell_type": "markdown",
   "metadata": {},
   "source": [
    "## Подытожим"
   ]
  },
  {
   "cell_type": "markdown",
   "metadata": {},
   "source": [
    "### Сообщить поставщику датасета\n",
    "\n",
    "1. Добавтье в столбец \"кол-во балконов\" 0, как значение по умолчанию (и в интерфейс сервиса конечно).\n",
    "2. Добавьте алгоритм, который будет ставить 0 в значение \"кол-во дней публикации\", если объявление снято в тот ж день, что и опубликовано.\n",
    "3. Добавьте механику, которая будет ставить значения \"расстояние до аэропорта\" и \"расстояние до центра\" по-умолчанию для населенных пунктов Санкт-Петербурга. Т.к. для всех зданий в этих городах оно +- одинаковое. Разница в 1-2 километра не имеет значения."
   ]
  },
  {
   "cell_type": "markdown",
   "metadata": {},
   "source": [
    "# Шаг 3. Посчитайте и добавьте в таблицу"
   ]
  },
  {
   "cell_type": "markdown",
   "metadata": {},
   "source": [
    "### Столбец 23. Цена квадратного метра"
   ]
  },
  {
   "cell_type": "markdown",
   "metadata": {},
   "source": [
    "Цены квадратного метра — это цена продажи, разделенная на площадь."
   ]
  },
  {
   "cell_type": "code",
   "execution_count": 487,
   "metadata": {},
   "outputs": [],
   "source": [
    "# Эта функция принимает строку и делит первое значение на второе, результат деления возвращает\n",
    "\n",
    "def price_m2(row):\n",
    "    return row['last_price'] / row['total_area']"
   ]
  },
  {
   "cell_type": "code",
   "execution_count": 488,
   "metadata": {},
   "outputs": [],
   "source": [
    "df['price_m2'] = df.apply(price_m2, axis=1) # Вызываю функцию для расчет кв.м.\n",
    "df['price_m2'] = df['price_m2'].astype('int') # Полученному столбцу изменяю тип переменной на int"
   ]
  },
  {
   "cell_type": "markdown",
   "metadata": {},
   "source": [
    "### Столбец 24. Этаж квартиры"
   ]
  },
  {
   "cell_type": "markdown",
   "metadata": {},
   "source": [
    "**Логика расчета:**\n",
    "- Если этаж квартиры = 1, то категория «первый»\n",
    "- Если этаж квартиры = всего этажей в доме, то категория «последний»\n",
    "- Иначе «другой»"
   ]
  },
  {
   "cell_type": "code",
   "execution_count": 489,
   "metadata": {},
   "outputs": [],
   "source": [
    "# Функция реализет логику, описанную выше\n",
    "\n",
    "def floor_category(row):\n",
    "    if row['floor'] == 1:\n",
    "        return 'первый'\n",
    "    if row['floor'] == row['floors_total']:\n",
    "        return 'последний'\n",
    "    else:\n",
    "        return 'другой'"
   ]
  },
  {
   "cell_type": "code",
   "execution_count": 490,
   "metadata": {},
   "outputs": [],
   "source": [
    "# Вызываю функция для категоризации\n",
    "\n",
    "df['floor_category'] = df.apply(floor_category, axis=1)"
   ]
  },
  {
   "cell_type": "markdown",
   "metadata": {},
   "source": [
    "### Столбец 25. Отношение жилой площади к общей"
   ]
  },
  {
   "cell_type": "markdown",
   "metadata": {},
   "source": [
    "Отношение жилой площади к общей — это результат деления первой на вторую"
   ]
  },
  {
   "cell_type": "code",
   "execution_count": 491,
   "metadata": {},
   "outputs": [],
   "source": [
    "# Эта функция принимает строку и делит первое значение на второе, результат деления возвращает\n",
    "\n",
    "def ratio_area_living_to_total(row):\n",
    "    return row['living_area'] / row['total_area']"
   ]
  },
  {
   "cell_type": "code",
   "execution_count": 492,
   "metadata": {},
   "outputs": [],
   "source": [
    "# Вызываю функцию\n",
    "\n",
    "df['ratio_area_living_to_total'] = df.apply(ratio_area_living_to_total, axis=1)"
   ]
  },
  {
   "cell_type": "markdown",
   "metadata": {},
   "source": [
    "### Столбец 26. Отношение площади кухни к общей"
   ]
  },
  {
   "cell_type": "markdown",
   "metadata": {},
   "source": [
    "Результат деления первой на вторую"
   ]
  },
  {
   "cell_type": "code",
   "execution_count": 493,
   "metadata": {},
   "outputs": [],
   "source": [
    "def ratio_area_kitchen_to_total(row):\n",
    "    return row['kitchen_area'] / row['total_area']"
   ]
  },
  {
   "cell_type": "code",
   "execution_count": 494,
   "metadata": {},
   "outputs": [],
   "source": [
    "df['ratio_area_kitchen_to_total'] = df.apply(ratio_area_kitchen_to_total, axis=1)"
   ]
  },
  {
   "cell_type": "markdown",
   "metadata": {},
   "source": [
    "### Столбцы 27, 28, 29. День, месяц, год публикации объявления"
   ]
  },
  {
   "cell_type": "code",
   "execution_count": 495,
   "metadata": {},
   "outputs": [],
   "source": [
    "# Получаю день публикации объявления\n",
    "\n",
    "df['day_exposition'] = df['first_day_exposition'].dt.weekday"
   ]
  },
  {
   "cell_type": "code",
   "execution_count": 496,
   "metadata": {},
   "outputs": [],
   "source": [
    "# Получаю месяц публикации\n",
    "\n",
    "df['month_exposition'] = df['first_day_exposition'].dt.month"
   ]
  },
  {
   "cell_type": "code",
   "execution_count": 497,
   "metadata": {},
   "outputs": [],
   "source": [
    "# Получаю год публикации\n",
    "\n",
    "df['year_exposition'] = df['first_day_exposition'].dt.year"
   ]
  },
  {
   "cell_type": "markdown",
   "metadata": {},
   "source": [
    "**Вывод** (по просьбе наставника)\n",
    "\n",
    "1. Честно говоря, я не знаю, что писать. Мне кажется, требование ЯП к тому, чтобы писать вывод на каждом шаге, здесь неприменимо. \n",
    "2. Потому что на этом шаге я выполняю, по сути, простейшие математические операции, а не анализ. Это как делать вывод из операции 500 / 10 = 50.\n",
    "3. Никакого **полезного** вывода здесь не могу предложить."
   ]
  },
  {
   "cell_type": "markdown",
   "metadata": {},
   "source": [
    "# Шаг 4. Исследовательский анализ данных"
   ]
  },
  {
   "cell_type": "code",
   "execution_count": 498,
   "metadata": {},
   "outputs": [],
   "source": [
    "import matplotlib.pyplot as plt"
   ]
  },
  {
   "cell_type": "markdown",
   "metadata": {},
   "source": [
    "## Блок задач 1 (задачи 1-3). Исследование гистограмм"
   ]
  },
  {
   "cell_type": "markdown",
   "metadata": {},
   "source": [
    "**Превью**\n",
    "1. Изучите следующие параметры: площадь, цена, число комнат, высота потолков. Постройте гистограммы.\n",
    "2. Изучите время продажи квартиры.\n",
    "3. Уберите редкие и выбивающиеся значения. Опишите, какие особенности обнаружили."
   ]
  },
  {
   "cell_type": "markdown",
   "metadata": {},
   "source": [
    "### 1. Изучаю общую площадь"
   ]
  },
  {
   "cell_type": "code",
   "execution_count": 499,
   "metadata": {},
   "outputs": [
    {
     "data": {
      "text/plain": [
       "<matplotlib.axes._subplots.AxesSubplot at 0x7f527948f510>"
      ]
     },
     "execution_count": 499,
     "metadata": {},
     "output_type": "execute_result"
    },
    {
     "data": {
      "image/png": "[encoded data removed]",
      "text/plain": [
       "<Figure size 432x288 with 1 Axes>"
      ]
     },
     "metadata": {
      "needs_background": "light"
     },
     "output_type": "display_data"
    }
   ],
   "source": [
    "df['total_area'].hist(bins=200, range=(0, 200))"
   ]
  },
  {
   "cell_type": "markdown",
   "metadata": {},
   "source": [
    "#### Выводы\n",
    "\n",
    "1. Диграмма шумная.\n",
    "2. Видны 3 пика, примерно от 30 до 40, от 40 до 48, и от 50 до 60.\n",
    "3. На данном этапе затрудняюсь назвать что то аномалиями, т.к. на диаграмма шумная и рваная, поэтому любой пик можно трактовать и как аномалию и как некий обоснованный пик значений.\n",
    "\n",
    "#### Дальнейшие действия\n",
    "1. Изучу гистограммы отдельно для 1, 2, 3 — комнатных квартир"
   ]
  },
  {
   "cell_type": "code",
   "execution_count": 500,
   "metadata": {
    "scrolled": true
   },
   "outputs": [
    {
     "name": "stdout",
     "output_type": "stream",
     "text": [
      "Графики для 1, 2 и 3-х комнатных квартир\n"
     ]
    },
    {
     "data": {
      "text/plain": [
       "<matplotlib.axes._subplots.AxesSubplot at 0x7f527829be10>"
      ]
     },
     "execution_count": 500,
     "metadata": {},
     "output_type": "execute_result"
    },
    {
     "data": {
      "image/png": "[encoded data removed]",
      "text/plain": [
       "<Figure size 1440x360 with 3 Axes>"
      ]
     },
     "metadata": {
      "needs_background": "light"
     },
     "output_type": "display_data"
    }
   ],
   "source": [
    "plt.figure(figsize=(20, 5))\n",
    "\n",
    "print('Графики для 1, 2 и 3-х комнатных квартир')\n",
    "plt.subplot(1, 3, 1)\n",
    "df[df['rooms'] == 1]['total_area'].hist(bins=100, range=(0, 100))\n",
    "plt.subplot(1, 3, 2)\n",
    "df[df['rooms'] == 2]['total_area'].hist(bins=100, range=(25, 125))\n",
    "plt.subplot(1, 3, 3)\n",
    "df[df['rooms'] == 3]['total_area'].hist(bins=175, range=(25, 200))"
   ]
  },
  {
   "cell_type": "markdown",
   "metadata": {},
   "source": [
    "#### Выводы\n",
    "1. На всех 3-х гистаграммах повторяются заметные пики примерно в диапазоне \"чуть выше минимума\".\n",
    "2. На второй гистограмме виде \"провал\" примерно на 50м2.\n",
    "3. На третьей гистограмме есть явная аномалия в диапазон 40-45м2. Назову ее \"Аномалия 42\", чтобы не запутаться.\n",
    "4. Все гистограммы по-прежнему шумные.\n",
    "\n",
    "#### Гипотеза\n",
    "1. Предположу, что повторяющиеся пики \"чуть выше минимума\" — это хрущевки.\n",
    "\n",
    "#### Более глобальные гипотезы\n",
    "Диаграмма сохраняет шумность даже при разбивке на 1,2,3-комн. квартиры. Из этого выводы.\n",
    "1. Или датасет гавно, и он собран с систематическими ошибками. Тогда его анализ бессмысленен.\n",
    "2. Или в этих пиках есть логика. Например то, что дома строились большими сериями с типичными значениями площади в них.\n",
    "\n",
    "#### Дальнейшие действия\n",
    "Уточню диапазон пиков и проверю гипотезу о хрущевках."
   ]
  },
  {
   "cell_type": "code",
   "execution_count": 501,
   "metadata": {
    "scrolled": true
   },
   "outputs": [
    {
     "data": {
      "text/plain": [
       "<matplotlib.axes._subplots.AxesSubplot at 0x7f5279398390>"
      ]
     },
     "execution_count": 501,
     "metadata": {},
     "output_type": "execute_result"
    },
    {
     "data": {
      "image/png": "[encoded data removed]",
      "text/plain": [
       "<Figure size 1440x360 with 3 Axes>"
      ]
     },
     "metadata": {
      "needs_background": "light"
     },
     "output_type": "display_data"
    }
   ],
   "source": [
    "plt.figure(figsize=(20, 5))\n",
    "\n",
    "plt.subplot(1, 3, 1)\n",
    "df[df['rooms'] == 1]['total_area'].hist(bins=50, range=(10, 60))\n",
    "plt.subplot(1, 3, 2)\n",
    "df[df['rooms'] == 2]['total_area'].hist(bins=30, range=(30, 60))\n",
    "plt.subplot(1, 3, 3)\n",
    "df[df['rooms'] == 3]['total_area'].hist(bins=25, range=(50, 75))"
   ]
  },
  {
   "cell_type": "markdown",
   "metadata": {},
   "source": [
    "**Выводы**\n",
    "1. Однокомнатные квартиры, пик 31-32м2\n",
    "2. Двухкомнатные, пик 44-45м2\n",
    "3. Трехкомнатные, пик 60-62м2\n",
    "\n",
    "**Дальнейшие действия: проверю высоту домов в полученных диапазонах. Если это хрущевки, этажей будет не более 5.**"
   ]
  },
  {
   "cell_type": "code",
   "execution_count": 502,
   "metadata": {},
   "outputs": [
    {
     "data": {
      "text/plain": [
       "5.0"
      ]
     },
     "execution_count": 502,
     "metadata": {},
     "output_type": "execute_result"
    }
   ],
   "source": [
    "df.query('rooms == 1 and (31 <= total_area <= 32)')['floors_total'].median()"
   ]
  },
  {
   "cell_type": "code",
   "execution_count": 503,
   "metadata": {},
   "outputs": [
    {
     "data": {
      "text/plain": [
       "5.0"
      ]
     },
     "execution_count": 503,
     "metadata": {},
     "output_type": "execute_result"
    }
   ],
   "source": [
    "df.query('rooms == 2 and (44 <= total_area <= 45)')['floors_total'].median()"
   ]
  },
  {
   "cell_type": "code",
   "execution_count": 504,
   "metadata": {},
   "outputs": [
    {
     "data": {
      "text/plain": [
       "9.0"
      ]
     },
     "execution_count": 504,
     "metadata": {},
     "output_type": "execute_result"
    }
   ],
   "source": [
    "df.query('rooms == 3 and (60 <= total_area <= 61)')['floors_total'].median()"
   ]
  },
  {
   "cell_type": "markdown",
   "metadata": {},
   "source": [
    "#### Вывод\n",
    "1. Гипотеза не подвтерждается для 3-х комнатных квартир.\n",
    "2. Но верна для 1 и 2-комнатных квартир.\n",
    "\n",
    "\n",
    "#### Гипотеза\n",
    "1. Для всех хрущевок есть типичный параметр: площадь кухни не превышает 6,3м2\n",
    "\n",
    "#### Дальнейшие действия\n",
    "1. Посчитаю площадь кухни для выбранных диапазонов"
   ]
  },
  {
   "cell_type": "code",
   "execution_count": 505,
   "metadata": {},
   "outputs": [
    {
     "data": {
      "text/plain": [
       "6.3"
      ]
     },
     "execution_count": 505,
     "metadata": {},
     "output_type": "execute_result"
    }
   ],
   "source": [
    "df.query('rooms == 1 and (31 <= total_area <= 32)')['kitchen_area'].median()"
   ]
  },
  {
   "cell_type": "code",
   "execution_count": 506,
   "metadata": {},
   "outputs": [
    {
     "data": {
      "text/plain": [
       "6.3"
      ]
     },
     "execution_count": 506,
     "metadata": {},
     "output_type": "execute_result"
    }
   ],
   "source": [
    "df.query('rooms == 2 and (44 <= total_area <= 45)')['kitchen_area'].median()"
   ]
  },
  {
   "cell_type": "code",
   "execution_count": 507,
   "metadata": {},
   "outputs": [
    {
     "data": {
      "text/plain": [
       "6.5"
      ]
     },
     "execution_count": 507,
     "metadata": {},
     "output_type": "execute_result"
    }
   ],
   "source": [
    "df.query('rooms == 3 and (60 <= total_area <= 61)')['kitchen_area'].median()"
   ]
  },
  {
   "cell_type": "markdown",
   "metadata": {},
   "source": [
    "#### Выводы\n",
    "Гипотеза подтверждается для 1 и 2-комнатных квартир, но не для 3-комнатных. Несмотря на близость значения 6.5 и 6.3, между ними есть принципиальная разница. Хрущевок с площадью кухни больше 6.3 не существует.\n",
    "\n",
    "#### Гипотеза\n",
    "Исходя из анализа и внешних источников, полагаю, что пики на гистограммах обоснованы тем, что исторически Санкт-Петербург застраивался сериями домов с типичными значениями площади. Каждая такая серия и дает пик на графике.\n",
    "\n",
    "#### Проверяю гипотезу"
   ]
  },
  {
   "cell_type": "markdown",
   "metadata": {},
   "source": [
    "#### Что я сделал на этом этапе анализа (черновик)\n",
    "1. Я исследовал еще несколько пиков, проверяя типичные значения этажности, площади кухни, ванной и общей.\n",
    "2. В процессе я не обнаружел каких то системных ошибок или аномалий. \n",
    "3. Вопрос \"На гистограмме это пики, или аномалии?\" оставался открытым.\n",
    "2. Поэтому я обратился к внешним источникам, чтобы узнать особенности строительства домов в Санкт-Петербурге и сформулировал следующие выводы"
   ]
  },
  {
   "cell_type": "markdown",
   "metadata": {},
   "source": [
    "#### Строю гистограммы для хрущевок, брежневок и современных домов"
   ]
  },
  {
   "cell_type": "markdown",
   "metadata": {},
   "source": [
    "Принципиально разделяю их таким образом:\n",
    "1. Хрущевки — это дом максимум 5 этажей, площадь кухни меньеш 6\n",
    "2. Брежневки — это дом выше 5 этажей, площадь кухни меньше 7\n",
    "3. Современные — площадь кухни выше 7\n",
    "\n",
    "Справка:\n",
    "Эти цифры я поучил, обратившись к внешним источникам. Маленькая кухня (в основном 6.3м2) считается главным недостатком типовой советской застройки. В большинстве современных домов она больше, порядка 9м2. Поэтому для сегментации домов я использую именно этот параметр."
   ]
  },
  {
   "cell_type": "markdown",
   "metadata": {},
   "source": [
    "Я рассмотрел этот вариант и пришел к выводу, что лучше условие \"== 5\" этажей, а не \"< 5\".\n",
    "\n",
    "Причина 1. Потому что все хрущевки, кроме самых первых и последних серий, имели 5 этажей. Первые серии имели 4 этажа, их было построено мало, и сейчас уже большинство снесены. А именно хрущевки в 7-9 этажей — невероятная редкость.\n",
    "\n",
    "Причина 2. Существуют варианты современного строительства с количеством этажей менее 5. Например, элитные 4-этажные дома с всокими потолками.\n",
    "    \n",
    "Руководствуясь этими причинами, и проведя несколько экспериментов, я пришел к выводу, что хрущевки лучше всего выдеяет кобминация условий \"этажей == 5 и площадь кухни менее 6\".\n"
   ]
  },
  {
   "cell_type": "code",
   "execution_count": 508,
   "metadata": {},
   "outputs": [
    {
     "data": {
      "text/plain": [
       "<matplotlib.axes._subplots.AxesSubplot at 0x7f5278d3c410>"
      ]
     },
     "execution_count": 508,
     "metadata": {},
     "output_type": "execute_result"
    },
    {
     "data": {
      "image/png": "[encoded data removed]",
      "text/plain": [
       "<Figure size 1440x360 with 3 Axes>"
      ]
     },
     "metadata": {
      "needs_background": "light"
     },
     "output_type": "display_data"
    }
   ],
   "source": [
    "plt.figure(figsize=(20, 5))\n",
    "\n",
    "plt.subplot(1, 3, 1) # КОММЕНТАРИЙ ОТ НАСТАВНИКА: для хрущевок может условие < 5 этажей?\n",
    "df.query('floors_total == 5 and kitchen_area <= 6 and locality_name == \"Санкт-Петербург\"')['total_area'].hist(bins=50, range=(20, 70))\n",
    "plt.subplot(1, 3, 2)\n",
    "df.query('floors_total > 5 and kitchen_area <= 7 and locality_name == \"Санкт-Петербург\"')['total_area'].hist(bins=70, range=(20, 100))\n",
    "plt.subplot(1, 3, 3)\n",
    "df.query('kitchen_area > 7 and locality_name == \"Санкт-Петербург\"')['total_area'].hist(bins=180, range=(20, 200))"
   ]
  },
  {
   "cell_type": "markdown",
   "metadata": {},
   "source": [
    "#### Выводы\n",
    "1. На первом графике я вижу 3 логичных пика. Это 1, 2 и 3-комнатные квартиры в хрущевках. Пики идеально попадают на типовую площадь. Например, 1-комнатные в хрущевке — это 31-33м2.\n",
    "2. На втором графике также есть 3 пика (сдвинутые немного вправо), плюс добавляется 4-й. Это подтверждает гипотезу, что это брежневки. Именно в этих домах появились 4-комнатные квартиры. Также их площадь была немного больше.\n",
    "3. На 3-м графике почти нормальное распределение. Это логично, без типового строительства каждый застройщик выбирает желаемую планировку будущих квартир. Эта гистограмма по прежнему шумная, но причина этого в малом кол-ве значений.\n",
    "4. На 3-м графике есть провал примерно на 50м2. Прежде, чем деать окончательные выводы, исследую это.\n",
    "\n",
    "#### Построю гистограммы современной застройки, разделив их на 1, 2, 3-комнатные квартиры\n",
    "\n",
    "\n",
    "Причина рваности графика в том, что он являетс ярезультатом наложения множества гистограмм"
   ]
  },
  {
   "cell_type": "code",
   "execution_count": 509,
   "metadata": {},
   "outputs": [
    {
     "data": {
      "text/plain": [
       "<matplotlib.axes._subplots.AxesSubplot at 0x7f5277ffea50>"
      ]
     },
     "execution_count": 509,
     "metadata": {},
     "output_type": "execute_result"
    },
    {
     "data": {
      "image/png": "[encoded data removed]",
      "text/plain": [
       "<Figure size 1440x360 with 3 Axes>"
      ]
     },
     "metadata": {
      "needs_background": "light"
     },
     "output_type": "display_data"
    }
   ],
   "source": [
    "plt.figure(figsize=(20, 5))\n",
    "\n",
    "plt.subplot(1, 3, 1)\n",
    "df.query('kitchen_area > 7 and rooms == 1 and locality_name == \"Санкт-Петербург\"')['total_area'].hist(bins=80, range=(20, 100))\n",
    "plt.subplot(1, 3, 2)\n",
    "df.query('kitchen_area > 7 and rooms == 2 and locality_name == \"Санкт-Петербург\"')['total_area'].hist(bins=120, range=(20, 140))\n",
    "plt.subplot(1, 3, 3)\n",
    "df.query('kitchen_area > 7 and rooms == 3 and locality_name == \"Санкт-Петербург\"')['total_area'].hist(bins=180, range=(20, 200))"
   ]
  },
  {
   "cell_type": "markdown",
   "metadata": {},
   "source": [
    "#### Выводы\n",
    "1. Вот это уже похоже на правду. Распредление на всех графиков тяготеет к нормальному.\n",
    "2. Шумность 2-го и 3-го графика объясняется прежде всего малым кол-вом значений.\n",
    "\n",
    "#### Гипотеза о пиках и провалах\n",
    "1. На втором графике виден провал в районе 50м2. Видно, что провал на общем графике получился благодаря именно 2-комнатным квартирам. Логически это легко объяснимо. \n",
    "2. 50м2 для однушки — это много, для трешки — мало, а для 2-комнатной квартиры идеально все, что выше психологического порога в 50м2.\n",
    "3. Предполагаю, что в этом же причина пиков после 35, 60, 75, 80, 90, 100 и 120м2.\n",
    "4. Выводы по Санкт-Петербургу справедливы и для Ленинградской области, но с условием того, что старого жилог офонда в области больше,чем в Санкт-Петербурге"
   ]
  },
  {
   "cell_type": "markdown",
   "metadata": {},
   "source": [
    "### Аномалия total_area(40-42) (1)"
   ]
  },
  {
   "cell_type": "code",
   "execution_count": 510,
   "metadata": {},
   "outputs": [
    {
     "data": {
      "text/plain": [
       "<matplotlib.axes._subplots.AxesSubplot at 0x7f5277e7c450>"
      ]
     },
     "execution_count": 510,
     "metadata": {},
     "output_type": "execute_result"
    },
    {
     "data": {
      "image/png": "[encoded data removed]",
      "text/plain": [
       "<Figure size 432x288 with 1 Axes>"
      ]
     },
     "metadata": {
      "needs_background": "light"
     },
     "output_type": "display_data"
    }
   ],
   "source": [
    "df[df['rooms'] == 3]['total_area'].hist(bins=20, range=(40, 50))"
   ]
  },
  {
   "cell_type": "markdown",
   "metadata": {},
   "source": [
    "#### Выводы\n",
    "Диапазон аномалии: 40-42м2.\n",
    "    \n",
    "#### Определю точный объем значений"
   ]
  },
  {
   "cell_type": "code",
   "execution_count": 511,
   "metadata": {},
   "outputs": [
    {
     "data": {
      "text/plain": [
       "68"
      ]
     },
     "execution_count": 511,
     "metadata": {},
     "output_type": "execute_result"
    }
   ],
   "source": [
    "df.query('total_area >=40 and total_area <= 42 and rooms == 3')['total_area'].count()"
   ]
  },
  {
   "cell_type": "markdown",
   "metadata": {},
   "source": [
    "#### Выводы\n",
    "1. 68 значений — это 0,3% от датасета\n",
    "2. Считаю неразумным тратить хоть какие то усилия на аномалию \"объемом\" 0,3%\n",
    "\n",
    "#### Дальнейшие действия\n",
    "Удаляю"
   ]
  },
  {
   "cell_type": "code",
   "execution_count": 512,
   "metadata": {},
   "outputs": [
    {
     "data": {
      "text/plain": [
       "23582"
      ]
     },
     "execution_count": 512,
     "metadata": {},
     "output_type": "execute_result"
    }
   ],
   "source": [
    "# Код для проверки объема датасета после удаления аномалии\n",
    "\n",
    "df['total_area'].count() - df.query('(total_area >=40 and total_area <= 42 and rooms == 3)')['total_area'].count()"
   ]
  },
  {
   "cell_type": "code",
   "execution_count": 513,
   "metadata": {},
   "outputs": [
    {
     "data": {
      "text/plain": [
       "23582"
      ]
     },
     "execution_count": 513,
     "metadata": {},
     "output_type": "execute_result"
    }
   ],
   "source": [
    "# Удаляю аномалию и считаю кол-во строк для проверки корректности\n",
    "\n",
    "df.query('not(total_area >=40 and total_area <= 42 and rooms == 3)')['total_area'].count()"
   ]
  },
  {
   "cell_type": "code",
   "execution_count": 514,
   "metadata": {},
   "outputs": [
    {
     "name": "stdout",
     "output_type": "stream",
     "text": [
      "Если создаю срез с помощью query: 10\n",
      "Если создаю буллев массив и передаю его df: 70\n"
     ]
    }
   ],
   "source": [
    "# Вопрос куратору\n",
    "\n",
    "print('Если создаю срез с помощью query:', df.query('(41 >= total_area < 43) and rooms == 3')['total_area'].count())\n",
    "print('Если создаю буллев массив и передаю его df:', df[(df['total_area'] >= 41) & (df['total_area'] < 43) & (df['rooms'] == 3)]['total_area'].count())"
   ]
  },
  {
   "cell_type": "markdown",
   "metadata": {},
   "source": [
    "### Определю и удалю выбросы"
   ]
  },
  {
   "cell_type": "code",
   "execution_count": 515,
   "metadata": {},
   "outputs": [],
   "source": [
    "# Эта функция определяет границы нормального размаха\n",
    "# За верхнюю границу принимается значение, равно третьему квантилю + 1,5 межквартильного размаха\n",
    "# За нижнюю первый квантиль + 1,5 межквартильного размаха, или 0, если значение отрицательное\n",
    "\n",
    "def border_normal_range(df, column):\n",
    "    index = ['Нижняя граница', 'Первый квантиль', 'Второй квантиль', 'Третий квантиль', 'Верхняя граница', 'Межквартильный размах', 'Значений выше границы', 'Значений ниже границы']\n",
    "    values = []\n",
    "    \n",
    "    border_down = df[column].quantile(.25) - ((df[column].quantile(.75) - df[column].quantile(.25)) * 1.5)\n",
    "    q1 = df[column].quantile(.25)\n",
    "    q2 = df[column].quantile(.5)\n",
    "    q3 = df[column].quantile(.75)\n",
    "    border_up = df[column].quantile(.75) + ((df[column].quantile(.75) - df[column].quantile(.25)) * 1.5)\n",
    "    interquartile_range = df[column].quantile(.75) - df[column].quantile(.25)\n",
    "    sum_values_border_up = df[df[column] > border_up][column].count()\n",
    "    sum_values_border_down = df[df[column] < border_down][column].count()\n",
    "    \n",
    "    if border_down < 0:\n",
    "        values.append(0)\n",
    "    else:\n",
    "        values.append(border_down)\n",
    "    values.append(q1)\n",
    "    values.append(q2)\n",
    "    values.append(q3)\n",
    "    values.append(border_up)\n",
    "    values.append(interquartile_range)\n",
    "    values.append(sum_values_border_up)\n",
    "    values.append(sum_values_border_down)\n",
    "    border_normal_range = pd.Series(values, index=index)\n",
    "    \n",
    "    return border_normal_range"
   ]
  },
  {
   "cell_type": "code",
   "execution_count": 516,
   "metadata": {},
   "outputs": [
    {
     "data": {
      "text/plain": [
       "Нижняя граница              0.00\n",
       "Первый квантиль            40.00\n",
       "Второй квантиль            52.00\n",
       "Третий квантиль            69.70\n",
       "Верхняя граница           114.25\n",
       "Межквартильный размах      29.70\n",
       "Значений выше границы    1244.00\n",
       "Значений ниже границы       0.00\n",
       "dtype: float64"
      ]
     },
     "execution_count": 516,
     "metadata": {},
     "output_type": "execute_result"
    }
   ],
   "source": [
    "border_normal_range(df, 'total_area')"
   ]
  },
  {
   "cell_type": "markdown",
   "metadata": {},
   "source": [
    "#### Выводы\n",
    "1. Выше верхней границы 1244 значений — это примерно 5% датасета, что много.\n",
    "2. Верхняя граница определена в 114м2, что объективно мало. В современном дорогом (это важно) доме 120м2 для 4-х конматной квартиры — это нормально.\n",
    "\n",
    "#### Узнаю границы для современных домов"
   ]
  },
  {
   "cell_type": "code",
   "execution_count": 517,
   "metadata": {},
   "outputs": [
    {
     "data": {
      "text/plain": [
       "Нижняя граница             0.0\n",
       "Первый квантиль           41.0\n",
       "Второй квантиль           56.0\n",
       "Третий квантиль           75.0\n",
       "Верхняя граница          126.0\n",
       "Межквартильный размах     34.0\n",
       "Значений выше границы    917.0\n",
       "Значений ниже границы      0.0\n",
       "dtype: float64"
      ]
     },
     "execution_count": 517,
     "metadata": {},
     "output_type": "execute_result"
    }
   ],
   "source": [
    "# Критерий выделения современных домов: площадь кухни больше 7\n",
    "\n",
    "border_normal_range(df[df['kitchen_area'] > 7], 'total_area')"
   ]
  },
  {
   "cell_type": "markdown",
   "metadata": {},
   "source": [
    "#### Верхняя граница поднялась до 126м2\n",
    "1. Что лично я считаю, все равно мало\n",
    "2. В примере с АЗС из тренажера заправки свыше 30000с говорили об каком то специфическом объекте.\n",
    "3. В этом проекте квартира площадь 126м2 — это нормально для современного 4-комнатного дома.\n",
    "\n",
    "#### Проверю границы отдельно для 1, 2, 3 и 4 комнатных квартир"
   ]
  },
  {
   "cell_type": "code",
   "execution_count": 518,
   "metadata": {},
   "outputs": [
    {
     "data": {
      "text/plain": [
       "Нижняя граница            31.0\n",
       "Первый квантиль           51.4\n",
       "Второй квантиль           57.0\n",
       "Третий квантиль           65.0\n",
       "Верхняя граница           85.4\n",
       "Межквартильный размах     13.6\n",
       "Значений выше границы    231.0\n",
       "Значений ниже границы      2.0\n",
       "dtype: float64"
      ]
     },
     "execution_count": 518,
     "metadata": {},
     "output_type": "execute_result"
    }
   ],
   "source": [
    "# Здесь в коде я менял кол-во комнат, чтобы получить верхнюю и нижнюю границу нормального размаха\n",
    "# Но оставил только код для 2-х комнатных квартир, чтобы уменьшить объем документа\n",
    "\n",
    "border_normal_range(df[(df['rooms'] == 2) & (df['kitchen_area'] > 7)], 'total_area')"
   ]
  },
  {
   "cell_type": "markdown",
   "metadata": {},
   "source": [
    "**Удаляю выбросы для каждой категории квартир:**"
   ]
  },
  {
   "cell_type": "code",
   "execution_count": 519,
   "metadata": {},
   "outputs": [],
   "source": [
    "df = df.query('~(rooms == 1 and kitchen_area > 7 and (total_area < 24.5 or total_area > 52.5))')"
   ]
  },
  {
   "cell_type": "code",
   "execution_count": 520,
   "metadata": {},
   "outputs": [],
   "source": [
    "df = df.query('~(rooms == 2 and kitchen_area > 7 and (total_area < 31 or total_area > 85.4))')"
   ]
  },
  {
   "cell_type": "code",
   "execution_count": 521,
   "metadata": {},
   "outputs": [],
   "source": [
    "df = df.query('~(rooms == 3 and kitchen_area > 7 and total_area > 126.5)')"
   ]
  },
  {
   "cell_type": "code",
   "execution_count": 522,
   "metadata": {},
   "outputs": [],
   "source": [
    "df = df.query('~(rooms == 4 and kitchen_area > 7 and total_area > 200.75)')"
   ]
  },
  {
   "cell_type": "code",
   "execution_count": 523,
   "metadata": {},
   "outputs": [],
   "source": [
    "df = df.query('~(rooms > 4 and kitchen_area > 7 and total_area > 371)')"
   ]
  },
  {
   "cell_type": "markdown",
   "metadata": {},
   "source": [
    "**Построю сводные таблицы, в которых будет кол-во квартир в продаже для каждой группы и их средняя площадь**\n",
    "\n",
    "```\n",
    "1. В ячейке ниже созданы 3 сводные таблицы, по-порядку: хрущевки, брежневки, современные дома\n",
    "2. Для выделения групп, использована комбинация параметров \"клощадь кухни\" и \"высота потолков\"\n",
    "```"
   ]
  },
  {
   "cell_type": "code",
   "execution_count": 524,
   "metadata": {},
   "outputs": [],
   "source": [
    "hrush = (df\n",
    "     .query('locality_name == \"Санкт-Петербург\" and kitchen_area <= 6.3 and floors_total <= 5 and ceiling_height < 2.7')\n",
    "     .pivot_table(index='rooms', values=['total_area'], aggfunc=['median', 'count'])\n",
    ")\n",
    "\n",
    "breznev = (df\n",
    "     .query('locality_name == \"Санкт-Петербург\" and kitchen_area <= 7 and floors_total >= 7 and ceiling_height <= 2.7')\n",
    "     .pivot_table(index='rooms', values=['total_area'], aggfunc=['median', 'count'])\n",
    ")\n",
    "\n",
    "sovremen = (df\n",
    "     .query('locality_name == \"Санкт-Петербург\" and kitchen_area > 7 and floors_total >= 4 and ceiling_height >= 2.7')\n",
    "     .pivot_table(index='rooms', values=['total_area'], aggfunc=['median', 'count'])\n",
    ")"
   ]
  },
  {
   "cell_type": "markdown",
   "metadata": {},
   "source": [
    "```\n",
    "В ячейке ниже все 3 таблицы собраны в одну с сохранением порядка: хрущевки, брежневки, современные дома.\n",
    "```"
   ]
  },
  {
   "cell_type": "code",
   "execution_count": 525,
   "metadata": {},
   "outputs": [
    {
     "data": {
      "text/html": [
       "<div>\n",
       "<style scoped>\n",
       "    .dataframe tbody tr th:only-of-type {\n",
       "        vertical-align: middle;\n",
       "    }\n",
       "\n",
       "    .dataframe tbody tr th {\n",
       "        vertical-align: top;\n",
       "    }\n",
       "\n",
       "    .dataframe thead tr th {\n",
       "        text-align: left;\n",
       "    }\n",
       "\n",
       "    .dataframe thead tr:last-of-type th {\n",
       "        text-align: right;\n",
       "    }\n",
       "</style>\n",
       "<table border=\"1\" class=\"dataframe\">\n",
       "  <thead>\n",
       "    <tr>\n",
       "      <th></th>\n",
       "      <th>median_x</th>\n",
       "      <th>count_x</th>\n",
       "      <th>median_y</th>\n",
       "      <th>count_y</th>\n",
       "      <th>median</th>\n",
       "      <th>count</th>\n",
       "    </tr>\n",
       "    <tr>\n",
       "      <th></th>\n",
       "      <th>total_area</th>\n",
       "      <th>total_area</th>\n",
       "      <th>total_area</th>\n",
       "      <th>total_area</th>\n",
       "      <th>total_area</th>\n",
       "      <th>total_area</th>\n",
       "    </tr>\n",
       "    <tr>\n",
       "      <th>rooms</th>\n",
       "      <th></th>\n",
       "      <th></th>\n",
       "      <th></th>\n",
       "      <th></th>\n",
       "      <th></th>\n",
       "      <th></th>\n",
       "    </tr>\n",
       "  </thead>\n",
       "  <tbody>\n",
       "    <tr>\n",
       "      <th>1</th>\n",
       "      <td>31.0</td>\n",
       "      <td>187</td>\n",
       "      <td>32.1</td>\n",
       "      <td>570</td>\n",
       "      <td>39.55</td>\n",
       "      <td>2691</td>\n",
       "    </tr>\n",
       "    <tr>\n",
       "      <th>2</th>\n",
       "      <td>44.4</td>\n",
       "      <td>261</td>\n",
       "      <td>45.8</td>\n",
       "      <td>561</td>\n",
       "      <td>60.40</td>\n",
       "      <td>2619</td>\n",
       "    </tr>\n",
       "    <tr>\n",
       "      <th>3</th>\n",
       "      <td>56.0</td>\n",
       "      <td>143</td>\n",
       "      <td>60.0</td>\n",
       "      <td>538</td>\n",
       "      <td>83.35</td>\n",
       "      <td>2244</td>\n",
       "    </tr>\n",
       "    <tr>\n",
       "      <th>4</th>\n",
       "      <td>49.0</td>\n",
       "      <td>42</td>\n",
       "      <td>74.0</td>\n",
       "      <td>71</td>\n",
       "      <td>112.60</td>\n",
       "      <td>653</td>\n",
       "    </tr>\n",
       "  </tbody>\n",
       "</table>\n",
       "</div>"
      ],
      "text/plain": [
       "        median_x    count_x   median_y    count_y     median      count\n",
       "      total_area total_area total_area total_area total_area total_area\n",
       "rooms                                                                  \n",
       "1           31.0        187       32.1        570      39.55       2691\n",
       "2           44.4        261       45.8        561      60.40       2619\n",
       "3           56.0        143       60.0        538      83.35       2244\n",
       "4           49.0         42       74.0         71     112.60        653"
      ]
     },
     "execution_count": 525,
     "metadata": {},
     "output_type": "execute_result"
    }
   ],
   "source": [
    "live_fond = hrush.merge(breznev, on='rooms')\n",
    "live_fond = live_fond.merge(sovremen, on='rooms')\n",
    "#example = example[['хрущевка_площадь', 'хрущевок_в_продаже', 'брежневка_площадь', 'брежневок_в_продаже', 'современные_площадь', 'современных_в_продаже', ]]\n",
    "live_fond"
   ]
  },
  {
   "cell_type": "markdown",
   "metadata": {},
   "source": [
    "**Выводы о количестве квартир**\n",
    "\n",
    "1. Хрущевок осталось не так уж и много. Например, 2-х комнатных современных квартир в датасете 2619, брежневок 561, а хрущевок всего 261. На 1-у хрущевку приходится 10 современных квартир и 2 брежневки.\n",
    "2. В хрущевках кол-во 1-о и 3-комнатных квартир существенно меньше, чем 2-комнатных. Это логично, потому что в проектах хрущевок однокмонатных квартир было меньше всего. Например, в типовой 335 серии на одном этаже из 12 квартир только 2 были однокомнатными.\n",
    "3. В брежневках распределение квартир (по признаку кол-ва комнат) практически равное. 4-комнатные редки, всего 71.\n",
    "4. В современных домах картина практически такая же, но доля 3-х комнатных несколько меньше, а 4-комнатных больше. Предположу, что это объясняется составом семей, временем рождения детей и финансовыми возможностями. Молодой семье на \"старте\" выгоднее жить в 1-о или 2-комнатной. А с ростом семью и фактом \"ипотека до конца жизни\" многие предпочитают вожиться и купить сразу 4 комнаты. Что вдвойне разумно и потому, что стоимость кв.м. падает с ростом квадратуры. \n",
    "\n",
    "\n",
    "**Выводы по пощади квартир**\n",
    "\n",
    "1. Интересный факт — площадь брежневок больше площади хрущевок всего на 1-4 кв.м. (кроме 4-х комнатных, но это исключение). Исторически, именно так и было. Брежневки лучше по планировке (нет проходных комнаты), в них выше потолки (2,7 м против 2,5), но весь прирост площади пришелся на увеличенную на 1 кв.м. кухню. В 3-комнатных квартирах еще и на увеличенную спальню.\n",
    "2. Современная однушка на 7,5 кв.м. больше брежневки. \n",
    "3. Двушка на целых 15 кв.м. Интересно, что именно такая площадь была у гостинной в хрущевках. \n",
    "4. 3-комнатные квартиры больше на 23 кв.м."
   ]
  },
  {
   "cell_type": "markdown",
   "metadata": {},
   "source": [
    "### 2. Изучаю цену продажи"
   ]
  },
  {
   "cell_type": "code",
   "execution_count": 526,
   "metadata": {},
   "outputs": [],
   "source": [
    "# Округлю значение цены в меньшую сторону\n",
    "\n",
    "df['last_price']  = df['last_price'] / 1000000"
   ]
  },
  {
   "cell_type": "code",
   "execution_count": 527,
   "metadata": {},
   "outputs": [
    {
     "data": {
      "text/plain": [
       "<matplotlib.axes._subplots.AxesSubplot at 0x7f529c8b1510>"
      ]
     },
     "execution_count": 527,
     "metadata": {},
     "output_type": "execute_result"
    },
    {
     "data": {
      "image/png": "[encoded data removed]",
      "text/plain": [
       "<Figure size 432x288 with 1 Axes>"
      ]
     },
     "metadata": {
      "needs_background": "light"
     },
     "output_type": "display_data"
    }
   ],
   "source": [
    "# Строю гистограмму\n",
    "df['last_price'].hist(bins=40, range=(0, 40))"
   ]
  },
  {
   "cell_type": "markdown",
   "metadata": {},
   "source": [
    "#### Выводы\n",
    "Красивое нормальное распределение. Имеет смысл только удалить выбросы.\n",
    "\n",
    "#### Определю границы нормального распределения"
   ]
  },
  {
   "cell_type": "code",
   "execution_count": 528,
   "metadata": {},
   "outputs": [
    {
     "data": {
      "text/plain": [
       "Нижняя граница              0.00\n",
       "Первый квантиль             3.40\n",
       "Второй квантиль             4.58\n",
       "Третий квантиль             6.50\n",
       "Верхняя граница            11.15\n",
       "Межквартильный размах       3.10\n",
       "Значений выше границы    1798.00\n",
       "Значений ниже границы       0.00\n",
       "dtype: float64"
      ]
     },
     "execution_count": 528,
     "metadata": {},
     "output_type": "execute_result"
    }
   ],
   "source": [
    "border_normal_range(df, 'last_price')"
   ]
  },
  {
   "cell_type": "markdown",
   "metadata": {},
   "source": [
    "**Верхняя граница нормального размаха: 11.31 млн.**"
   ]
  },
  {
   "cell_type": "markdown",
   "metadata": {},
   "source": [
    "**Удаляю выбросы**"
   ]
  },
  {
   "cell_type": "code",
   "execution_count": 529,
   "metadata": {},
   "outputs": [],
   "source": [
    "df = df.query('not(last_price > 11.31)')"
   ]
  },
  {
   "cell_type": "code",
   "execution_count": 530,
   "metadata": {},
   "outputs": [
    {
     "data": {
      "text/plain": [
       "21042"
      ]
     },
     "execution_count": 530,
     "metadata": {},
     "output_type": "execute_result"
    }
   ],
   "source": [
    "df['last_price'].count()"
   ]
  },
  {
   "cell_type": "markdown",
   "metadata": {},
   "source": [
    "**Построю аналлогичную гистограмму для цены за кв.м.**"
   ]
  },
  {
   "cell_type": "code",
   "execution_count": 531,
   "metadata": {},
   "outputs": [
    {
     "data": {
      "text/plain": [
       "<matplotlib.axes._subplots.AxesSubplot at 0x7f5277d9de10>"
      ]
     },
     "execution_count": 531,
     "metadata": {},
     "output_type": "execute_result"
    },
    {
     "data": {
      "image/png": "[encoded data removed]",
      "text/plain": [
       "<Figure size 432x288 with 1 Axes>"
      ]
     },
     "metadata": {
      "needs_background": "light"
     },
     "output_type": "display_data"
    }
   ],
   "source": [
    "df['price_m2'].hist(bins=100, range=(0, 250000))"
   ]
  },
  {
   "cell_type": "markdown",
   "metadata": {},
   "source": [
    "**Такое же красивое нормальное распределение.** Небольшой провал перед ценой 100 тыс. за кв.м. и далее пик после этой цифры объясняет, прежде всего, психологией выставления цены.\n",
    "\n",
    "**Далее определю границы нормального размаха и удалю выбросы,** аналогично тому, как я поступил с ценой продажи."
   ]
  },
  {
   "cell_type": "code",
   "execution_count": 532,
   "metadata": {},
   "outputs": [
    {
     "data": {
      "text/plain": [
       "Нижняя граница            22657.875\n",
       "Первый квантиль           74172.750\n",
       "Второй квантиль           92156.000\n",
       "Третий квантиль          108516.000\n",
       "Верхняя граница          160030.875\n",
       "Межквартильный размах     34343.250\n",
       "Значений выше границы       287.000\n",
       "Значений ниже границы       230.000\n",
       "dtype: float64"
      ]
     },
     "execution_count": 532,
     "metadata": {},
     "output_type": "execute_result"
    }
   ],
   "source": [
    "border_normal_range(df, 'price_m2')"
   ]
  },
  {
   "cell_type": "code",
   "execution_count": 533,
   "metadata": {},
   "outputs": [],
   "source": [
    "df = df.query('not(price_m2 > 159622)')\n",
    "df = df.query('not(price_m2 < 23118)')"
   ]
  },
  {
   "cell_type": "code",
   "execution_count": 534,
   "metadata": {},
   "outputs": [
    {
     "data": {
      "text/plain": [
       "20511"
      ]
     },
     "execution_count": 534,
     "metadata": {},
     "output_type": "execute_result"
    }
   ],
   "source": [
    "df['price_m2'].count()"
   ]
  },
  {
   "cell_type": "markdown",
   "metadata": {},
   "source": [
    "**Выводы**\n",
    "\n",
    "1. Наибольшее количество квартир продается в ценовом диапазон от 3,4 млн до 6,5 млн. Это межквартильный размах, в который попадает 50% все проданной недвижимости.\n",
    "2. Типичная цена за кв.м. — от 74 до 108 тыс. рублей."
   ]
  },
  {
   "cell_type": "markdown",
   "metadata": {},
   "source": [
    "### 3. Число комнат"
   ]
  },
  {
   "cell_type": "code",
   "execution_count": 535,
   "metadata": {},
   "outputs": [
    {
     "data": {
      "text/plain": [
       "<matplotlib.axes._subplots.AxesSubplot at 0x7f5293464f90>"
      ]
     },
     "execution_count": 535,
     "metadata": {},
     "output_type": "execute_result"
    },
    {
     "data": {
      "image/png": "[encoded data removed]",
      "text/plain": [
       "<Figure size 432x288 with 1 Axes>"
      ]
     },
     "metadata": {
      "needs_background": "light"
     },
     "output_type": "display_data"
    }
   ],
   "source": [
    "df['rooms'].hist(bins=10, range=(0, 10))"
   ]
  },
  {
   "cell_type": "markdown",
   "metadata": {},
   "source": [
    "#### Выводы\n",
    "Вижу квартиры с 0-нулем комнат.\n",
    "\n",
    "#### Гипотеза\n",
    "Это или ошибка в данных, или в этих квартирах есть только ванная и балкон."
   ]
  },
  {
   "cell_type": "code",
   "execution_count": 536,
   "metadata": {},
   "outputs": [
    {
     "data": {
      "text/html": [
       "<div>\n",
       "<style scoped>\n",
       "    .dataframe tbody tr th:only-of-type {\n",
       "        vertical-align: middle;\n",
       "    }\n",
       "\n",
       "    .dataframe tbody tr th {\n",
       "        vertical-align: top;\n",
       "    }\n",
       "\n",
       "    .dataframe thead th {\n",
       "        text-align: right;\n",
       "    }\n",
       "</style>\n",
       "<table border=\"1\" class=\"dataframe\">\n",
       "  <thead>\n",
       "    <tr style=\"text-align: right;\">\n",
       "      <th></th>\n",
       "      <th>locality_name</th>\n",
       "      <th>city_centers_nearest</th>\n",
       "      <th>airports_nearest</th>\n",
       "      <th>parks_nearest</th>\n",
       "      <th>parks_around_3000</th>\n",
       "      <th>ponds_nearest</th>\n",
       "      <th>ponds_around_3000</th>\n",
       "      <th>floors_total</th>\n",
       "      <th>floor</th>\n",
       "      <th>rooms</th>\n",
       "      <th>total_area</th>\n",
       "      <th>kitchen_area</th>\n",
       "      <th>living_area</th>\n",
       "      <th>studio</th>\n",
       "      <th>open_plan</th>\n",
       "      <th>balcony</th>\n",
       "      <th>ceiling_height</th>\n",
       "      <th>is_apartment</th>\n",
       "      <th>first_day_exposition</th>\n",
       "      <th>days_exposition</th>\n",
       "      <th>total_images</th>\n",
       "      <th>last_price</th>\n",
       "      <th>price_m2</th>\n",
       "      <th>floor_category</th>\n",
       "      <th>ratio_area_living_to_total</th>\n",
       "      <th>ratio_area_kitchen_to_total</th>\n",
       "      <th>day_exposition</th>\n",
       "      <th>month_exposition</th>\n",
       "      <th>year_exposition</th>\n",
       "    </tr>\n",
       "  </thead>\n",
       "  <tbody>\n",
       "    <tr>\n",
       "      <th>144</th>\n",
       "      <td>Муриный</td>\n",
       "      <td>21888</td>\n",
       "      <td>51553</td>\n",
       "      <td>399</td>\n",
       "      <td>0</td>\n",
       "      <td>133</td>\n",
       "      <td>2</td>\n",
       "      <td>24</td>\n",
       "      <td>2</td>\n",
       "      <td>0</td>\n",
       "      <td>27.00</td>\n",
       "      <td>8.25</td>\n",
       "      <td>15.50</td>\n",
       "      <td>True</td>\n",
       "      <td>False</td>\n",
       "      <td>2</td>\n",
       "      <td>2.70</td>\n",
       "      <td>False</td>\n",
       "      <td>2017-03-30</td>\n",
       "      <td>181</td>\n",
       "      <td>1</td>\n",
       "      <td>2.450</td>\n",
       "      <td>90740</td>\n",
       "      <td>другой</td>\n",
       "      <td>0.574074</td>\n",
       "      <td>0.305556</td>\n",
       "      <td>3</td>\n",
       "      <td>3</td>\n",
       "      <td>2017</td>\n",
       "    </tr>\n",
       "    <tr>\n",
       "      <th>349</th>\n",
       "      <td>Кудрово</td>\n",
       "      <td>28858</td>\n",
       "      <td>36559</td>\n",
       "      <td>399</td>\n",
       "      <td>0</td>\n",
       "      <td>444</td>\n",
       "      <td>1</td>\n",
       "      <td>14</td>\n",
       "      <td>1</td>\n",
       "      <td>0</td>\n",
       "      <td>25.00</td>\n",
       "      <td>8.25</td>\n",
       "      <td>17.00</td>\n",
       "      <td>False</td>\n",
       "      <td>True</td>\n",
       "      <td>0</td>\n",
       "      <td>2.75</td>\n",
       "      <td>False</td>\n",
       "      <td>2017-09-27</td>\n",
       "      <td>45</td>\n",
       "      <td>4</td>\n",
       "      <td>2.320</td>\n",
       "      <td>92800</td>\n",
       "      <td>первый</td>\n",
       "      <td>0.680000</td>\n",
       "      <td>0.330000</td>\n",
       "      <td>2</td>\n",
       "      <td>9</td>\n",
       "      <td>2017</td>\n",
       "    </tr>\n",
       "    <tr>\n",
       "      <th>440</th>\n",
       "      <td>Санкт-Петербург</td>\n",
       "      <td>15015</td>\n",
       "      <td>38171</td>\n",
       "      <td>460</td>\n",
       "      <td>0</td>\n",
       "      <td>982</td>\n",
       "      <td>2</td>\n",
       "      <td>17</td>\n",
       "      <td>4</td>\n",
       "      <td>0</td>\n",
       "      <td>27.11</td>\n",
       "      <td>8.25</td>\n",
       "      <td>24.75</td>\n",
       "      <td>True</td>\n",
       "      <td>False</td>\n",
       "      <td>2</td>\n",
       "      <td>2.70</td>\n",
       "      <td>False</td>\n",
       "      <td>2018-03-12</td>\n",
       "      <td>64</td>\n",
       "      <td>8</td>\n",
       "      <td>2.480</td>\n",
       "      <td>91479</td>\n",
       "      <td>другой</td>\n",
       "      <td>0.912947</td>\n",
       "      <td>0.304316</td>\n",
       "      <td>0</td>\n",
       "      <td>3</td>\n",
       "      <td>2018</td>\n",
       "    </tr>\n",
       "    <tr>\n",
       "      <th>508</th>\n",
       "      <td>Парголовый</td>\n",
       "      <td>19292</td>\n",
       "      <td>53115</td>\n",
       "      <td>733</td>\n",
       "      <td>0</td>\n",
       "      <td>593</td>\n",
       "      <td>1</td>\n",
       "      <td>26</td>\n",
       "      <td>19</td>\n",
       "      <td>0</td>\n",
       "      <td>34.40</td>\n",
       "      <td>8.25</td>\n",
       "      <td>24.30</td>\n",
       "      <td>False</td>\n",
       "      <td>True</td>\n",
       "      <td>1</td>\n",
       "      <td>2.64</td>\n",
       "      <td>False</td>\n",
       "      <td>2017-03-28</td>\n",
       "      <td>430</td>\n",
       "      <td>0</td>\n",
       "      <td>3.375</td>\n",
       "      <td>98110</td>\n",
       "      <td>другой</td>\n",
       "      <td>0.706395</td>\n",
       "      <td>0.239826</td>\n",
       "      <td>1</td>\n",
       "      <td>3</td>\n",
       "      <td>2017</td>\n",
       "    </tr>\n",
       "    <tr>\n",
       "      <th>608</th>\n",
       "      <td>Шушар</td>\n",
       "      <td>24212</td>\n",
       "      <td>17427</td>\n",
       "      <td>399</td>\n",
       "      <td>0</td>\n",
       "      <td>584</td>\n",
       "      <td>0</td>\n",
       "      <td>10</td>\n",
       "      <td>7</td>\n",
       "      <td>0</td>\n",
       "      <td>25.00</td>\n",
       "      <td>8.25</td>\n",
       "      <td>17.20</td>\n",
       "      <td>True</td>\n",
       "      <td>False</td>\n",
       "      <td>0</td>\n",
       "      <td>2.63</td>\n",
       "      <td>False</td>\n",
       "      <td>2019-02-20</td>\n",
       "      <td>29</td>\n",
       "      <td>2</td>\n",
       "      <td>1.850</td>\n",
       "      <td>74000</td>\n",
       "      <td>другой</td>\n",
       "      <td>0.688000</td>\n",
       "      <td>0.330000</td>\n",
       "      <td>2</td>\n",
       "      <td>2</td>\n",
       "      <td>2019</td>\n",
       "    </tr>\n",
       "    <tr>\n",
       "      <th>...</th>\n",
       "      <td>...</td>\n",
       "      <td>...</td>\n",
       "      <td>...</td>\n",
       "      <td>...</td>\n",
       "      <td>...</td>\n",
       "      <td>...</td>\n",
       "      <td>...</td>\n",
       "      <td>...</td>\n",
       "      <td>...</td>\n",
       "      <td>...</td>\n",
       "      <td>...</td>\n",
       "      <td>...</td>\n",
       "      <td>...</td>\n",
       "      <td>...</td>\n",
       "      <td>...</td>\n",
       "      <td>...</td>\n",
       "      <td>...</td>\n",
       "      <td>...</td>\n",
       "      <td>...</td>\n",
       "      <td>...</td>\n",
       "      <td>...</td>\n",
       "      <td>...</td>\n",
       "      <td>...</td>\n",
       "      <td>...</td>\n",
       "      <td>...</td>\n",
       "      <td>...</td>\n",
       "      <td>...</td>\n",
       "      <td>...</td>\n",
       "      <td>...</td>\n",
       "    </tr>\n",
       "    <tr>\n",
       "      <th>23210</th>\n",
       "      <td>Санкт-Петербург</td>\n",
       "      <td>13222</td>\n",
       "      <td>11405</td>\n",
       "      <td>460</td>\n",
       "      <td>0</td>\n",
       "      <td>623</td>\n",
       "      <td>1</td>\n",
       "      <td>25</td>\n",
       "      <td>16</td>\n",
       "      <td>0</td>\n",
       "      <td>26.00</td>\n",
       "      <td>8.25</td>\n",
       "      <td>18.00</td>\n",
       "      <td>True</td>\n",
       "      <td>False</td>\n",
       "      <td>0</td>\n",
       "      <td>2.70</td>\n",
       "      <td>False</td>\n",
       "      <td>2017-09-01</td>\n",
       "      <td>14</td>\n",
       "      <td>7</td>\n",
       "      <td>3.200</td>\n",
       "      <td>123076</td>\n",
       "      <td>другой</td>\n",
       "      <td>0.692308</td>\n",
       "      <td>0.317308</td>\n",
       "      <td>4</td>\n",
       "      <td>9</td>\n",
       "      <td>2017</td>\n",
       "    </tr>\n",
       "    <tr>\n",
       "      <th>23442</th>\n",
       "      <td>Муриный</td>\n",
       "      <td>21888</td>\n",
       "      <td>51553</td>\n",
       "      <td>399</td>\n",
       "      <td>0</td>\n",
       "      <td>133</td>\n",
       "      <td>2</td>\n",
       "      <td>24</td>\n",
       "      <td>4</td>\n",
       "      <td>0</td>\n",
       "      <td>27.70</td>\n",
       "      <td>8.25</td>\n",
       "      <td>18.00</td>\n",
       "      <td>False</td>\n",
       "      <td>True</td>\n",
       "      <td>2</td>\n",
       "      <td>2.70</td>\n",
       "      <td>False</td>\n",
       "      <td>2017-09-28</td>\n",
       "      <td>4</td>\n",
       "      <td>0</td>\n",
       "      <td>2.500</td>\n",
       "      <td>90252</td>\n",
       "      <td>другой</td>\n",
       "      <td>0.649819</td>\n",
       "      <td>0.297834</td>\n",
       "      <td>3</td>\n",
       "      <td>9</td>\n",
       "      <td>2017</td>\n",
       "    </tr>\n",
       "    <tr>\n",
       "      <th>23554</th>\n",
       "      <td>Санкт-Петербург</td>\n",
       "      <td>17092</td>\n",
       "      <td>18090</td>\n",
       "      <td>460</td>\n",
       "      <td>0</td>\n",
       "      <td>112</td>\n",
       "      <td>2</td>\n",
       "      <td>19</td>\n",
       "      <td>8</td>\n",
       "      <td>0</td>\n",
       "      <td>26.00</td>\n",
       "      <td>8.25</td>\n",
       "      <td>17.20</td>\n",
       "      <td>True</td>\n",
       "      <td>False</td>\n",
       "      <td>0</td>\n",
       "      <td>2.70</td>\n",
       "      <td>False</td>\n",
       "      <td>2018-09-07</td>\n",
       "      <td>31</td>\n",
       "      <td>15</td>\n",
       "      <td>3.350</td>\n",
       "      <td>128846</td>\n",
       "      <td>другой</td>\n",
       "      <td>0.661538</td>\n",
       "      <td>0.317308</td>\n",
       "      <td>4</td>\n",
       "      <td>9</td>\n",
       "      <td>2018</td>\n",
       "    </tr>\n",
       "    <tr>\n",
       "      <th>23592</th>\n",
       "      <td>Никольское</td>\n",
       "      <td>28858</td>\n",
       "      <td>36559</td>\n",
       "      <td>399</td>\n",
       "      <td>0</td>\n",
       "      <td>444</td>\n",
       "      <td>1</td>\n",
       "      <td>9</td>\n",
       "      <td>8</td>\n",
       "      <td>0</td>\n",
       "      <td>29.00</td>\n",
       "      <td>8.25</td>\n",
       "      <td>18.00</td>\n",
       "      <td>False</td>\n",
       "      <td>True</td>\n",
       "      <td>2</td>\n",
       "      <td>2.56</td>\n",
       "      <td>False</td>\n",
       "      <td>2017-11-11</td>\n",
       "      <td>82</td>\n",
       "      <td>10</td>\n",
       "      <td>1.450</td>\n",
       "      <td>50000</td>\n",
       "      <td>другой</td>\n",
       "      <td>0.620690</td>\n",
       "      <td>0.284483</td>\n",
       "      <td>5</td>\n",
       "      <td>11</td>\n",
       "      <td>2017</td>\n",
       "    </tr>\n",
       "    <tr>\n",
       "      <th>23637</th>\n",
       "      <td>Бугор</td>\n",
       "      <td>28858</td>\n",
       "      <td>36559</td>\n",
       "      <td>399</td>\n",
       "      <td>0</td>\n",
       "      <td>444</td>\n",
       "      <td>1</td>\n",
       "      <td>25</td>\n",
       "      <td>4</td>\n",
       "      <td>0</td>\n",
       "      <td>26.00</td>\n",
       "      <td>8.25</td>\n",
       "      <td>17.00</td>\n",
       "      <td>True</td>\n",
       "      <td>False</td>\n",
       "      <td>2</td>\n",
       "      <td>2.60</td>\n",
       "      <td>False</td>\n",
       "      <td>2018-06-26</td>\n",
       "      <td>207</td>\n",
       "      <td>8</td>\n",
       "      <td>2.350</td>\n",
       "      <td>90384</td>\n",
       "      <td>другой</td>\n",
       "      <td>0.653846</td>\n",
       "      <td>0.317308</td>\n",
       "      <td>1</td>\n",
       "      <td>6</td>\n",
       "      <td>2018</td>\n",
       "    </tr>\n",
       "  </tbody>\n",
       "</table>\n",
       "<p>190 rows × 29 columns</p>\n",
       "</div>"
      ],
      "text/plain": [
       "         locality_name  city_centers_nearest  airports_nearest  parks_nearest  \\\n",
       "144            Муриный                 21888             51553            399   \n",
       "349            Кудрово                 28858             36559            399   \n",
       "440    Санкт-Петербург                 15015             38171            460   \n",
       "508         Парголовый                 19292             53115            733   \n",
       "608              Шушар                 24212             17427            399   \n",
       "...                ...                   ...               ...            ...   \n",
       "23210  Санкт-Петербург                 13222             11405            460   \n",
       "23442          Муриный                 21888             51553            399   \n",
       "23554  Санкт-Петербург                 17092             18090            460   \n",
       "23592       Никольское                 28858             36559            399   \n",
       "23637            Бугор                 28858             36559            399   \n",
       "\n",
       "       parks_around_3000  ponds_nearest  ponds_around_3000  floors_total  \\\n",
       "144                    0            133                  2            24   \n",
       "349                    0            444                  1            14   \n",
       "440                    0            982                  2            17   \n",
       "508                    0            593                  1            26   \n",
       "608                    0            584                  0            10   \n",
       "...                  ...            ...                ...           ...   \n",
       "23210                  0            623                  1            25   \n",
       "23442                  0            133                  2            24   \n",
       "23554                  0            112                  2            19   \n",
       "23592                  0            444                  1             9   \n",
       "23637                  0            444                  1            25   \n",
       "\n",
       "       floor  rooms  total_area  kitchen_area  living_area  studio  open_plan  \\\n",
       "144        2      0       27.00          8.25        15.50    True      False   \n",
       "349        1      0       25.00          8.25        17.00   False       True   \n",
       "440        4      0       27.11          8.25        24.75    True      False   \n",
       "508       19      0       34.40          8.25        24.30   False       True   \n",
       "608        7      0       25.00          8.25        17.20    True      False   \n",
       "...      ...    ...         ...           ...          ...     ...        ...   \n",
       "23210     16      0       26.00          8.25        18.00    True      False   \n",
       "23442      4      0       27.70          8.25        18.00   False       True   \n",
       "23554      8      0       26.00          8.25        17.20    True      False   \n",
       "23592      8      0       29.00          8.25        18.00   False       True   \n",
       "23637      4      0       26.00          8.25        17.00    True      False   \n",
       "\n",
       "       balcony  ceiling_height  is_apartment first_day_exposition  \\\n",
       "144          2            2.70         False           2017-03-30   \n",
       "349          0            2.75         False           2017-09-27   \n",
       "440          2            2.70         False           2018-03-12   \n",
       "508          1            2.64         False           2017-03-28   \n",
       "608          0            2.63         False           2019-02-20   \n",
       "...        ...             ...           ...                  ...   \n",
       "23210        0            2.70         False           2017-09-01   \n",
       "23442        2            2.70         False           2017-09-28   \n",
       "23554        0            2.70         False           2018-09-07   \n",
       "23592        2            2.56         False           2017-11-11   \n",
       "23637        2            2.60         False           2018-06-26   \n",
       "\n",
       "       days_exposition  total_images  last_price  price_m2 floor_category  \\\n",
       "144                181             1       2.450     90740         другой   \n",
       "349                 45             4       2.320     92800         первый   \n",
       "440                 64             8       2.480     91479         другой   \n",
       "508                430             0       3.375     98110         другой   \n",
       "608                 29             2       1.850     74000         другой   \n",
       "...                ...           ...         ...       ...            ...   \n",
       "23210               14             7       3.200    123076         другой   \n",
       "23442                4             0       2.500     90252         другой   \n",
       "23554               31            15       3.350    128846         другой   \n",
       "23592               82            10       1.450     50000         другой   \n",
       "23637              207             8       2.350     90384         другой   \n",
       "\n",
       "       ratio_area_living_to_total  ratio_area_kitchen_to_total  \\\n",
       "144                      0.574074                     0.305556   \n",
       "349                      0.680000                     0.330000   \n",
       "440                      0.912947                     0.304316   \n",
       "508                      0.706395                     0.239826   \n",
       "608                      0.688000                     0.330000   \n",
       "...                           ...                          ...   \n",
       "23210                    0.692308                     0.317308   \n",
       "23442                    0.649819                     0.297834   \n",
       "23554                    0.661538                     0.317308   \n",
       "23592                    0.620690                     0.284483   \n",
       "23637                    0.653846                     0.317308   \n",
       "\n",
       "       day_exposition  month_exposition  year_exposition  \n",
       "144                 3                 3             2017  \n",
       "349                 2                 9             2017  \n",
       "440                 0                 3             2018  \n",
       "508                 1                 3             2017  \n",
       "608                 2                 2             2019  \n",
       "...               ...               ...              ...  \n",
       "23210               4                 9             2017  \n",
       "23442               3                 9             2017  \n",
       "23554               4                 9             2018  \n",
       "23592               5                11             2017  \n",
       "23637               1                 6             2018  \n",
       "\n",
       "[190 rows x 29 columns]"
      ]
     },
     "execution_count": 536,
     "metadata": {},
     "output_type": "execute_result"
    }
   ],
   "source": [
    "df[df['rooms'] == 0]"
   ]
  },
  {
   "cell_type": "code",
   "execution_count": 537,
   "metadata": {},
   "outputs": [
    {
     "data": {
      "text/plain": [
       "0.7"
      ]
     },
     "execution_count": 537,
     "metadata": {},
     "output_type": "execute_result"
    }
   ],
   "source": [
    "df[df['rooms'] == 0]['studio'].mean()"
   ]
  },
  {
   "cell_type": "code",
   "execution_count": 538,
   "metadata": {},
   "outputs": [
    {
     "data": {
      "text/plain": [
       "26.025"
      ]
     },
     "execution_count": 538,
     "metadata": {},
     "output_type": "execute_result"
    }
   ],
   "source": [
    "df[df['rooms'] == 0]['total_area'].median()"
   ]
  },
  {
   "cell_type": "markdown",
   "metadata": {},
   "source": [
    "#### Выводы\n",
    "1. 70% — это студии.\n",
    "2. Медиана площади 26, что также соответствует небольшой квартире студии.\n",
    "3. **Интересный момент.** Во всех строках, где квартира не помечена как студия, для нее указана \"свободная планировка\". Т.е. это либо студия, или свободная планировка. Но свободная планировка для квартиры до 30м2 как раз и означает, что это квартира-студия без внутренних стен.\n",
    "4. Исходя из выводов выше, считаю, что поставить 0 в \"количестов комнат\" — это специфика мышления неких индивидов, а не ошибка в данных.\n",
    "\n",
    "#### Дальнейшие действия\n",
    "Заменю значение с 0 на 1. Потому что это отвечает логике здравого смысла."
   ]
  },
  {
   "cell_type": "code",
   "execution_count": 539,
   "metadata": {},
   "outputs": [],
   "source": [
    "df[df['rooms'] == 0] = 1"
   ]
  },
  {
   "cell_type": "markdown",
   "metadata": {},
   "source": [
    "**Какое количество комнат наиболее популярно по продажам?**"
   ]
  },
  {
   "cell_type": "code",
   "execution_count": 540,
   "metadata": {},
   "outputs": [
    {
     "data": {
      "text/plain": [
       "1    7629\n",
       "2    7265\n",
       "3    4763\n",
       "4     730\n",
       "5     111\n",
       "6      12\n",
       "7       1\n",
       "Name: rooms, dtype: int64"
      ]
     },
     "execution_count": 540,
     "metadata": {},
     "output_type": "execute_result"
    }
   ],
   "source": [
    "df['rooms'].value_counts()"
   ]
  },
  {
   "cell_type": "markdown",
   "metadata": {},
   "source": [
    "**Наиболее популярны по продажам 1 и 2-комнатные квартиры.** Разница между ними составлет всего около 200 проданных квартир.\n",
    "\n",
    "**Посмотрим разрез в контексте по типам домов: хрущевки, брежневки, современные дома**"
   ]
  },
  {
   "cell_type": "code",
   "execution_count": 541,
   "metadata": {},
   "outputs": [
    {
     "data": {
      "text/html": [
       "<div>\n",
       "<style scoped>\n",
       "    .dataframe tbody tr th:only-of-type {\n",
       "        vertical-align: middle;\n",
       "    }\n",
       "\n",
       "    .dataframe tbody tr th {\n",
       "        vertical-align: top;\n",
       "    }\n",
       "\n",
       "    .dataframe thead tr th {\n",
       "        text-align: left;\n",
       "    }\n",
       "\n",
       "    .dataframe thead tr:last-of-type th {\n",
       "        text-align: right;\n",
       "    }\n",
       "</style>\n",
       "<table border=\"1\" class=\"dataframe\">\n",
       "  <thead>\n",
       "    <tr>\n",
       "      <th></th>\n",
       "      <th>median_x</th>\n",
       "      <th>count_x</th>\n",
       "      <th>median_y</th>\n",
       "      <th>count_y</th>\n",
       "      <th>median</th>\n",
       "      <th>count</th>\n",
       "    </tr>\n",
       "    <tr>\n",
       "      <th></th>\n",
       "      <th>total_area</th>\n",
       "      <th>total_area</th>\n",
       "      <th>total_area</th>\n",
       "      <th>total_area</th>\n",
       "      <th>total_area</th>\n",
       "      <th>total_area</th>\n",
       "    </tr>\n",
       "    <tr>\n",
       "      <th>rooms</th>\n",
       "      <th></th>\n",
       "      <th></th>\n",
       "      <th></th>\n",
       "      <th></th>\n",
       "      <th></th>\n",
       "      <th></th>\n",
       "    </tr>\n",
       "  </thead>\n",
       "  <tbody>\n",
       "    <tr>\n",
       "      <th>1</th>\n",
       "      <td>31.0</td>\n",
       "      <td>187</td>\n",
       "      <td>32.1</td>\n",
       "      <td>570</td>\n",
       "      <td>39.55</td>\n",
       "      <td>2691</td>\n",
       "    </tr>\n",
       "    <tr>\n",
       "      <th>2</th>\n",
       "      <td>44.4</td>\n",
       "      <td>261</td>\n",
       "      <td>45.8</td>\n",
       "      <td>561</td>\n",
       "      <td>60.40</td>\n",
       "      <td>2619</td>\n",
       "    </tr>\n",
       "    <tr>\n",
       "      <th>3</th>\n",
       "      <td>56.0</td>\n",
       "      <td>143</td>\n",
       "      <td>60.0</td>\n",
       "      <td>538</td>\n",
       "      <td>83.35</td>\n",
       "      <td>2244</td>\n",
       "    </tr>\n",
       "    <tr>\n",
       "      <th>4</th>\n",
       "      <td>49.0</td>\n",
       "      <td>42</td>\n",
       "      <td>74.0</td>\n",
       "      <td>71</td>\n",
       "      <td>112.60</td>\n",
       "      <td>653</td>\n",
       "    </tr>\n",
       "  </tbody>\n",
       "</table>\n",
       "</div>"
      ],
      "text/plain": [
       "        median_x    count_x   median_y    count_y     median      count\n",
       "      total_area total_area total_area total_area total_area total_area\n",
       "rooms                                                                  \n",
       "1           31.0        187       32.1        570      39.55       2691\n",
       "2           44.4        261       45.8        561      60.40       2619\n",
       "3           56.0        143       60.0        538      83.35       2244\n",
       "4           49.0         42       74.0         71     112.60        653"
      ]
     },
     "execution_count": 541,
     "metadata": {},
     "output_type": "execute_result"
    }
   ],
   "source": [
    "live_fond # В этйо переменной хранится сводная таблица"
   ]
  },
  {
   "cell_type": "markdown",
   "metadata": {},
   "source": [
    "**В современных домах наиболее популярны 1-комнатные квартиры: 2512 продаж против 2332 у двухкомнатных, идущих на 2-м месте**"
   ]
  },
  {
   "cell_type": "markdown",
   "metadata": {},
   "source": [
    "### 4. Высота потолков"
   ]
  },
  {
   "cell_type": "code",
   "execution_count": 542,
   "metadata": {},
   "outputs": [
    {
     "data": {
      "text/plain": [
       "<matplotlib.axes._subplots.AxesSubplot at 0x7f5277ac7b50>"
      ]
     },
     "execution_count": 542,
     "metadata": {},
     "output_type": "execute_result"
    },
    {
     "data": {
      "image/png": "[encoded data removed]",
      "text/plain": [
       "<Figure size 432x288 with 1 Axes>"
      ]
     },
     "metadata": {
      "needs_background": "light"
     },
     "output_type": "display_data"
    }
   ],
   "source": [
    "df['ceiling_height'].hist(bins=30, range=(2, 5))"
   ]
  },
  {
   "cell_type": "markdown",
   "metadata": {},
   "source": [
    "#### Выводы\n",
    "1. Вижу ожидаемое распределение. Пики на значениях 2.5, 2.7, 3.0 метра.\n",
    "2. Намного меньше остальных значений в диапазон 2.5 - 3.0 метра, что логично.\n",
    "3. Значения выше 3м редки, но я не считаю их выбросами, потому что дома с такой высотой потолков существуют и строятся. Их на рынке немного, что и отражает данная гистограмма.\n",
    "4. Есть значения менее 2.5 м.\n",
    "\n",
    "#### Дальнейшие действия\n",
    "Сравню медианные значения квартир с потолками выше 3 м и всеми остальными"
   ]
  },
  {
   "cell_type": "code",
   "execution_count": 543,
   "metadata": {},
   "outputs": [
    {
     "data": {
      "text/html": [
       "<div>\n",
       "<style scoped>\n",
       "    .dataframe tbody tr th:only-of-type {\n",
       "        vertical-align: middle;\n",
       "    }\n",
       "\n",
       "    .dataframe tbody tr th {\n",
       "        vertical-align: top;\n",
       "    }\n",
       "\n",
       "    .dataframe thead th {\n",
       "        text-align: right;\n",
       "    }\n",
       "</style>\n",
       "<table border=\"1\" class=\"dataframe\">\n",
       "  <thead>\n",
       "    <tr style=\"text-align: right;\">\n",
       "      <th></th>\n",
       "      <th>index</th>\n",
       "      <th>0_выше_3м</th>\n",
       "      <th>0_ниже_3м</th>\n",
       "      <th>up_per_down</th>\n",
       "    </tr>\n",
       "  </thead>\n",
       "  <tbody>\n",
       "    <tr>\n",
       "      <th>0</th>\n",
       "      <td>city_centers_nearest</td>\n",
       "      <td>5253.500000</td>\n",
       "      <td>15791.000000</td>\n",
       "      <td>0.332690</td>\n",
       "    </tr>\n",
       "    <tr>\n",
       "      <th>1</th>\n",
       "      <td>airports_nearest</td>\n",
       "      <td>24404.500000</td>\n",
       "      <td>35151.000000</td>\n",
       "      <td>0.694276</td>\n",
       "    </tr>\n",
       "    <tr>\n",
       "      <th>2</th>\n",
       "      <td>parks_nearest</td>\n",
       "      <td>456.000000</td>\n",
       "      <td>460.000000</td>\n",
       "      <td>0.991304</td>\n",
       "    </tr>\n",
       "    <tr>\n",
       "      <th>3</th>\n",
       "      <td>parks_around_3000</td>\n",
       "      <td>1.000000</td>\n",
       "      <td>0.000000</td>\n",
       "      <td>inf</td>\n",
       "    </tr>\n",
       "    <tr>\n",
       "      <th>4</th>\n",
       "      <td>ponds_nearest</td>\n",
       "      <td>503.000000</td>\n",
       "      <td>503.000000</td>\n",
       "      <td>1.000000</td>\n",
       "    </tr>\n",
       "    <tr>\n",
       "      <th>5</th>\n",
       "      <td>ponds_around_3000</td>\n",
       "      <td>1.000000</td>\n",
       "      <td>1.000000</td>\n",
       "      <td>1.000000</td>\n",
       "    </tr>\n",
       "    <tr>\n",
       "      <th>6</th>\n",
       "      <td>floors_total</td>\n",
       "      <td>5.000000</td>\n",
       "      <td>9.000000</td>\n",
       "      <td>0.555556</td>\n",
       "    </tr>\n",
       "    <tr>\n",
       "      <th>7</th>\n",
       "      <td>floor</td>\n",
       "      <td>3.000000</td>\n",
       "      <td>4.000000</td>\n",
       "      <td>0.750000</td>\n",
       "    </tr>\n",
       "    <tr>\n",
       "      <th>8</th>\n",
       "      <td>rooms</td>\n",
       "      <td>3.000000</td>\n",
       "      <td>2.000000</td>\n",
       "      <td>1.500000</td>\n",
       "    </tr>\n",
       "    <tr>\n",
       "      <th>9</th>\n",
       "      <td>total_area</td>\n",
       "      <td>70.500000</td>\n",
       "      <td>48.000000</td>\n",
       "      <td>1.468750</td>\n",
       "    </tr>\n",
       "    <tr>\n",
       "      <th>10</th>\n",
       "      <td>kitchen_area</td>\n",
       "      <td>10.100000</td>\n",
       "      <td>8.600000</td>\n",
       "      <td>1.174419</td>\n",
       "    </tr>\n",
       "    <tr>\n",
       "      <th>11</th>\n",
       "      <td>living_area</td>\n",
       "      <td>42.540000</td>\n",
       "      <td>28.840000</td>\n",
       "      <td>1.475035</td>\n",
       "    </tr>\n",
       "    <tr>\n",
       "      <th>12</th>\n",
       "      <td>studio</td>\n",
       "      <td>0.000000</td>\n",
       "      <td>0.000000</td>\n",
       "      <td>NaN</td>\n",
       "    </tr>\n",
       "    <tr>\n",
       "      <th>13</th>\n",
       "      <td>open_plan</td>\n",
       "      <td>0.000000</td>\n",
       "      <td>0.000000</td>\n",
       "      <td>NaN</td>\n",
       "    </tr>\n",
       "    <tr>\n",
       "      <th>14</th>\n",
       "      <td>balcony</td>\n",
       "      <td>0.000000</td>\n",
       "      <td>0.000000</td>\n",
       "      <td>NaN</td>\n",
       "    </tr>\n",
       "    <tr>\n",
       "      <th>15</th>\n",
       "      <td>ceiling_height</td>\n",
       "      <td>3.200000</td>\n",
       "      <td>2.650000</td>\n",
       "      <td>1.207547</td>\n",
       "    </tr>\n",
       "    <tr>\n",
       "      <th>16</th>\n",
       "      <td>is_apartment</td>\n",
       "      <td>0.000000</td>\n",
       "      <td>0.000000</td>\n",
       "      <td>NaN</td>\n",
       "    </tr>\n",
       "    <tr>\n",
       "      <th>17</th>\n",
       "      <td>days_exposition</td>\n",
       "      <td>97.000000</td>\n",
       "      <td>70.000000</td>\n",
       "      <td>1.385714</td>\n",
       "    </tr>\n",
       "    <tr>\n",
       "      <th>18</th>\n",
       "      <td>total_images</td>\n",
       "      <td>10.000000</td>\n",
       "      <td>9.000000</td>\n",
       "      <td>1.111111</td>\n",
       "    </tr>\n",
       "    <tr>\n",
       "      <th>19</th>\n",
       "      <td>last_price</td>\n",
       "      <td>7.350000</td>\n",
       "      <td>4.300000</td>\n",
       "      <td>1.709302</td>\n",
       "    </tr>\n",
       "    <tr>\n",
       "      <th>20</th>\n",
       "      <td>price_m2</td>\n",
       "      <td>100256.000000</td>\n",
       "      <td>91194.000000</td>\n",
       "      <td>1.099371</td>\n",
       "    </tr>\n",
       "    <tr>\n",
       "      <th>21</th>\n",
       "      <td>ratio_area_living_to_total</td>\n",
       "      <td>0.609756</td>\n",
       "      <td>0.569498</td>\n",
       "      <td>1.070690</td>\n",
       "    </tr>\n",
       "    <tr>\n",
       "      <th>22</th>\n",
       "      <td>ratio_area_kitchen_to_total</td>\n",
       "      <td>0.150263</td>\n",
       "      <td>0.176759</td>\n",
       "      <td>0.850099</td>\n",
       "    </tr>\n",
       "    <tr>\n",
       "      <th>23</th>\n",
       "      <td>day_exposition</td>\n",
       "      <td>2.000000</td>\n",
       "      <td>2.000000</td>\n",
       "      <td>1.000000</td>\n",
       "    </tr>\n",
       "    <tr>\n",
       "      <th>24</th>\n",
       "      <td>month_exposition</td>\n",
       "      <td>6.000000</td>\n",
       "      <td>6.000000</td>\n",
       "      <td>1.000000</td>\n",
       "    </tr>\n",
       "    <tr>\n",
       "      <th>25</th>\n",
       "      <td>year_exposition</td>\n",
       "      <td>2017.000000</td>\n",
       "      <td>2017.000000</td>\n",
       "      <td>1.000000</td>\n",
       "    </tr>\n",
       "  </tbody>\n",
       "</table>\n",
       "</div>"
      ],
      "text/plain": [
       "                          index      0_выше_3м     0_ниже_3м  up_per_down\n",
       "0          city_centers_nearest    5253.500000  15791.000000     0.332690\n",
       "1              airports_nearest   24404.500000  35151.000000     0.694276\n",
       "2                 parks_nearest     456.000000    460.000000     0.991304\n",
       "3             parks_around_3000       1.000000      0.000000          inf\n",
       "4                 ponds_nearest     503.000000    503.000000     1.000000\n",
       "5             ponds_around_3000       1.000000      1.000000     1.000000\n",
       "6                  floors_total       5.000000      9.000000     0.555556\n",
       "7                         floor       3.000000      4.000000     0.750000\n",
       "8                         rooms       3.000000      2.000000     1.500000\n",
       "9                    total_area      70.500000     48.000000     1.468750\n",
       "10                 kitchen_area      10.100000      8.600000     1.174419\n",
       "11                  living_area      42.540000     28.840000     1.475035\n",
       "12                       studio       0.000000      0.000000          NaN\n",
       "13                    open_plan       0.000000      0.000000          NaN\n",
       "14                      balcony       0.000000      0.000000          NaN\n",
       "15               ceiling_height       3.200000      2.650000     1.207547\n",
       "16                 is_apartment       0.000000      0.000000          NaN\n",
       "17              days_exposition      97.000000     70.000000     1.385714\n",
       "18                 total_images      10.000000      9.000000     1.111111\n",
       "19                   last_price       7.350000      4.300000     1.709302\n",
       "20                     price_m2  100256.000000  91194.000000     1.099371\n",
       "21   ratio_area_living_to_total       0.609756      0.569498     1.070690\n",
       "22  ratio_area_kitchen_to_total       0.150263      0.176759     0.850099\n",
       "23               day_exposition       2.000000      2.000000     1.000000\n",
       "24             month_exposition       6.000000      6.000000     1.000000\n",
       "25              year_exposition    2017.000000   2017.000000     1.000000"
      ]
     },
     "execution_count": 543,
     "metadata": {},
     "output_type": "execute_result"
    }
   ],
   "source": [
    "ceiling_height_up_3m = df[df['ceiling_height'] > 3].median().reset_index()\n",
    "ceiling_height_down_3m = df[df['ceiling_height'] <= 3].median().reset_index()\n",
    "\n",
    "ceiling_height = ceiling_height_up_3m.merge(ceiling_height_down_3m, on='index', suffixes=('_выше_3м', '_ниже_3м'))\n",
    "ceiling_height['up_per_down'] = ceiling_height['0_выше_3м'] / ceiling_height['0_ниже_3м']\n",
    "ceiling_height"
   ]
  },
  {
   "cell_type": "code",
   "execution_count": 544,
   "metadata": {
    "scrolled": true
   },
   "outputs": [
    {
     "name": "stdout",
     "output_type": "stream",
     "text": [
      "Количество квартир с потолком выше 3 м: 818\n"
     ]
    }
   ],
   "source": [
    "print('Количество квартир с потолком выше 3 м:', df[df['ceiling_height'] > 3]['ceiling_height'].count())"
   ]
  },
  {
   "cell_type": "markdown",
   "metadata": {},
   "source": [
    "#### Квартиры с потолками выше 3 м объединяет следующее: \n",
    "1. Они в 3 раза ближе к центру, чем остальные\n",
    "2. Меньше этажность\n",
    "3. Больше комнат, больше площадь (на 70%), больше кухня\n",
    "4. Цена выше в 2 раза, цена за м2 выше на 20%\n",
    "\n",
    "#### Вывод: это не аномалия данных, а элитная застройка. Данный сегмент считаю нужным сохранить в датасете. Но проверить верхнюю границу на выбросы."
   ]
  },
  {
   "cell_type": "code",
   "execution_count": 545,
   "metadata": {},
   "outputs": [
    {
     "data": {
      "text/plain": [
       "count    20511.000000\n",
       "mean         2.682557\n",
       "std          0.792821\n",
       "min          1.000000\n",
       "25%          2.550000\n",
       "50%          2.700000\n",
       "75%          2.700000\n",
       "max         32.000000\n",
       "Name: ceiling_height, dtype: float64"
      ]
     },
     "execution_count": 545,
     "metadata": {},
     "output_type": "execute_result"
    }
   ],
   "source": [
    "df['ceiling_height'].describe()"
   ]
  },
  {
   "cell_type": "markdown",
   "metadata": {},
   "source": [
    "#### Верхняя граница нормального распределения — 4,6 метра.\n",
    "1. Это нормально и ожидаемо.\n",
    "2. Максимальное значение равно 100 м, что явно некорректно. Если это только не апартаменты под шатром цирка.\n",
    "3. Проверю, сколько объектов выше 4,6 м."
   ]
  },
  {
   "cell_type": "code",
   "execution_count": 546,
   "metadata": {},
   "outputs": [
    {
     "data": {
      "text/plain": [
       "28"
      ]
     },
     "execution_count": 546,
     "metadata": {},
     "output_type": "execute_result"
    }
   ],
   "source": [
    "df[df['ceiling_height'] > 4.6]['ceiling_height'].count()"
   ]
  },
  {
   "cell_type": "markdown",
   "metadata": {},
   "source": [
    "#### 32 квартиры\n",
    "Удаляю их. Это или ошибка в данных, или специфическая застройка."
   ]
  },
  {
   "cell_type": "code",
   "execution_count": 547,
   "metadata": {},
   "outputs": [
    {
     "data": {
      "text/plain": [
       "20511"
      ]
     },
     "execution_count": 547,
     "metadata": {},
     "output_type": "execute_result"
    }
   ],
   "source": [
    "df[\"ceiling_height\"].count()"
   ]
  },
  {
   "cell_type": "code",
   "execution_count": 548,
   "metadata": {},
   "outputs": [],
   "source": [
    "df = df.query('not ceiling_height > 4.6')"
   ]
  },
  {
   "cell_type": "code",
   "execution_count": 549,
   "metadata": {},
   "outputs": [
    {
     "name": "stdout",
     "output_type": "stream",
     "text": [
      "<class 'pandas.core.frame.DataFrame'>\n",
      "Int64Index: 20483 entries, 1 to 23698\n",
      "Data columns (total 29 columns):\n",
      " #   Column                       Non-Null Count  Dtype  \n",
      "---  ------                       --------------  -----  \n",
      " 0   locality_name                20483 non-null  object \n",
      " 1   city_centers_nearest         20483 non-null  int64  \n",
      " 2   airports_nearest             20483 non-null  int64  \n",
      " 3   parks_nearest                20483 non-null  int64  \n",
      " 4   parks_around_3000            20483 non-null  int64  \n",
      " 5   ponds_nearest                20483 non-null  int64  \n",
      " 6   ponds_around_3000            20483 non-null  int64  \n",
      " 7   floors_total                 20483 non-null  int64  \n",
      " 8   floor                        20483 non-null  int64  \n",
      " 9   rooms                        20483 non-null  int64  \n",
      " 10  total_area                   20483 non-null  float64\n",
      " 11  kitchen_area                 20483 non-null  float64\n",
      " 12  living_area                  20483 non-null  float64\n",
      " 13  studio                       20483 non-null  object \n",
      " 14  open_plan                    20483 non-null  object \n",
      " 15  balcony                      20483 non-null  int64  \n",
      " 16  ceiling_height               20483 non-null  float64\n",
      " 17  is_apartment                 20483 non-null  object \n",
      " 18  first_day_exposition         20483 non-null  object \n",
      " 19  days_exposition              20483 non-null  int64  \n",
      " 20  total_images                 20483 non-null  int64  \n",
      " 21  last_price                   20483 non-null  float64\n",
      " 22  price_m2                     20483 non-null  int64  \n",
      " 23  floor_category               20483 non-null  object \n",
      " 24  ratio_area_living_to_total   20483 non-null  float64\n",
      " 25  ratio_area_kitchen_to_total  20483 non-null  float64\n",
      " 26  day_exposition               20483 non-null  int64  \n",
      " 27  month_exposition             20483 non-null  int64  \n",
      " 28  year_exposition              20483 non-null  int64  \n",
      "dtypes: float64(7), int64(16), object(6)\n",
      "memory usage: 4.7+ MB\n"
     ]
    }
   ],
   "source": [
    "df.info()"
   ]
  },
  {
   "cell_type": "markdown",
   "metadata": {},
   "source": [
    "### Проверю квартиры с потолками ниже 2.5 м"
   ]
  },
  {
   "cell_type": "code",
   "execution_count": 550,
   "metadata": {},
   "outputs": [
    {
     "data": {
      "text/plain": [
       "262"
      ]
     },
     "execution_count": 550,
     "metadata": {},
     "output_type": "execute_result"
    }
   ],
   "source": [
    "df[df['ceiling_height'] < 2.5]['ceiling_height'].count() # Количество квартир с потолком ниже 2.5 м"
   ]
  },
  {
   "cell_type": "markdown",
   "metadata": {},
   "source": [
    "#### Выводы\n",
    "1. Сегмент ничтожно мал, всего 1%\n",
    "2. Потолов ниже 2.5 м нет даже в хрущевках. Так что это какая то очень специфическая застройка. \n",
    "3. Смысла сохранять этот сегмент не вижу. На решение поставленной задачи он никак не повлияет, разве что добавит \"шумов\".\n",
    "\n",
    "#### Удаляю"
   ]
  },
  {
   "cell_type": "code",
   "execution_count": 551,
   "metadata": {},
   "outputs": [],
   "source": [
    "df = df.query('not(ceiling_height < 2.5)')"
   ]
  },
  {
   "cell_type": "markdown",
   "metadata": {},
   "source": [
    "### 5. Срок продажи квартиры"
   ]
  },
  {
   "cell_type": "markdown",
   "metadata": {},
   "source": [
    "### Исследую гистограмму"
   ]
  },
  {
   "cell_type": "code",
   "execution_count": 552,
   "metadata": {},
   "outputs": [
    {
     "name": "stdout",
     "output_type": "stream",
     "text": [
      "Среднее: 152.0\n",
      "Медиана: 92.0\n"
     ]
    },
    {
     "data": {
      "image/png": "[encoded data removed]",
      "text/plain": [
       "<Figure size 432x288 with 1 Axes>"
      ]
     },
     "metadata": {
      "needs_background": "light"
     },
     "output_type": "display_data"
    }
   ],
   "source": [
    "df['days_exposition'].hist(bins=300, range=(1, 305))\n",
    "print('Среднее:', df['days_exposition'].mean().round(0))\n",
    "print('Медиана:', df[df['days_exposition'] > 0]['days_exposition'].median())"
   ]
  },
  {
   "cell_type": "markdown",
   "metadata": {},
   "source": [
    "**Выводы: Есть 6 явных аномалий**\n",
    "\n",
    "**Конкретизирую аномалии:**"
   ]
  },
  {
   "cell_type": "code",
   "execution_count": 553,
   "metadata": {},
   "outputs": [
    {
     "name": "stdout",
     "output_type": "stream",
     "text": [
      "Аномалии\n"
     ]
    },
    {
     "data": {
      "image/png": "[encoded data removed]",
      "text/plain": [
       "<Figure size 1296x360 with 3 Axes>"
      ]
     },
     "metadata": {
      "needs_background": "light"
     },
     "output_type": "display_data"
    }
   ],
   "source": [
    "plt.figure(figsize=(18, 5))\n",
    "\n",
    "plt.subplot(1, 3, 1)\n",
    "df['days_exposition'].hist(bins=8, range=(0, 8))\n",
    "\n",
    "plt.subplot(1, 3, 2)\n",
    "df['days_exposition'].hist(bins=20, range=(30, 50))\n",
    "\n",
    "plt.subplot(1, 3, 3)\n",
    "df['days_exposition'].hist(bins=20, range=(60, 90))\n",
    "print('Аномалии')"
   ]
  },
  {
   "cell_type": "markdown",
   "metadata": {},
   "source": [
    "#### Выводы\n",
    "1. Все 6 аномалий — это 6 конкретных цифр, а не сегментов от и до\n",
    "2. Аномальные сроки размещения — 0 дней, 1 день, 7 дней, 30, 45, 60 и 89.\n",
    "3. Такие ровные числа наводят меня на мысль, что это связано с условиями размещения объявлений.\n",
    "\n",
    "#### Обратившись к «Условиям размещения объявлени», я узнал:\n",
    "1. Для собственников есть 3 срока размещения бесплатных объявлений: 45, 60 и 90 дней в зависимости от цены, плюс платное объявление 30 дн.\n",
    "2. И хотя числа 45 и 60 дней сейчас не актуальны для Питера (только для регионов), предполагаю, что на 2017-2018 было именно так.\n",
    "\n",
    "#### Аномалии на 7, 30, 45, 60 и 89 днях оставлю в датасете\n",
    "- Потому что данные из этого столбца мне понадобятся только 1 раз при ответе на вопрос \"Сколько обычно занимает продажа квартиры?\". Для ответа на этот вопрос я исключу их из расчета — это проще, чем заменять. \n",
    "- В данном конкретном случае это допустимо, потому что заполнив аномалии средними значениями, на выходе я получу такие же квантили для определния обычного времени продажи.\n",
    "- Также не буду удалять, потому что объем этих аномалий — 4176 строк датасета. Это очень много и удалять эти строки из-за столбца, который я использую 1 раз неразумно."
   ]
  },
  {
   "cell_type": "markdown",
   "metadata": {},
   "source": [
    "#### Аномалия days_exposition(0)"
   ]
  },
  {
   "cell_type": "markdown",
   "metadata": {},
   "source": [
    "**Гипотеза. Это еще не проданные квартиры, поэтому у них и нет срока продажи.**\n",
    "Напомню, что это я заменил NaN на 0 при предобработке данных для удобства. На месте 0 по факту пустое значение = нет срока продажи."
   ]
  },
  {
   "cell_type": "markdown",
   "metadata": {},
   "source": [
    "**Посмотрю распределение объявлений из аномалии по годам и месяцам:**"
   ]
  },
  {
   "cell_type": "code",
   "execution_count": 554,
   "metadata": {},
   "outputs": [
    {
     "data": {
      "text/plain": [
       "<matplotlib.axes._subplots.AxesSubplot at 0x7f5276fc4fd0>"
      ]
     },
     "execution_count": 554,
     "metadata": {},
     "output_type": "execute_result"
    },
    {
     "data": {
      "image/png": "[encoded data removed]",
      "text/plain": [
       "<Figure size 1296x360 with 2 Axes>"
      ]
     },
     "metadata": {
      "needs_background": "light"
     },
     "output_type": "display_data"
    }
   ],
   "source": [
    "# Строю 2 гистограммы, для года и месяца публикации объявлений из аномалии\n",
    "\n",
    "plt.figure(figsize=(18, 5))\n",
    "\n",
    "plt.subplot(1, 2, 1)\n",
    "df[df['days_exposition'] == 0]['year_exposition'].hist(bins=6, range=(2014, 2019))\n",
    "\n",
    "plt.subplot(1, 2, 2)\n",
    "df[(df['days_exposition'] == 0) & (df['year_exposition'] == 2019)]['month_exposition'].hist(bins=12, range=(0, 12))"
   ]
  },
  {
   "cell_type": "markdown",
   "metadata": {},
   "source": [
    "#### Гипотеза подтверждена, квартиры из аномалии еще не проданы\n",
    "1. Этих квартир становится больше к последним датам из датасета"
   ]
  },
  {
   "cell_type": "markdown",
   "metadata": {},
   "source": [
    "#### Проверю, есть ли в принципе населенные пункты, в которых ни продано ни одной квартиры"
   ]
  },
  {
   "cell_type": "code",
   "execution_count": 555,
   "metadata": {},
   "outputs": [
    {
     "data": {
      "text/html": [
       "<div>\n",
       "<style scoped>\n",
       "    .dataframe tbody tr th:only-of-type {\n",
       "        vertical-align: middle;\n",
       "    }\n",
       "\n",
       "    .dataframe tbody tr th {\n",
       "        vertical-align: top;\n",
       "    }\n",
       "\n",
       "    .dataframe thead th {\n",
       "        text-align: right;\n",
       "    }\n",
       "</style>\n",
       "<table border=\"1\" class=\"dataframe\">\n",
       "  <thead>\n",
       "    <tr style=\"text-align: right;\">\n",
       "      <th></th>\n",
       "      <th>days_exposition</th>\n",
       "    </tr>\n",
       "    <tr>\n",
       "      <th>locality_name</th>\n",
       "      <th></th>\n",
       "    </tr>\n",
       "  </thead>\n",
       "  <tbody>\n",
       "    <tr>\n",
       "      <th>Кривко</th>\n",
       "      <td>0.0</td>\n",
       "    </tr>\n",
       "    <tr>\n",
       "      <th>Мыза</th>\n",
       "      <td>0.0</td>\n",
       "    </tr>\n",
       "    <tr>\n",
       "      <th>Меньковый</th>\n",
       "      <td>0.0</td>\n",
       "    </tr>\n",
       "    <tr>\n",
       "      <th>Дзержинский</th>\n",
       "      <td>0.0</td>\n",
       "    </tr>\n",
       "    <tr>\n",
       "      <th>Пчев</th>\n",
       "      <td>0.0</td>\n",
       "    </tr>\n",
       "  </tbody>\n",
       "</table>\n",
       "</div>"
      ],
      "text/plain": [
       "               days_exposition\n",
       "locality_name                 \n",
       "Кривко                     0.0\n",
       "Мыза                       0.0\n",
       "Меньковый                  0.0\n",
       "Дзержинский                0.0\n",
       "Пчев                       0.0"
      ]
     },
     "execution_count": 555,
     "metadata": {},
     "output_type": "execute_result"
    }
   ],
   "source": [
    "(df\n",
    "     .pivot_table(index='locality_name', values='days_exposition', aggfunc='mean')\n",
    "     .sort_values(by='days_exposition', ascending=True)\n",
    "     .head(5)\n",
    ")"
   ]
  },
  {
   "cell_type": "markdown",
   "metadata": {},
   "source": [
    "#### Такие населенные пункты есть\n",
    "Предполагаю, что это непопулярные геолокации. Удаляю их."
   ]
  },
  {
   "cell_type": "code",
   "execution_count": 556,
   "metadata": {},
   "outputs": [],
   "source": [
    "# В этой ячейке получаю список поселков, в которых нет ни одной продажи\n",
    "\n",
    "black_list_days_exposition_locality_name = (df\n",
    "     .pivot_table(index='locality_name', values='days_exposition', aggfunc='mean') # Получаю среднее время продажи квартиры\n",
    "     .query('days_exposition == 0') # Получаю срез поселков, в которых не продано ни одной квартиры\n",
    "     .reset_index()['locality_name'] # Переприсваиваю индексы + беру серию с названием населенных пунктов\n",
    "     .tolist() # Создаю из них список\n",
    ")"
   ]
  },
  {
   "cell_type": "code",
   "execution_count": 557,
   "metadata": {},
   "outputs": [],
   "source": [
    "df = df.query('locality_name not in @black_list_days_exposition_locality_name') # Удаляю поселки, в которых не продано ни одной квартиры"
   ]
  },
  {
   "cell_type": "markdown",
   "metadata": {},
   "source": [
    "### Определяю выбросы"
   ]
  },
  {
   "cell_type": "code",
   "execution_count": 558,
   "metadata": {},
   "outputs": [],
   "source": [
    "# Создаю таблицу без аномальных значений\n",
    "\n",
    "df_without_anomalies_in_days_exposition = df.query('days_exposition not in (0, 7, 30, 45, 60, 89)')"
   ]
  },
  {
   "cell_type": "code",
   "execution_count": 559,
   "metadata": {},
   "outputs": [
    {
     "data": {
      "text/plain": [
       "Нижняя граница              0.0\n",
       "Первый квантиль            43.0\n",
       "Второй квантиль           109.0\n",
       "Третий квантиль           244.0\n",
       "Верхняя граница           545.5\n",
       "Межквартильный размах     201.0\n",
       "Значений выше границы    1199.0\n",
       "Значений ниже границы       0.0\n",
       "dtype: float64"
      ]
     },
     "execution_count": 559,
     "metadata": {},
     "output_type": "execute_result"
    }
   ],
   "source": [
    "# Получаю значение верхней границы\n",
    "\n",
    "border_normal_range(df_without_anomalies_in_days_exposition, 'days_exposition')"
   ]
  },
  {
   "cell_type": "markdown",
   "metadata": {},
   "source": [
    "#### Верхняя граница 545 дней. Квартир, которые продавались дольше — 1223."
   ]
  },
  {
   "cell_type": "markdown",
   "metadata": {},
   "source": [
    "### Определяю, сколько обычно занимает продажа"
   ]
  },
  {
   "cell_type": "markdown",
   "metadata": {},
   "source": [
    "1. В задаче поставлен вопрос \"Опишите, сколько обычно занимает продажа?\".\n",
    "2. Я трактую слово «обычный»  как число дней, равное межквартильному размаху. \n",
    "3. Эта трактовка равнозначна формулировке: «С вероятностью 50% квартира будет продана за этот срок»."
   ]
  },
  {
   "cell_type": "code",
   "execution_count": 560,
   "metadata": {},
   "outputs": [
    {
     "data": {
      "text/plain": [
       "count    14811.000000\n",
       "mean       138.283100\n",
       "std        127.243963\n",
       "min          1.000000\n",
       "25%         40.000000\n",
       "50%         97.000000\n",
       "75%        198.000000\n",
       "max        542.000000\n",
       "Name: days_exposition, dtype: float64"
      ]
     },
     "execution_count": 560,
     "metadata": {},
     "output_type": "execute_result"
    }
   ],
   "source": [
    "df_without_anomalies_in_days_exposition.query('days_exposition < 542.5')['days_exposition'].describe()"
   ]
  },
  {
   "cell_type": "markdown",
   "metadata": {},
   "source": [
    "#### 150 дней или 6 месяцев — столько обычно занимает продажа квартиры\n",
    "Межвартильный размах, без аномалий и сверхбольших выбросов, равен 152 дням."
   ]
  },
  {
   "cell_type": "markdown",
   "metadata": {},
   "source": [
    "## Блок задач 2 (задача 2 из ТЗ). Изучение взаимосвязей"
   ]
  },
  {
   "cell_type": "markdown",
   "metadata": {},
   "source": [
    "**Превью**\n",
    "1. Как зависит цена от площади (цена общая и кв.м.)?\n",
    "2. Как зависит цена от количества комнат?\n",
    "3. Как зависит цена от удаленности от центра?\n",
    "4. Как зависит цена от этажа?\n",
    "5. Как зависит цена от даты размещения: дня, недели, года?"
   ]
  },
  {
   "cell_type": "markdown",
   "metadata": {},
   "source": [
    "<div class=\"alert alert-block alert-warning\">\n",
    "<b>КОММЕНТАРИЙ ОТ НАСТАВНИКА:</b> \n",
    "\n",
    "Можно построить табличку корреляций признака price_m2 и last_price:\n",
    "    \n",
    "    df.corr()[['last_price', 'price_m2']].sort_values('price_per_area')\n",
    "</div>"
   ]
  },
  {
   "cell_type": "markdown",
   "metadata": {},
   "source": [
    "### 1. Как зависит цена от площади?"
   ]
  },
  {
   "cell_type": "markdown",
   "metadata": {},
   "source": [
    "#### Цена за кв.м."
   ]
  },
  {
   "cell_type": "code",
   "execution_count": 561,
   "metadata": {},
   "outputs": [
    {
     "name": "stdout",
     "output_type": "stream",
     "text": [
      "График зависимости цены за кв.м. от площади квартиры\n",
      "Коэффициент корреляции равен:  -0.1012911106876209\n"
     ]
    },
    {
     "data": {
      "image/png": "[encoded data removed]",
      "text/plain": [
       "<Figure size 432x288 with 1 Axes>"
      ]
     },
     "metadata": {
      "needs_background": "light"
     },
     "output_type": "display_data"
    }
   ],
   "source": [
    "# Создаю копию таблицы для использования конкретно в этой ячейке (чтобы не изменять основной датасет)\n",
    "\n",
    "df_bufer = df\n",
    "df_bufer['total_area'].round(0) # Округляю в ней значения общей площади\n",
    "\n",
    "\n",
    "(df_bufer\n",
    "     .pivot_table(index='total_area', values='price_m2', aggfunc='median')\n",
    "     .reset_index()\n",
    "     .plot(x='total_area', y='price_m2', style='o')\n",
    ")\n",
    "\n",
    "print('График зависимости цены за кв.м. от площади квартиры')\n",
    "print('Коэффициент корреляции равен: ', df['total_area'].corr(df['price_m2']))"
   ]
  },
  {
   "cell_type": "markdown",
   "metadata": {},
   "source": [
    "**Вывод: чем больше общая площадь, тем ниже цена за кв.м.**"
   ]
  },
  {
   "cell_type": "markdown",
   "metadata": {},
   "source": [
    "### 2. Как зависит цена от количества комнат?"
   ]
  },
  {
   "cell_type": "code",
   "execution_count": 562,
   "metadata": {},
   "outputs": [
    {
     "name": "stdout",
     "output_type": "stream",
     "text": [
      "График зависимости цены от числа комнат\n",
      "Коэффициент корреляции равен:  0.4975382897140883\n"
     ]
    },
    {
     "data": {
      "image/png": "[encoded data removed]",
      "text/plain": [
       "<Figure size 432x288 with 1 Axes>"
      ]
     },
     "metadata": {
      "needs_background": "light"
     },
     "output_type": "display_data"
    }
   ],
   "source": [
    "(df\n",
    "     .pivot_table(index='rooms', values='last_price', aggfunc='median')\n",
    "     .reset_index()\n",
    "     .plot(x='rooms', y='last_price')\n",
    ")\n",
    "\n",
    "print('График зависимости цены от числа комнат')\n",
    "print('Коэффициент корреляции равен: ', df['last_price'].corr(df['rooms']))"
   ]
  },
  {
   "cell_type": "markdown",
   "metadata": {},
   "source": [
    "**Вывод: чем больше комнат, тем выше цена.**\n",
    "- Исключение — 7-комнатные квартиры. Их цена ниже 6-комнатных."
   ]
  },
  {
   "cell_type": "markdown",
   "metadata": {},
   "source": [
    "### 3. Как зависит цена от удаленности от центра?"
   ]
  },
  {
   "cell_type": "code",
   "execution_count": 563,
   "metadata": {},
   "outputs": [],
   "source": [
    "# Окргуляю значения переменной \"расстояние до центра\" до 1 км\n",
    "\n",
    "df['city_centers_nearest'] = (df['city_centers_nearest'] / 1000).round(0)"
   ]
  },
  {
   "cell_type": "code",
   "execution_count": 564,
   "metadata": {},
   "outputs": [
    {
     "name": "stdout",
     "output_type": "stream",
     "text": [
      "Коэффициент корреляции равен:  -0.5915195018513417\n"
     ]
    },
    {
     "data": {
      "image/png": "[encoded data removed]",
      "text/plain": [
       "<Figure size 432x288 with 1 Axes>"
      ]
     },
     "metadata": {
      "needs_background": "light"
     },
     "output_type": "display_data"
    }
   ],
   "source": [
    "# Создаю срез данных «только объявления из Санкт-Петербурга»\n",
    "# Расчитываю медину цены за кв.м. для каждого километра\n",
    "# Строю график\n",
    "\n",
    "(df\n",
    "     .query('locality_name == \"Санкт-Петербург\"')\n",
    "     .pivot_table(index='city_centers_nearest', values='price_m2', aggfunc='median')\n",
    "     .reset_index()\n",
    "     .plot(x='city_centers_nearest', y='price_m2')\n",
    ")\n",
    "\n",
    "print('Коэффициент корреляции равен: ', df['city_centers_nearest'].corr(df['price_m2']))"
   ]
  },
  {
   "cell_type": "markdown",
   "metadata": {},
   "source": [
    "**Очевидный вывод: Чем ближе к центру города, тем выше цена квартиры**\n",
    "- Более детальные выводы описываю ниже в последнем блоке задания, т.к. поставленная там задача фактически дублирует эту."
   ]
  },
  {
   "cell_type": "markdown",
   "metadata": {},
   "source": [
    "### 4. Как зависит цена квартиры от этажа?"
   ]
  },
  {
   "cell_type": "markdown",
   "metadata": {},
   "source": [
    "**Построю гистограммы, чтобы визуально найти отличия**"
   ]
  },
  {
   "cell_type": "code",
   "execution_count": 565,
   "metadata": {},
   "outputs": [
    {
     "name": "stdout",
     "output_type": "stream",
     "text": [
      "Первый, последний, другой этаж\n"
     ]
    },
    {
     "data": {
      "image/png": "[encoded data removed]",
      "text/plain": [
       "<Figure size 1296x288 with 3 Axes>"
      ]
     },
     "metadata": {
      "needs_background": "light"
     },
     "output_type": "display_data"
    }
   ],
   "source": [
    "plt.figure(figsize=(18, 4))\n",
    "\n",
    "plt.subplot(1, 3, 1)\n",
    "df[df['floor_category'] == 'первый']['price_m2'].hist()\n",
    "\n",
    "plt.subplot(1, 3, 2)\n",
    "df[df['floor_category'] == 'последний']['price_m2'].hist()\n",
    "\n",
    "plt.subplot(1, 3, 3)\n",
    "df[df['floor_category'] == 'другой']['price_m2'].hist()\n",
    "\n",
    "print('Первый, последний, другой этаж')"
   ]
  },
  {
   "cell_type": "markdown",
   "metadata": {},
   "source": [
    "**Визуально различия есть** \n",
    "- У квартир на первом и последнем этаже пик цены наблюдается в диапазон 75-100 тыс. за кв.м.\n",
    "- Для квартир на других этажах пик сдвинут вправо по цене, от 80 до 110 тыс. руб.\n",
    "\n",
    "**Построю сводную таблицу, чтобы видеть цифры:**"
   ]
  },
  {
   "cell_type": "code",
   "execution_count": 566,
   "metadata": {},
   "outputs": [
    {
     "data": {
      "text/html": [
       "<div>\n",
       "<style scoped>\n",
       "    .dataframe tbody tr th:only-of-type {\n",
       "        vertical-align: middle;\n",
       "    }\n",
       "\n",
       "    .dataframe tbody tr th {\n",
       "        vertical-align: top;\n",
       "    }\n",
       "\n",
       "    .dataframe thead th {\n",
       "        text-align: right;\n",
       "    }\n",
       "</style>\n",
       "<table border=\"1\" class=\"dataframe\">\n",
       "  <thead>\n",
       "    <tr style=\"text-align: right;\">\n",
       "      <th>rooms</th>\n",
       "      <th>floor_category</th>\n",
       "      <th>1</th>\n",
       "      <th>2</th>\n",
       "      <th>3</th>\n",
       "      <th>4</th>\n",
       "      <th>5</th>\n",
       "      <th>6</th>\n",
       "      <th>7</th>\n",
       "    </tr>\n",
       "  </thead>\n",
       "  <tbody>\n",
       "    <tr>\n",
       "      <th>0</th>\n",
       "      <td>другой</td>\n",
       "      <td>101.0</td>\n",
       "      <td>95.0</td>\n",
       "      <td>86.0</td>\n",
       "      <td>82.0</td>\n",
       "      <td>75.0</td>\n",
       "      <td>78.0</td>\n",
       "      <td>NaN</td>\n",
       "    </tr>\n",
       "    <tr>\n",
       "      <th>1</th>\n",
       "      <td>первый</td>\n",
       "      <td>87.0</td>\n",
       "      <td>77.0</td>\n",
       "      <td>75.0</td>\n",
       "      <td>74.0</td>\n",
       "      <td>76.0</td>\n",
       "      <td>70.0</td>\n",
       "      <td>NaN</td>\n",
       "    </tr>\n",
       "    <tr>\n",
       "      <th>2</th>\n",
       "      <td>последний</td>\n",
       "      <td>89.0</td>\n",
       "      <td>81.0</td>\n",
       "      <td>80.0</td>\n",
       "      <td>79.0</td>\n",
       "      <td>74.0</td>\n",
       "      <td>61.0</td>\n",
       "      <td>39.0</td>\n",
       "    </tr>\n",
       "  </tbody>\n",
       "</table>\n",
       "</div>"
      ],
      "text/plain": [
       "rooms floor_category      1     2     3     4     5     6     7\n",
       "0             другой  101.0  95.0  86.0  82.0  75.0  78.0   NaN\n",
       "1             первый   87.0  77.0  75.0  74.0  76.0  70.0   NaN\n",
       "2          последний   89.0  81.0  80.0  79.0  74.0  61.0  39.0"
      ]
     },
     "execution_count": 566,
     "metadata": {},
     "output_type": "execute_result"
    }
   ],
   "source": [
    "(df.pivot_table(index='floor_category', values='price_m2', columns='rooms' )/1000).reset_index().round(0)"
   ]
  },
  {
   "cell_type": "markdown",
   "metadata": {},
   "source": [
    "**Вывод: Первый и последний этаж дешевле остальных.**\n",
    "- Первый\n",
    "- Второй"
   ]
  },
  {
   "cell_type": "markdown",
   "metadata": {},
   "source": [
    "### 5. Как зависит цена от даты размещения?"
   ]
  },
  {
   "cell_type": "markdown",
   "metadata": {},
   "source": [
    "#### Динамика по годам"
   ]
  },
  {
   "cell_type": "code",
   "execution_count": 567,
   "metadata": {
    "scrolled": true
   },
   "outputs": [
    {
     "name": "stdout",
     "output_type": "stream",
     "text": [
      "Динамика цены за кв.м.\n"
     ]
    },
    {
     "data": {
      "image/png": "[encoded data removed]",
      "text/plain": [
       "<Figure size 432x288 with 1 Axes>"
      ]
     },
     "metadata": {
      "needs_background": "light"
     },
     "output_type": "display_data"
    }
   ],
   "source": [
    "(df\n",
    "     .pivot_table(index='year_exposition', values='price_m2', aggfunc='median')\n",
    "     .reset_index()\n",
    "     .plot(x='year_exposition', y='price_m2', style='o-')\n",
    ")\n",
    "print('Динамика цены за кв.м.')"
   ]
  },
  {
   "cell_type": "markdown",
   "metadata": {},
   "source": [
    "**Выводы**\n",
    "1. На графике видно снижение цены за кв.м. с 2014 по 2016 года. Подъем цены с 2017 по 2019 год. Что соответствует датам «кризиса» в экономике после событий 2014 года. Видно, что восстановление экономики началось в конце 2016 года.\n",
    "2. За 5 лет, несмотря на временное падение, цена недвижимости выросла на 8,5%."
   ]
  },
  {
   "cell_type": "markdown",
   "metadata": {},
   "source": [
    "**Построю также график для общей цены квартиры:**"
   ]
  },
  {
   "cell_type": "code",
   "execution_count": 568,
   "metadata": {},
   "outputs": [
    {
     "name": "stdout",
     "output_type": "stream",
     "text": [
      "Динамика общей цены продажи квартиры\n"
     ]
    },
    {
     "data": {
      "image/png": "[encoded data removed]",
      "text/plain": [
       "<Figure size 432x288 with 1 Axes>"
      ]
     },
     "metadata": {
      "needs_background": "light"
     },
     "output_type": "display_data"
    }
   ],
   "source": [
    "(df\n",
    "     .pivot_table(index='year_exposition', values='last_price', aggfunc='median')\n",
    "     .reset_index()\n",
    "     .plot(x='year_exposition', y='last_price', style='o-')\n",
    ")\n",
    "print('Динамика общей цены продажи квартиры')"
   ]
  },
  {
   "cell_type": "markdown",
   "metadata": {},
   "source": [
    "**Выводы**\n",
    "1. На графике видно снижение с 2014 по 2016 года и подъем с 2017 по 2019 год, как и на графике цены за кв.м.\n",
    "2. Но, в отличии от цены за кв.м., продажная цена квартир снизилась на 10,8%, в то время как цена за кв.м. увеличилась на 8,5%.\n",
    "3. Также, интересный момент, на дне падения в 2016 году средняя цена квартиры составляла 77% от цены пика, в то время как цена за кв.м. снизилась всего на 2,8%. Это говорит о том, что в эти годы продавали, преимущественно, дешевые квартиры небольшой площади. Владельцы дорогой недвижимости предпочли сохранить ее до повышения цен. \n",
    "\n",
    "**Гипотеза по 2-второму выводу**\n",
    "Снижение цены квартиры при увеличении стоимости кв.м. говорит о том, что квартиры стали и меньше, и дороже за ту же площадь. Проверю это, рассчитав изменение площади."
   ]
  },
  {
   "cell_type": "code",
   "execution_count": 569,
   "metadata": {},
   "outputs": [
    {
     "name": "stdout",
     "output_type": "stream",
     "text": [
      "Изменение площади квартир с 2014 по 2019 годы\n"
     ]
    },
    {
     "data": {
      "image/png": "[encoded data removed]",
      "text/plain": [
       "<Figure size 432x288 with 1 Axes>"
      ]
     },
     "metadata": {
      "needs_background": "light"
     },
     "output_type": "display_data"
    }
   ],
   "source": [
    "(df\n",
    "     .pivot_table(index='year_exposition', values='total_area', aggfunc='median')\n",
    "     .reset_index()\n",
    "     .plot(x='year_exposition', y='total_area', style='o-')\n",
    ")\n",
    "print('Изменение площади квартир с 2014 по 2019 годы')"
   ]
  },
  {
   "cell_type": "markdown",
   "metadata": {},
   "source": [
    "**Гипотеза подтверждается.** Начиная с 2014 года застройщики уменьшают площадь квартир для сохранения приемлемой цены продажи."
   ]
  },
  {
   "cell_type": "markdown",
   "metadata": {},
   "source": [
    "#### Как изменяется цена от месяца к месяцу"
   ]
  },
  {
   "cell_type": "code",
   "execution_count": 570,
   "metadata": {},
   "outputs": [
    {
     "name": "stdout",
     "output_type": "stream",
     "text": [
      "Динамика цены за кв.м.\n"
     ]
    },
    {
     "data": {
      "image/png": "[encoded data removed]",
      "text/plain": [
       "<Figure size 432x288 with 1 Axes>"
      ]
     },
     "metadata": {
      "needs_background": "light"
     },
     "output_type": "display_data"
    }
   ],
   "source": [
    "(df\n",
    "     .pivot_table(index='month_exposition', values='price_m2', aggfunc='median')\n",
    "     .reset_index()\n",
    "     .plot(x='month_exposition', y='price_m2', style='o-')\n",
    ")\n",
    "print('Динамика цены за кв.м.')"
   ]
  },
  {
   "cell_type": "markdown",
   "metadata": {},
   "source": [
    "**Выводы**\n",
    "1. Цена снижается с приближением лета, с апреля по июнь. Разница между пиком в конце марта и минимальной ценой в июне составляет 3,7%.\n",
    "2. Летом цена плавно повышается до околомартовских значений.\n",
    "3. Далее спад до октября. После короткого октябрьского повышения снова спад в ноябре и декабре, перед новым годом.\n",
    "4. **Самые выгодные месяцы для покупки: июнь и декабрь. В апреле и августе цена максимальная.**"
   ]
  },
  {
   "cell_type": "markdown",
   "metadata": {},
   "source": [
    "#### Как зависит цена от дня размещения объявления"
   ]
  },
  {
   "cell_type": "code",
   "execution_count": 571,
   "metadata": {},
   "outputs": [
    {
     "name": "stdout",
     "output_type": "stream",
     "text": [
      "Динамика цены за кв.м.\n"
     ]
    },
    {
     "data": {
      "image/png": "[encoded data removed]",
      "text/plain": [
       "<Figure size 432x288 with 1 Axes>"
      ]
     },
     "metadata": {
      "needs_background": "light"
     },
     "output_type": "display_data"
    }
   ],
   "source": [
    "(df\n",
    "     .pivot_table(index='day_exposition', values='price_m2', aggfunc='median')\n",
    "     .reset_index()\n",
    "     .plot(x='day_exposition', y='price_m2', style='o-')\n",
    ")\n",
    "print('Динамика цены за кв.м.')"
   ]
  },
  {
   "cell_type": "markdown",
   "metadata": {},
   "source": [
    "**В среду цена максимальная, в субботу минимальная, разница между этими днями 2%**. При цене квартиры, например, в 4 млн. руб, 2% — это 80 тыс. руб. Так что не знаю, кому поможет эта информация."
   ]
  },
  {
   "cell_type": "markdown",
   "metadata": {},
   "source": [
    "## Блок задач 3. ТОП-10 населенных пунктов"
   ]
  },
  {
   "cell_type": "code",
   "execution_count": 572,
   "metadata": {
    "scrolled": true
   },
   "outputs": [
    {
     "data": {
      "text/html": [
       "<div>\n",
       "<style scoped>\n",
       "    .dataframe tbody tr th:only-of-type {\n",
       "        vertical-align: middle;\n",
       "    }\n",
       "\n",
       "    .dataframe tbody tr th {\n",
       "        vertical-align: top;\n",
       "    }\n",
       "\n",
       "    .dataframe thead th {\n",
       "        text-align: right;\n",
       "    }\n",
       "</style>\n",
       "<table border=\"1\" class=\"dataframe\">\n",
       "  <thead>\n",
       "    <tr style=\"text-align: right;\">\n",
       "      <th></th>\n",
       "      <th>balcony</th>\n",
       "    </tr>\n",
       "    <tr>\n",
       "      <th>locality_name</th>\n",
       "      <th></th>\n",
       "    </tr>\n",
       "  </thead>\n",
       "  <tbody>\n",
       "    <tr>\n",
       "      <th>Санкт-Петербург</th>\n",
       "      <td>12878</td>\n",
       "    </tr>\n",
       "    <tr>\n",
       "      <th>Муриный</th>\n",
       "      <td>544</td>\n",
       "    </tr>\n",
       "    <tr>\n",
       "      <th>Кудрово</th>\n",
       "      <td>436</td>\n",
       "    </tr>\n",
       "    <tr>\n",
       "      <th>Шушар</th>\n",
       "      <td>426</td>\n",
       "    </tr>\n",
       "    <tr>\n",
       "      <th>Всеволожск</th>\n",
       "      <td>381</td>\n",
       "    </tr>\n",
       "    <tr>\n",
       "      <th>Колпино</th>\n",
       "      <td>329</td>\n",
       "    </tr>\n",
       "    <tr>\n",
       "      <th>Пушкин</th>\n",
       "      <td>322</td>\n",
       "    </tr>\n",
       "    <tr>\n",
       "      <th>Парголовый</th>\n",
       "      <td>314</td>\n",
       "    </tr>\n",
       "    <tr>\n",
       "      <th>Гатчина</th>\n",
       "      <td>299</td>\n",
       "    </tr>\n",
       "    <tr>\n",
       "      <th>Выборг</th>\n",
       "      <td>228</td>\n",
       "    </tr>\n",
       "  </tbody>\n",
       "</table>\n",
       "</div>"
      ],
      "text/plain": [
       "                 balcony\n",
       "locality_name           \n",
       "Санкт-Петербург    12878\n",
       "Муриный              544\n",
       "Кудрово              436\n",
       "Шушар                426\n",
       "Всеволожск           381\n",
       "Колпино              329\n",
       "Пушкин               322\n",
       "Парголовый           314\n",
       "Гатчина              299\n",
       "Выборг               228"
      ]
     },
     "execution_count": 572,
     "metadata": {},
     "output_type": "execute_result"
    }
   ],
   "source": [
    "# Создаю серию из ТОП-10 населенных пунктов, сгруппированных по количеству объявлений\n",
    "\n",
    "popular_locality_name = (df\n",
    "     .pivot_table(index='locality_name', values='balcony', aggfunc='count')\n",
    "     .sort_values('balcony', ascending=False)\n",
    "     .head(10)\n",
    ")\n",
    "\n",
    "popular_locality_name"
   ]
  },
  {
   "cell_type": "code",
   "execution_count": 573,
   "metadata": {},
   "outputs": [
    {
     "data": {
      "text/html": [
       "<div>\n",
       "<style scoped>\n",
       "    .dataframe tbody tr th:only-of-type {\n",
       "        vertical-align: middle;\n",
       "    }\n",
       "\n",
       "    .dataframe tbody tr th {\n",
       "        vertical-align: top;\n",
       "    }\n",
       "\n",
       "    .dataframe thead th {\n",
       "        text-align: right;\n",
       "    }\n",
       "</style>\n",
       "<table border=\"1\" class=\"dataframe\">\n",
       "  <thead>\n",
       "    <tr style=\"text-align: right;\">\n",
       "      <th></th>\n",
       "      <th>locality_name</th>\n",
       "      <th>price_m2</th>\n",
       "    </tr>\n",
       "  </thead>\n",
       "  <tbody>\n",
       "    <tr>\n",
       "      <th>0</th>\n",
       "      <td>Санкт-Петербург</td>\n",
       "      <td>103152.279158</td>\n",
       "    </tr>\n",
       "    <tr>\n",
       "      <th>1</th>\n",
       "      <td>Пушкин</td>\n",
       "      <td>100021.947205</td>\n",
       "    </tr>\n",
       "    <tr>\n",
       "      <th>2</th>\n",
       "      <td>Кудрово</td>\n",
       "      <td>95003.997706</td>\n",
       "    </tr>\n",
       "    <tr>\n",
       "      <th>3</th>\n",
       "      <td>Парголовый</td>\n",
       "      <td>91069.031847</td>\n",
       "    </tr>\n",
       "    <tr>\n",
       "      <th>4</th>\n",
       "      <td>Муриный</td>\n",
       "      <td>85366.167279</td>\n",
       "    </tr>\n",
       "    <tr>\n",
       "      <th>5</th>\n",
       "      <td>Шушар</td>\n",
       "      <td>78361.481221</td>\n",
       "    </tr>\n",
       "    <tr>\n",
       "      <th>6</th>\n",
       "      <td>Колпино</td>\n",
       "      <td>75241.975684</td>\n",
       "    </tr>\n",
       "    <tr>\n",
       "      <th>7</th>\n",
       "      <td>Гатчина</td>\n",
       "      <td>69072.294314</td>\n",
       "    </tr>\n",
       "    <tr>\n",
       "      <th>8</th>\n",
       "      <td>Всеволожск</td>\n",
       "      <td>67487.314961</td>\n",
       "    </tr>\n",
       "    <tr>\n",
       "      <th>9</th>\n",
       "      <td>Выборг</td>\n",
       "      <td>58159.039474</td>\n",
       "    </tr>\n",
       "  </tbody>\n",
       "</table>\n",
       "</div>"
      ],
      "text/plain": [
       "     locality_name       price_m2\n",
       "0  Санкт-Петербург  103152.279158\n",
       "1           Пушкин  100021.947205\n",
       "2          Кудрово   95003.997706\n",
       "3       Парголовый   91069.031847\n",
       "4          Муриный   85366.167279\n",
       "5            Шушар   78361.481221\n",
       "6          Колпино   75241.975684\n",
       "7          Гатчина   69072.294314\n",
       "8       Всеволожск   67487.314961\n",
       "9           Выборг   58159.039474"
      ]
     },
     "execution_count": 573,
     "metadata": {},
     "output_type": "execute_result"
    }
   ],
   "source": [
    "# Этот код создает срез по условию \"только населенные пункты из ТОП-10, созданный выше\"\n",
    "\n",
    "(df\n",
    "    .query('locality_name in @popular_locality_name.index')\n",
    "    .pivot_table(index='locality_name', values='price_m2')\n",
    "    .sort_values('price_m2', ascending=False)\n",
    "    .reset_index()\n",
    ")"
   ]
  },
  {
   "cell_type": "markdown",
   "metadata": {},
   "source": [
    "- **Самые дорогие населенные пункты** — это Санкт-Петербург, Пушкин, Кудрово, Парголово и Мурино.\n",
    "- **Населенные пункты с самой низкой стоимостью жилья** — поселок Шушары, Колпино, Гатчина, Всеволожск и Выборг."
   ]
  },
  {
   "cell_type": "code",
   "execution_count": 574,
   "metadata": {},
   "outputs": [
    {
     "data": {
      "text/plain": [
       "<matplotlib.axes._subplots.AxesSubplot at 0x7f5279682690>"
      ]
     },
     "execution_count": 574,
     "metadata": {},
     "output_type": "execute_result"
    },
    {
     "data": {
      "image/png": "[encoded data removed]",
      "text/plain": [
       "<Figure size 432x288 with 1 Axes>"
      ]
     },
     "metadata": {
      "needs_background": "light"
     },
     "output_type": "display_data"
    }
   ],
   "source": [
    "top_locality = df['locality_name'].value_counts().sort_values(ascending=False).head(10)\n",
    "\n",
    "(df\n",
    "    .query('locality_name in @top_locality.index')\n",
    "    .pivot_table(index='locality_name', values='price_m2', aggfunc='median')\n",
    "    .sort_values('price_m2')\n",
    "    .plot(kind='bar')\n",
    ")"
   ]
  },
  {
   "cell_type": "code",
   "execution_count": 413,
   "metadata": {},
   "outputs": [
    {
     "data": {
      "text/html": [
       "<div>\n",
       "<style scoped>\n",
       "    .dataframe tbody tr th:only-of-type {\n",
       "        vertical-align: middle;\n",
       "    }\n",
       "\n",
       "    .dataframe tbody tr th {\n",
       "        vertical-align: top;\n",
       "    }\n",
       "\n",
       "    .dataframe thead th {\n",
       "        text-align: right;\n",
       "    }\n",
       "</style>\n",
       "<table border=\"1\" class=\"dataframe\">\n",
       "  <thead>\n",
       "    <tr style=\"text-align: right;\">\n",
       "      <th></th>\n",
       "      <th>Col1</th>\n",
       "      <th>Col2</th>\n",
       "      <th>X</th>\n",
       "    </tr>\n",
       "  </thead>\n",
       "  <tbody>\n",
       "    <tr>\n",
       "      <th>0</th>\n",
       "      <td>-0.466869</td>\n",
       "      <td>-0.791259</td>\n",
       "      <td>A</td>\n",
       "    </tr>\n",
       "    <tr>\n",
       "      <th>1</th>\n",
       "      <td>-0.537155</td>\n",
       "      <td>0.205682</td>\n",
       "      <td>A</td>\n",
       "    </tr>\n",
       "    <tr>\n",
       "      <th>2</th>\n",
       "      <td>-0.311773</td>\n",
       "      <td>-1.047944</td>\n",
       "      <td>A</td>\n",
       "    </tr>\n",
       "    <tr>\n",
       "      <th>3</th>\n",
       "      <td>-2.138260</td>\n",
       "      <td>-1.152279</td>\n",
       "      <td>A</td>\n",
       "    </tr>\n",
       "    <tr>\n",
       "      <th>4</th>\n",
       "      <td>-0.316366</td>\n",
       "      <td>1.383838</td>\n",
       "      <td>A</td>\n",
       "    </tr>\n",
       "    <tr>\n",
       "      <th>5</th>\n",
       "      <td>-0.738885</td>\n",
       "      <td>0.844302</td>\n",
       "      <td>B</td>\n",
       "    </tr>\n",
       "    <tr>\n",
       "      <th>6</th>\n",
       "      <td>-0.882864</td>\n",
       "      <td>-0.964179</td>\n",
       "      <td>B</td>\n",
       "    </tr>\n",
       "    <tr>\n",
       "      <th>7</th>\n",
       "      <td>0.013704</td>\n",
       "      <td>0.253331</td>\n",
       "      <td>B</td>\n",
       "    </tr>\n",
       "    <tr>\n",
       "      <th>8</th>\n",
       "      <td>0.912224</td>\n",
       "      <td>1.005208</td>\n",
       "      <td>B</td>\n",
       "    </tr>\n",
       "    <tr>\n",
       "      <th>9</th>\n",
       "      <td>0.035978</td>\n",
       "      <td>0.238738</td>\n",
       "      <td>B</td>\n",
       "    </tr>\n",
       "  </tbody>\n",
       "</table>\n",
       "</div>"
      ],
      "text/plain": [
       "       Col1      Col2  X\n",
       "0 -0.466869 -0.791259  A\n",
       "1 -0.537155  0.205682  A\n",
       "2 -0.311773 -1.047944  A\n",
       "3 -2.138260 -1.152279  A\n",
       "4 -0.316366  1.383838  A\n",
       "5 -0.738885  0.844302  B\n",
       "6 -0.882864 -0.964179  B\n",
       "7  0.013704  0.253331  B\n",
       "8  0.912224  1.005208  B\n",
       "9  0.035978  0.238738  B"
      ]
     },
     "execution_count": 413,
     "metadata": {},
     "output_type": "execute_result"
    },
    {
     "data": {
      "image/png": "[encoded data removed]",
      "text/plain": [
       "<Figure size 432x288 with 1 Axes>"
      ]
     },
     "metadata": {
      "needs_background": "light"
     },
     "output_type": "display_data"
    }
   ],
   "source": [
    "import numpy as np\n",
    "\n",
    "data = pd.DataFrame(np.random.randn(10, 2), columns=['Col1', 'Col2'])\n",
    "data['X'] = pd.Series(['A', 'A', 'A', 'A', 'A','B', 'B', 'B', 'B', 'B'])\n",
    "boxplot = data.boxplot('Col1', by='X')\n",
    "data"
   ]
  },
  {
   "cell_type": "markdown",
   "metadata": {},
   "source": [
    "## Блок задач 4. Квартиры в центре"
   ]
  },
  {
   "cell_type": "markdown",
   "metadata": {},
   "source": [
    "### Превью\n",
    "1. Какая область входит в центр? Определить границу «Центральной зоны».\n",
    "2. Отличаются ли эти параметры: площадь, цена, число комнат, высота потолков? Отличаются ли он от общих выводов по всему городу?\n",
    "6. Также выделите факторы, которые влияют на стоимость квартиры (число комнат, этаж, удалённость от центра, дата размещения объявления)"
   ]
  },
  {
   "cell_type": "markdown",
   "metadata": {},
   "source": [
    "### Какая область входит в центр?"
   ]
  },
  {
   "cell_type": "code",
   "execution_count": 154,
   "metadata": {},
   "outputs": [],
   "source": [
    "#df_piter['city_centers_nearest'] = df['city_centers_nearest'] / 1000 # Почему это не работает?\n",
    "#df_piter.reset_index()\n",
    "#df_piter[df_piter['city_center_nearest'] >= 3]"
   ]
  },
  {
   "cell_type": "code",
   "execution_count": 155,
   "metadata": {},
   "outputs": [],
   "source": [
    "df_piter = df[df['locality_name'] == 'Санкт-Петербург']"
   ]
  },
  {
   "cell_type": "code",
   "execution_count": 156,
   "metadata": {},
   "outputs": [
    {
     "name": "stdout",
     "output_type": "stream",
     "text": [
      "Средняя цена кв.м. за каждый километр от центра Санкт-Петербурга\n"
     ]
    },
    {
     "data": {
      "image/png": "[encoded data removed]",
      "text/plain": [
       "<Figure size 432x288 with 1 Axes>"
      ]
     },
     "metadata": {
      "needs_background": "light"
     },
     "output_type": "display_data"
    }
   ],
   "source": [
    "(df_piter\n",
    "     .groupby('city_centers_nearest').agg({'last_price':'median', 'price_m2':'median'})\n",
    "     .reset_index()\n",
    "     .plot(x='city_centers_nearest', y='price_m2', style='o-')\n",
    ")\n",
    "\n",
    "print('Средняя цена кв.м. за каждый километр от центра Санкт-Петербурга')"
   ]
  },
  {
   "cell_type": "code",
   "execution_count": 157,
   "metadata": {
    "scrolled": true
   },
   "outputs": [
    {
     "name": "stdout",
     "output_type": "stream",
     "text": [
      "Средняя цена квартиры за каждый километр от центра Санкт-Петербурга\n"
     ]
    },
    {
     "data": {
      "image/png": "[encoded data removed]",
      "text/plain": [
       "<Figure size 432x288 with 1 Axes>"
      ]
     },
     "metadata": {
      "needs_background": "light"
     },
     "output_type": "display_data"
    }
   ],
   "source": [
    "(df_piter\n",
    "     .groupby('city_centers_nearest').agg({'last_price':'median', 'price_m2':'median'})\n",
    "     .reset_index()\n",
    "     .plot(x='city_centers_nearest', y='last_price', style='o-')\n",
    ")\n",
    "\n",
    "print('Средняя цена квартиры за каждый километр от центра Санкт-Петербурга')"
   ]
  },
  {
   "cell_type": "markdown",
   "metadata": {},
   "source": [
    "**Выводы**\n",
    "1. В понятие «Центральная зона» входит область до 3 км от центра города.\n",
    "2. Также есть еще одна яркая выраженная зона с 3 до 10 км, назову ее «близко к центр»\n",
    "\n",
    "**Интерсная особенность:** на расстояние от 5 до 3 км от центра цена снижается, хотя до этого она непрерывно росла с 16 км. Могу объяснить данную особенность тем, что именно в этом радиусе протекает Нева, огибающая полукругом центральный район Санкт-Петербурга. \n",
    "\n",
    "Цена домов с видом на Неву значительно выше. Если рассматривать 2 дома: с видом на Неву и на удалении от нее, то первый вариант однозначно более удачный. Если бы разница в цене квартиры была невелика (например, 7,5 млн, и 7,650 млн, это 1-2%), то покупатели выбирали бы квартиру с видом на Неву. Но сейчас она составляет 8,5%, а это существенно."
   ]
  },
  {
   "cell_type": "markdown",
   "metadata": {},
   "source": [
    "**Еще одна интересная особенность** — падение цены на расстоянии менее 1 кв от центра. Это также легко объяснимо, возможные причны:\n",
    "1. В центре старые дома, возможно с неудачной планировкой или требующие реконструкции\n",
    "2. В центре шумно, людно, как следствие некомфортно жить"
   ]
  },
  {
   "cell_type": "markdown",
   "metadata": {},
   "source": [
    "### Сравниваю площадь, цену, число комнат и высоту потолков в центре и в остальном городе"
   ]
  },
  {
   "cell_type": "markdown",
   "metadata": {},
   "source": [
    "**Создаю 2 среза для центральной зоны и остального города**"
   ]
  },
  {
   "cell_type": "code",
   "execution_count": 158,
   "metadata": {},
   "outputs": [],
   "source": [
    "piter_center = df.query('locality_name == \"Санкт-Петербург\" and city_centers_nearest < 3').reset_index()\n",
    "piter_town = df.query('locality_name == \"Санкт-Петербург\" and city_centers_nearest >= 3').reset_index()"
   ]
  },
  {
   "cell_type": "markdown",
   "metadata": {},
   "source": [
    "### Сравниваю площадь"
   ]
  },
  {
   "cell_type": "code",
   "execution_count": 159,
   "metadata": {},
   "outputs": [
    {
     "data": {
      "text/html": [
       "<div>\n",
       "<style scoped>\n",
       "    .dataframe tbody tr th:only-of-type {\n",
       "        vertical-align: middle;\n",
       "    }\n",
       "\n",
       "    .dataframe tbody tr th {\n",
       "        vertical-align: top;\n",
       "    }\n",
       "\n",
       "    .dataframe thead th {\n",
       "        text-align: right;\n",
       "    }\n",
       "</style>\n",
       "<table border=\"1\" class=\"dataframe\">\n",
       "  <thead>\n",
       "    <tr style=\"text-align: right;\">\n",
       "      <th></th>\n",
       "      <th>rooms</th>\n",
       "      <th>total_area_x</th>\n",
       "      <th>total_area_y</th>\n",
       "      <th>town_to_center</th>\n",
       "      <th>town_to_center_percent</th>\n",
       "    </tr>\n",
       "  </thead>\n",
       "  <tbody>\n",
       "    <tr>\n",
       "      <th>0</th>\n",
       "      <td>1</td>\n",
       "      <td>39.55</td>\n",
       "      <td>37.0</td>\n",
       "      <td>1.068919</td>\n",
       "      <td>7.0</td>\n",
       "    </tr>\n",
       "    <tr>\n",
       "      <th>1</th>\n",
       "      <td>2</td>\n",
       "      <td>60.65</td>\n",
       "      <td>52.7</td>\n",
       "      <td>1.150854</td>\n",
       "      <td>15.0</td>\n",
       "    </tr>\n",
       "    <tr>\n",
       "      <th>2</th>\n",
       "      <td>3</td>\n",
       "      <td>78.60</td>\n",
       "      <td>68.9</td>\n",
       "      <td>1.140784</td>\n",
       "      <td>14.0</td>\n",
       "    </tr>\n",
       "    <tr>\n",
       "      <th>3</th>\n",
       "      <td>4</td>\n",
       "      <td>94.25</td>\n",
       "      <td>86.0</td>\n",
       "      <td>1.095930</td>\n",
       "      <td>10.0</td>\n",
       "    </tr>\n",
       "    <tr>\n",
       "      <th>4</th>\n",
       "      <td>5</td>\n",
       "      <td>115.95</td>\n",
       "      <td>113.2</td>\n",
       "      <td>1.024293</td>\n",
       "      <td>2.0</td>\n",
       "    </tr>\n",
       "    <tr>\n",
       "      <th>5</th>\n",
       "      <td>6</td>\n",
       "      <td>131.40</td>\n",
       "      <td>124.4</td>\n",
       "      <td>1.056270</td>\n",
       "      <td>6.0</td>\n",
       "    </tr>\n",
       "  </tbody>\n",
       "</table>\n",
       "</div>"
      ],
      "text/plain": [
       "   rooms  total_area_x  total_area_y  town_to_center  town_to_center_percent\n",
       "0      1         39.55          37.0        1.068919                     7.0\n",
       "1      2         60.65          52.7        1.150854                    15.0\n",
       "2      3         78.60          68.9        1.140784                    14.0\n",
       "3      4         94.25          86.0        1.095930                    10.0\n",
       "4      5        115.95         113.2        1.024293                     2.0\n",
       "5      6        131.40         124.4        1.056270                     6.0"
      ]
     },
     "execution_count": 159,
     "metadata": {},
     "output_type": "execute_result"
    }
   ],
   "source": [
    "# Здесь я создаю 2 сводные таблицы, сгруппировав в каждой квартиры по кол-ву комнат с расчетом средней площади\n",
    "# Далее объединяю эти таблицы и добавляю к ним расчет разницы в цифрах и процентах\n",
    "\n",
    "piter_center_rooms = piter_center.pivot_table(index='rooms', values='total_area', aggfunc='median').reset_index()\n",
    "piter_town_rooms = piter_town.pivot_table(index='rooms', values='total_area', aggfunc='median').reset_index()\n",
    "comparison = piter_center_rooms.merge(piter_town_rooms, on='rooms')\n",
    "comparison['town_to_center'] = comparison['total_area_x']/comparison['total_area_y']\n",
    "comparison['town_to_center_percent'] = ((comparison['town_to_center'] * 100) - 100).round(0)\n",
    "comparison"
   ]
  },
  {
   "cell_type": "markdown",
   "metadata": {},
   "source": [
    "**В центре площадь 1-4- кмнатных квартир больше на 9-14%**. В квадратных метрах это означает, что, например, стандартная двушка в центре на 7 кв.м. больше такой же квартиры в другой части города. \n",
    "\n",
    "Площадь 5- и 6-комнатных квартир отличается всего на 2 и 6%. Но я не буду развивать этот вывод, т.к. эта работа оказалась итак слишком затратной по-времени."
   ]
  },
  {
   "cell_type": "markdown",
   "metadata": {},
   "source": [
    "### Как отличается цена за кв.м."
   ]
  },
  {
   "cell_type": "code",
   "execution_count": 160,
   "metadata": {},
   "outputs": [
    {
     "data": {
      "text/html": [
       "<div>\n",
       "<style scoped>\n",
       "    .dataframe tbody tr th:only-of-type {\n",
       "        vertical-align: middle;\n",
       "    }\n",
       "\n",
       "    .dataframe tbody tr th {\n",
       "        vertical-align: top;\n",
       "    }\n",
       "\n",
       "    .dataframe thead th {\n",
       "        text-align: right;\n",
       "    }\n",
       "</style>\n",
       "<table border=\"1\" class=\"dataframe\">\n",
       "  <thead>\n",
       "    <tr style=\"text-align: right;\">\n",
       "      <th></th>\n",
       "      <th>rooms</th>\n",
       "      <th>price_m2_x</th>\n",
       "      <th>price_m2_y</th>\n",
       "      <th>price_m2_change</th>\n",
       "      <th>price_m2_percent</th>\n",
       "    </tr>\n",
       "  </thead>\n",
       "  <tbody>\n",
       "    <tr>\n",
       "      <th>0</th>\n",
       "      <td>1</td>\n",
       "      <td>125595.0</td>\n",
       "      <td>109302</td>\n",
       "      <td>1.149064</td>\n",
       "      <td>15.0</td>\n",
       "    </tr>\n",
       "    <tr>\n",
       "      <th>1</th>\n",
       "      <td>2</td>\n",
       "      <td>117283.0</td>\n",
       "      <td>101220</td>\n",
       "      <td>1.158694</td>\n",
       "      <td>16.0</td>\n",
       "    </tr>\n",
       "    <tr>\n",
       "      <th>2</th>\n",
       "      <td>3</td>\n",
       "      <td>106172.0</td>\n",
       "      <td>91176</td>\n",
       "      <td>1.164473</td>\n",
       "      <td>16.0</td>\n",
       "    </tr>\n",
       "    <tr>\n",
       "      <th>3</th>\n",
       "      <td>4</td>\n",
       "      <td>94666.5</td>\n",
       "      <td>84831</td>\n",
       "      <td>1.115942</td>\n",
       "      <td>12.0</td>\n",
       "    </tr>\n",
       "    <tr>\n",
       "      <th>4</th>\n",
       "      <td>5</td>\n",
       "      <td>87883.5</td>\n",
       "      <td>79259</td>\n",
       "      <td>1.108814</td>\n",
       "      <td>11.0</td>\n",
       "    </tr>\n",
       "    <tr>\n",
       "      <th>5</th>\n",
       "      <td>6</td>\n",
       "      <td>55450.0</td>\n",
       "      <td>77751</td>\n",
       "      <td>0.713174</td>\n",
       "      <td>-29.0</td>\n",
       "    </tr>\n",
       "  </tbody>\n",
       "</table>\n",
       "</div>"
      ],
      "text/plain": [
       "   rooms  price_m2_x  price_m2_y  price_m2_change  price_m2_percent\n",
       "0      1    125595.0      109302         1.149064              15.0\n",
       "1      2    117283.0      101220         1.158694              16.0\n",
       "2      3    106172.0       91176         1.164473              16.0\n",
       "3      4     94666.5       84831         1.115942              12.0\n",
       "4      5     87883.5       79259         1.108814              11.0\n",
       "5      6     55450.0       77751         0.713174             -29.0"
      ]
     },
     "execution_count": 160,
     "metadata": {},
     "output_type": "execute_result"
    }
   ],
   "source": [
    "# Здесь я создаю 2 сводные таблицы, сгруппировав в каждой квартиры по кол-ву комнат с расчетом медианной цены за кв.м.\n",
    "# Далее объединяю эти таблицы и добавляю к ним расчет разницы в цифрах и процентах\n",
    "\n",
    "piter_center_price_m2 = piter_center.pivot_table(index='rooms', values='price_m2', aggfunc='median').reset_index()\n",
    "piter_town_price_m2 = piter_town.pivot_table(index='rooms', values='price_m2', aggfunc='median').reset_index()\n",
    "comparison = piter_center_price_m2.merge(piter_town_price_m2, on='rooms')\n",
    "comparison['price_m2_change'] = comparison['price_m2_x']/comparison['price_m2_y']\n",
    "comparison['price_m2_percent'] = ((comparison['price_m2_change'] * 100) - 100).round(0)\n",
    "comparison"
   ]
  },
  {
   "cell_type": "markdown",
   "metadata": {},
   "source": [
    "**Стоимость кв.м. квартир в центре больше на 11-18%.**\n",
    "\n",
    "**Особенность:** 6-комнатные квартиры за пределами центра дороже на 29%."
   ]
  },
  {
   "cell_type": "markdown",
   "metadata": {},
   "source": [
    "### Число комнат"
   ]
  },
  {
   "cell_type": "markdown",
   "metadata": {},
   "source": [
    "**Рассчитаю среднее и медиану для центра и остального города**"
   ]
  },
  {
   "cell_type": "code",
   "execution_count": 161,
   "metadata": {},
   "outputs": [
    {
     "data": {
      "text/plain": [
       "count    246.000000\n",
       "mean       2.792683\n",
       "std        0.965585\n",
       "min        1.000000\n",
       "25%        2.000000\n",
       "50%        3.000000\n",
       "75%        3.000000\n",
       "max        6.000000\n",
       "Name: rooms, dtype: float64"
      ]
     },
     "execution_count": 161,
     "metadata": {},
     "output_type": "execute_result"
    }
   ],
   "source": [
    "piter_center['rooms'].describe()"
   ]
  },
  {
   "cell_type": "code",
   "execution_count": 162,
   "metadata": {},
   "outputs": [
    {
     "data": {
      "text/plain": [
       "count    12632.000000\n",
       "mean         1.989471\n",
       "std          0.906682\n",
       "min          1.000000\n",
       "25%          1.000000\n",
       "50%          2.000000\n",
       "75%          3.000000\n",
       "max          6.000000\n",
       "Name: rooms, dtype: float64"
      ]
     },
     "execution_count": 162,
     "metadata": {},
     "output_type": "execute_result"
    }
   ],
   "source": [
    "piter_town['rooms'].describe()"
   ]
  },
  {
   "cell_type": "markdown",
   "metadata": {},
   "source": [
    "**В центре города квартиры больше, в среднем, на 1-одну комнату**"
   ]
  },
  {
   "cell_type": "markdown",
   "metadata": {},
   "source": [
    "### Высота потолков"
   ]
  },
  {
   "cell_type": "code",
   "execution_count": 163,
   "metadata": {},
   "outputs": [
    {
     "data": {
      "text/plain": [
       "count    246.000000\n",
       "mean       2.979675\n",
       "std        0.339709\n",
       "min        2.500000\n",
       "25%        2.700000\n",
       "50%        2.865000\n",
       "75%        3.200000\n",
       "max        4.300000\n",
       "Name: ceiling_height, dtype: float64"
      ]
     },
     "execution_count": 163,
     "metadata": {},
     "output_type": "execute_result"
    }
   ],
   "source": [
    "piter_center['ceiling_height'].describe()"
   ]
  },
  {
   "cell_type": "code",
   "execution_count": 164,
   "metadata": {},
   "outputs": [
    {
     "data": {
      "text/plain": [
       "count    12632.000000\n",
       "mean         2.696298\n",
       "std          0.182505\n",
       "min          2.500000\n",
       "25%          2.600000\n",
       "50%          2.700000\n",
       "75%          2.700000\n",
       "max          4.500000\n",
       "Name: ceiling_height, dtype: float64"
      ]
     },
     "execution_count": 164,
     "metadata": {},
     "output_type": "execute_result"
    }
   ],
   "source": [
    "piter_town['ceiling_height'].describe()"
   ]
  },
  {
   "cell_type": "markdown",
   "metadata": {},
   "source": [
    "**В центре потолки выше на 30 см**"
   ]
  },
  {
   "cell_type": "markdown",
   "metadata": {},
   "source": [
    "### Этаж и дата размещения"
   ]
  },
  {
   "cell_type": "markdown",
   "metadata": {},
   "source": [
    "#### Динамика по годам"
   ]
  },
  {
   "cell_type": "code",
   "execution_count": 165,
   "metadata": {},
   "outputs": [],
   "source": [
    "# Здесь я создаю 2 сводные таблицы, сгруппировав в каждой квартиры по году с расчетом средней площади\n",
    "# Далее объединяю эти таблицы и добавляю к ним расчет разницы в цифрах и процентах\n",
    "\n",
    "piter_center_year = piter_center.pivot_table(index='year_exposition', values='price_m2', aggfunc='median').reset_index()\n",
    "piter_town_year = piter_town.pivot_table(index='year_exposition', values='price_m2', aggfunc='median').reset_index()\n",
    "comparison = piter_center_year.merge(piter_town_year, on='year_exposition', suffixes=('_center', '_town'))\n",
    "comparison['price_m2_change'] = comparison['price_m2_center']/comparison['price_m2_town']\n",
    "comparison['price_m2_percent'] = ((comparison['price_m2_change'] * 100) - 100).round(0)"
   ]
  },
  {
   "cell_type": "code",
   "execution_count": 166,
   "metadata": {},
   "outputs": [
    {
     "data": {
      "text/plain": [
       "<matplotlib.axes._subplots.AxesSubplot at 0x7f527b66a950>"
      ]
     },
     "execution_count": 166,
     "metadata": {},
     "output_type": "execute_result"
    },
    {
     "data": {
      "image/png": "[encoded data removed]",
      "text/plain": [
       "<Figure size 432x288 with 1 Axes>"
      ]
     },
     "metadata": {
      "needs_background": "light"
     },
     "output_type": "display_data"
    }
   ],
   "source": [
    "comparison.plot(x='year_exposition', y=['price_m2_center', 'price_m2_town'], style='o-')"
   ]
  },
  {
   "cell_type": "markdown",
   "metadata": {},
   "source": [
    "**Цена на квартиры в центре росла даже в 2015-2017 годах, когда остальной рынок находился в «просадке».**"
   ]
  },
  {
   "cell_type": "markdown",
   "metadata": {},
   "source": [
    "#### Динамика по месяцам"
   ]
  },
  {
   "cell_type": "code",
   "execution_count": 167,
   "metadata": {},
   "outputs": [],
   "source": [
    "# Здесь я создаю 2 сводные таблицы, сгруппировав в каждой квартиры по месяцам с расчетом средней площади\n",
    "# Далее объединяю эти таблицы и добавляю к ним расчет разницы в цифрах и процентах\n",
    "\n",
    "piter_center_year = piter_center.pivot_table(index='month_exposition', values='price_m2', aggfunc='median').reset_index()\n",
    "piter_town_year = piter_town.pivot_table(index='month_exposition', values='price_m2', aggfunc='median').reset_index()\n",
    "comparison = piter_center_year.merge(piter_town_year, on='month_exposition', suffixes=('_center', '_town'))\n",
    "comparison['price_m2_change'] = comparison['price_m2_center']/comparison['price_m2_town']\n",
    "comparison['price_m2_percent'] = ((comparison['price_m2_change'] * 100) - 100).round(0)"
   ]
  },
  {
   "cell_type": "code",
   "execution_count": 168,
   "metadata": {},
   "outputs": [
    {
     "data": {
      "text/plain": [
       "<matplotlib.axes._subplots.AxesSubplot at 0x7f527b766bd0>"
      ]
     },
     "execution_count": 168,
     "metadata": {},
     "output_type": "execute_result"
    },
    {
     "data": {
      "image/png": "[encoded data removed]",
      "text/plain": [
       "<Figure size 432x288 with 1 Axes>"
      ]
     },
     "metadata": {
      "needs_background": "light"
     },
     "output_type": "display_data"
    }
   ],
   "source": [
    "comparison.plot(x='month_exposition', y=['price_m2_center', 'price_m2_town'], style='o-')"
   ]
  },
  {
   "cell_type": "markdown",
   "metadata": {},
   "source": [
    "**Недвижимость в центре растет в цене перед новым годом.** Что логично, если рассматривать эти квартиры как инвестицию. Конец года, конец наогового периода, идеальнео время для стратегических покупок."
   ]
  },
  {
   "cell_type": "markdown",
   "metadata": {},
   "source": [
    "#### Динамика по дням"
   ]
  },
  {
   "cell_type": "code",
   "execution_count": 169,
   "metadata": {},
   "outputs": [],
   "source": [
    "# Здесь я создаю 2 сводные таблицы, сгруппировав в каждой квартиры по дням с расчетом средней площади\n",
    "# Далее объединяю эти таблицы и добавляю к ним расчет разницы в цифрах и процентах\n",
    "\n",
    "piter_center_year = piter_center.pivot_table(index='day_exposition', values='price_m2', aggfunc='median').reset_index()\n",
    "piter_town_year = piter_town.pivot_table(index='day_exposition', values='price_m2', aggfunc='median').reset_index()\n",
    "comparison = piter_center_year.merge(piter_town_year, on='day_exposition', suffixes=('_center', '_town'))\n",
    "comparison['price_m2_change'] = comparison['price_m2_center']/comparison['price_m2_town']\n",
    "comparison['price_m2_percent'] = ((comparison['price_m2_change'] * 100) - 100).round(0)"
   ]
  },
  {
   "cell_type": "code",
   "execution_count": 170,
   "metadata": {},
   "outputs": [
    {
     "data": {
      "text/plain": [
       "<matplotlib.axes._subplots.AxesSubplot at 0x7f527b8cee90>"
      ]
     },
     "execution_count": 170,
     "metadata": {},
     "output_type": "execute_result"
    },
    {
     "data": {
      "image/png": "[encoded data removed]",
      "text/plain": [
       "<Figure size 432x288 with 1 Axes>"
      ]
     },
     "metadata": {
      "needs_background": "light"
     },
     "output_type": "display_data"
    }
   ],
   "source": [
    "comparison.plot(x='day_exposition', y=['price_m2_center', 'price_m2_town'], style='o-')"
   ]
  },
  {
   "cell_type": "markdown",
   "metadata": {},
   "source": [
    "**Недвижимость в центре, размещенная в субботу, дороже на 25%, чем она же, размещенная в четверг.**\n",
    "- Сейчас видно, что в общий график по всему городу, который я строил ранее, пики и падения внесла именно недвижимость в центре Петербурга.\n",
    "- Для остальной части города наблюдается логичное равномерное распределение по дням неделю.\n",
    "\n",
    "**Предполагаю, что данная особенность связана с особенностями покупки недвижимости юр.лицами**"
   ]
  },
  {
   "cell_type": "markdown",
   "metadata": {},
   "source": [
    "### Анализирую параметры"
   ]
  },
  {
   "cell_type": "markdown",
   "metadata": {},
   "source": [
    "#### Как зависит цена квадратного метра от площади"
   ]
  },
  {
   "cell_type": "code",
   "execution_count": 171,
   "metadata": {},
   "outputs": [],
   "source": [
    "#df_piter = df_piter[df_piter['city_center_nearest'] >= 3]\n",
    "#df_piter_center = df_piter[df_piter['city_center_nearest'] < 3]"
   ]
  },
  {
   "cell_type": "markdown",
   "metadata": {},
   "source": [
    "**Центр Санкт-Петербурга**"
   ]
  },
  {
   "cell_type": "code",
   "execution_count": 172,
   "metadata": {},
   "outputs": [
    {
     "name": "stdout",
     "output_type": "stream",
     "text": [
      "Коэффициент корреляции для центра Санкт-Петербрга: -0.6112445085397586\n"
     ]
    },
    {
     "data": {
      "image/png": "[encoded data removed]",
      "text/plain": [
       "<Figure size 432x288 with 1 Axes>"
      ]
     },
     "metadata": {
      "needs_background": "light"
     },
     "output_type": "display_data"
    }
   ],
   "source": [
    "(df\n",
    "     .query('locality_name == \"Санкт-Петербург\" and city_centers_nearest < 3')\n",
    "     .pivot_table(index='total_area', values='price_m2', aggfunc='median')\n",
    "     .reset_index()\n",
    "     .plot(x='total_area', y='price_m2', style='o')\n",
    ")\n",
    "\n",
    "print('Коэффициент корреляции для центра Санкт-Петербрга:', \n",
    "        (df\n",
    "            .query('locality_name == \"Санкт-Петербург\" and city_centers_nearest < 3')['total_area']\n",
    "            .corr(df.query('locality_name == \"Санкт-Петербург\" and city_centers_nearest < 3')['price_m2'])\n",
    "))"
   ]
  },
  {
   "cell_type": "markdown",
   "metadata": {},
   "source": [
    "**Остальной город**"
   ]
  },
  {
   "cell_type": "code",
   "execution_count": 173,
   "metadata": {},
   "outputs": [
    {
     "name": "stdout",
     "output_type": "stream",
     "text": [
      "Коэффициент корреляции для всего города (за исключением центра): -0.2349125353876342\n"
     ]
    },
    {
     "data": {
      "image/png": "[encoded data removed]",
      "text/plain": [
       "<Figure size 432x288 with 1 Axes>"
      ]
     },
     "metadata": {
      "needs_background": "light"
     },
     "output_type": "display_data"
    }
   ],
   "source": [
    "(df\n",
    "     .query('locality_name == \"Санкт-Петербург\" and city_centers_nearest >= 3')\n",
    "     .pivot_table(index='total_area', values='price_m2', aggfunc='median')\n",
    "     .reset_index()\n",
    "     .plot(x='total_area', y='price_m2', style='o')\n",
    ")\n",
    "\n",
    "print('Коэффициент корреляции для всего города (за исключением центра):', \n",
    "      (df\n",
    "           .query('locality_name == \"Санкт-Петербург\" and city_centers_nearest > 3')['total_area']\n",
    "           .corr(df.query('locality_name == \"Санкт-Петербург\" and city_centers_nearest >= 3')['price_m2'])\n",
    "))"
   ]
  },
  {
   "cell_type": "markdown",
   "metadata": {},
   "source": [
    "**Ленинградская область**"
   ]
  },
  {
   "cell_type": "code",
   "execution_count": 174,
   "metadata": {},
   "outputs": [
    {
     "name": "stdout",
     "output_type": "stream",
     "text": [
      "Коэффициент корреляции для Ленинградской области: -0.14522172667368244\n"
     ]
    },
    {
     "data": {
      "image/png": "[encoded data removed]",
      "text/plain": [
       "<Figure size 432x288 with 1 Axes>"
      ]
     },
     "metadata": {
      "needs_background": "light"
     },
     "output_type": "display_data"
    }
   ],
   "source": [
    "(df\n",
    "     .query('locality_name != \"Санкт-Петербург\"')\n",
    "     .pivot_table(index='total_area', values='price_m2', aggfunc='median')\n",
    "     .reset_index()\n",
    "     .plot(x='total_area', y='price_m2', style='o')\n",
    ")\n",
    "\n",
    "print('Коэффициент корреляции для Ленинградской области:', (\n",
    "    df.query('locality_name != \"Санкт-Петербург\"')['total_area']\n",
    "            .corr(df.query('locality_name != \"Санкт-Петербург\"')['price_m2'])\n",
    "))"
   ]
  },
  {
   "cell_type": "code",
   "execution_count": 175,
   "metadata": {},
   "outputs": [
    {
     "data": {
      "text/html": [
       "<div>\n",
       "<style scoped>\n",
       "    .dataframe tbody tr th:only-of-type {\n",
       "        vertical-align: middle;\n",
       "    }\n",
       "\n",
       "    .dataframe tbody tr th {\n",
       "        vertical-align: top;\n",
       "    }\n",
       "\n",
       "    .dataframe thead th {\n",
       "        text-align: right;\n",
       "    }\n",
       "</style>\n",
       "<table border=\"1\" class=\"dataframe\">\n",
       "  <thead>\n",
       "    <tr style=\"text-align: right;\">\n",
       "      <th></th>\n",
       "      <th>rooms</th>\n",
       "      <th>last_price_x</th>\n",
       "      <th>last_price_y</th>\n",
       "      <th>last_price_change</th>\n",
       "      <th>last_price_percent</th>\n",
       "    </tr>\n",
       "  </thead>\n",
       "  <tbody>\n",
       "    <tr>\n",
       "      <th>0</th>\n",
       "      <td>1</td>\n",
       "      <td>4.8995</td>\n",
       "      <td>3.990</td>\n",
       "      <td>1.227945</td>\n",
       "      <td>23.0</td>\n",
       "    </tr>\n",
       "    <tr>\n",
       "      <th>1</th>\n",
       "      <td>2</td>\n",
       "      <td>6.9990</td>\n",
       "      <td>5.320</td>\n",
       "      <td>1.315602</td>\n",
       "      <td>32.0</td>\n",
       "    </tr>\n",
       "    <tr>\n",
       "      <th>2</th>\n",
       "      <td>3</td>\n",
       "      <td>8.4000</td>\n",
       "      <td>6.299</td>\n",
       "      <td>1.333545</td>\n",
       "      <td>33.0</td>\n",
       "    </tr>\n",
       "    <tr>\n",
       "      <th>3</th>\n",
       "      <td>4</td>\n",
       "      <td>9.0000</td>\n",
       "      <td>7.300</td>\n",
       "      <td>1.232877</td>\n",
       "      <td>23.0</td>\n",
       "    </tr>\n",
       "    <tr>\n",
       "      <th>4</th>\n",
       "      <td>5</td>\n",
       "      <td>10.1450</td>\n",
       "      <td>9.380</td>\n",
       "      <td>1.081557</td>\n",
       "      <td>8.0</td>\n",
       "    </tr>\n",
       "    <tr>\n",
       "      <th>5</th>\n",
       "      <td>6</td>\n",
       "      <td>6.7450</td>\n",
       "      <td>9.745</td>\n",
       "      <td>0.692150</td>\n",
       "      <td>-31.0</td>\n",
       "    </tr>\n",
       "  </tbody>\n",
       "</table>\n",
       "</div>"
      ],
      "text/plain": [
       "   rooms  last_price_x  last_price_y  last_price_change  last_price_percent\n",
       "0      1        4.8995         3.990           1.227945                23.0\n",
       "1      2        6.9990         5.320           1.315602                32.0\n",
       "2      3        8.4000         6.299           1.333545                33.0\n",
       "3      4        9.0000         7.300           1.232877                23.0\n",
       "4      5       10.1450         9.380           1.081557                 8.0\n",
       "5      6        6.7450         9.745           0.692150               -31.0"
      ]
     },
     "execution_count": 175,
     "metadata": {},
     "output_type": "execute_result"
    }
   ],
   "source": [
    "# Здесь я создаю 2 сводные таблицы, сгруппировав в каждой квартиры по кол-ву комнат с расчетом медианной цены за кв.м.\n",
    "# Далее объединяю эти таблицы и добавляю к ним расчет разницы в цифрах и процентах\n",
    "\n",
    "piter_center_price_m2 = piter_center.pivot_table(index='rooms', values='last_price', aggfunc='median').reset_index()\n",
    "piter_town_price_m2 = piter_town.pivot_table(index='rooms', values='last_price', aggfunc='median').reset_index()\n",
    "comparison = piter_center_price_m2.merge(piter_town_price_m2, on='rooms')\n",
    "comparison['last_price_change'] = comparison['last_price_x']/comparison['last_price_y']\n",
    "comparison['last_price_percent'] = ((comparison['last_price_change'] * 100) - 100).round(0)\n",
    "comparison"
   ]
  },
  {
   "cell_type": "code",
   "execution_count": 176,
   "metadata": {},
   "outputs": [
    {
     "data": {
      "text/plain": [
       "8.7375"
      ]
     },
     "execution_count": 176,
     "metadata": {},
     "output_type": "execute_result"
    }
   ],
   "source": [
    "# Считаю цену 4-комнатной квартиры в центре\n",
    "piter_center[(piter_center['rooms'] == 4) & (piter_center['year_exposition'] == 2019)]['last_price'].mean()"
   ]
  },
  {
   "cell_type": "markdown",
   "metadata": {},
   "source": [
    "**В центре города наблюдается интересная особенность: наибольшая корреляция между ценой за кв.м. и площадь. квартиры.** Это значит, что в центре выгоднее покупать именно боьшие квартиры. Трешка в центре дороже на 34%, однако 4-комнатные квартиры дороже «всего» на 25%.\n",
    "\n",
    "**Гипотеза**. Предполагаю, что это связано с абсолютными занчениями цены. Средняя 4-кмонатная квартира в центре стоит почти 9 млн руб. Это покупка уже не приобритение недвижимости, а прежде всего инвестиция в нее."
   ]
  },
  {
   "cell_type": "markdown",
   "metadata": {},
   "source": [
    "# Шаг 5. Общий вывод"
   ]
  },
  {
   "cell_type": "markdown",
   "metadata": {},
   "source": [
    "## Предложения разработчиками сервиса"
   ]
  },
  {
   "cell_type": "markdown",
   "metadata": {},
   "source": [
    "**В форму продажи квартиру добавьте следующие поля для заполнения:**\n",
    "1. Категория дома: хрущевка, брежневка, современаня панельная застройка, современная кирпичная, элитная застройка\n",
    "2. Год постройки\n",
    "3. Из какого материала сделана (панели дешевле кирпича)\n",
    "4. Какой ремонт"
   ]
  },
  {
   "cell_type": "markdown",
   "metadata": {},
   "source": [
    "**Измените механику обработки следующих значений:**\n",
    "1. Параметры, характеризующие расстояние до объекта (до центра города, парка, аэропорта), и получаемые на основе картографических данных, делать кратными 50 м и переводить в целочисленный тип int64. Например, расстояние до центра в 5624 м заменять на 5600 м.\n",
    "\n",
    "**Рассмотрите возможность сделать следующие параметры обязательными для заполнения:**\n",
    "1. Ввести название города обязательным пунктом. Чтобы не было ситуации, когда город продажи объявления неизвестен.\n",
    "2. Площадь кухни\n",
    "3. Количество этажей\n",
    "4. Жилая площадь\n",
    "5. Высота потолков\n",
    "\n",
    "**Заметка. Для каждой категории дома данные выше можно заполнять автоматически:**\n",
    "- Например, для брежневок типичная площадь кухни: 6,3 м, жила площадь: 73% от общей, высота потолков: 2,7 м.\n",
    "\n",
    "**Наведите порядок в названия населенных пунктов:** \n",
    "- Разделить само название от названия категории и выделить категорию в отдельный параметр. \n",
    "- Категории: город, село, поселок, станция, поселок дачного типа.  На данный момент 93 названия являются дублями.\n",
    "- В полученной базе 93 названия были дублями.\n"
   ]
  },
  {
   "cell_type": "markdown",
   "metadata": {},
   "source": [
    "## Какие особенности были обнаружены"
   ]
  },
  {
   "cell_type": "markdown",
   "metadata": {},
   "source": [
    "- Шумность гистограммы распределния площадей квартир объясняется наличием типовых застроек: хрущевки, брежневки, современные дома. Первая и вторая категория дает 3 заметных пика для 1-, 2- и 3-комнатных квартир.\n",
    "- Площадь квартир современной типовой застройки больше всего на 3-7 кв.м, в зависимости от кол-ва комнат. Фактически, главное отличие в площади современных квартир от позднесоветских панелек — более большие кухни.\n",
    "- В кризис 2014-2016 годов продавали, преимущественно, дешевые квартиры не в центре Санкт-Петербурга.\n",
    "- В 2019 году квартиры формально стоят на 10% дешевле, чем о кризиса. Но это иллюзия, они просто стали меньше по-площади. Цена за кв.м. выросла на 8,5%.\n",
    "- Цена кв.м. дорогой недвижимости росла даже в период кризиса, в отличии от типичной застройки. Это легко объяснимо, такая недвижимость — это прежде всего инвестиция.\n",
    "- Такая инвестиционная недвижимость в котябре стоит на 25% дороже, чем в среднем за год. Скорее всего, это объясняется особенностями проведения дорогих сделок. Также, цена в объявления таких квартир выше на 25%, если это объявление размещено в субботу. Возможная причина: шабат. Но это не точно :) "
   ]
  },
  {
   "cell_type": "markdown",
   "metadata": {},
   "source": [
    "## От чего зависит стоимость квартиры?"
   ]
  },
  {
   "cell_type": "markdown",
   "metadata": {},
   "source": [
    "**Кратко:**\n",
    "1. От числа комнат (это очевидно).\n",
    "2. От высоты потолков (высота выше, чем 2,7 м — квартира дороже).\n",
    "3. От площади кухни (больше 7 кв.м. — квартира дороже).\n",
    "4. От удаленности от центра (центр — это до 3 км. город — от 3 до 10, пригород — свыше 10).\n",
    "5. От месяца и года продажи (самые дорогие квартиры в апреле, мая, октябре и ноябре) (идеальное время для покупки — июнь). Особенность: для квартир в центре зависит даже от дня (размещенные на продажу в субботу квартиры дороже на 25%).\n",
    "6. От типа постройки: хрущевка, брежневка, современный эконом или премиум. Тип постройки я устанавливал, используя сочетание параметров."
   ]
  },
  {
   "cell_type": "markdown",
   "metadata": {},
   "source": [
    "**Далее я задумался об ответе на вопрос «Ваша задача — установить параметры».**\n",
    "- Мне эта задача не понятна.\n",
    "- Выводы, описанные выше — очевидны. Исследование разве что внесло минимальные границы, очерченные цифрами. \n",
    "- Как эту информацию применять заказчику? Разве что статью написать. Но из легенду мы знаем, что цель в другом, цитата: «Это позволит построить автоматизированную систему: она отследит аномалии и мошенническую деятельность.»"
   ]
  },
  {
   "cell_type": "markdown",
   "metadata": {},
   "source": [
    "**Чтобы отследить аномалии и мошенническую деятельность — нужна модель расчета цены**\n",
    "- Без расчета цены невозможно понять, что квартиру разместил мошенник. Потому что ради цены он ее и размещает. Скорее всего, показать клиенту, что в этом районе есть квартиры куда дороже той, что он продает. Или наоборот, продавить цену неадекватно низкой ценой.\n",
    "- Для установления границ, по которым некое объявление будет отнесено к «аномалии» требует расчетов, которых нет в чек листе этого проекта."
   ]
  },
  {
   "cell_type": "markdown",
   "metadata": {},
   "source": [
    "**В итоге я интерпретирую задачу «Ваша задача — установить параметры», как «Создать модель расчета ожидаемой рыночной цены квартиры».** Границы аномалий устаналивать не буду, это необязательно и трудозатратно.\n",
    "\n",
    "Чтобы создать модель расчета рыночной цены, я применил следующую логику:\n",
    "- Создаю эталон квартиры (сочетание параметров), тем смым получив базу для расчета.\n",
    "- Последовательно Изменяя параметры эталона, делаю конкретные выводы в цифрах, как тот и или иной параметр изменяет цену."
   ]
  },
  {
   "cell_type": "markdown",
   "metadata": {},
   "source": [
    "**Эталон: хрущевка далеко от центра**"
   ]
  },
  {
   "cell_type": "code",
   "execution_count": 177,
   "metadata": {},
   "outputs": [],
   "source": [
    "# Хрущевка далеко от центра: более 10 км от центра, меньше или равно 5 этажей в доме, кухня меньше 7 кв.м., потолки ниже 2.7\n",
    "\n",
    "hrush = (df\n",
    "     .query('locality_name == \"Санкт-Петербург\" and city_centers_nearest > 10 and kitchen_area < 7 and floors_total <= 5 and ceiling_height < 2.7')\n",
    "     .pivot_table(index='rooms', values=['last_price', 'price_m2'], aggfunc='median')\n",
    ")"
   ]
  },
  {
   "cell_type": "markdown",
   "metadata": {},
   "source": [
    "### Сравниваю типы домов в том же районе\n",
    "\n",
    "**1. Брежневка в тех же условиях**"
   ]
  },
  {
   "cell_type": "code",
   "execution_count": 178,
   "metadata": {},
   "outputs": [],
   "source": [
    "# Количество этажей 7 или более\n",
    "\n",
    "breznev = (df\n",
    "     .query('locality_name == \"Санкт-Петербург\" and city_centers_nearest > 10 and kitchen_area < 7 and floors_total >= 7 and ceiling_height <= 2.7')\n",
    "     .pivot_table(index='rooms', values=['last_price', 'price_m2'], aggfunc='median')\n",
    ")"
   ]
  },
  {
   "cell_type": "code",
   "execution_count": 179,
   "metadata": {},
   "outputs": [
    {
     "data": {
      "text/html": [
       "<div>\n",
       "<style scoped>\n",
       "    .dataframe tbody tr th:only-of-type {\n",
       "        vertical-align: middle;\n",
       "    }\n",
       "\n",
       "    .dataframe tbody tr th {\n",
       "        vertical-align: top;\n",
       "    }\n",
       "\n",
       "    .dataframe thead th {\n",
       "        text-align: right;\n",
       "    }\n",
       "</style>\n",
       "<table border=\"1\" class=\"dataframe\">\n",
       "  <thead>\n",
       "    <tr style=\"text-align: right;\">\n",
       "      <th></th>\n",
       "      <th>last_price</th>\n",
       "      <th>price_m2</th>\n",
       "    </tr>\n",
       "    <tr>\n",
       "      <th>rooms</th>\n",
       "      <th></th>\n",
       "      <th></th>\n",
       "    </tr>\n",
       "  </thead>\n",
       "  <tbody>\n",
       "    <tr>\n",
       "      <th>1</th>\n",
       "      <td>6.5</td>\n",
       "      <td>4.6</td>\n",
       "    </tr>\n",
       "    <tr>\n",
       "      <th>2</th>\n",
       "      <td>10.3</td>\n",
       "      <td>5.6</td>\n",
       "    </tr>\n",
       "    <tr>\n",
       "      <th>3</th>\n",
       "      <td>16.1</td>\n",
       "      <td>0.7</td>\n",
       "    </tr>\n",
       "    <tr>\n",
       "      <th>4</th>\n",
       "      <td>54.2</td>\n",
       "      <td>2.6</td>\n",
       "    </tr>\n",
       "    <tr>\n",
       "      <th>5</th>\n",
       "      <td>NaN</td>\n",
       "      <td>NaN</td>\n",
       "    </tr>\n",
       "  </tbody>\n",
       "</table>\n",
       "</div>"
      ],
      "text/plain": [
       "       last_price  price_m2\n",
       "rooms                      \n",
       "1             6.5       4.6\n",
       "2            10.3       5.6\n",
       "3            16.1       0.7\n",
       "4            54.2       2.6\n",
       "5             NaN       NaN"
      ]
     },
     "execution_count": 179,
     "metadata": {},
     "output_type": "execute_result"
    }
   ],
   "source": [
    "compare = (((breznev / hrush) * 100) - 100).round(1)\n",
    "compare"
   ]
  },
  {
   "cell_type": "markdown",
   "metadata": {},
   "source": [
    "- Однушка в стандартной панельной девятиэтажке обойдется на 6.5% дороже, чем в хрущевке, двушка на 10%, а вот трехкомнатная на 16%.\n",
    "- 4-х комнатная дороже на 54%, но цена кв.м. дороже всего на 0,7%. Что говорит о значительно большей квадратуре.\n",
    "- 5-комнатных квартир в таких домах нет."
   ]
  },
  {
   "cell_type": "markdown",
   "metadata": {},
   "source": [
    "**2. Современный дом с кухней увеличенной площади**\n",
    "\n",
    "Заметка: именно увеличенная площадь кухни является отичием домов современной постройки. Кухня в хрущевках и брежневках откровенно маленькая."
   ]
  },
  {
   "cell_type": "code",
   "execution_count": 180,
   "metadata": {},
   "outputs": [],
   "source": [
    "# Изменяю параметр: площадь кухни больше 7\n",
    "\n",
    "sovremen_econom = (df\n",
    "     .query('locality_name == \"Санкт-Петербург\" and city_centers_nearest > 10 and kitchen_area > 7 and floors_total >= 4 and ceiling_height <= 2.7')\n",
    "     .pivot_table(index='rooms', values=['last_price', 'price_m2'], aggfunc='median')\n",
    ")"
   ]
  },
  {
   "cell_type": "code",
   "execution_count": 181,
   "metadata": {},
   "outputs": [
    {
     "data": {
      "text/html": [
       "<div>\n",
       "<style scoped>\n",
       "    .dataframe tbody tr th:only-of-type {\n",
       "        vertical-align: middle;\n",
       "    }\n",
       "\n",
       "    .dataframe tbody tr th {\n",
       "        vertical-align: top;\n",
       "    }\n",
       "\n",
       "    .dataframe thead th {\n",
       "        text-align: right;\n",
       "    }\n",
       "</style>\n",
       "<table border=\"1\" class=\"dataframe\">\n",
       "  <thead>\n",
       "    <tr style=\"text-align: right;\">\n",
       "      <th></th>\n",
       "      <th>last_price</th>\n",
       "      <th>price_m2</th>\n",
       "    </tr>\n",
       "    <tr>\n",
       "      <th>rooms</th>\n",
       "      <th></th>\n",
       "      <th></th>\n",
       "    </tr>\n",
       "  </thead>\n",
       "  <tbody>\n",
       "    <tr>\n",
       "      <th>1</th>\n",
       "      <td>30.6</td>\n",
       "      <td>7.5</td>\n",
       "    </tr>\n",
       "    <tr>\n",
       "      <th>2</th>\n",
       "      <td>41.0</td>\n",
       "      <td>15.2</td>\n",
       "    </tr>\n",
       "    <tr>\n",
       "      <th>3</th>\n",
       "      <td>49.4</td>\n",
       "      <td>7.0</td>\n",
       "    </tr>\n",
       "    <tr>\n",
       "      <th>4</th>\n",
       "      <td>72.2</td>\n",
       "      <td>-0.7</td>\n",
       "    </tr>\n",
       "    <tr>\n",
       "      <th>5</th>\n",
       "      <td>NaN</td>\n",
       "      <td>NaN</td>\n",
       "    </tr>\n",
       "    <tr>\n",
       "      <th>6</th>\n",
       "      <td>NaN</td>\n",
       "      <td>NaN</td>\n",
       "    </tr>\n",
       "  </tbody>\n",
       "</table>\n",
       "</div>"
      ],
      "text/plain": [
       "       last_price  price_m2\n",
       "rooms                      \n",
       "1            30.6       7.5\n",
       "2            41.0      15.2\n",
       "3            49.4       7.0\n",
       "4            72.2      -0.7\n",
       "5             NaN       NaN\n",
       "6             NaN       NaN"
      ]
     },
     "execution_count": 181,
     "metadata": {},
     "output_type": "execute_result"
    }
   ],
   "source": [
    "compare = (((sovremen_econom / hrush) * 100) - 100).round(1)\n",
    "compare"
   ]
  },
  {
   "cell_type": "markdown",
   "metadata": {},
   "source": [
    "- Самые массовые 1-, 2- и 3-комнатыне квартиры дороже на 31, 41 и 49%.\n",
    "- При этом цена кв.м. выросла куда меньше.\n",
    "- Цена кв.м. двушки является самой дорогой."
   ]
  },
  {
   "cell_type": "markdown",
   "metadata": {},
   "source": [
    "**3. Современный дом с кухней увеличенной площади против брежневки**"
   ]
  },
  {
   "cell_type": "code",
   "execution_count": 182,
   "metadata": {},
   "outputs": [
    {
     "data": {
      "text/html": [
       "<div>\n",
       "<style scoped>\n",
       "    .dataframe tbody tr th:only-of-type {\n",
       "        vertical-align: middle;\n",
       "    }\n",
       "\n",
       "    .dataframe tbody tr th {\n",
       "        vertical-align: top;\n",
       "    }\n",
       "\n",
       "    .dataframe thead th {\n",
       "        text-align: right;\n",
       "    }\n",
       "</style>\n",
       "<table border=\"1\" class=\"dataframe\">\n",
       "  <thead>\n",
       "    <tr style=\"text-align: right;\">\n",
       "      <th></th>\n",
       "      <th>last_price</th>\n",
       "      <th>price_m2</th>\n",
       "    </tr>\n",
       "    <tr>\n",
       "      <th>rooms</th>\n",
       "      <th></th>\n",
       "      <th></th>\n",
       "    </tr>\n",
       "  </thead>\n",
       "  <tbody>\n",
       "    <tr>\n",
       "      <th>1</th>\n",
       "      <td>22.7</td>\n",
       "      <td>2.8</td>\n",
       "    </tr>\n",
       "    <tr>\n",
       "      <th>2</th>\n",
       "      <td>27.9</td>\n",
       "      <td>9.1</td>\n",
       "    </tr>\n",
       "    <tr>\n",
       "      <th>3</th>\n",
       "      <td>28.7</td>\n",
       "      <td>6.3</td>\n",
       "    </tr>\n",
       "    <tr>\n",
       "      <th>4</th>\n",
       "      <td>11.6</td>\n",
       "      <td>-3.2</td>\n",
       "    </tr>\n",
       "    <tr>\n",
       "      <th>5</th>\n",
       "      <td>41.7</td>\n",
       "      <td>7.6</td>\n",
       "    </tr>\n",
       "    <tr>\n",
       "      <th>6</th>\n",
       "      <td>NaN</td>\n",
       "      <td>NaN</td>\n",
       "    </tr>\n",
       "  </tbody>\n",
       "</table>\n",
       "</div>"
      ],
      "text/plain": [
       "       last_price  price_m2\n",
       "rooms                      \n",
       "1            22.7       2.8\n",
       "2            27.9       9.1\n",
       "3            28.7       6.3\n",
       "4            11.6      -3.2\n",
       "5            41.7       7.6\n",
       "6             NaN       NaN"
      ]
     },
     "execution_count": 182,
     "metadata": {},
     "output_type": "execute_result"
    }
   ],
   "source": [
    "compare = (((sovremen_econom / breznev) * 100) - 100).round(1)\n",
    "compare"
   ]
  },
  {
   "cell_type": "markdown",
   "metadata": {},
   "source": [
    "- За большую кухню придется отдать на 25-30% больше.\n",
    "- Как и впредыдущем сравнении, 2-х комнатные квартиры самые дорогие за кв.м."
   ]
  },
  {
   "cell_type": "markdown",
   "metadata": {},
   "source": [
    "**4. Преимальная застройка против хрущевки (интрига интрига)**"
   ]
  },
  {
   "cell_type": "code",
   "execution_count": 183,
   "metadata": {},
   "outputs": [],
   "source": [
    "# Изменяю параметр: площадь кухни больше 7, высота потолков больше 2.7, \n",
    "\n",
    "premium = (df\n",
    "     .query('locality_name == \"Санкт-Петербург\" and city_centers_nearest > 10 and kitchen_area > 7 and floors_total >= 4 and ceiling_height > 2.7')\n",
    "     .pivot_table(index='rooms', values=['last_price', 'price_m2'], aggfunc='median')\n",
    ")"
   ]
  },
  {
   "cell_type": "code",
   "execution_count": 184,
   "metadata": {},
   "outputs": [
    {
     "data": {
      "text/html": [
       "<div>\n",
       "<style scoped>\n",
       "    .dataframe tbody tr th:only-of-type {\n",
       "        vertical-align: middle;\n",
       "    }\n",
       "\n",
       "    .dataframe tbody tr th {\n",
       "        vertical-align: top;\n",
       "    }\n",
       "\n",
       "    .dataframe thead th {\n",
       "        text-align: right;\n",
       "    }\n",
       "</style>\n",
       "<table border=\"1\" class=\"dataframe\">\n",
       "  <thead>\n",
       "    <tr style=\"text-align: right;\">\n",
       "      <th></th>\n",
       "      <th>last_price</th>\n",
       "      <th>price_m2</th>\n",
       "    </tr>\n",
       "    <tr>\n",
       "      <th>rooms</th>\n",
       "      <th></th>\n",
       "      <th></th>\n",
       "    </tr>\n",
       "  </thead>\n",
       "  <tbody>\n",
       "    <tr>\n",
       "      <th>1</th>\n",
       "      <td>53.2</td>\n",
       "      <td>16.6</td>\n",
       "    </tr>\n",
       "    <tr>\n",
       "      <th>2</th>\n",
       "      <td>80.8</td>\n",
       "      <td>29.7</td>\n",
       "    </tr>\n",
       "    <tr>\n",
       "      <th>3</th>\n",
       "      <td>95.4</td>\n",
       "      <td>15.4</td>\n",
       "    </tr>\n",
       "    <tr>\n",
       "      <th>4</th>\n",
       "      <td>88.0</td>\n",
       "      <td>8.0</td>\n",
       "    </tr>\n",
       "    <tr>\n",
       "      <th>5</th>\n",
       "      <td>NaN</td>\n",
       "      <td>NaN</td>\n",
       "    </tr>\n",
       "  </tbody>\n",
       "</table>\n",
       "</div>"
      ],
      "text/plain": [
       "       last_price  price_m2\n",
       "rooms                      \n",
       "1            53.2      16.6\n",
       "2            80.8      29.7\n",
       "3            95.4      15.4\n",
       "4            88.0       8.0\n",
       "5             NaN       NaN"
      ]
     },
     "execution_count": 184,
     "metadata": {},
     "output_type": "execute_result"
    }
   ],
   "source": [
    "compare = (((premium / hrush) * 100) - 100).round(1)\n",
    "compare"
   ]
  },
  {
   "cell_type": "markdown",
   "metadata": {},
   "source": [
    "- Однушки дороже на 50%\n",
    "- А 2, 3 и 4-комнатные почти в 2 раза."
   ]
  },
  {
   "cell_type": "markdown",
   "metadata": {},
   "source": [
    "**5. Премиальная застройка против современной бюджетной квартиры**"
   ]
  },
  {
   "cell_type": "code",
   "execution_count": 185,
   "metadata": {},
   "outputs": [
    {
     "data": {
      "text/html": [
       "<div>\n",
       "<style scoped>\n",
       "    .dataframe tbody tr th:only-of-type {\n",
       "        vertical-align: middle;\n",
       "    }\n",
       "\n",
       "    .dataframe tbody tr th {\n",
       "        vertical-align: top;\n",
       "    }\n",
       "\n",
       "    .dataframe thead th {\n",
       "        text-align: right;\n",
       "    }\n",
       "</style>\n",
       "<table border=\"1\" class=\"dataframe\">\n",
       "  <thead>\n",
       "    <tr style=\"text-align: right;\">\n",
       "      <th></th>\n",
       "      <th>last_price</th>\n",
       "      <th>price_m2</th>\n",
       "    </tr>\n",
       "    <tr>\n",
       "      <th>rooms</th>\n",
       "      <th></th>\n",
       "      <th></th>\n",
       "    </tr>\n",
       "  </thead>\n",
       "  <tbody>\n",
       "    <tr>\n",
       "      <th>1</th>\n",
       "      <td>17.3</td>\n",
       "      <td>8.5</td>\n",
       "    </tr>\n",
       "    <tr>\n",
       "      <th>2</th>\n",
       "      <td>28.2</td>\n",
       "      <td>12.6</td>\n",
       "    </tr>\n",
       "    <tr>\n",
       "      <th>3</th>\n",
       "      <td>30.8</td>\n",
       "      <td>7.8</td>\n",
       "    </tr>\n",
       "    <tr>\n",
       "      <th>4</th>\n",
       "      <td>9.2</td>\n",
       "      <td>8.8</td>\n",
       "    </tr>\n",
       "    <tr>\n",
       "      <th>5</th>\n",
       "      <td>16.5</td>\n",
       "      <td>-19.4</td>\n",
       "    </tr>\n",
       "    <tr>\n",
       "      <th>6</th>\n",
       "      <td>NaN</td>\n",
       "      <td>NaN</td>\n",
       "    </tr>\n",
       "  </tbody>\n",
       "</table>\n",
       "</div>"
      ],
      "text/plain": [
       "       last_price  price_m2\n",
       "rooms                      \n",
       "1            17.3       8.5\n",
       "2            28.2      12.6\n",
       "3            30.8       7.8\n",
       "4             9.2       8.8\n",
       "5            16.5     -19.4\n",
       "6             NaN       NaN"
      ]
     },
     "execution_count": 185,
     "metadata": {},
     "output_type": "execute_result"
    }
   ],
   "source": [
    "compare = (((premium / sovremen_econom) * 100) - 100).round(1)\n",
    "compare"
   ]
  },
  {
   "cell_type": "markdown",
   "metadata": {},
   "source": [
    "- Однушки дороже на 16%.\n",
    "- 2-, 3-комнатные на 30%.\n",
    "- А вот 4-комнатные всего на 9,2%"
   ]
  },
  {
   "cell_type": "markdown",
   "metadata": {},
   "source": [
    "### Удаленность от центра"
   ]
  },
  {
   "cell_type": "markdown",
   "metadata": {},
   "source": [
    "**1. Хрущевка ближе к центру против хрущевки с окраин**"
   ]
  },
  {
   "cell_type": "code",
   "execution_count": 186,
   "metadata": {},
   "outputs": [],
   "source": [
    "# Хрущевка близко к центру\n",
    "# Изменяю параметр: расстояние от центра от 3 до 10 км, меньше или равно 5 этажей в доме, кухня меньше 7 кв.м., потолки ниже 2.7\n",
    "\n",
    "hrush_blizko_centre = (df\n",
    "     .query('locality_name == \"Санкт-Петербург\" and 3 <= city_centers_nearest < 10 and kitchen_area < 7 and floors_total <= 5 and ceiling_height < 2.7')\n",
    "     .pivot_table(index='rooms', values=['last_price', 'price_m2'], aggfunc='median')\n",
    ")"
   ]
  },
  {
   "cell_type": "code",
   "execution_count": 187,
   "metadata": {},
   "outputs": [
    {
     "data": {
      "text/html": [
       "<div>\n",
       "<style scoped>\n",
       "    .dataframe tbody tr th:only-of-type {\n",
       "        vertical-align: middle;\n",
       "    }\n",
       "\n",
       "    .dataframe tbody tr th {\n",
       "        vertical-align: top;\n",
       "    }\n",
       "\n",
       "    .dataframe thead th {\n",
       "        text-align: right;\n",
       "    }\n",
       "</style>\n",
       "<table border=\"1\" class=\"dataframe\">\n",
       "  <thead>\n",
       "    <tr style=\"text-align: right;\">\n",
       "      <th></th>\n",
       "      <th>last_price</th>\n",
       "      <th>price_m2</th>\n",
       "    </tr>\n",
       "    <tr>\n",
       "      <th>rooms</th>\n",
       "      <th></th>\n",
       "      <th></th>\n",
       "    </tr>\n",
       "  </thead>\n",
       "  <tbody>\n",
       "    <tr>\n",
       "      <th>1</th>\n",
       "      <td>11.0</td>\n",
       "      <td>8.9</td>\n",
       "    </tr>\n",
       "    <tr>\n",
       "      <th>2</th>\n",
       "      <td>10.2</td>\n",
       "      <td>10.7</td>\n",
       "    </tr>\n",
       "    <tr>\n",
       "      <th>3</th>\n",
       "      <td>13.8</td>\n",
       "      <td>4.5</td>\n",
       "    </tr>\n",
       "    <tr>\n",
       "      <th>4</th>\n",
       "      <td>NaN</td>\n",
       "      <td>NaN</td>\n",
       "    </tr>\n",
       "  </tbody>\n",
       "</table>\n",
       "</div>"
      ],
      "text/plain": [
       "       last_price  price_m2\n",
       "rooms                      \n",
       "1            11.0       8.9\n",
       "2            10.2      10.7\n",
       "3            13.8       4.5\n",
       "4             NaN       NaN"
      ]
     },
     "execution_count": 187,
     "metadata": {},
     "output_type": "execute_result"
    }
   ],
   "source": [
    "compare = (((hrush_blizko_centre / hrush) * 100) - 100).round(1)\n",
    "compare"
   ]
  },
  {
   "cell_type": "markdown",
   "metadata": {},
   "source": [
    "- Ого, дороже на 10-12%"
   ]
  },
  {
   "cell_type": "markdown",
   "metadata": {},
   "source": [
    "**2. Брежневка ближе к центру**"
   ]
  },
  {
   "cell_type": "code",
   "execution_count": 188,
   "metadata": {},
   "outputs": [],
   "source": [
    "# Изменяю параметр: расстояние от центра от 3 до 10 км\n",
    "\n",
    "breznev_blizko_centre = (df\n",
    "     .query('locality_name == \"Санкт-Петербург\" and 3 <= city_centers_nearest < 10 and kitchen_area < 7 and floors_total >= 7 and ceiling_height <= 2.7')\n",
    "     .pivot_table(index='rooms', values=['last_price', 'price_m2'], aggfunc='median')\n",
    ")"
   ]
  },
  {
   "cell_type": "code",
   "execution_count": 189,
   "metadata": {},
   "outputs": [
    {
     "data": {
      "text/html": [
       "<div>\n",
       "<style scoped>\n",
       "    .dataframe tbody tr th:only-of-type {\n",
       "        vertical-align: middle;\n",
       "    }\n",
       "\n",
       "    .dataframe tbody tr th {\n",
       "        vertical-align: top;\n",
       "    }\n",
       "\n",
       "    .dataframe thead th {\n",
       "        text-align: right;\n",
       "    }\n",
       "</style>\n",
       "<table border=\"1\" class=\"dataframe\">\n",
       "  <thead>\n",
       "    <tr style=\"text-align: right;\">\n",
       "      <th></th>\n",
       "      <th>last_price</th>\n",
       "      <th>price_m2</th>\n",
       "    </tr>\n",
       "    <tr>\n",
       "      <th>rooms</th>\n",
       "      <th></th>\n",
       "      <th></th>\n",
       "    </tr>\n",
       "  </thead>\n",
       "  <tbody>\n",
       "    <tr>\n",
       "      <th>1</th>\n",
       "      <td>7.6</td>\n",
       "      <td>9.5</td>\n",
       "    </tr>\n",
       "    <tr>\n",
       "      <th>2</th>\n",
       "      <td>9.3</td>\n",
       "      <td>15.9</td>\n",
       "    </tr>\n",
       "    <tr>\n",
       "      <th>3</th>\n",
       "      <td>20.3</td>\n",
       "      <td>11.5</td>\n",
       "    </tr>\n",
       "    <tr>\n",
       "      <th>4</th>\n",
       "      <td>NaN</td>\n",
       "      <td>NaN</td>\n",
       "    </tr>\n",
       "    <tr>\n",
       "      <th>5</th>\n",
       "      <td>NaN</td>\n",
       "      <td>NaN</td>\n",
       "    </tr>\n",
       "  </tbody>\n",
       "</table>\n",
       "</div>"
      ],
      "text/plain": [
       "       last_price  price_m2\n",
       "rooms                      \n",
       "1             7.6       9.5\n",
       "2             9.3      15.9\n",
       "3            20.3      11.5\n",
       "4             NaN       NaN\n",
       "5             NaN       NaN"
      ]
     },
     "execution_count": 189,
     "metadata": {},
     "output_type": "execute_result"
    }
   ],
   "source": [
    "compare = (((breznev_blizko_centre / breznev) * 100) - 100).round(1)\n",
    "compare"
   ]
  },
  {
   "cell_type": "markdown",
   "metadata": {},
   "source": [
    "- Транспортная доступность облегчает кошелек на 8-9%, если хочется однушку или двушку.\n",
    "- И аж на 20%, если кому то захочется брежневку поближе к центру города."
   ]
  },
  {
   "cell_type": "markdown",
   "metadata": {},
   "source": [
    "**3. Современная бюджетная квартира ближе к центру**"
   ]
  },
  {
   "cell_type": "code",
   "execution_count": 190,
   "metadata": {},
   "outputs": [],
   "source": [
    "# Изменяю параметр: расстояние от центра от 3 до 10 км\n",
    "\n",
    "sovremen_econom_blizko_centre = (df\n",
    "     .query('locality_name == \"Санкт-Петербург\" and 3 <= city_centers_nearest < 10 and kitchen_area > 7 and floors_total >= 4 and ceiling_height <= 2.7')\n",
    "     .pivot_table(index='rooms', values=['last_price', 'price_m2'], aggfunc='median')\n",
    ")"
   ]
  },
  {
   "cell_type": "code",
   "execution_count": 191,
   "metadata": {},
   "outputs": [
    {
     "data": {
      "text/html": [
       "<div>\n",
       "<style scoped>\n",
       "    .dataframe tbody tr th:only-of-type {\n",
       "        vertical-align: middle;\n",
       "    }\n",
       "\n",
       "    .dataframe tbody tr th {\n",
       "        vertical-align: top;\n",
       "    }\n",
       "\n",
       "    .dataframe thead th {\n",
       "        text-align: right;\n",
       "    }\n",
       "</style>\n",
       "<table border=\"1\" class=\"dataframe\">\n",
       "  <thead>\n",
       "    <tr style=\"text-align: right;\">\n",
       "      <th></th>\n",
       "      <th>last_price</th>\n",
       "      <th>price_m2</th>\n",
       "    </tr>\n",
       "    <tr>\n",
       "      <th>rooms</th>\n",
       "      <th></th>\n",
       "      <th></th>\n",
       "    </tr>\n",
       "  </thead>\n",
       "  <tbody>\n",
       "    <tr>\n",
       "      <th>1</th>\n",
       "      <td>22.2</td>\n",
       "      <td>16.3</td>\n",
       "    </tr>\n",
       "    <tr>\n",
       "      <th>2</th>\n",
       "      <td>22.7</td>\n",
       "      <td>14.1</td>\n",
       "    </tr>\n",
       "    <tr>\n",
       "      <th>3</th>\n",
       "      <td>21.9</td>\n",
       "      <td>12.1</td>\n",
       "    </tr>\n",
       "    <tr>\n",
       "      <th>4</th>\n",
       "      <td>24.6</td>\n",
       "      <td>8.8</td>\n",
       "    </tr>\n",
       "    <tr>\n",
       "      <th>5</th>\n",
       "      <td>23.5</td>\n",
       "      <td>5.5</td>\n",
       "    </tr>\n",
       "    <tr>\n",
       "      <th>6</th>\n",
       "      <td>-0.5</td>\n",
       "      <td>-7.3</td>\n",
       "    </tr>\n",
       "  </tbody>\n",
       "</table>\n",
       "</div>"
      ],
      "text/plain": [
       "       last_price  price_m2\n",
       "rooms                      \n",
       "1            22.2      16.3\n",
       "2            22.7      14.1\n",
       "3            21.9      12.1\n",
       "4            24.6       8.8\n",
       "5            23.5       5.5\n",
       "6            -0.5      -7.3"
      ]
     },
     "execution_count": 191,
     "metadata": {},
     "output_type": "execute_result"
    }
   ],
   "source": [
    "compare = (((sovremen_econom_blizko_centre / sovremen_econom) * 100) - 100).round(1)\n",
    "compare"
   ]
  },
  {
   "cell_type": "markdown",
   "metadata": {},
   "source": [
    "- Расстояние имеет значение, такая квартира стоит дороже на 20-30%"
   ]
  },
  {
   "cell_type": "markdown",
   "metadata": {},
   "source": [
    "# Здесь я закончу описание вывода для параметров"
   ]
  },
  {
   "cell_type": "markdown",
   "metadata": {},
   "source": [
    "- Уверен, логику вы поняли.\n",
    "- Дальнейшее описание лишено здравого смысла."
   ]
  },
  {
   "cell_type": "markdown",
   "metadata": {},
   "source": [
    "**Ответ на поставленную задачу «Ваша задача — установить параметры.» такой:** таких параметров как минимум 170 и для каждого есть свой коэффициент изменения цены.\n",
    "\n",
    "Почему 170? Возьмем только 1-комнатные квартиры, только last_price:\n",
    "- Высота потолков: 2 категории (меньше 2,7, больше 2,7)\n",
    "- Удаленность от центра: 3 категории (центр до 3 км, сам город 3-10 км, пригороды дальше 10 км)\n",
    "- Этаж: первый, последний, другой\n",
    "- Месяц продажи: да даже не 12, но как минимум есть 4 категории (пик апреля, пик перед новым годом, спад в июне, до и после НГ)\n",
    "- И так далее...\n",
    "\n",
    "Для каждой квартиры выходит 7 параметров, в каждом параметре 2-4 категории, и это только для цены продажи. А есть еще цена за кв.м. Итого я насчитал 170 вариантов, для каждого из которых есть свой коэффициент, который увеличивает базовую стоимость квартиры."
   ]
  }
 ],
 "metadata": {
  "kernelspec": {
   "display_name": "Python 3",
   "language": "python",
   "name": "python3"
  },
  "language_info": {
   "codemirror_mode": {
    "name": "ipython",
    "version": 3
   },
   "file_extension": ".py",
   "mimetype": "text/x-python",
   "name": "python",
   "nbconvert_exporter": "python",
   "pygments_lexer": "ipython3",
   "version": "3.7.6"
  }
 },
 "nbformat": 4,
 "nbformat_minor": 2
}
