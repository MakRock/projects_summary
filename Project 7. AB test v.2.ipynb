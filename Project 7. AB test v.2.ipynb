{
 "cells": [
  {
   "cell_type": "markdown",
   "metadata": {},
   "source": [
    "<br><br><br>\n",
    "<h1 style='font-size:50px'>Анализ результатов A/B теста</h1>"
   ]
  },
  {
   "cell_type": "markdown",
   "metadata": {},
   "source": [
    "Описание проекта\n",
    "==="
   ]
  },
  {
   "cell_type": "markdown",
   "metadata": {},
   "source": [
    "Часть 1. Приоретизация гипотез\n",
    "---"
   ]
  },
  {
   "cell_type": "markdown",
   "metadata": {},
   "source": [
    "* Примените фреймворк ICE для приоритизации гипотез. Отсортируйте их по убыванию приоритета.\n",
    "* Примените фреймворк RICE для приоритизации гипотез. Отсортируйте их по убыванию приоритета.\n",
    "* Укажите, как изменилась приоритизация гипотез при применении RICE вместо ICE. Объясните, почему так произошло."
   ]
  },
  {
   "cell_type": "markdown",
   "metadata": {},
   "source": [
    "Часть 2. Анализ А/В теста\n",
    "---"
   ]
  },
  {
   "cell_type": "markdown",
   "metadata": {},
   "source": [
    "Постройте график:\n",
    "* Кумулятивной выручки по группам. Сделайте выводы и предположения.\n",
    "* Кумулятивного среднего чека по группам. Сделайте выводы и предположения.\n",
    "* Относительного изменения кумулятивного среднего чека группы B к группе A. Сделайте выводы и предположения.\n",
    "* Кумулятивной конверсии по группам. Сделайте выводы и предположения.\n",
    "* Относительного изменения кумулятивной конверсии группы B к группе A. Сделайте выводы и предположения.\n",
    "\n",
    "Точечные графики и поиск аномалий:\n",
    "* Точечный график количества заказов по пользователям. Сделайте выводы и предположения.\n",
    "* Точечный график стоимостей заказов. Сделайте выводы и предположения.\n",
    "* Посчитайте 95-й и 99-й перецентили количества заказов на пользователя. Выберите границу аномальности.\n",
    "* Посчитайте 95-й и 99-й перцентили стоимости заказов. Выберите границу для определения аномальных заказов.\n",
    "\n",
    "Посчитайте статистическую значимость различий:\n",
    "* В конверсии между группами по «сырым» данным. Сделайте выводы и предположения.\n",
    "* В среднем чеке заказа между группами по «сырым» данным. Сделайте выводы и предположения.\n",
    "* В конверсии между группами по «очищенным» данным. Сделайте выводы и предположения.\n",
    "* В среднем чеке заказа между группами по «очищенным» данным. Сделайте выводы и предположения.\n",
    "\n",
    "Примите решение по результатам теста и объясните его. Варианты решений: \n",
    "1. Остановить тест, зафиксировать победу одной из групп. \n",
    "2. Остановить тест, зафиксировать отсутствие различий между группами. \n",
    "3. Продолжить тест."
   ]
  },
  {
   "cell_type": "markdown",
   "metadata": {},
   "source": [
    "<br><br><br>\n",
    "Импорт данных и библиотек\n",
    "==="
   ]
  },
  {
   "cell_type": "code",
   "execution_count": 1,
   "metadata": {},
   "outputs": [],
   "source": [
    "import pandas as pd\n",
    "import seaborn as sns\n",
    "import numpy as np\n",
    "import matplotlib.pyplot as plt\n",
    "import scipy.stats as stats\n",
    "from pandas.plotting import register_matplotlib_converters"
   ]
  },
  {
   "cell_type": "code",
   "execution_count": 2,
   "metadata": {},
   "outputs": [],
   "source": [
    "hypothesis = pd.read_csv('/datasets/hypothesis.csv')\n",
    "orders = pd.read_csv('/datasets/orders.csv')\n",
    "visitors = pd.read_csv('/datasets/visitors.csv')"
   ]
  },
  {
   "cell_type": "markdown",
   "metadata": {},
   "source": [
    "**Таблица 1. Гипотезы**"
   ]
  },
  {
   "cell_type": "code",
   "execution_count": 3,
   "metadata": {},
   "outputs": [
    {
     "data": {
      "text/html": [
       "<div>\n",
       "<style scoped>\n",
       "    .dataframe tbody tr th:only-of-type {\n",
       "        vertical-align: middle;\n",
       "    }\n",
       "\n",
       "    .dataframe tbody tr th {\n",
       "        vertical-align: top;\n",
       "    }\n",
       "\n",
       "    .dataframe thead th {\n",
       "        text-align: right;\n",
       "    }\n",
       "</style>\n",
       "<table border=\"1\" class=\"dataframe\">\n",
       "  <thead>\n",
       "    <tr style=\"text-align: right;\">\n",
       "      <th></th>\n",
       "      <th>Hypothesis</th>\n",
       "      <th>Reach</th>\n",
       "      <th>Impact</th>\n",
       "      <th>Confidence</th>\n",
       "      <th>Efforts</th>\n",
       "    </tr>\n",
       "  </thead>\n",
       "  <tbody>\n",
       "    <tr>\n",
       "      <td>0</td>\n",
       "      <td>Добавить два новых канала привлечения трафика,...</td>\n",
       "      <td>3</td>\n",
       "      <td>10</td>\n",
       "      <td>8</td>\n",
       "      <td>6</td>\n",
       "    </tr>\n",
       "    <tr>\n",
       "      <td>1</td>\n",
       "      <td>Запустить собственную службу доставки, что сок...</td>\n",
       "      <td>2</td>\n",
       "      <td>5</td>\n",
       "      <td>4</td>\n",
       "      <td>10</td>\n",
       "    </tr>\n",
       "    <tr>\n",
       "      <td>2</td>\n",
       "      <td>Добавить блоки рекомендаций товаров на сайт ин...</td>\n",
       "      <td>8</td>\n",
       "      <td>3</td>\n",
       "      <td>7</td>\n",
       "      <td>3</td>\n",
       "    </tr>\n",
       "    <tr>\n",
       "      <td>3</td>\n",
       "      <td>Изменить структура категорий, что увеличит кон...</td>\n",
       "      <td>8</td>\n",
       "      <td>3</td>\n",
       "      <td>3</td>\n",
       "      <td>8</td>\n",
       "    </tr>\n",
       "    <tr>\n",
       "      <td>4</td>\n",
       "      <td>Изменить цвет фона главной страницы, чтобы уве...</td>\n",
       "      <td>3</td>\n",
       "      <td>1</td>\n",
       "      <td>1</td>\n",
       "      <td>1</td>\n",
       "    </tr>\n",
       "  </tbody>\n",
       "</table>\n",
       "</div>"
      ],
      "text/plain": [
       "                                          Hypothesis  Reach  Impact  \\\n",
       "0  Добавить два новых канала привлечения трафика,...      3      10   \n",
       "1  Запустить собственную службу доставки, что сок...      2       5   \n",
       "2  Добавить блоки рекомендаций товаров на сайт ин...      8       3   \n",
       "3  Изменить структура категорий, что увеличит кон...      8       3   \n",
       "4  Изменить цвет фона главной страницы, чтобы уве...      3       1   \n",
       "\n",
       "   Confidence  Efforts  \n",
       "0           8        6  \n",
       "1           4       10  \n",
       "2           7        3  \n",
       "3           3        8  \n",
       "4           1        1  "
      ]
     },
     "execution_count": 3,
     "metadata": {},
     "output_type": "execute_result"
    }
   ],
   "source": [
    "hypothesis.head()"
   ]
  },
  {
   "cell_type": "markdown",
   "metadata": {},
   "source": [
    "Всё просто"
   ]
  },
  {
   "cell_type": "markdown",
   "metadata": {},
   "source": [
    "**Таблица 2. Заказы**"
   ]
  },
  {
   "cell_type": "code",
   "execution_count": 4,
   "metadata": {},
   "outputs": [
    {
     "data": {
      "text/html": [
       "<div>\n",
       "<style scoped>\n",
       "    .dataframe tbody tr th:only-of-type {\n",
       "        vertical-align: middle;\n",
       "    }\n",
       "\n",
       "    .dataframe tbody tr th {\n",
       "        vertical-align: top;\n",
       "    }\n",
       "\n",
       "    .dataframe thead th {\n",
       "        text-align: right;\n",
       "    }\n",
       "</style>\n",
       "<table border=\"1\" class=\"dataframe\">\n",
       "  <thead>\n",
       "    <tr style=\"text-align: right;\">\n",
       "      <th></th>\n",
       "      <th>transactionId</th>\n",
       "      <th>visitorId</th>\n",
       "      <th>date</th>\n",
       "      <th>revenue</th>\n",
       "      <th>group</th>\n",
       "    </tr>\n",
       "  </thead>\n",
       "  <tbody>\n",
       "    <tr>\n",
       "      <td>0</td>\n",
       "      <td>3667963787</td>\n",
       "      <td>3312258926</td>\n",
       "      <td>2019-08-15</td>\n",
       "      <td>1650</td>\n",
       "      <td>B</td>\n",
       "    </tr>\n",
       "    <tr>\n",
       "      <td>1</td>\n",
       "      <td>2804400009</td>\n",
       "      <td>3642806036</td>\n",
       "      <td>2019-08-15</td>\n",
       "      <td>730</td>\n",
       "      <td>B</td>\n",
       "    </tr>\n",
       "    <tr>\n",
       "      <td>2</td>\n",
       "      <td>2961555356</td>\n",
       "      <td>4069496402</td>\n",
       "      <td>2019-08-15</td>\n",
       "      <td>400</td>\n",
       "      <td>A</td>\n",
       "    </tr>\n",
       "    <tr>\n",
       "      <td>3</td>\n",
       "      <td>3797467345</td>\n",
       "      <td>1196621759</td>\n",
       "      <td>2019-08-15</td>\n",
       "      <td>9759</td>\n",
       "      <td>B</td>\n",
       "    </tr>\n",
       "    <tr>\n",
       "      <td>4</td>\n",
       "      <td>2282983706</td>\n",
       "      <td>2322279887</td>\n",
       "      <td>2019-08-15</td>\n",
       "      <td>2308</td>\n",
       "      <td>B</td>\n",
       "    </tr>\n",
       "  </tbody>\n",
       "</table>\n",
       "</div>"
      ],
      "text/plain": [
       "   transactionId   visitorId        date  revenue group\n",
       "0     3667963787  3312258926  2019-08-15     1650     B\n",
       "1     2804400009  3642806036  2019-08-15      730     B\n",
       "2     2961555356  4069496402  2019-08-15      400     A\n",
       "3     3797467345  1196621759  2019-08-15     9759     B\n",
       "4     2282983706  2322279887  2019-08-15     2308     B"
      ]
     },
     "execution_count": 4,
     "metadata": {},
     "output_type": "execute_result"
    }
   ],
   "source": [
    "orders.head()"
   ]
  },
  {
   "cell_type": "code",
   "execution_count": 5,
   "metadata": {},
   "outputs": [
    {
     "name": "stdout",
     "output_type": "stream",
     "text": [
      "<class 'pandas.core.frame.DataFrame'>\n",
      "RangeIndex: 1197 entries, 0 to 1196\n",
      "Data columns (total 5 columns):\n",
      "transactionId    1197 non-null int64\n",
      "visitorId        1197 non-null int64\n",
      "date             1197 non-null object\n",
      "revenue          1197 non-null int64\n",
      "group            1197 non-null object\n",
      "dtypes: int64(3), object(2)\n",
      "memory usage: 46.9+ KB\n"
     ]
    }
   ],
   "source": [
    "orders.info()"
   ]
  },
  {
   "cell_type": "markdown",
   "metadata": {},
   "source": [
    "* Пропусков нет\n",
    "* Названия полей мне не нравятся, заменю их при предобработке\n",
    "* Изменить тип данных у поля дата"
   ]
  },
  {
   "cell_type": "markdown",
   "metadata": {},
   "source": [
    "**Таблица 3. Визиты**"
   ]
  },
  {
   "cell_type": "code",
   "execution_count": 6,
   "metadata": {},
   "outputs": [
    {
     "data": {
      "text/html": [
       "<div>\n",
       "<style scoped>\n",
       "    .dataframe tbody tr th:only-of-type {\n",
       "        vertical-align: middle;\n",
       "    }\n",
       "\n",
       "    .dataframe tbody tr th {\n",
       "        vertical-align: top;\n",
       "    }\n",
       "\n",
       "    .dataframe thead th {\n",
       "        text-align: right;\n",
       "    }\n",
       "</style>\n",
       "<table border=\"1\" class=\"dataframe\">\n",
       "  <thead>\n",
       "    <tr style=\"text-align: right;\">\n",
       "      <th></th>\n",
       "      <th>date</th>\n",
       "      <th>group</th>\n",
       "      <th>visitors</th>\n",
       "    </tr>\n",
       "  </thead>\n",
       "  <tbody>\n",
       "    <tr>\n",
       "      <td>0</td>\n",
       "      <td>2019-08-01</td>\n",
       "      <td>A</td>\n",
       "      <td>719</td>\n",
       "    </tr>\n",
       "    <tr>\n",
       "      <td>1</td>\n",
       "      <td>2019-08-02</td>\n",
       "      <td>A</td>\n",
       "      <td>619</td>\n",
       "    </tr>\n",
       "    <tr>\n",
       "      <td>2</td>\n",
       "      <td>2019-08-03</td>\n",
       "      <td>A</td>\n",
       "      <td>507</td>\n",
       "    </tr>\n",
       "    <tr>\n",
       "      <td>3</td>\n",
       "      <td>2019-08-04</td>\n",
       "      <td>A</td>\n",
       "      <td>717</td>\n",
       "    </tr>\n",
       "    <tr>\n",
       "      <td>4</td>\n",
       "      <td>2019-08-05</td>\n",
       "      <td>A</td>\n",
       "      <td>756</td>\n",
       "    </tr>\n",
       "  </tbody>\n",
       "</table>\n",
       "</div>"
      ],
      "text/plain": [
       "         date group  visitors\n",
       "0  2019-08-01     A       719\n",
       "1  2019-08-02     A       619\n",
       "2  2019-08-03     A       507\n",
       "3  2019-08-04     A       717\n",
       "4  2019-08-05     A       756"
      ]
     },
     "execution_count": 6,
     "metadata": {},
     "output_type": "execute_result"
    }
   ],
   "source": [
    "visitors.head()"
   ]
  },
  {
   "cell_type": "code",
   "execution_count": 7,
   "metadata": {},
   "outputs": [
    {
     "name": "stdout",
     "output_type": "stream",
     "text": [
      "<class 'pandas.core.frame.DataFrame'>\n",
      "RangeIndex: 62 entries, 0 to 61\n",
      "Data columns (total 3 columns):\n",
      "date        62 non-null object\n",
      "group       62 non-null object\n",
      "visitors    62 non-null int64\n",
      "dtypes: int64(1), object(2)\n",
      "memory usage: 1.6+ KB\n"
     ]
    }
   ],
   "source": [
    "visitors.info()"
   ]
  },
  {
   "cell_type": "markdown",
   "metadata": {},
   "source": [
    "* Пропусков нет\n",
    "* Изменить тип поля дата на datetime\n",
    "* Заметка. Название намекает, что в данных количество уникальных посетителей, а не визитов"
   ]
  },
  {
   "cell_type": "markdown",
   "metadata": {},
   "source": [
    "<br><br><br>\n",
    "Предобработка данных\n",
    "==="
   ]
  },
  {
   "cell_type": "markdown",
   "metadata": {},
   "source": [
    "**Изменяю названия столбцов в таблице Заказы**"
   ]
  },
  {
   "cell_type": "code",
   "execution_count": 8,
   "metadata": {},
   "outputs": [
    {
     "data": {
      "text/plain": [
       "Index(['id_transaction', 'id_visitor', 'date', 'revenue', 'group'], dtype='object')"
      ]
     },
     "execution_count": 8,
     "metadata": {},
     "output_type": "execute_result"
    }
   ],
   "source": [
    "orders.columns = ['id_transaction', 'id_visitor', 'date', 'revenue', 'group']\n",
    "orders.columns"
   ]
  },
  {
   "cell_type": "markdown",
   "metadata": {},
   "source": [
    "Успешно."
   ]
  },
  {
   "cell_type": "markdown",
   "metadata": {},
   "source": [
    "**Меняю тип переменной с датой на datetime во всех таблицах**"
   ]
  },
  {
   "cell_type": "code",
   "execution_count": 9,
   "metadata": {},
   "outputs": [],
   "source": [
    "orders['date'] = orders['date'].astype('datetime64')\n",
    "visitors['date'] = visitors['date'].astype('datetime64')"
   ]
  },
  {
   "cell_type": "code",
   "execution_count": 10,
   "metadata": {},
   "outputs": [
    {
     "name": "stdout",
     "output_type": "stream",
     "text": [
      "<class 'pandas.core.frame.DataFrame'>\n",
      "RangeIndex: 1197 entries, 0 to 1196\n",
      "Data columns (total 5 columns):\n",
      "id_transaction    1197 non-null int64\n",
      "id_visitor        1197 non-null int64\n",
      "date              1197 non-null datetime64[ns]\n",
      "revenue           1197 non-null int64\n",
      "group             1197 non-null object\n",
      "dtypes: datetime64[ns](1), int64(3), object(1)\n",
      "memory usage: 46.9+ KB\n"
     ]
    }
   ],
   "source": [
    "orders.info()"
   ]
  },
  {
   "cell_type": "code",
   "execution_count": 11,
   "metadata": {},
   "outputs": [
    {
     "name": "stdout",
     "output_type": "stream",
     "text": [
      "<class 'pandas.core.frame.DataFrame'>\n",
      "RangeIndex: 62 entries, 0 to 61\n",
      "Data columns (total 3 columns):\n",
      "date        62 non-null datetime64[ns]\n",
      "group       62 non-null object\n",
      "visitors    62 non-null int64\n",
      "dtypes: datetime64[ns](1), int64(1), object(1)\n",
      "memory usage: 1.6+ KB\n"
     ]
    }
   ],
   "source": [
    "visitors.info()"
   ]
  },
  {
   "cell_type": "markdown",
   "metadata": {},
   "source": [
    "Замена проведена успешна. Приступаю к анализу данных."
   ]
  },
  {
   "cell_type": "markdown",
   "metadata": {},
   "source": [
    "<br><br><br>\n",
    "Часть 1. Приоретизация гипотез\n",
    "==="
   ]
  },
  {
   "cell_type": "markdown",
   "metadata": {},
   "source": [
    "* Примените фреймворк ICE для приоритизации гипотез. Отсортируйте их по убыванию приоритета.\n",
    "* Примените фреймворк RICE для приоритизации гипотез. Отсортируйте их по убыванию приоритета.\n",
    "* Укажите, как изменилась приоритизация гипотез при применении RICE вместо ICE. Объясните, почему так произошло."
   ]
  },
  {
   "cell_type": "markdown",
   "metadata": {},
   "source": [
    "**Рейтинг гипотез по методу RICE и ICE (с сортировкой по RICE)**"
   ]
  },
  {
   "cell_type": "code",
   "execution_count": 12,
   "metadata": {},
   "outputs": [],
   "source": [
    "# Рассчитываю ICE, RICE\n",
    "hypothesis['ICE'] = (hypothesis['Impact'] * hypothesis['Confidence'])/hypothesis['Efforts']\n",
    "hypothesis['RICE'] = (hypothesis['Reach'] * hypothesis['Impact'] * hypothesis['Confidence'])/hypothesis['Efforts']\n",
    "\n",
    "# Создаю 2 таблицы с рейтингами\n",
    "ICE = hypothesis[['Hypothesis', 'ICE']].sort_values(by='ICE', ascending=False).reset_index(drop=True).reset_index().rename(columns={'index':'ICE_rate'})\n",
    "RICE = hypothesis[['Hypothesis', 'RICE']].sort_values(by='RICE', ascending=False).reset_index(drop=True).reset_index().rename(columns={'index':'RICE_rate'})\n",
    "\n",
    "# Изменяю нумерация на нумерацию с 1-единицы, а не 0-нуля\n",
    "ICE['ICE_rate'] = ICE['ICE_rate'] + 1\n",
    "RICE['RICE_rate'] = RICE['RICE_rate'] + 1\n",
    "\n",
    "# Объединяю таблицы\n",
    "ICE_RICE_rating = ICE.merge(RICE, on='Hypothesis')\n",
    "\n",
    "# Изменяю порядок столбцов\n",
    "ICE_RICE_rating = ICE_RICE_rating[['RICE_rate', 'RICE', 'Hypothesis', 'ICE_rate', 'ICE']]"
   ]
  },
  {
   "cell_type": "code",
   "execution_count": 13,
   "metadata": {},
   "outputs": [
    {
     "data": {
      "text/html": [
       "<style  type=\"text/css\" >\n",
       "    #T_f820feec_f744_11ea_bf8d_02420a3906e1row0_col0 {\n",
       "            text-align:  left;\n",
       "        }    #T_f820feec_f744_11ea_bf8d_02420a3906e1row0_col1 {\n",
       "            text-align:  left;\n",
       "        }    #T_f820feec_f744_11ea_bf8d_02420a3906e1row0_col2 {\n",
       "            text-align:  left;\n",
       "        }    #T_f820feec_f744_11ea_bf8d_02420a3906e1row0_col3 {\n",
       "            text-align:  left;\n",
       "        }    #T_f820feec_f744_11ea_bf8d_02420a3906e1row0_col4 {\n",
       "            text-align:  left;\n",
       "        }    #T_f820feec_f744_11ea_bf8d_02420a3906e1row1_col0 {\n",
       "            text-align:  left;\n",
       "        }    #T_f820feec_f744_11ea_bf8d_02420a3906e1row1_col1 {\n",
       "            text-align:  left;\n",
       "        }    #T_f820feec_f744_11ea_bf8d_02420a3906e1row1_col2 {\n",
       "            text-align:  left;\n",
       "        }    #T_f820feec_f744_11ea_bf8d_02420a3906e1row1_col3 {\n",
       "            text-align:  left;\n",
       "        }    #T_f820feec_f744_11ea_bf8d_02420a3906e1row1_col4 {\n",
       "            text-align:  left;\n",
       "        }    #T_f820feec_f744_11ea_bf8d_02420a3906e1row2_col0 {\n",
       "            text-align:  left;\n",
       "        }    #T_f820feec_f744_11ea_bf8d_02420a3906e1row2_col1 {\n",
       "            text-align:  left;\n",
       "        }    #T_f820feec_f744_11ea_bf8d_02420a3906e1row2_col2 {\n",
       "            text-align:  left;\n",
       "        }    #T_f820feec_f744_11ea_bf8d_02420a3906e1row2_col3 {\n",
       "            text-align:  left;\n",
       "        }    #T_f820feec_f744_11ea_bf8d_02420a3906e1row2_col4 {\n",
       "            text-align:  left;\n",
       "        }    #T_f820feec_f744_11ea_bf8d_02420a3906e1row3_col0 {\n",
       "            text-align:  left;\n",
       "        }    #T_f820feec_f744_11ea_bf8d_02420a3906e1row3_col1 {\n",
       "            text-align:  left;\n",
       "        }    #T_f820feec_f744_11ea_bf8d_02420a3906e1row3_col2 {\n",
       "            text-align:  left;\n",
       "        }    #T_f820feec_f744_11ea_bf8d_02420a3906e1row3_col3 {\n",
       "            text-align:  left;\n",
       "        }    #T_f820feec_f744_11ea_bf8d_02420a3906e1row3_col4 {\n",
       "            text-align:  left;\n",
       "        }    #T_f820feec_f744_11ea_bf8d_02420a3906e1row4_col0 {\n",
       "            text-align:  left;\n",
       "        }    #T_f820feec_f744_11ea_bf8d_02420a3906e1row4_col1 {\n",
       "            text-align:  left;\n",
       "        }    #T_f820feec_f744_11ea_bf8d_02420a3906e1row4_col2 {\n",
       "            text-align:  left;\n",
       "        }    #T_f820feec_f744_11ea_bf8d_02420a3906e1row4_col3 {\n",
       "            text-align:  left;\n",
       "        }    #T_f820feec_f744_11ea_bf8d_02420a3906e1row4_col4 {\n",
       "            text-align:  left;\n",
       "        }    #T_f820feec_f744_11ea_bf8d_02420a3906e1row5_col0 {\n",
       "            text-align:  left;\n",
       "        }    #T_f820feec_f744_11ea_bf8d_02420a3906e1row5_col1 {\n",
       "            text-align:  left;\n",
       "        }    #T_f820feec_f744_11ea_bf8d_02420a3906e1row5_col2 {\n",
       "            text-align:  left;\n",
       "        }    #T_f820feec_f744_11ea_bf8d_02420a3906e1row5_col3 {\n",
       "            text-align:  left;\n",
       "        }    #T_f820feec_f744_11ea_bf8d_02420a3906e1row5_col4 {\n",
       "            text-align:  left;\n",
       "        }    #T_f820feec_f744_11ea_bf8d_02420a3906e1row6_col0 {\n",
       "            text-align:  left;\n",
       "        }    #T_f820feec_f744_11ea_bf8d_02420a3906e1row6_col1 {\n",
       "            text-align:  left;\n",
       "        }    #T_f820feec_f744_11ea_bf8d_02420a3906e1row6_col2 {\n",
       "            text-align:  left;\n",
       "        }    #T_f820feec_f744_11ea_bf8d_02420a3906e1row6_col3 {\n",
       "            text-align:  left;\n",
       "        }    #T_f820feec_f744_11ea_bf8d_02420a3906e1row6_col4 {\n",
       "            text-align:  left;\n",
       "        }    #T_f820feec_f744_11ea_bf8d_02420a3906e1row7_col0 {\n",
       "            text-align:  left;\n",
       "        }    #T_f820feec_f744_11ea_bf8d_02420a3906e1row7_col1 {\n",
       "            text-align:  left;\n",
       "        }    #T_f820feec_f744_11ea_bf8d_02420a3906e1row7_col2 {\n",
       "            text-align:  left;\n",
       "        }    #T_f820feec_f744_11ea_bf8d_02420a3906e1row7_col3 {\n",
       "            text-align:  left;\n",
       "        }    #T_f820feec_f744_11ea_bf8d_02420a3906e1row7_col4 {\n",
       "            text-align:  left;\n",
       "        }    #T_f820feec_f744_11ea_bf8d_02420a3906e1row8_col0 {\n",
       "            text-align:  left;\n",
       "        }    #T_f820feec_f744_11ea_bf8d_02420a3906e1row8_col1 {\n",
       "            text-align:  left;\n",
       "        }    #T_f820feec_f744_11ea_bf8d_02420a3906e1row8_col2 {\n",
       "            text-align:  left;\n",
       "        }    #T_f820feec_f744_11ea_bf8d_02420a3906e1row8_col3 {\n",
       "            text-align:  left;\n",
       "        }    #T_f820feec_f744_11ea_bf8d_02420a3906e1row8_col4 {\n",
       "            text-align:  left;\n",
       "        }</style><table id=\"T_f820feec_f744_11ea_bf8d_02420a3906e1\" ><thead>    <tr>        <th class=\"col_heading level0 col0\" >RICE_rate</th>        <th class=\"col_heading level0 col1\" >RICE</th>        <th class=\"col_heading level0 col2\" >Hypothesis</th>        <th class=\"col_heading level0 col3\" >ICE_rate</th>        <th class=\"col_heading level0 col4\" >ICE</th>    </tr></thead><tbody>\n",
       "                <tr>\n",
       "                                <td id=\"T_f820feec_f744_11ea_bf8d_02420a3906e1row0_col0\" class=\"data row0 col0\" >1</td>\n",
       "                        <td id=\"T_f820feec_f744_11ea_bf8d_02420a3906e1row0_col1\" class=\"data row0 col1\" >112</td>\n",
       "                        <td id=\"T_f820feec_f744_11ea_bf8d_02420a3906e1row0_col2\" class=\"data row0 col2\" >Добавить форму подписки на все основные страницы, чтобы собрать базу клиентов для email-рассылок</td>\n",
       "                        <td id=\"T_f820feec_f744_11ea_bf8d_02420a3906e1row0_col3\" class=\"data row0 col3\" >3</td>\n",
       "                        <td id=\"T_f820feec_f744_11ea_bf8d_02420a3906e1row0_col4\" class=\"data row0 col4\" >11.2</td>\n",
       "            </tr>\n",
       "            <tr>\n",
       "                                <td id=\"T_f820feec_f744_11ea_bf8d_02420a3906e1row1_col0\" class=\"data row1 col0\" >2</td>\n",
       "                        <td id=\"T_f820feec_f744_11ea_bf8d_02420a3906e1row1_col1\" class=\"data row1 col1\" >56</td>\n",
       "                        <td id=\"T_f820feec_f744_11ea_bf8d_02420a3906e1row1_col2\" class=\"data row1 col2\" >Добавить блоки рекомендаций товаров на сайт интернет магазина, чтобы повысить конверсию и средний чек заказа</td>\n",
       "                        <td id=\"T_f820feec_f744_11ea_bf8d_02420a3906e1row1_col3\" class=\"data row1 col3\" >5</td>\n",
       "                        <td id=\"T_f820feec_f744_11ea_bf8d_02420a3906e1row1_col4\" class=\"data row1 col4\" >7</td>\n",
       "            </tr>\n",
       "            <tr>\n",
       "                                <td id=\"T_f820feec_f744_11ea_bf8d_02420a3906e1row2_col0\" class=\"data row2 col0\" >3</td>\n",
       "                        <td id=\"T_f820feec_f744_11ea_bf8d_02420a3906e1row2_col1\" class=\"data row2 col1\" >40</td>\n",
       "                        <td id=\"T_f820feec_f744_11ea_bf8d_02420a3906e1row2_col2\" class=\"data row2 col2\" >Добавить два новых канала привлечения трафика, что позволит привлекать на 30% больше пользователей</td>\n",
       "                        <td id=\"T_f820feec_f744_11ea_bf8d_02420a3906e1row2_col3\" class=\"data row2 col3\" >2</td>\n",
       "                        <td id=\"T_f820feec_f744_11ea_bf8d_02420a3906e1row2_col4\" class=\"data row2 col4\" >13.3333</td>\n",
       "            </tr>\n",
       "            <tr>\n",
       "                                <td id=\"T_f820feec_f744_11ea_bf8d_02420a3906e1row3_col0\" class=\"data row3 col0\" >4</td>\n",
       "                        <td id=\"T_f820feec_f744_11ea_bf8d_02420a3906e1row3_col1\" class=\"data row3 col1\" >40</td>\n",
       "                        <td id=\"T_f820feec_f744_11ea_bf8d_02420a3906e1row3_col2\" class=\"data row3 col2\" >Показать на главной странице баннеры с актуальными акциями и распродажами, чтобы увеличить конверсию</td>\n",
       "                        <td id=\"T_f820feec_f744_11ea_bf8d_02420a3906e1row3_col3\" class=\"data row3 col3\" >4</td>\n",
       "                        <td id=\"T_f820feec_f744_11ea_bf8d_02420a3906e1row3_col4\" class=\"data row3 col4\" >8</td>\n",
       "            </tr>\n",
       "            <tr>\n",
       "                                <td id=\"T_f820feec_f744_11ea_bf8d_02420a3906e1row4_col0\" class=\"data row4 col0\" >5</td>\n",
       "                        <td id=\"T_f820feec_f744_11ea_bf8d_02420a3906e1row4_col1\" class=\"data row4 col1\" >16.2</td>\n",
       "                        <td id=\"T_f820feec_f744_11ea_bf8d_02420a3906e1row4_col2\" class=\"data row4 col2\" >Запустить акцию, дающую скидку на товар в день рождения</td>\n",
       "                        <td id=\"T_f820feec_f744_11ea_bf8d_02420a3906e1row4_col3\" class=\"data row4 col3\" >1</td>\n",
       "                        <td id=\"T_f820feec_f744_11ea_bf8d_02420a3906e1row4_col4\" class=\"data row4 col4\" >16.2</td>\n",
       "            </tr>\n",
       "            <tr>\n",
       "                                <td id=\"T_f820feec_f744_11ea_bf8d_02420a3906e1row5_col0\" class=\"data row5 col0\" >6</td>\n",
       "                        <td id=\"T_f820feec_f744_11ea_bf8d_02420a3906e1row5_col1\" class=\"data row5 col1\" >9</td>\n",
       "                        <td id=\"T_f820feec_f744_11ea_bf8d_02420a3906e1row5_col2\" class=\"data row5 col2\" >Изменить структура категорий, что увеличит конверсию, т.к. пользователи быстрее найдут нужный товар</td>\n",
       "                        <td id=\"T_f820feec_f744_11ea_bf8d_02420a3906e1row5_col3\" class=\"data row5 col3\" >8</td>\n",
       "                        <td id=\"T_f820feec_f744_11ea_bf8d_02420a3906e1row5_col4\" class=\"data row5 col4\" >1.125</td>\n",
       "            </tr>\n",
       "            <tr>\n",
       "                                <td id=\"T_f820feec_f744_11ea_bf8d_02420a3906e1row6_col0\" class=\"data row6 col0\" >7</td>\n",
       "                        <td id=\"T_f820feec_f744_11ea_bf8d_02420a3906e1row6_col1\" class=\"data row6 col1\" >4</td>\n",
       "                        <td id=\"T_f820feec_f744_11ea_bf8d_02420a3906e1row6_col2\" class=\"data row6 col2\" >Запустить собственную службу доставки, что сократит срок доставки заказов</td>\n",
       "                        <td id=\"T_f820feec_f744_11ea_bf8d_02420a3906e1row6_col3\" class=\"data row6 col3\" >6</td>\n",
       "                        <td id=\"T_f820feec_f744_11ea_bf8d_02420a3906e1row6_col4\" class=\"data row6 col4\" >2</td>\n",
       "            </tr>\n",
       "            <tr>\n",
       "                                <td id=\"T_f820feec_f744_11ea_bf8d_02420a3906e1row7_col0\" class=\"data row7 col0\" >8</td>\n",
       "                        <td id=\"T_f820feec_f744_11ea_bf8d_02420a3906e1row7_col1\" class=\"data row7 col1\" >4</td>\n",
       "                        <td id=\"T_f820feec_f744_11ea_bf8d_02420a3906e1row7_col2\" class=\"data row7 col2\" >Добавить страницу отзывов клиентов о магазине, что позволит увеличить количество заказов</td>\n",
       "                        <td id=\"T_f820feec_f744_11ea_bf8d_02420a3906e1row7_col3\" class=\"data row7 col3\" >7</td>\n",
       "                        <td id=\"T_f820feec_f744_11ea_bf8d_02420a3906e1row7_col4\" class=\"data row7 col4\" >1.33333</td>\n",
       "            </tr>\n",
       "            <tr>\n",
       "                                <td id=\"T_f820feec_f744_11ea_bf8d_02420a3906e1row8_col0\" class=\"data row8 col0\" >9</td>\n",
       "                        <td id=\"T_f820feec_f744_11ea_bf8d_02420a3906e1row8_col1\" class=\"data row8 col1\" >3</td>\n",
       "                        <td id=\"T_f820feec_f744_11ea_bf8d_02420a3906e1row8_col2\" class=\"data row8 col2\" >Изменить цвет фона главной страницы, чтобы увеличить вовлеченность пользователей</td>\n",
       "                        <td id=\"T_f820feec_f744_11ea_bf8d_02420a3906e1row8_col3\" class=\"data row8 col3\" >9</td>\n",
       "                        <td id=\"T_f820feec_f744_11ea_bf8d_02420a3906e1row8_col4\" class=\"data row8 col4\" >1</td>\n",
       "            </tr>\n",
       "    </tbody></table>"
      ],
      "text/plain": [
       "<pandas.io.formats.style.Styler at 0x7fadd6cefe90>"
      ]
     },
     "execution_count": 13,
     "metadata": {},
     "output_type": "execute_result"
    }
   ],
   "source": [
    "# Вывожу таблицу с сортировкой по RICE\n",
    "ICE_RICE_rating.sort_values(by='RICE_rate').style.hide_index().set_properties(**{'text-align': 'left'})"
   ]
  },
  {
   "cell_type": "markdown",
   "metadata": {},
   "source": [
    "Приоритетные гипотезы видны в таблице.\n",
    "\n",
    "**Как изменилась приоритизация гипотез при применении RICE вместо ICE?**  Гипотезы, которые охватывают бОльшее кол-во пользователей, получили более высокий рейтинг по RICE. Поэтому данный метод я считаю более ценным, и вывел таблицу с сортировкой по RICE.\n",
    "\n",
    "**RICE всегда будет больше, чем ICE.** Это чистая математика, по-скольку в числитель дроби добавляется еще одна, всегда положительная, переменная. А Reach при любом методе расчета будет положительным, т.к. характеризует величину охвата пользователей, которая меньше 0-нуля быть не может."
   ]
  },
  {
   "cell_type": "markdown",
   "metadata": {},
   "source": [
    "<br><br><br>\n",
    "Часть 2. Анализ A/B теста\n",
    "==="
   ]
  },
  {
   "cell_type": "markdown",
   "metadata": {},
   "source": [
    "Модуль 1. Кумулятивные метрики\n",
    "---"
   ]
  },
  {
   "cell_type": "markdown",
   "metadata": {},
   "source": [
    "* Кумулятивной выручки по группам.\n",
    "* Кумулятивного среднего чека по группам.\n",
    "* Относительное изменения кумулятивного среднего чека.\n",
    "* Кумулятивной конверсии по группам.\n",
    "* Относительное изменение кумулятивной конверсии"
   ]
  },
  {
   "cell_type": "markdown",
   "metadata": {},
   "source": [
    "Кумулятивная выручка\n",
    "---"
   ]
  },
  {
   "cell_type": "code",
   "execution_count": 14,
   "metadata": {},
   "outputs": [
    {
     "data": {
      "text/html": [
       "<div>\n",
       "<style scoped>\n",
       "    .dataframe tbody tr th:only-of-type {\n",
       "        vertical-align: middle;\n",
       "    }\n",
       "\n",
       "    .dataframe tbody tr th {\n",
       "        vertical-align: top;\n",
       "    }\n",
       "\n",
       "    .dataframe thead th {\n",
       "        text-align: right;\n",
       "    }\n",
       "</style>\n",
       "<table border=\"1\" class=\"dataframe\">\n",
       "  <thead>\n",
       "    <tr style=\"text-align: right;\">\n",
       "      <th></th>\n",
       "      <th>date</th>\n",
       "      <th>group</th>\n",
       "    </tr>\n",
       "  </thead>\n",
       "  <tbody>\n",
       "    <tr>\n",
       "      <td>0</td>\n",
       "      <td>2019-08-15</td>\n",
       "      <td>B</td>\n",
       "    </tr>\n",
       "    <tr>\n",
       "      <td>2</td>\n",
       "      <td>2019-08-15</td>\n",
       "      <td>A</td>\n",
       "    </tr>\n",
       "    <tr>\n",
       "      <td>45</td>\n",
       "      <td>2019-08-16</td>\n",
       "      <td>A</td>\n",
       "    </tr>\n",
       "    <tr>\n",
       "      <td>47</td>\n",
       "      <td>2019-08-16</td>\n",
       "      <td>B</td>\n",
       "    </tr>\n",
       "    <tr>\n",
       "      <td>55</td>\n",
       "      <td>2019-08-01</td>\n",
       "      <td>A</td>\n",
       "    </tr>\n",
       "  </tbody>\n",
       "</table>\n",
       "</div>"
      ],
      "text/plain": [
       "         date group\n",
       "0  2019-08-15     B\n",
       "2  2019-08-15     A\n",
       "45 2019-08-16     A\n",
       "47 2019-08-16     B\n",
       "55 2019-08-01     A"
      ]
     },
     "execution_count": 14,
     "metadata": {},
     "output_type": "execute_result"
    }
   ],
   "source": [
    "# создаем массив уникальных пар значений дат и групп теста\n",
    "# получаю все дату, когда проводился A/B тест, и все группы на эту дату\n",
    "\n",
    "dates_groups = orders[['date','group']].drop_duplicates()\n",
    "dates_groups.head()"
   ]
  },
  {
   "cell_type": "code",
   "execution_count": 15,
   "metadata": {},
   "outputs": [
    {
     "data": {
      "text/html": [
       "<div>\n",
       "<style scoped>\n",
       "    .dataframe tbody tr th:only-of-type {\n",
       "        vertical-align: middle;\n",
       "    }\n",
       "\n",
       "    .dataframe tbody tr th {\n",
       "        vertical-align: top;\n",
       "    }\n",
       "\n",
       "    .dataframe thead th {\n",
       "        text-align: right;\n",
       "    }\n",
       "</style>\n",
       "<table border=\"1\" class=\"dataframe\">\n",
       "  <thead>\n",
       "    <tr style=\"text-align: right;\">\n",
       "      <th></th>\n",
       "      <th>date</th>\n",
       "      <th>group</th>\n",
       "      <th>transactions</th>\n",
       "      <th>buyers</th>\n",
       "      <th>revenue</th>\n",
       "    </tr>\n",
       "  </thead>\n",
       "  <tbody>\n",
       "    <tr>\n",
       "      <td>55</td>\n",
       "      <td>2019-08-01</td>\n",
       "      <td>A</td>\n",
       "      <td>24</td>\n",
       "      <td>20</td>\n",
       "      <td>148579</td>\n",
       "    </tr>\n",
       "    <tr>\n",
       "      <td>66</td>\n",
       "      <td>2019-08-01</td>\n",
       "      <td>B</td>\n",
       "      <td>21</td>\n",
       "      <td>20</td>\n",
       "      <td>101217</td>\n",
       "    </tr>\n",
       "    <tr>\n",
       "      <td>175</td>\n",
       "      <td>2019-08-02</td>\n",
       "      <td>A</td>\n",
       "      <td>44</td>\n",
       "      <td>38</td>\n",
       "      <td>242401</td>\n",
       "    </tr>\n",
       "    <tr>\n",
       "      <td>173</td>\n",
       "      <td>2019-08-02</td>\n",
       "      <td>B</td>\n",
       "      <td>45</td>\n",
       "      <td>43</td>\n",
       "      <td>266748</td>\n",
       "    </tr>\n",
       "    <tr>\n",
       "      <td>291</td>\n",
       "      <td>2019-08-03</td>\n",
       "      <td>A</td>\n",
       "      <td>68</td>\n",
       "      <td>62</td>\n",
       "      <td>354874</td>\n",
       "    </tr>\n",
       "  </tbody>\n",
       "</table>\n",
       "</div>"
      ],
      "text/plain": [
       "          date group  transactions  buyers  revenue\n",
       "55  2019-08-01     A            24      20   148579\n",
       "66  2019-08-01     B            21      20   101217\n",
       "175 2019-08-02     A            44      38   242401\n",
       "173 2019-08-02     B            45      43   266748\n",
       "291 2019-08-03     A            68      62   354874"
      ]
     },
     "execution_count": 15,
     "metadata": {},
     "output_type": "execute_result"
    }
   ],
   "source": [
    "# Получаю строки таблицы orders, дата которых меньше или равна дате элемента из dates_groups, \n",
    "# а группа теста равна группе из dates_groups\n",
    "\n",
    "orders_agg = (dates_groups\n",
    "              .apply(lambda x: orders[np.logical_and(orders['date'] <= x['date'], orders['group'] == x['group'])]\n",
    "              .agg({'date':'max', 'group':'max', 'id_transaction':'nunique', 'id_visitor':'nunique', 'revenue':'sum'}), axis=1)\n",
    "              .sort_values(by=['date','group'])\n",
    "              .rename(columns={'id_transaction':'transactions', 'id_visitor':'buyers'})\n",
    "             )\n",
    "\n",
    "orders_agg.head()"
   ]
  },
  {
   "cell_type": "code",
   "execution_count": 16,
   "metadata": {},
   "outputs": [
    {
     "data": {
      "text/html": [
       "<div>\n",
       "<style scoped>\n",
       "    .dataframe tbody tr th:only-of-type {\n",
       "        vertical-align: middle;\n",
       "    }\n",
       "\n",
       "    .dataframe tbody tr th {\n",
       "        vertical-align: top;\n",
       "    }\n",
       "\n",
       "    .dataframe thead th {\n",
       "        text-align: right;\n",
       "    }\n",
       "</style>\n",
       "<table border=\"1\" class=\"dataframe\">\n",
       "  <thead>\n",
       "    <tr style=\"text-align: right;\">\n",
       "      <th></th>\n",
       "      <th>date</th>\n",
       "      <th>group</th>\n",
       "      <th>visitors</th>\n",
       "    </tr>\n",
       "  </thead>\n",
       "  <tbody>\n",
       "    <tr>\n",
       "      <td>55</td>\n",
       "      <td>2019-08-01</td>\n",
       "      <td>A</td>\n",
       "      <td>719</td>\n",
       "    </tr>\n",
       "    <tr>\n",
       "      <td>66</td>\n",
       "      <td>2019-08-01</td>\n",
       "      <td>B</td>\n",
       "      <td>713</td>\n",
       "    </tr>\n",
       "    <tr>\n",
       "      <td>175</td>\n",
       "      <td>2019-08-02</td>\n",
       "      <td>A</td>\n",
       "      <td>1338</td>\n",
       "    </tr>\n",
       "    <tr>\n",
       "      <td>173</td>\n",
       "      <td>2019-08-02</td>\n",
       "      <td>B</td>\n",
       "      <td>1294</td>\n",
       "    </tr>\n",
       "    <tr>\n",
       "      <td>291</td>\n",
       "      <td>2019-08-03</td>\n",
       "      <td>A</td>\n",
       "      <td>1845</td>\n",
       "    </tr>\n",
       "  </tbody>\n",
       "</table>\n",
       "</div>"
      ],
      "text/plain": [
       "          date group  visitors\n",
       "55  2019-08-01     A       719\n",
       "66  2019-08-01     B       713\n",
       "175 2019-08-02     A      1338\n",
       "173 2019-08-02     B      1294\n",
       "291 2019-08-03     A      1845"
      ]
     },
     "execution_count": 16,
     "metadata": {},
     "output_type": "execute_result"
    }
   ],
   "source": [
    "# Получаем агрегированные кумулятивные по дням данные о посетителях интернет-магазина \n",
    "\n",
    "visitors_agg = (dates_groups\n",
    "                .apply(lambda x: visitors[np.logical_and(visitors['date'] <= x['date'], visitors['group'] == x['group'])]\n",
    "                .agg({'date' : 'max', 'group' : 'max', 'visitors' : 'sum'}), axis=1)\n",
    "                .sort_values(by=['date','group'])\n",
    "                )\n",
    "\n",
    "visitors_agg.head()"
   ]
  },
  {
   "cell_type": "code",
   "execution_count": 17,
   "metadata": {},
   "outputs": [],
   "source": [
    "# объединяем кумулятивные данные в одной таблице и присваиваем ее столбцам понятные названия\n",
    "cumulative_data = orders_agg.merge(visitors_agg, left_on=['date', 'group'], right_on=['date', 'group'])\n",
    "cumulative_data.columns = ['date', 'group', 'orders', 'buyers', 'revenue', 'visitors']"
   ]
  },
  {
   "cell_type": "code",
   "execution_count": 18,
   "metadata": {},
   "outputs": [
    {
     "data": {
      "text/html": [
       "<div>\n",
       "<style scoped>\n",
       "    .dataframe tbody tr th:only-of-type {\n",
       "        vertical-align: middle;\n",
       "    }\n",
       "\n",
       "    .dataframe tbody tr th {\n",
       "        vertical-align: top;\n",
       "    }\n",
       "\n",
       "    .dataframe thead th {\n",
       "        text-align: right;\n",
       "    }\n",
       "</style>\n",
       "<table border=\"1\" class=\"dataframe\">\n",
       "  <thead>\n",
       "    <tr style=\"text-align: right;\">\n",
       "      <th></th>\n",
       "      <th>date</th>\n",
       "      <th>group</th>\n",
       "      <th>orders</th>\n",
       "      <th>buyers</th>\n",
       "      <th>revenue</th>\n",
       "      <th>visitors</th>\n",
       "    </tr>\n",
       "  </thead>\n",
       "  <tbody>\n",
       "    <tr>\n",
       "      <td>0</td>\n",
       "      <td>2019-08-01</td>\n",
       "      <td>A</td>\n",
       "      <td>24</td>\n",
       "      <td>20</td>\n",
       "      <td>148579</td>\n",
       "      <td>719</td>\n",
       "    </tr>\n",
       "    <tr>\n",
       "      <td>1</td>\n",
       "      <td>2019-08-01</td>\n",
       "      <td>B</td>\n",
       "      <td>21</td>\n",
       "      <td>20</td>\n",
       "      <td>101217</td>\n",
       "      <td>713</td>\n",
       "    </tr>\n",
       "    <tr>\n",
       "      <td>2</td>\n",
       "      <td>2019-08-02</td>\n",
       "      <td>A</td>\n",
       "      <td>44</td>\n",
       "      <td>38</td>\n",
       "      <td>242401</td>\n",
       "      <td>1338</td>\n",
       "    </tr>\n",
       "    <tr>\n",
       "      <td>3</td>\n",
       "      <td>2019-08-02</td>\n",
       "      <td>B</td>\n",
       "      <td>45</td>\n",
       "      <td>43</td>\n",
       "      <td>266748</td>\n",
       "      <td>1294</td>\n",
       "    </tr>\n",
       "    <tr>\n",
       "      <td>4</td>\n",
       "      <td>2019-08-03</td>\n",
       "      <td>A</td>\n",
       "      <td>68</td>\n",
       "      <td>62</td>\n",
       "      <td>354874</td>\n",
       "      <td>1845</td>\n",
       "    </tr>\n",
       "  </tbody>\n",
       "</table>\n",
       "</div>"
      ],
      "text/plain": [
       "        date group  orders  buyers  revenue  visitors\n",
       "0 2019-08-01     A      24      20   148579       719\n",
       "1 2019-08-01     B      21      20   101217       713\n",
       "2 2019-08-02     A      44      38   242401      1338\n",
       "3 2019-08-02     B      45      43   266748      1294\n",
       "4 2019-08-03     A      68      62   354874      1845"
      ]
     },
     "execution_count": 18,
     "metadata": {},
     "output_type": "execute_result"
    }
   ],
   "source": [
    "cumulative_data.head()"
   ]
  },
  {
   "cell_type": "code",
   "execution_count": 19,
   "metadata": {},
   "outputs": [],
   "source": [
    "# датафрейм с кумулятивным количеством заказов и кумулятивной выручкой по дням в группе А\n",
    "cumulative_revenue_a = cumulative_data[cumulative_data['group']=='A'][['date','revenue', 'orders']]\n",
    "\n",
    "# датафрейм с кумулятивным количеством заказов и кумулятивной выручкой по дням в группе B\n",
    "cumulative_revenue_b = cumulative_data[cumulative_data['group']=='B'][['date','revenue', 'orders']]"
   ]
  },
  {
   "cell_type": "code",
   "execution_count": 20,
   "metadata": {
    "scrolled": false
   },
   "outputs": [
    {
     "name": "stderr",
     "output_type": "stream",
     "text": [
      "/opt/conda/lib/python3.7/site-packages/pandas/plotting/_matplotlib/converter.py:103: FutureWarning: Using an implicitly registered datetime converter for a matplotlib plotting method. The converter was registered by pandas on import. Future versions of pandas will require you to explicitly register matplotlib converters.\n",
      "\n",
      "To register the converters:\n",
      "\t>>> from pandas.plotting import register_matplotlib_converters\n",
      "\t>>> register_matplotlib_converters()\n",
      "  warnings.warn(msg, FutureWarning)\n"
     ]
    },
    {
     "name": "stdout",
     "output_type": "stream",
     "text": [
      "\n"
     ]
    },
    {
     "data": {
      "image/png": "[encoded data removed]",
      "text/plain": [
       "<Figure size 864x288 with 1 Axes>"
      ]
     },
     "metadata": {
      "needs_background": "light"
     },
     "output_type": "display_data"
    }
   ],
   "source": [
    "# Настраиваю размер графика\n",
    "plt.subplots(figsize=(12, 4))\n",
    "\n",
    "# Строим график выручки группы А и В\n",
    "plt.plot(cumulative_revenue_a['date'], cumulative_revenue_a['revenue'], label='A')\n",
    "plt.plot(cumulative_revenue_b['date'], cumulative_revenue_b['revenue'], label='B')\n",
    "\n",
    "plt.legend()\n",
    "plt.title('Кумулятивная выручка по дням', pad=20)\n",
    "print('')"
   ]
  },
  {
   "cell_type": "markdown",
   "metadata": {},
   "source": [
    "**Вывод**\n",
    "\n",
    "* Группа B опережает группу А по динамике накопленния выручки\n",
    "* Это опережение начинает быть явно заметным с 4-го дня теста и сохраняется до конца\n",
    "* 13 августа заметно «касание» 2-х графиков, значит в этот день их выручки были почти равны\n",
    "* В группе В 19 августа произошел резкий рост выручки, возможно, из-за увеличения кол-ва покупок, или среднего чека\n",
    "\n",
    "Итого выделяю 3 интересных отрезка: первые 5 дней, «касание» 13 авугста, резкий рост 19 августа"
   ]
  },
  {
   "cell_type": "code",
   "execution_count": 61,
   "metadata": {},
   "outputs": [
    {
     "data": {
      "image/png": "[encoded data removed]",
      "text/plain": [
       "<Figure size 864x288 with 1 Axes>"
      ]
     },
     "metadata": {
      "needs_background": "light"
     },
     "output_type": "display_data"
    }
   ],
   "source": [
    "plt.subplots(figsize=(12, 4))\n",
    "# Строим график выручки группы А и В\n",
    "plt.plot(cumulative_revenue_a['date'], cumulative_revenue_a['revenue'].diff(), label='A')\n",
    "plt.plot(cumulative_revenue_b['date'], cumulative_revenue_b['revenue'].diff(), label='B')\n",
    "plt.axvline('2019-08-13', linestyle='--', color='green', alpha=0.5)\n",
    "\n",
    "plt.legend()\n",
    "plt.title('Кумулятивная выручка по дням', pad=20)\n",
    "plt.grid(True)\n",
    "plt.show();"
   ]
  },
  {
   "cell_type": "markdown",
   "metadata": {},
   "source": [
    "<br><br>\n",
    "Кумулятивный средний чек\n",
    "---"
   ]
  },
  {
   "cell_type": "code",
   "execution_count": 21,
   "metadata": {},
   "outputs": [
    {
     "name": "stdout",
     "output_type": "stream",
     "text": [
      "\n"
     ]
    },
    {
     "data": {
      "image/png": "[encoded data removed]",
      "text/plain": [
       "<Figure size 1152x288 with 1 Axes>"
      ]
     },
     "metadata": {
      "needs_background": "light"
     },
     "output_type": "display_data"
    }
   ],
   "source": [
    "plt.subplots(figsize=(16, 4))\n",
    "\n",
    "plt.plot(cumulative_revenue_a['date'], cumulative_revenue_a['revenue']/cumulative_revenue_a['orders'], label='A')\n",
    "plt.plot(cumulative_revenue_b['date'], cumulative_revenue_b['revenue']/cumulative_revenue_b['orders'], label='B')\n",
    "\n",
    "plt.legend()\n",
    "plt.title('Динамика: кумулятивный средний чек', pad=20)\n",
    "print('')"
   ]
  },
  {
   "cell_type": "markdown",
   "metadata": {},
   "source": [
    "**Вывод: Не все так однозначно, как на первом графике**\n",
    "\n",
    "* В первые 5 дней динамика среднего чека группы В растет, а группы А падает, но динаимка выручки у них совпадает, значит в группе А покупают чаще, но дешевле.\n",
    "* 13 августа, когда граики выручки «соприкоснулись» произошло следующее: средний чек группы В резко снизился, а в группе А поднялся.\n",
    "* 19 августа произошел резкий рост среднего чека в группе В, это объясняет рост выручки.\n",
    "\n",
    "**Инетересные отрезки графика**\n",
    "* После 19 авг и до конца теста динамика среднего чека в группе В отричательная, а в группе А положительная. Что легко объяснимо: резкий скачок среднего чека 19 августа создал высокую базу для расчета. И если (а по графику так и есть) после этого продолжали покупать «как обычно», то конечно накопленный средний чек стал снижаться.\n",
    "* 6 августа для группы А — точка минимального среднего чека. Почему он снижался так резко, а потом начал расти? Предмет для дальнейших исследований."
   ]
  },
  {
   "cell_type": "markdown",
   "metadata": {},
   "source": [
    "<br><br>\n",
    "Относительное различие средних чеков\n",
    "---\n"
   ]
  },
  {
   "cell_type": "code",
   "execution_count": 22,
   "metadata": {},
   "outputs": [
    {
     "data": {
      "text/html": [
       "<div>\n",
       "<style scoped>\n",
       "    .dataframe tbody tr th:only-of-type {\n",
       "        vertical-align: middle;\n",
       "    }\n",
       "\n",
       "    .dataframe tbody tr th {\n",
       "        vertical-align: top;\n",
       "    }\n",
       "\n",
       "    .dataframe thead th {\n",
       "        text-align: right;\n",
       "    }\n",
       "</style>\n",
       "<table border=\"1\" class=\"dataframe\">\n",
       "  <thead>\n",
       "    <tr style=\"text-align: right;\">\n",
       "      <th></th>\n",
       "      <th>date</th>\n",
       "      <th>revenueA</th>\n",
       "      <th>ordersA</th>\n",
       "      <th>revenueB</th>\n",
       "      <th>ordersB</th>\n",
       "    </tr>\n",
       "  </thead>\n",
       "  <tbody>\n",
       "    <tr>\n",
       "      <td>0</td>\n",
       "      <td>2019-08-01</td>\n",
       "      <td>148579</td>\n",
       "      <td>24</td>\n",
       "      <td>101217</td>\n",
       "      <td>21</td>\n",
       "    </tr>\n",
       "    <tr>\n",
       "      <td>1</td>\n",
       "      <td>2019-08-02</td>\n",
       "      <td>242401</td>\n",
       "      <td>44</td>\n",
       "      <td>266748</td>\n",
       "      <td>45</td>\n",
       "    </tr>\n",
       "    <tr>\n",
       "      <td>2</td>\n",
       "      <td>2019-08-03</td>\n",
       "      <td>354874</td>\n",
       "      <td>68</td>\n",
       "      <td>380996</td>\n",
       "      <td>61</td>\n",
       "    </tr>\n",
       "    <tr>\n",
       "      <td>3</td>\n",
       "      <td>2019-08-04</td>\n",
       "      <td>425699</td>\n",
       "      <td>84</td>\n",
       "      <td>489567</td>\n",
       "      <td>78</td>\n",
       "    </tr>\n",
       "    <tr>\n",
       "      <td>4</td>\n",
       "      <td>2019-08-05</td>\n",
       "      <td>549917</td>\n",
       "      <td>109</td>\n",
       "      <td>581995</td>\n",
       "      <td>101</td>\n",
       "    </tr>\n",
       "  </tbody>\n",
       "</table>\n",
       "</div>"
      ],
      "text/plain": [
       "        date  revenueA  ordersA  revenueB  ordersB\n",
       "0 2019-08-01    148579       24    101217       21\n",
       "1 2019-08-02    242401       44    266748       45\n",
       "2 2019-08-03    354874       68    380996       61\n",
       "3 2019-08-04    425699       84    489567       78\n",
       "4 2019-08-05    549917      109    581995      101"
      ]
     },
     "execution_count": 22,
     "metadata": {},
     "output_type": "execute_result"
    }
   ],
   "source": [
    "# собираем данные в одном датафрейме\n",
    "merged_cumulative_revenue = (cumulative_revenue_a\n",
    "                             .merge(cumulative_revenue_b, left_on='date', right_on='date', how='left', suffixes=['A', 'B'])\n",
    "                            )\n",
    "\n",
    "merged_cumulative_revenue.head()"
   ]
  },
  {
   "cell_type": "code",
   "execution_count": 23,
   "metadata": {
    "scrolled": true
   },
   "outputs": [
    {
     "data": {
      "text/plain": [
       "0   -0.221447\n",
       "1    0.075987\n",
       "2    0.196810\n",
       "3    0.238495\n",
       "4    0.142161\n",
       "dtype: float64"
      ]
     },
     "execution_count": 23,
     "metadata": {},
     "output_type": "execute_result"
    }
   ],
   "source": [
    "# Отношение средних чеков, группы В к группе А\n",
    "aov_b_to_a = ((merged_cumulative_revenue['revenueB']/merged_cumulative_revenue['ordersB'])\n",
    "              /(merged_cumulative_revenue['revenueA']/merged_cumulative_revenue['ordersA'])\n",
    "              -1\n",
    "             )\n",
    "aov_b_to_a.head()"
   ]
  },
  {
   "cell_type": "markdown",
   "metadata": {},
   "source": [
    "> AOV — average order value"
   ]
  },
  {
   "cell_type": "code",
   "execution_count": 24,
   "metadata": {
    "scrolled": true
   },
   "outputs": [
    {
     "name": "stdout",
     "output_type": "stream",
     "text": [
      "\n"
     ]
    },
    {
     "data": {
      "image/png": "[encoded data removed]",
      "text/plain": [
       "<Figure size 1152x288 with 1 Axes>"
      ]
     },
     "metadata": {
      "needs_background": "light"
     },
     "output_type": "display_data"
    }
   ],
   "source": [
    "plt.subplots(figsize=(16, 4))\n",
    "\n",
    "# cтрою отношение средних чеков\n",
    "plt.plot(merged_cumulative_revenue['date'], aov_b_to_a, label=\"Средний чек группы В\", color='orange')\n",
    "\n",
    "# добавляем ось X\n",
    "plt.axhline(y=0, color='black', linestyle='--')\n",
    "plt.axis([\"2019-08-01\", '2019-08-31', -0.3, 0.6])\n",
    "plt.legend()\n",
    "plt.title('Относительное различие средних чеков', pad=20)\n",
    "print('')"
   ]
  },
  {
   "cell_type": "markdown",
   "metadata": {},
   "source": [
    "**Вывод**\n",
    "\n",
    "* Преимущество группы B обеспечено 2-мя участками резкого роста, лишь в последние 9 дней график стабилизировался\n",
    "* Поэтому на вопрос «Превосходит ли группа B группу А по сренему чеку» я сейчас отвечу так: «Да, но это обеспечено несколькии крупными заказами». Или так: «В группе В больше крупных заказов, но периода теста мало,чтобы понять, носит и это системный характер»."
   ]
  },
  {
   "cell_type": "markdown",
   "metadata": {},
   "source": [
    "<br><br>\n",
    "Кумулятивная конверсия\n",
    "---"
   ]
  },
  {
   "cell_type": "code",
   "execution_count": 25,
   "metadata": {},
   "outputs": [
    {
     "data": {
      "text/html": [
       "<div>\n",
       "<style scoped>\n",
       "    .dataframe tbody tr th:only-of-type {\n",
       "        vertical-align: middle;\n",
       "    }\n",
       "\n",
       "    .dataframe tbody tr th {\n",
       "        vertical-align: top;\n",
       "    }\n",
       "\n",
       "    .dataframe thead th {\n",
       "        text-align: right;\n",
       "    }\n",
       "</style>\n",
       "<table border=\"1\" class=\"dataframe\">\n",
       "  <thead>\n",
       "    <tr style=\"text-align: right;\">\n",
       "      <th></th>\n",
       "      <th>date</th>\n",
       "      <th>group</th>\n",
       "      <th>orders</th>\n",
       "      <th>buyers</th>\n",
       "      <th>revenue</th>\n",
       "      <th>visitors</th>\n",
       "      <th>cr</th>\n",
       "    </tr>\n",
       "  </thead>\n",
       "  <tbody>\n",
       "    <tr>\n",
       "      <td>0</td>\n",
       "      <td>2019-08-01</td>\n",
       "      <td>A</td>\n",
       "      <td>24</td>\n",
       "      <td>20</td>\n",
       "      <td>148579</td>\n",
       "      <td>719</td>\n",
       "      <td>2.78</td>\n",
       "    </tr>\n",
       "    <tr>\n",
       "      <td>1</td>\n",
       "      <td>2019-08-01</td>\n",
       "      <td>B</td>\n",
       "      <td>21</td>\n",
       "      <td>20</td>\n",
       "      <td>101217</td>\n",
       "      <td>713</td>\n",
       "      <td>2.81</td>\n",
       "    </tr>\n",
       "    <tr>\n",
       "      <td>2</td>\n",
       "      <td>2019-08-02</td>\n",
       "      <td>A</td>\n",
       "      <td>44</td>\n",
       "      <td>38</td>\n",
       "      <td>242401</td>\n",
       "      <td>1338</td>\n",
       "      <td>2.84</td>\n",
       "    </tr>\n",
       "    <tr>\n",
       "      <td>3</td>\n",
       "      <td>2019-08-02</td>\n",
       "      <td>B</td>\n",
       "      <td>45</td>\n",
       "      <td>43</td>\n",
       "      <td>266748</td>\n",
       "      <td>1294</td>\n",
       "      <td>3.32</td>\n",
       "    </tr>\n",
       "    <tr>\n",
       "      <td>4</td>\n",
       "      <td>2019-08-03</td>\n",
       "      <td>A</td>\n",
       "      <td>68</td>\n",
       "      <td>62</td>\n",
       "      <td>354874</td>\n",
       "      <td>1845</td>\n",
       "      <td>3.36</td>\n",
       "    </tr>\n",
       "  </tbody>\n",
       "</table>\n",
       "</div>"
      ],
      "text/plain": [
       "        date group  orders  buyers  revenue  visitors    cr\n",
       "0 2019-08-01     A      24      20   148579       719  2.78\n",
       "1 2019-08-01     B      21      20   101217       713  2.81\n",
       "2 2019-08-02     A      44      38   242401      1338  2.84\n",
       "3 2019-08-02     B      45      43   266748      1294  3.32\n",
       "4 2019-08-03     A      68      62   354874      1845  3.36"
      ]
     },
     "execution_count": 25,
     "metadata": {},
     "output_type": "execute_result"
    }
   ],
   "source": [
    "cumulative_data['cr'] = round(((cumulative_data['buyers'] / cumulative_data['visitors']) * 100), 2)\n",
    "cumulative_data.head()"
   ]
  },
  {
   "cell_type": "code",
   "execution_count": 26,
   "metadata": {},
   "outputs": [],
   "source": [
    "# датафрейм с кумулятивным количеством заказов и кумулятивной выручкой по дням в группе А\n",
    "cumulative_cr_a = cumulative_data[cumulative_data['group']=='A'][['date','cr']]\n",
    "cumulative_cr_b = cumulative_data[cumulative_data['group']=='B'][['date','cr']]"
   ]
  },
  {
   "cell_type": "code",
   "execution_count": 67,
   "metadata": {
    "scrolled": true
   },
   "outputs": [
    {
     "name": "stdout",
     "output_type": "stream",
     "text": [
      "\n"
     ]
    },
    {
     "data": {
      "image/png": "[encoded data removed]",
      "text/plain": [
       "<Figure size 1152x288 with 1 Axes>"
      ]
     },
     "metadata": {
      "needs_background": "light"
     },
     "output_type": "display_data"
    }
   ],
   "source": [
    "# Настраиваю размер графика\n",
    "plt.subplots(figsize=(16, 4))\n",
    "\n",
    "# Строим график выручки группы А\n",
    "plt.plot(cumulative_cr_a['date'], cumulative_cr_a['cr'], label='A')\n",
    "plt.plot(cumulative_cr_b['date'], cumulative_cr_b['cr'], label='B')\n",
    "\n",
    "plt.legend()\n",
    "plt.title('Кумулятивная конверсия: динамика по дням', pad=20)\n",
    "plt.axis([\"2019-08-01\", '2019-08-31', 2, 3.5])\n",
    "print('')"
   ]
  },
  {
   "cell_type": "markdown",
   "metadata": {},
   "source": [
    "**Выводы**\n",
    "\n",
    "* Конверсия в группе B стабильно выше, чем в группе А за **период теста,** однако окончательного вывода в данный момент я сделать не могу, т.к. конверсия группы B выше, но имеет тренд к снижению, а конверсия группы A стабильна. \n",
    "* После резких скачков конверсии в первые 5 дней далее Cr стабилизировался в обоих группах\n"
   ]
  },
  {
   "cell_type": "markdown",
   "metadata": {},
   "source": [
    "<br><br>\n",
    "Относительное изменение кумулятивной конверсии\n",
    "---"
   ]
  },
  {
   "cell_type": "code",
   "execution_count": 28,
   "metadata": {
    "scrolled": true
   },
   "outputs": [
    {
     "data": {
      "text/html": [
       "<div>\n",
       "<style scoped>\n",
       "    .dataframe tbody tr th:only-of-type {\n",
       "        vertical-align: middle;\n",
       "    }\n",
       "\n",
       "    .dataframe tbody tr th {\n",
       "        vertical-align: top;\n",
       "    }\n",
       "\n",
       "    .dataframe thead th {\n",
       "        text-align: right;\n",
       "    }\n",
       "</style>\n",
       "<table border=\"1\" class=\"dataframe\">\n",
       "  <thead>\n",
       "    <tr style=\"text-align: right;\">\n",
       "      <th></th>\n",
       "      <th>date</th>\n",
       "      <th>crA</th>\n",
       "      <th>crB</th>\n",
       "    </tr>\n",
       "  </thead>\n",
       "  <tbody>\n",
       "    <tr>\n",
       "      <td>0</td>\n",
       "      <td>2019-08-01</td>\n",
       "      <td>2.78</td>\n",
       "      <td>2.81</td>\n",
       "    </tr>\n",
       "    <tr>\n",
       "      <td>1</td>\n",
       "      <td>2019-08-02</td>\n",
       "      <td>2.84</td>\n",
       "      <td>3.32</td>\n",
       "    </tr>\n",
       "    <tr>\n",
       "      <td>2</td>\n",
       "      <td>2019-08-03</td>\n",
       "      <td>3.36</td>\n",
       "      <td>3.27</td>\n",
       "    </tr>\n",
       "    <tr>\n",
       "      <td>3</td>\n",
       "      <td>2019-08-04</td>\n",
       "      <td>3.01</td>\n",
       "      <td>2.91</td>\n",
       "    </tr>\n",
       "    <tr>\n",
       "      <td>4</td>\n",
       "      <td>2019-08-05</td>\n",
       "      <td>3.01</td>\n",
       "      <td>2.99</td>\n",
       "    </tr>\n",
       "  </tbody>\n",
       "</table>\n",
       "</div>"
      ],
      "text/plain": [
       "        date   crA   crB\n",
       "0 2019-08-01  2.78  2.81\n",
       "1 2019-08-02  2.84  3.32\n",
       "2 2019-08-03  3.36  3.27\n",
       "3 2019-08-04  3.01  2.91\n",
       "4 2019-08-05  3.01  2.99"
      ]
     },
     "execution_count": 28,
     "metadata": {},
     "output_type": "execute_result"
    }
   ],
   "source": [
    "# Обединяю данных 2-х групп в один датафрейм\n",
    "merged_cumulative_cr = (\n",
    "                        cumulative_cr_a[['date','cr']]\n",
    "                        .merge(cumulative_cr_b[['date','cr']], left_on='date', right_on='date', how='left', suffixes=['A', 'B'])\n",
    "                        )\n",
    "\n",
    "merged_cumulative_cr.head()"
   ]
  },
  {
   "cell_type": "code",
   "execution_count": 29,
   "metadata": {},
   "outputs": [
    {
     "data": {
      "text/html": [
       "<div>\n",
       "<style scoped>\n",
       "    .dataframe tbody tr th:only-of-type {\n",
       "        vertical-align: middle;\n",
       "    }\n",
       "\n",
       "    .dataframe tbody tr th {\n",
       "        vertical-align: top;\n",
       "    }\n",
       "\n",
       "    .dataframe thead th {\n",
       "        text-align: right;\n",
       "    }\n",
       "</style>\n",
       "<table border=\"1\" class=\"dataframe\">\n",
       "  <thead>\n",
       "    <tr style=\"text-align: right;\">\n",
       "      <th></th>\n",
       "      <th>date</th>\n",
       "      <th>crA</th>\n",
       "      <th>crB</th>\n",
       "      <th>relative_b_to_a</th>\n",
       "    </tr>\n",
       "  </thead>\n",
       "  <tbody>\n",
       "    <tr>\n",
       "      <td>0</td>\n",
       "      <td>2019-08-01</td>\n",
       "      <td>2.78</td>\n",
       "      <td>2.81</td>\n",
       "      <td>0.010791</td>\n",
       "    </tr>\n",
       "    <tr>\n",
       "      <td>1</td>\n",
       "      <td>2019-08-02</td>\n",
       "      <td>2.84</td>\n",
       "      <td>3.32</td>\n",
       "      <td>0.169014</td>\n",
       "    </tr>\n",
       "    <tr>\n",
       "      <td>2</td>\n",
       "      <td>2019-08-03</td>\n",
       "      <td>3.36</td>\n",
       "      <td>3.27</td>\n",
       "      <td>-0.026786</td>\n",
       "    </tr>\n",
       "    <tr>\n",
       "      <td>3</td>\n",
       "      <td>2019-08-04</td>\n",
       "      <td>3.01</td>\n",
       "      <td>2.91</td>\n",
       "      <td>-0.033223</td>\n",
       "    </tr>\n",
       "    <tr>\n",
       "      <td>4</td>\n",
       "      <td>2019-08-05</td>\n",
       "      <td>3.01</td>\n",
       "      <td>2.99</td>\n",
       "      <td>-0.006645</td>\n",
       "    </tr>\n",
       "  </tbody>\n",
       "</table>\n",
       "</div>"
      ],
      "text/plain": [
       "        date   crA   crB  relative_b_to_a\n",
       "0 2019-08-01  2.78  2.81         0.010791\n",
       "1 2019-08-02  2.84  3.32         0.169014\n",
       "2 2019-08-03  3.36  3.27        -0.026786\n",
       "3 2019-08-04  3.01  2.91        -0.033223\n",
       "4 2019-08-05  3.01  2.99        -0.006645"
      ]
     },
     "execution_count": 29,
     "metadata": {},
     "output_type": "execute_result"
    }
   ],
   "source": [
    "# Отношение конверсий, группы В к группе А\n",
    "merged_cumulative_cr['relative_b_to_a'] = (merged_cumulative_cr['crB']/merged_cumulative_cr['crA']) - 1\n",
    "merged_cumulative_cr.head()"
   ]
  },
  {
   "cell_type": "code",
   "execution_count": 30,
   "metadata": {
    "scrolled": true
   },
   "outputs": [
    {
     "name": "stdout",
     "output_type": "stream",
     "text": [
      "\n"
     ]
    },
    {
     "data": {
      "image/png": "[encoded data removed]",
      "text/plain": [
       "<Figure size 1152x288 with 1 Axes>"
      ]
     },
     "metadata": {
      "needs_background": "light"
     },
     "output_type": "display_data"
    }
   ],
   "source": [
    "# Настраиваю размер графика\n",
    "plt.subplots(figsize=(16, 4))\n",
    "\n",
    "# Строю график\n",
    "plt.plot(merged_cumulative_cr['date'], merged_cumulative_cr['relative_b_to_a'], label=\"Конверсия группы В\", color='orange')\n",
    "\n",
    "plt.legend()\n",
    "plt.title('Относительный прирост конверсии группы B относительно группы A', pad=20)\n",
    "plt.axhline(y=0, color='black', linestyle='--')\n",
    "#plt.axhline(y=-0.1, color='grey', linestyle='--')\n",
    "plt.axis([\"2019-08-01\", '2019-08-31', -0.2, 0.4])\n",
    "print('')"
   ]
  },
  {
   "cell_type": "markdown",
   "metadata": {},
   "source": [
    "**Вывод: тест стоит продолжать.** Конверсия группы В стабильно выше группы А на 10-15%, но я бы продолжил тест еще на 2 недели, чтобы удостовериться на 100%, т.к. небольшой, но все же заметный отрицательный тренд группы B присутствует. "
   ]
  },
  {
   "cell_type": "markdown",
   "metadata": {},
   "source": [
    "<br><br><br><br>\n",
    "Модуль 2. Точечные графики и определение аномалий\n",
    "---"
   ]
  },
  {
   "cell_type": "markdown",
   "metadata": {},
   "source": [
    "* Точечный график количества заказов по пользователям. Сделайте выводы и предположения.\n",
    "* Посчитайте 95-й и 99-й перецентили количества заказов на пользователя. Выберите границу аномальности.\n",
    "* Точечный график стоимостей заказов. Сделайте выводы и предположения.\n",
    "* Посчитайте 95-й и 99-й перцентили стоимости заказов. Выберите границу для определения аномальных заказов."
   ]
  },
  {
   "cell_type": "markdown",
   "metadata": {},
   "source": [
    "Поиск аномально больших покупок и определение границ аномальности\n",
    "---"
   ]
  },
  {
   "cell_type": "code",
   "execution_count": 31,
   "metadata": {},
   "outputs": [
    {
     "data": {
      "text/html": [
       "<div>\n",
       "<style scoped>\n",
       "    .dataframe tbody tr th:only-of-type {\n",
       "        vertical-align: middle;\n",
       "    }\n",
       "\n",
       "    .dataframe tbody tr th {\n",
       "        vertical-align: top;\n",
       "    }\n",
       "\n",
       "    .dataframe thead th {\n",
       "        text-align: right;\n",
       "    }\n",
       "</style>\n",
       "<table border=\"1\" class=\"dataframe\">\n",
       "  <thead>\n",
       "    <tr style=\"text-align: right;\">\n",
       "      <th></th>\n",
       "      <th>id_visitor</th>\n",
       "      <th>orders</th>\n",
       "    </tr>\n",
       "  </thead>\n",
       "  <tbody>\n",
       "    <tr>\n",
       "      <td>1023</td>\n",
       "      <td>4256040402</td>\n",
       "      <td>11</td>\n",
       "    </tr>\n",
       "    <tr>\n",
       "      <td>591</td>\n",
       "      <td>2458001652</td>\n",
       "      <td>11</td>\n",
       "    </tr>\n",
       "    <tr>\n",
       "      <td>569</td>\n",
       "      <td>2378935119</td>\n",
       "      <td>9</td>\n",
       "    </tr>\n",
       "    <tr>\n",
       "      <td>487</td>\n",
       "      <td>2038680547</td>\n",
       "      <td>8</td>\n",
       "    </tr>\n",
       "    <tr>\n",
       "      <td>44</td>\n",
       "      <td>199603092</td>\n",
       "      <td>5</td>\n",
       "    </tr>\n",
       "  </tbody>\n",
       "</table>\n",
       "</div>"
      ],
      "text/plain": [
       "      id_visitor  orders\n",
       "1023  4256040402      11\n",
       "591   2458001652      11\n",
       "569   2378935119       9\n",
       "487   2038680547       8\n",
       "44     199603092       5"
      ]
     },
     "execution_count": 31,
     "metadata": {},
     "output_type": "execute_result"
    }
   ],
   "source": [
    "# Рассчитываю кол-во заказов на пользователя\n",
    "orders_by_users = orders.groupby('id_visitor', as_index=False).agg({'id_transaction':'nunique'})\n",
    "orders_by_users.columns = ['id_visitor', 'orders']\n",
    "orders_by_users.sort_values('orders', ascending=False).head()"
   ]
  },
  {
   "cell_type": "markdown",
   "metadata": {},
   "source": [
    "Ого, кое кто сделал и по 11 заказов. Если это интернет магазин книг, то все понятно, если магазин интим-товаров, то у юзеров 4256040402 и 2458001652 очень хорошая фантазия."
   ]
  },
  {
   "cell_type": "code",
   "execution_count": 71,
   "metadata": {},
   "outputs": [
    {
     "name": "stdout",
     "output_type": "stream",
     "text": [
      "\n"
     ]
    },
    {
     "data": {
      "image/png": "[encoded data removed]",
      "text/plain": [
       "<Figure size 576x360 with 1 Axes>"
      ]
     },
     "metadata": {
      "needs_background": "light"
     },
     "output_type": "display_data"
    }
   ],
   "source": [
    "plt.subplots(figsize=(8, 5))\n",
    "\n",
    "# Строю точечную диаграмму\n",
    "plt.scatter(orders_by_users.index, orders_by_users['orders'])\n",
    "plt.title('Количество покупок на пользователя: распределение значений', pad=20)\n",
    "print('')"
   ]
  },
  {
   "cell_type": "markdown",
   "metadata": {},
   "source": [
    "**Большинство пользователей совершили 1 заказа.** Но есть заметная доля пользователей с 2 и 3 заказами."
   ]
  },
  {
   "cell_type": "code",
   "execution_count": 77,
   "metadata": {},
   "outputs": [
    {
     "name": "stdout",
     "output_type": "stream",
     "text": [
      "\n"
     ]
    },
    {
     "data": {
      "image/png": "[encoded data removed]",
      "text/plain": [
       "<Figure size 576x360 with 1 Axes>"
      ]
     },
     "metadata": {
      "needs_background": "light"
     },
     "output_type": "display_data"
    }
   ],
   "source": [
    "tmp_orders_by_users = orders_by_users.sort_values(by='orders').reset_index()\n",
    "plt.subplots(figsize=(8, 5))\n",
    "\n",
    "# Строю точечную диаграмму\n",
    "plt.scatter(tmp_orders_by_users.index, tmp_orders_by_users['orders'])\n",
    "plt.title('Количество покупок на пользователя: распределение значений', pad=20)\n",
    "plt.grid(True)\n",
    "print('')"
   ]
  },
  {
   "cell_type": "markdown",
   "metadata": {},
   "source": [
    "**Рассчитываю перцентили**"
   ]
  },
  {
   "cell_type": "code",
   "execution_count": 33,
   "metadata": {
    "scrolled": true
   },
   "outputs": [
    {
     "data": {
      "text/plain": [
       "array([2., 4.])"
      ]
     },
     "execution_count": 33,
     "metadata": {},
     "output_type": "execute_result"
    }
   ],
   "source": [
    "# Определяю 95-й и 99-й перцентили кол-ва заказов\n",
    "np.percentile(orders_by_users['orders'], [95, 99])"
   ]
  },
  {
   "cell_type": "markdown",
   "metadata": {},
   "source": [
    "**Выводы**\n",
    "* 95% пользователей сделали не более 2 заказов.\n",
    "* 1% пользователей сделали более 4 заказов."
   ]
  },
  {
   "cell_type": "markdown",
   "metadata": {},
   "source": [
    "<br><br><br>\n",
    "Определение границ аномальности по сумме покупки\n",
    "---"
   ]
  },
  {
   "cell_type": "markdown",
   "metadata": {},
   "source": [
    "Посмотрю распределение заказов на scatter-графике"
   ]
  },
  {
   "cell_type": "code",
   "execution_count": 34,
   "metadata": {},
   "outputs": [
    {
     "name": "stdout",
     "output_type": "stream",
     "text": [
      "\n"
     ]
    },
    {
     "data": {
      "image/png": "[encoded data removed]",
      "text/plain": [
       "<Figure size 576x360 with 1 Axes>"
      ]
     },
     "metadata": {
      "needs_background": "light"
     },
     "output_type": "display_data"
    }
   ],
   "source": [
    "plt.subplots(figsize=(8, 5))\n",
    "plt.scatter(orders.index, orders['revenue'])\n",
    "plt.title('Средний чек: распределение значений', pad=20)\n",
    "print('')"
   ]
  },
  {
   "cell_type": "markdown",
   "metadata": {},
   "source": [
    "**Есть 2 аномальный заказа: дороже 1,2 млн и около 200 тыс**. Визуально они искажают график, построю без них."
   ]
  },
  {
   "cell_type": "code",
   "execution_count": 35,
   "metadata": {},
   "outputs": [
    {
     "name": "stdout",
     "output_type": "stream",
     "text": [
      "\n"
     ]
    },
    {
     "data": {
      "image/png": "[encoded data removed]",
      "text/plain": [
       "<Figure size 576x360 with 1 Axes>"
      ]
     },
     "metadata": {
      "needs_background": "light"
     },
     "output_type": "display_data"
    }
   ],
   "source": [
    "plt.subplots(figsize=(8, 5))\n",
    "plt.scatter(orders.index, orders['revenue'])\n",
    "plt.axis([0, 1200, 0, 150000])\n",
    "plt.title('Средний чек: распределение значений', pad=20)\n",
    "print('')"
   ]
  },
  {
   "cell_type": "markdown",
   "metadata": {},
   "source": [
    "**Большинство заказов не дороже 20 тыс.** Но доля заказов больше 20 тыс также достаточно велика. Определю границы аномальности, рассчитав перцентили."
   ]
  },
  {
   "cell_type": "markdown",
   "metadata": {},
   "source": [
    "**Определяю точные цифры**"
   ]
  },
  {
   "cell_type": "code",
   "execution_count": 36,
   "metadata": {
    "scrolled": true
   },
   "outputs": [
    {
     "data": {
      "text/plain": [
       "array([28000. , 58233.2])"
      ]
     },
     "execution_count": 36,
     "metadata": {},
     "output_type": "execute_result"
    }
   ],
   "source": [
    "# Определяю 95-й и 99-й перцентили кол-ва заказов\n",
    "np.percentile(orders['revenue'], [95, 99])"
   ]
  },
  {
   "cell_type": "markdown",
   "metadata": {},
   "source": [
    "**Вывод**\n",
    "* 95% заказов не превышают сумму в 28000.\n",
    "* 99% заказов не превышают сумму в 58233. Заказы на 1,2 млн и 200 тыс, обнаруженные на точечном графике относятся к 1% заказов, дороже 58233 р."
   ]
  },
  {
   "cell_type": "markdown",
   "metadata": {},
   "source": [
    "<br><br><br>\n",
    "Создаю список аномальных id\n",
    "---"
   ]
  },
  {
   "cell_type": "markdown",
   "metadata": {},
   "source": [
    "**Границы аномалий по кол-ву заказов:**\n",
    "* 95% пользователей совершили не более 2 заказов.\n",
    "* 99% пользователей сделали не более 4 заказов.\n",
    "\n",
    "**По среднему чеку:**\n",
    "* 95% заказов не превышают сумму в 28000.\n",
    "* 99% заказов не превышают сумму в 58233. Заказы на 1,2 млн и 200 тыс, обнаруженные на точечном графике относятся к 1% заказов, дороже 58233 р.\n",
    "\n",
    "**В обоих случаях я выбираю число, соответсвующее 95-у перцентилю.** "
   ]
  },
  {
   "cell_type": "code",
   "execution_count": 37,
   "metadata": {},
   "outputs": [
    {
     "data": {
      "text/plain": [
       "(30,)"
      ]
     },
     "execution_count": 37,
     "metadata": {},
     "output_type": "execute_result"
    }
   ],
   "source": [
    "# Выделяю id юзеров, сделавших более 2 заказов\n",
    "users_aov_abnormal = orders_by_users[orders_by_users['orders'] > 2]['id_visitor']\n",
    "users_aov_abnormal.shape"
   ]
  },
  {
   "cell_type": "code",
   "execution_count": 38,
   "metadata": {},
   "outputs": [
    {
     "data": {
      "text/plain": [
       "(60,)"
      ]
     },
     "execution_count": 38,
     "metadata": {},
     "output_type": "execute_result"
    }
   ],
   "source": [
    "# Выделяю id юзеров, купивших более, чем на 28000 р\n",
    "\n",
    "orders_abnormal = orders[orders['revenue'] > 28000]['id_visitor']\n",
    "orders_abnormal.shape"
   ]
  },
  {
   "cell_type": "code",
   "execution_count": 39,
   "metadata": {},
   "outputs": [
    {
     "data": {
      "text/plain": [
       "(83,)"
      ]
     },
     "execution_count": 39,
     "metadata": {},
     "output_type": "execute_result"
    }
   ],
   "source": [
    "# Объединяю серии\n",
    "abnormal_users = pd.concat([users_aov_abnormal, orders_abnormal], axis = 0).drop_duplicates().reset_index(drop=True)\n",
    "abnormal_users.shape"
   ]
  },
  {
   "cell_type": "markdown",
   "metadata": {},
   "source": [
    "**Всего 84 аномальных покупателя.**"
   ]
  },
  {
   "cell_type": "markdown",
   "metadata": {},
   "source": [
    "<br><br><br>\n",
    "Разница в объемах воздействия аномальных пользователей по группам\n",
    "---"
   ]
  },
  {
   "cell_type": "markdown",
   "metadata": {},
   "source": [
    "**Создаю список из заказов аномальных юзеров**"
   ]
  },
  {
   "cell_type": "code",
   "execution_count": 40,
   "metadata": {},
   "outputs": [
    {
     "data": {
      "text/html": [
       "<div>\n",
       "<style scoped>\n",
       "    .dataframe tbody tr th:only-of-type {\n",
       "        vertical-align: middle;\n",
       "    }\n",
       "\n",
       "    .dataframe tbody tr th {\n",
       "        vertical-align: top;\n",
       "    }\n",
       "\n",
       "    .dataframe thead th {\n",
       "        text-align: right;\n",
       "    }\n",
       "</style>\n",
       "<table border=\"1\" class=\"dataframe\">\n",
       "  <thead>\n",
       "    <tr style=\"text-align: right;\">\n",
       "      <th></th>\n",
       "      <th>id_transaction</th>\n",
       "      <th>id_visitor</th>\n",
       "      <th>date</th>\n",
       "      <th>revenue</th>\n",
       "      <th>group</th>\n",
       "    </tr>\n",
       "  </thead>\n",
       "  <tbody>\n",
       "    <tr>\n",
       "      <td>15</td>\n",
       "      <td>2550768810</td>\n",
       "      <td>2742574263</td>\n",
       "      <td>2019-08-15</td>\n",
       "      <td>15277</td>\n",
       "      <td>B</td>\n",
       "    </tr>\n",
       "    <tr>\n",
       "      <td>26</td>\n",
       "      <td>2223239646</td>\n",
       "      <td>199603092</td>\n",
       "      <td>2019-08-15</td>\n",
       "      <td>3488</td>\n",
       "      <td>A</td>\n",
       "    </tr>\n",
       "    <tr>\n",
       "      <td>27</td>\n",
       "      <td>1630050528</td>\n",
       "      <td>237748145</td>\n",
       "      <td>2019-08-15</td>\n",
       "      <td>7620</td>\n",
       "      <td>B</td>\n",
       "    </tr>\n",
       "    <tr>\n",
       "      <td>29</td>\n",
       "      <td>2220299125</td>\n",
       "      <td>3803269165</td>\n",
       "      <td>2019-08-15</td>\n",
       "      <td>700</td>\n",
       "      <td>A</td>\n",
       "    </tr>\n",
       "    <tr>\n",
       "      <td>32</td>\n",
       "      <td>3666913472</td>\n",
       "      <td>2038680547</td>\n",
       "      <td>2019-08-15</td>\n",
       "      <td>1680</td>\n",
       "      <td>B</td>\n",
       "    </tr>\n",
       "  </tbody>\n",
       "</table>\n",
       "</div>"
      ],
      "text/plain": [
       "    id_transaction  id_visitor       date  revenue group\n",
       "15      2550768810  2742574263 2019-08-15    15277     B\n",
       "26      2223239646   199603092 2019-08-15     3488     A\n",
       "27      1630050528   237748145 2019-08-15     7620     B\n",
       "29      2220299125  3803269165 2019-08-15      700     A\n",
       "32      3666913472  2038680547 2019-08-15     1680     B"
      ]
     },
     "execution_count": 40,
     "metadata": {},
     "output_type": "execute_result"
    }
   ],
   "source": [
    "orders_abnormal = orders[orders['id_visitor'].isin(abnormal_users)]\n",
    "orders_abnormal.head()"
   ]
  },
  {
   "cell_type": "markdown",
   "metadata": {},
   "source": [
    "**Считаю объем заказов и средний чек по группам**"
   ]
  },
  {
   "cell_type": "code",
   "execution_count": 41,
   "metadata": {},
   "outputs": [
    {
     "data": {
      "text/html": [
       "<div>\n",
       "<style scoped>\n",
       "    .dataframe tbody tr th:only-of-type {\n",
       "        vertical-align: middle;\n",
       "    }\n",
       "\n",
       "    .dataframe tbody tr th {\n",
       "        vertical-align: top;\n",
       "    }\n",
       "\n",
       "    .dataframe thead tr th {\n",
       "        text-align: left;\n",
       "    }\n",
       "\n",
       "    .dataframe thead tr:last-of-type th {\n",
       "        text-align: right;\n",
       "    }\n",
       "</style>\n",
       "<table border=\"1\" class=\"dataframe\">\n",
       "  <thead>\n",
       "    <tr>\n",
       "      <th></th>\n",
       "      <th>id_transaction</th>\n",
       "      <th>id_visitor</th>\n",
       "      <th colspan=\"3\" halign=\"left\">revenue</th>\n",
       "    </tr>\n",
       "    <tr>\n",
       "      <th></th>\n",
       "      <th>count</th>\n",
       "      <th>nunique</th>\n",
       "      <th>max</th>\n",
       "      <th>mean</th>\n",
       "      <th>sum</th>\n",
       "    </tr>\n",
       "    <tr>\n",
       "      <th>group</th>\n",
       "      <th></th>\n",
       "      <th></th>\n",
       "      <th></th>\n",
       "      <th></th>\n",
       "      <th></th>\n",
       "    </tr>\n",
       "  </thead>\n",
       "  <tbody>\n",
       "    <tr>\n",
       "      <td>A</td>\n",
       "      <td>97</td>\n",
       "      <td>55</td>\n",
       "      <td>93940.0</td>\n",
       "      <td>17879.4</td>\n",
       "      <td>1734301.0</td>\n",
       "    </tr>\n",
       "    <tr>\n",
       "      <td>B</td>\n",
       "      <td>94</td>\n",
       "      <td>56</td>\n",
       "      <td>1294500.0</td>\n",
       "      <td>33824.5</td>\n",
       "      <td>3179507.0</td>\n",
       "    </tr>\n",
       "  </tbody>\n",
       "</table>\n",
       "</div>"
      ],
      "text/plain": [
       "      id_transaction id_visitor    revenue                    \n",
       "               count    nunique        max     mean        sum\n",
       "group                                                         \n",
       "A                 97         55    93940.0  17879.4  1734301.0\n",
       "B                 94         56  1294500.0  33824.5  3179507.0"
      ]
     },
     "execution_count": 41,
     "metadata": {},
     "output_type": "execute_result"
    }
   ],
   "source": [
    "(orders_abnormal\n",
    "                .pivot_table(index='group', \n",
    "                            values=['id_visitor', 'id_transaction', 'revenue'], \n",
    "                            aggfunc={'id_visitor':'nunique', 'id_transaction':'count', 'revenue':['sum', 'mean', 'max']})\n",
    ").round(1)"
   ]
  },
  {
   "cell_type": "markdown",
   "metadata": {},
   "source": [
    "**Вывод: на группу В аномальные пользователи оказали намного большее влияние**\n",
    "\n",
    "* Количество аномальных заказов и пользователей отличается незначительно, не более чем на 5%\n",
    "* Но в группу В попало 2 очень больших средних заказа: на 1,2 млн и на 200 тыс р.\n",
    "* Для производства достоверных выводов необходимо провести сравнение метрик в «сырых» и «очищенных» данных.\n"
   ]
  },
  {
   "cell_type": "markdown",
   "metadata": {},
   "source": [
    "<br><br><br>\n",
    "Статистическая значимость различий в «сырых» и «очищенных» данных\n",
    "---"
   ]
  },
  {
   "cell_type": "markdown",
   "metadata": {},
   "source": [
    "* В конверсии между группами по «сырым» данным. Сделайте выводы и предположения.\n",
    "* В среднем чеке заказа между группами по «сырым» данным. Сделайте выводы и предположения.\n",
    "* В конверсии между группами по «очищенным» данным. Сделайте выводы и предположения.\n",
    "* В среднем чеке заказа между группами по «очищенным» данным. Сделайте выводы и предположения."
   ]
  },
  {
   "cell_type": "markdown",
   "metadata": {},
   "source": [
    "Готовлю «сырые» и «очищенные» данные для анализа\n",
    "---"
   ]
  },
  {
   "cell_type": "markdown",
   "metadata": {},
   "source": [
    "**«Сырые» данные**"
   ]
  },
  {
   "cell_type": "code",
   "execution_count": 42,
   "metadata": {},
   "outputs": [
    {
     "data": {
      "text/html": [
       "<div>\n",
       "<style scoped>\n",
       "    .dataframe tbody tr th:only-of-type {\n",
       "        vertical-align: middle;\n",
       "    }\n",
       "\n",
       "    .dataframe tbody tr th {\n",
       "        vertical-align: top;\n",
       "    }\n",
       "\n",
       "    .dataframe thead th {\n",
       "        text-align: right;\n",
       "    }\n",
       "</style>\n",
       "<table border=\"1\" class=\"dataframe\">\n",
       "  <thead>\n",
       "    <tr style=\"text-align: right;\">\n",
       "      <th></th>\n",
       "      <th>id_visitor</th>\n",
       "      <th>id_transaction</th>\n",
       "    </tr>\n",
       "  </thead>\n",
       "  <tbody>\n",
       "    <tr>\n",
       "      <td>0</td>\n",
       "      <td>8300375</td>\n",
       "      <td>1</td>\n",
       "    </tr>\n",
       "    <tr>\n",
       "      <td>1</td>\n",
       "      <td>11685486</td>\n",
       "      <td>1</td>\n",
       "    </tr>\n",
       "    <tr>\n",
       "      <td>2</td>\n",
       "      <td>54447517</td>\n",
       "      <td>1</td>\n",
       "    </tr>\n",
       "    <tr>\n",
       "      <td>3</td>\n",
       "      <td>66685450</td>\n",
       "      <td>1</td>\n",
       "    </tr>\n",
       "    <tr>\n",
       "      <td>4</td>\n",
       "      <td>78758296</td>\n",
       "      <td>1</td>\n",
       "    </tr>\n",
       "    <tr>\n",
       "      <td>...</td>\n",
       "      <td>...</td>\n",
       "      <td>...</td>\n",
       "    </tr>\n",
       "    <tr>\n",
       "      <td>498</td>\n",
       "      <td>4243832526</td>\n",
       "      <td>1</td>\n",
       "    </tr>\n",
       "    <tr>\n",
       "      <td>499</td>\n",
       "      <td>4256040402</td>\n",
       "      <td>7</td>\n",
       "    </tr>\n",
       "    <tr>\n",
       "      <td>500</td>\n",
       "      <td>4259830713</td>\n",
       "      <td>1</td>\n",
       "    </tr>\n",
       "    <tr>\n",
       "      <td>501</td>\n",
       "      <td>4266935830</td>\n",
       "      <td>1</td>\n",
       "    </tr>\n",
       "    <tr>\n",
       "      <td>502</td>\n",
       "      <td>4278982564</td>\n",
       "      <td>1</td>\n",
       "    </tr>\n",
       "  </tbody>\n",
       "</table>\n",
       "<p>503 rows × 2 columns</p>\n",
       "</div>"
      ],
      "text/plain": [
       "     id_visitor  id_transaction\n",
       "0       8300375               1\n",
       "1      11685486               1\n",
       "2      54447517               1\n",
       "3      66685450               1\n",
       "4      78758296               1\n",
       "..          ...             ...\n",
       "498  4243832526               1\n",
       "499  4256040402               7\n",
       "500  4259830713               1\n",
       "501  4266935830               1\n",
       "502  4278982564               1\n",
       "\n",
       "[503 rows x 2 columns]"
      ]
     },
     "execution_count": 42,
     "metadata": {},
     "output_type": "execute_result"
    }
   ],
   "source": [
    "orders[orders['group'] == 'A'].groupby('id_visitor', as_index=False).agg({'id_transaction':'nunique'})"
   ]
  },
  {
   "cell_type": "code",
   "execution_count": 43,
   "metadata": {},
   "outputs": [
    {
     "data": {
      "text/html": [
       "<div>\n",
       "<style scoped>\n",
       "    .dataframe tbody tr th:only-of-type {\n",
       "        vertical-align: middle;\n",
       "    }\n",
       "\n",
       "    .dataframe tbody tr th {\n",
       "        vertical-align: top;\n",
       "    }\n",
       "\n",
       "    .dataframe thead th {\n",
       "        text-align: right;\n",
       "    }\n",
       "</style>\n",
       "<table border=\"1\" class=\"dataframe\">\n",
       "  <thead>\n",
       "    <tr style=\"text-align: right;\">\n",
       "      <th></th>\n",
       "      <th>id_visitor</th>\n",
       "      <th>orders</th>\n",
       "    </tr>\n",
       "  </thead>\n",
       "  <tbody>\n",
       "    <tr>\n",
       "      <td>499</td>\n",
       "      <td>4256040402</td>\n",
       "      <td>7</td>\n",
       "    </tr>\n",
       "    <tr>\n",
       "      <td>227</td>\n",
       "      <td>2038680547</td>\n",
       "      <td>5</td>\n",
       "    </tr>\n",
       "    <tr>\n",
       "      <td>278</td>\n",
       "      <td>2458001652</td>\n",
       "      <td>5</td>\n",
       "    </tr>\n",
       "    <tr>\n",
       "      <td>269</td>\n",
       "      <td>2378935119</td>\n",
       "      <td>4</td>\n",
       "    </tr>\n",
       "    <tr>\n",
       "      <td>18</td>\n",
       "      <td>199603092</td>\n",
       "      <td>4</td>\n",
       "    </tr>\n",
       "  </tbody>\n",
       "</table>\n",
       "</div>"
      ],
      "text/plain": [
       "     id_visitor  orders\n",
       "499  4256040402       7\n",
       "227  2038680547       5\n",
       "278  2458001652       5\n",
       "269  2378935119       4\n",
       "18    199603092       4"
      ]
     },
     "execution_count": 43,
     "metadata": {},
     "output_type": "execute_result"
    }
   ],
   "source": [
    "# Соберу данные о всех покупателях в такую таблицу: id юзера, кол-во заказов\n",
    "orders_by_users_a = orders[orders['group'] == 'A'].groupby('id_visitor', as_index=False).agg({'id_transaction':'nunique'})\n",
    "orders_by_users_b = orders[orders['group']=='B'].groupby('id_visitor', as_index=False).agg({'id_transaction':'nunique'})\n",
    "\n",
    "# Переименую столбцы\n",
    "orders_by_users_a.columns = ['id_visitor', 'orders']\n",
    "orders_by_users_b.columns = ['id_visitor', 'orders']\n",
    "\n",
    "# Вывод\n",
    "orders_by_users_a.sort_values(by='orders', ascending=False).head()"
   ]
  },
  {
   "cell_type": "code",
   "execution_count": 44,
   "metadata": {},
   "outputs": [
    {
     "name": "stdout",
     "output_type": "stream",
     "text": [
      "18736\n",
      "18916\n"
     ]
    }
   ],
   "source": [
    "# Кол-во посетителей в группах\n",
    "visitors_group_a = visitors[visitors['group']=='A']['visitors'].sum()\n",
    "visitors_group_b = visitors[visitors['group']=='B']['visitors'].sum()\n",
    "print(visitors_group_a)\n",
    "print(visitors_group_b)"
   ]
  },
  {
   "cell_type": "code",
   "execution_count": 45,
   "metadata": {},
   "outputs": [
    {
     "name": "stdout",
     "output_type": "stream",
     "text": [
      "503\n",
      "586\n"
     ]
    }
   ],
   "source": [
    "# Кол-во покупателей в группах\n",
    "buyers_group_a = len(orders_by_users_a['orders'])\n",
    "buyers_group_b = len(orders_by_users_b['orders'])\n",
    "print(buyers_group_a)\n",
    "print(buyers_group_b)"
   ]
  },
  {
   "cell_type": "code",
   "execution_count": 46,
   "metadata": {},
   "outputs": [],
   "source": [
    "# Создаю серию, длиной в кол-во посетителей, не совершивших заказ\n",
    "not_buyers_group_a = pd.Series(0, index = np.arange(visitors_group_a - buyers_group_a), name='orders')\n",
    "not_buyers_group_b = pd.Series(0, index = np.arange(visitors_group_b - buyers_group_b), name='orders')"
   ]
  },
  {
   "cell_type": "code",
   "execution_count": 47,
   "metadata": {},
   "outputs": [],
   "source": [
    "# Объединяю в одно распределение посетителей и покупателей\n",
    "# На выходе получаю 2 распределения для 2 групп\n",
    "sample_a = pd.concat([orders_by_users_a['orders'], not_buyers_group_a], axis=0)\n",
    "sample_b = pd.concat([orders_by_users_b['orders'], not_buyers_group_b], axis=0)"
   ]
  },
  {
   "cell_type": "markdown",
   "metadata": {},
   "source": [
    "**«Очищенные» данные**"
   ]
  },
  {
   "cell_type": "code",
   "execution_count": 48,
   "metadata": {},
   "outputs": [],
   "source": [
    "# Создаю 2 распределения без аномальных юзеров\n",
    "sample_a_filtered = (pd.concat(\n",
    "                         [orders_by_users_a[~orders_by_users_a['id_visitor'].isin(abnormal_users)]['orders'],\n",
    "                         not_buyers_group_a], axis=0)\n",
    "                    )\n",
    "\n",
    "sample_b_filtered = (pd.concat(\n",
    "                         [orders_by_users_b[~orders_by_users_b['id_visitor'].isin(abnormal_users)]['orders'],\n",
    "                         not_buyers_group_b], axis=0)\n",
    "                    )"
   ]
  },
  {
   "cell_type": "markdown",
   "metadata": {},
   "source": [
    "**Итог: на выходе получаю 4 распределения.** Сырые и очищенные данные для каждой группы. Все ни выглядят одинаково одноообразно, поэтому выведу для примера последнее."
   ]
  },
  {
   "cell_type": "code",
   "execution_count": 49,
   "metadata": {},
   "outputs": [
    {
     "data": {
      "text/plain": [
       "0    1\n",
       "1    1\n",
       "2    1\n",
       "3    1\n",
       "4    1\n",
       "Name: orders, dtype: int64"
      ]
     },
     "execution_count": 49,
     "metadata": {},
     "output_type": "execute_result"
    }
   ],
   "source": [
    "sample_a\n",
    "sample_b\n",
    "sample_a_filtered\n",
    "sample_b_filtered.head(5)"
   ]
  },
  {
   "cell_type": "markdown",
   "metadata": {},
   "source": [
    "Конверсия: разница в % и статистическая значимость вывода\n",
    "---"
   ]
  },
  {
   "cell_type": "code",
   "execution_count": 50,
   "metadata": {},
   "outputs": [
    {
     "name": "stdout",
     "output_type": "stream",
     "text": [
      "«Сырые» данные\n",
      "---\n",
      "Разница в конверсии (группы В к А): 13.81%\n",
      "Статистическая значимость вывода (p-value): 0.00840\n",
      "\n",
      "«Очищенные» данные\n",
      "---\n",
      "Разница в конверсии (группы В к А): 17.57%\n",
      "Статистическая значимость вывода (p-value): 0.00608\n"
     ]
    }
   ],
   "source": [
    "# Разница в конверсии\n",
    "print('«Сырые» данные')\n",
    "print('---')\n",
    "print(\"Разница в конверсии (группы В к А): {0:.2%}\".format(sample_b.mean()/sample_a.mean()-1))\n",
    "# Значительно ли различие между конверсиями в 2-х группах по сырым данным?\n",
    "print(\"Статистическая значимость вывода (p-value): {0:.5f}\".format(stats.mannwhitneyu(sample_a, sample_b)[1]))\n",
    "\n",
    "print('')\n",
    "print('«Очищенные» данные')\n",
    "print('---')\n",
    "print(\"Разница в конверсии (группы В к А): {0:.2%}\".format(sample_b_filtered.mean()/sample_a_filtered.mean()-1))\n",
    "# Значительно ли различие между конверсиями в 2-х группах по сырым данным?\n",
    "print(\"Статистическая значимость вывода (p-value): {0:.5f}\".format(stats.mannwhitneyu(sample_a_filtered, sample_b_filtered)[1]))"
   ]
  },
  {
   "cell_type": "markdown",
   "metadata": {},
   "source": [
    "**Выводы**\n",
    "* **Конверсия группы B** в среднем на 14% больше, чем конверсия группы А по «сырым» данным и **на 17% выше** по «очищенным».\n",
    "* **Эта разница статистически значима,** т.к. p-value в обоих слчаях намного меньше уровня альфа в 0,05. Следовательно, нулевая гипотеза, звучаящая как «Статистической разницы между 2-я группами по конверсии нет», отвергнута. Разница есть, группа В превращает посетителей в покупателей на 17% успешнее."
   ]
  },
  {
   "cell_type": "markdown",
   "metadata": {},
   "source": [
    "Средний чек: разница в % и статистическая значимость вывода\n",
    "---"
   ]
  },
  {
   "cell_type": "code",
   "execution_count": 51,
   "metadata": {},
   "outputs": [],
   "source": [
    "# Создаю таблицу без аномальных юзеров\n",
    "orders_clear = orders[~orders['id_visitor'].isin(abnormal_users)]"
   ]
  },
  {
   "cell_type": "code",
   "execution_count": 52,
   "metadata": {},
   "outputs": [
    {
     "name": "stdout",
     "output_type": "stream",
     "text": [
      "«Сырые» данные\n",
      "---\n",
      "Разница в среднем чеке (группы В к А): 25.87%\n",
      "Статистическая значимость вывода (p-value): 0.365\n",
      "\n",
      "«Очищенные» данные\n",
      "---\n",
      "Разница в среднем чеке (группы В к А): -2.21%\n",
      "Статистическая значимость вывода (p-value): 0.376\n"
     ]
    }
   ],
   "source": [
    "print('«Сырые» данные')\n",
    "print('---')\n",
    "print(\"Разница в среднем чеке (группы В к А): {0:.2%}\"\n",
    "      .format(orders[orders['group']=='B']['revenue'].mean()/orders[orders['group']=='A']['revenue'].mean()-1))\n",
    "print(\"Статистическая значимость вывода (p-value): {0:.3f}\"\n",
    "      .format(stats.mannwhitneyu(orders[orders['group']=='A']['revenue'], orders[orders['group']=='B']['revenue'])[1]))\n",
    "\n",
    "print('')\n",
    "print('«Очищенные» данные')\n",
    "print('---')\n",
    "print(\"Разница в среднем чеке (группы В к А): {0:.2%}\"\n",
    "      .format(orders_clear[orders_clear['group']=='B']['revenue'].mean()/orders_clear[orders_clear['group']=='A']['revenue'].mean()-1))\n",
    "print(\"Статистическая значимость вывода (p-value): {0:.3f}\"\n",
    "      .format(stats.mannwhitneyu(orders_clear[orders_clear['group']=='A']['revenue'], orders_clear[orders_clear['group']=='B']['revenue'])[1]))"
   ]
  },
  {
   "cell_type": "markdown",
   "metadata": {},
   "source": [
    "**Выводы**\n",
    "* По «очищенным» данным средний чек группы В меньше группы А на 2%.\n",
    "* Но статистически эта разница незначима, и условно можно принять, что средний чек 2-х групп равен.\n",
    "\n",
    "**Пояснение**\n",
    "* Нулевая гипотеза в данном случае звучит так: «Разницы в среднем чеке нет». \n",
    "* Альтернативная так: «Естьдостоверная разница в среднем чеке».\n",
    "* p-value равен 0.369, что много больше порогового значения альфа в 0.05\n",
    "* Если p-value больше альфа, нулевую гипотезу отвергнуть невозможно, следовательно **статистически значимой** разницы в среднем чеке нет"
   ]
  },
  {
   "cell_type": "markdown",
   "metadata": {},
   "source": [
    "<br><br><br>\n",
    "Вывод: Предлагаю продлить тест еще на 30 дней.\n",
    "==="
   ]
  },
  {
   "cell_type": "markdown",
   "metadata": {},
   "source": [
    "**Все рассматриваемые варианты:**"
   ]
  },
  {
   "cell_type": "markdown",
   "metadata": {},
   "source": [
    "1. Остановить тест, зафиксировать победу одной из групп. \n",
    "2. Остановить тест, зафиксировать отсутствие различий между группами. \n",
    "3. Продолжить тест.\n",
    "\n",
    "Я считаю, что стоит продлить тест, потому что у группы В конверсия группы выше, но динамика этого показателя носит неопределенный характер и может измениться на более большой выборке."
   ]
  },
  {
   "cell_type": "markdown",
   "metadata": {},
   "source": [
    "**Подробнее:**\n",
    "\n",
    "* Средний чек в группах: не имеет статистически значимой разницы, в среднем он равен 5048 р.\n",
    "* Динамика средних чеков: стабильная, ни в одной из групп не наблюдается тренда к увеличению или снижению.\n",
    "\n",
    "\n",
    "* Конверсия: **группа В конвертирует посетителей в покупателей на 17.57% лучше, чем группа А.** В среднем, конверсия группы В равна 3.17%, а группы А 2.78%.\n",
    "* Динамика конверсии: **тренд носит неопределенный характер**, я не могу его охарактеризивать ни как стабильный, ни как положительный/отрицательный. Продемонстрирую на графиках ниже:"
   ]
  },
  {
   "cell_type": "code",
   "execution_count": 80,
   "metadata": {},
   "outputs": [
    {
     "name": "stdout",
     "output_type": "stream",
     "text": [
      "\n"
     ]
    },
    {
     "data": {
      "image/png": "[encoded data removed]",
      "text/plain": [
       "<Figure size 1152x288 with 1 Axes>"
      ]
     },
     "metadata": {
      "needs_background": "light"
     },
     "output_type": "display_data"
    }
   ],
   "source": [
    "plt.subplots(figsize=(16, 4))\n",
    "plt.plot(cumulative_cr_a['date'], cumulative_cr_a['cr'], label='A')\n",
    "plt.plot(cumulative_cr_b['date'], cumulative_cr_b['cr'], label='B')\n",
    "\n",
    "plt.title('Динамика кумулятивной конверсии по группам', pad=20)\n",
    "#plt.axis([\"2019-08-01\", '2019-08-31', 2, 3.5])\n",
    "plt.axvline(x='2019-08-16', color='grey', linestyle='--')\n",
    "plt.legend()\n",
    "print('')"
   ]
  },
  {
   "cell_type": "markdown",
   "metadata": {},
   "source": [
    "Оценим можем ли мы утверждать, что действительно есть некие намеки на тренды. Оценим наклон линии тренда для каждого графика конверсии и метод позволит оценить значимость этого значения"
   ]
  },
  {
   "cell_type": "code",
   "execution_count": 98,
   "metadata": {},
   "outputs": [],
   "source": [
    "# формируем данные\n",
    "x = [*range(1, cumulative_cr_a.query(\"date >= '2019-08-16'\").shape[0] + 1)]\n",
    "cr_a = cumulative_cr_a.query(\"date >= '2019-08-16'\")['cr']\n",
    "cr_b = cumulative_cr_b.query(\"date >= '2019-08-16'\")['cr']"
   ]
  },
  {
   "cell_type": "code",
   "execution_count": 95,
   "metadata": {},
   "outputs": [],
   "source": [
    "# метод линейной регрессии из библиотеки scipy\n",
    "from scipy.stats import linregress"
   ]
  },
  {
   "cell_type": "code",
   "execution_count": 103,
   "metadata": {},
   "outputs": [
    {
     "data": {
      "text/plain": [
       "LinregressResult(slope=-2.9411764705881073e-05, intercept=2.7289999999999996, rvalue=-0.00449217079216604, pvalue=0.9868267143942996, stderr=0.0017498322778181623)"
      ]
     },
     "execution_count": 103,
     "metadata": {},
     "output_type": "execute_result"
    }
   ],
   "source": [
    "# применяем метод\n",
    "linregress(x, cr_a)"
   ]
  },
  {
   "cell_type": "code",
   "execution_count": 104,
   "metadata": {},
   "outputs": [
    {
     "data": {
      "text/plain": [
       "LinregressResult(slope=-0.017029411764705883, intercept=3.3035000000000005, rvalue=-0.8643572316399132, pvalue=1.57078598523513e-05, stderr=0.002647922361480237)"
      ]
     },
     "execution_count": 104,
     "metadata": {},
     "output_type": "execute_result"
    }
   ],
   "source": [
    "linregress(x, cr_b)"
   ]
  },
  {
   "cell_type": "markdown",
   "metadata": {},
   "source": [
    "_Slope_ - наклон линии тренда, который нам нужен\n",
    "_p-value_ - расчетное значение статзначимости для проверки гипотезы, что _slope = 0_\n",
    "\n",
    "для обеих групп получили, что наклон отрицательный и _pvalue_ говорит, что нет оснований отвергать нулевую гипотезу, то есть велики шансы, что оба графика стабильны, просто колеблются вокруг среднего."
   ]
  },
  {
   "cell_type": "markdown",
   "metadata": {},
   "source": [
    "<hr style=\"border: 2px solid green;\" />"
   ]
  },
  {
   "cell_type": "markdown",
   "metadata": {},
   "source": [
    "**С 16 дня теста** конверсия группы В носит отрицательный характер, в то время, как конверсия группы А положительный. Но, если применять терминологию статистики, то оба этих утверждения я бы назвал «не имеющими достоверности». Потому что эта динамика настолько слабо выражена, что не дает утверждать однозначно, есть тренд или метрики стабильны.\n",
    "\n",
    "Продемонстрирую это на на графике относительного изменения конверсии:"
   ]
  },
  {
   "cell_type": "code",
   "execution_count": 54,
   "metadata": {},
   "outputs": [
    {
     "name": "stdout",
     "output_type": "stream",
     "text": [
      "\n"
     ]
    },
    {
     "data": {
      "image/png": "[encoded data removed]",
      "text/plain": [
       "<Figure size 1152x288 with 1 Axes>"
      ]
     },
     "metadata": {
      "needs_background": "light"
     },
     "output_type": "display_data"
    }
   ],
   "source": [
    "plt.subplots(figsize=(16, 4))\n",
    "plt.plot(merged_cumulative_cr['date'], merged_cumulative_cr['relative_b_to_a'], label=\"Конверсия группы В\", color='orange')\n",
    "\n",
    "plt.title('Относительный прирост конверсии группы B относительно группы A', pad=20)\n",
    "plt.legend()\n",
    "plt.axhline(y=0, color='black', linestyle='--')\n",
    "plt.axvline(x='2019-08-16', color='grey', linestyle='--')\n",
    "plt.axis([\"2019-08-01\", '2019-08-31', -0.2, 0.4])\n",
    "print('')"
   ]
  },
  {
   "cell_type": "markdown",
   "metadata": {},
   "source": [
    "Картина повторяется. Сформулирую такое утверждение: «Тренда на снижение нет, но есть намеки на то, что это произойдет в будущем». \n",
    "\n",
    "**Поэтому, мой окончательный вывод:**\n",
    "* По результатам 30 дней теста,\n",
    "* при равном среднем чеке,\n",
    "* группа В конвертирует на 17% лучше, чем группы А,\n",
    "* но есть основания предполагать, что это может измениться в будущем.\n",
    "\n",
    "**Поэтому я предлагаю продолжить тест еще на 30 дней.** По истечении которых, возможно сделать однозначный вывод о лидерестве/нет группы В."
   ]
  }
 ],
 "metadata": {
  "kernelspec": {
   "display_name": "Python 3",
   "language": "python",
   "name": "python3"
  },
  "language_info": {
   "codemirror_mode": {
    "name": "ipython",
    "version": 3
   },
   "file_extension": ".py",
   "mimetype": "text/x-python",
   "name": "python",
   "nbconvert_exporter": "python",
   "pygments_lexer": "ipython3",
   "version": "3.7.6"
  }
 },
 "nbformat": 4,
 "nbformat_minor": 2
}
